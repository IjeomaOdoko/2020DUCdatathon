{
 "cells": [
  {
   "cell_type": "markdown",
   "metadata": {},
   "source": [
    "#### Assumptions made/issues found, please review and advise: \n",
    "\n",
    "####   Well header dataset\n",
    "      -Assumed 'Not Applicable' values as null values. See Line 2 of Code. \n",
    "      -Changed some objects to category data types. See line 7 of Code.\n",
    "      -Columns dropped. See Line 19 of Code.\n",
    "      -BH Longitude/Latitude values missing and they correspond to British Columbia data.\n",
    "      \n",
    "####    Production dataset\n",
    "      -Filled null values with zero(0) for pivoted dataframes.See Line 29,32,35 and 39.\n",
    "      -Duplicate rows created after pivoting data. See corresponding html files.\n",
    "      \n",
    "####    Perforation dataset\n",
    "\n",
    "     "
   ]
  },
  {
   "cell_type": "markdown",
   "metadata": {},
   "source": [
    "# Import Libraries"
   ]
  },
  {
   "cell_type": "code",
   "execution_count": 1,
   "metadata": {},
   "outputs": [],
   "source": [
    "import pandas as pd\n",
    "import numpy as np\n",
    "import sweetviz as sv"
   ]
  },
  {
   "cell_type": "markdown",
   "metadata": {},
   "source": [
    "## Get the data"
   ]
  },
  {
   "cell_type": "code",
   "execution_count": 2,
   "metadata": {},
   "outputs": [],
   "source": [
    "## add list of datecolumns to parse_date to ensure datetime datatypes\n",
    "## assumed 'Not Applicable' values are null values\n",
    "\n",
    "datecolumns = ['LicenceDate', 'ConfidentialReleaseDate','AbandonDate', 'SurfAbandonDate', 'SpudDate', 'FinalDrillDate', 'RigReleaseDate','StatusDate','CompletionDate']   \n",
    "well_header = pd.read_csv('WellHeader_Datathon.csv',parse_dates=datecolumns, low_memory=False, na_values='Not Applicable')\n",
    "well_production = pd.read_csv('WellProduction.csv', parse_dates=['ProdPeriod'])\n",
    "perf_treatment = pd.read_csv('PerfTreatments.csv', parse_dates=['ActivityDate'])"
   ]
  },
  {
   "cell_type": "code",
   "execution_count": 3,
   "metadata": {},
   "outputs": [
    {
     "name": "stdout",
     "output_type": "stream",
     "text": [
      "<class 'pandas.core.frame.DataFrame'>\n",
      "RangeIndex: 10437 entries, 0 to 10436\n",
      "Data columns (total 85 columns):\n",
      " #   Column                     Non-Null Count  Dtype         \n",
      "---  ------                     --------------  -----         \n",
      " 0   EPAssetsId                 10437 non-null  int64         \n",
      " 1   Province                   10437 non-null  object        \n",
      " 2   LicenceNumber              10437 non-null  object        \n",
      " 3   UWI                        10437 non-null  object        \n",
      " 4   CurrentOperator            10437 non-null  object        \n",
      " 5   CurrentOperatorParent      10437 non-null  int64         \n",
      " 6   CurrentOperatorParentName  10437 non-null  object        \n",
      " 7   Licensee                   10437 non-null  object        \n",
      " 8   LicenseeParentCompany      10437 non-null  int64         \n",
      " 9   LicenseeParentCompanyName  10437 non-null  object        \n",
      " 10  LicenceDate                10437 non-null  datetime64[ns]\n",
      " 11  CurrentStatus              10437 non-null  object        \n",
      " 12  CurrentStatusStandardised  10437 non-null  object        \n",
      " 13  WellType                   10437 non-null  object        \n",
      " 14  WellTypeStandardised       10437 non-null  object        \n",
      " 15  ConfidentialReleaseDate    7477 non-null   datetime64[ns]\n",
      " 16  AbandonDate                0 non-null      datetime64[ns]\n",
      " 17  SurfAbandonDate            0 non-null      datetime64[ns]\n",
      " 18  WellName                   10437 non-null  object        \n",
      " 19  Formation                  10437 non-null  object        \n",
      " 20  Field                      10437 non-null  object        \n",
      " 21  Pool                       10437 non-null  object        \n",
      " 22  SurveySystem               10437 non-null  object        \n",
      " 23  Surf_Location              10437 non-null  object        \n",
      " 24  Surf_Township              9904 non-null   float64       \n",
      " 25  Surf_Meridian              9904 non-null   object        \n",
      " 26  Surf_Range                 9904 non-null   float64       \n",
      " 27  Surf_Section               9904 non-null   float64       \n",
      " 28  Surf_LSD                   9904 non-null   float64       \n",
      " 29  Surf_Longitude             10437 non-null  float64       \n",
      " 30  Surf_Latitude              10437 non-null  float64       \n",
      " 31  Surf_TownshipRange         9904 non-null   object        \n",
      " 32  Surf_QuarterUnit           533 non-null    object        \n",
      " 33  Surf_Unit                  533 non-null    float64       \n",
      " 34  Surf_Block                 533 non-null    object        \n",
      " 35  Surf_NTSMapSheet           533 non-null    object        \n",
      " 36  Surf_Series                533 non-null    float64       \n",
      " 37  Surf_Area                  533 non-null    object        \n",
      " 38  Surf_Sheet                 533 non-null    float64       \n",
      " 39  Surf_QuarterSection        9904 non-null   object        \n",
      " 40  BH_Location                10437 non-null  object        \n",
      " 41  BH_TownshipRange           9909 non-null   object        \n",
      " 42  BH_QuarterUnit             528 non-null    object        \n",
      " 43  BH_Unit                    528 non-null    float64       \n",
      " 44  BH_Block                   528 non-null    object        \n",
      " 45  BH_NTSMapSheet             528 non-null    object        \n",
      " 46  BH_Series                  528 non-null    float64       \n",
      " 47  BH_Area                    528 non-null    object        \n",
      " 48  BH_Sheet                   528 non-null    float64       \n",
      " 49  BH_QuarterSection          8697 non-null   object        \n",
      " 50  BH_Longitude               8697 non-null   float64       \n",
      " 51  BH_Latitude                8697 non-null   float64       \n",
      " 52  BH_Township                9909 non-null   float64       \n",
      " 53  BH_Meridian                9909 non-null   object        \n",
      " 54  BH_Range                   9909 non-null   float64       \n",
      " 55  BH_Section                 9909 non-null   float64       \n",
      " 56  BH_LSD                     9909 non-null   float64       \n",
      " 57  GroundElevation            10429 non-null  float64       \n",
      " 58  KBElevation                10437 non-null  float64       \n",
      " 59  TotalDepth                 10437 non-null  float64       \n",
      " 60  LaheeClass                 10437 non-null  object        \n",
      " 61  Confidential               10437 non-null  object        \n",
      " 62  SurfaceOwner               10437 non-null  object        \n",
      " 63  OSArea                     61 non-null     object        \n",
      " 64  OSDeposit                  0 non-null      float64       \n",
      " 65  DrillingContractor         10405 non-null  object        \n",
      " 66  SpudDate                   10437 non-null  datetime64[ns]\n",
      " 67  FinalDrillDate             8697 non-null   datetime64[ns]\n",
      " 68  RigReleaseDate             10437 non-null  datetime64[ns]\n",
      " 69  DaysDrilling               10431 non-null  float64       \n",
      " 70  DrillMetresPerDay          10437 non-null  float64       \n",
      " 71  TVD                        6731 non-null   float64       \n",
      " 72  WellProfile                10437 non-null  object        \n",
      " 73  Country                    10437 non-null  object        \n",
      " 74  RegulatoryAgency           10437 non-null  object        \n",
      " 75  PSACAreaCode               10437 non-null  object        \n",
      " 76  PSACAreaName               10437 non-null  object        \n",
      " 77  ProjectedDepth             10045 non-null  float64       \n",
      " 78  StatusDate                 10437 non-null  datetime64[ns]\n",
      " 79  StatusSource               10437 non-null  object        \n",
      " 80  UnitID                     965 non-null    object        \n",
      " 81  UnitName                   965 non-null    object        \n",
      " 82  UnitFlag                   8697 non-null   object        \n",
      " 83  Municipality               4111 non-null   object        \n",
      " 84  CompletionDate             5851 non-null   datetime64[ns]\n",
      "dtypes: datetime64[ns](9), float64(26), int64(3), object(47)\n",
      "memory usage: 6.8+ MB\n"
     ]
    }
   ],
   "source": [
    "well_header=well_header.iloc[:,0:85]\n",
    "well_header.info()"
   ]
  },
  {
   "cell_type": "code",
   "execution_count": 4,
   "metadata": {},
   "outputs": [
    {
     "name": "stdout",
     "output_type": "stream",
     "text": [
      "<class 'pandas.core.frame.DataFrame'>\n",
      "RangeIndex: 961054 entries, 0 to 961053\n",
      "Data columns (total 5 columns):\n",
      " #   Column            Non-Null Count   Dtype         \n",
      "---  ------            --------------   -----         \n",
      " 0   EPAssetsId        961054 non-null  int64         \n",
      " 1   ProdPeriod        961054 non-null  datetime64[ns]\n",
      " 2   ProdType          961054 non-null  object        \n",
      " 3   Volume            961054 non-null  float64       \n",
      " 4   WellHeader.Match  961054 non-null  object        \n",
      "dtypes: datetime64[ns](1), float64(1), int64(1), object(2)\n",
      "memory usage: 36.7+ MB\n"
     ]
    },
    {
     "data": {
      "text/plain": [
       "None"
      ]
     },
     "metadata": {},
     "output_type": "display_data"
    },
    {
     "name": "stdout",
     "output_type": "stream",
     "text": [
      "\n",
      "\n",
      "<class 'pandas.core.frame.DataFrame'>\n",
      "RangeIndex: 445271 entries, 0 to 445270\n",
      "Data columns (total 9 columns):\n",
      " #   Column             Non-Null Count   Dtype         \n",
      "---  ------             --------------   -----         \n",
      " 0   EPAssetsId         445271 non-null  int64         \n",
      " 1   EPAPTId            445271 non-null  int64         \n",
      " 2   ObservationNumber  370719 non-null  float64       \n",
      " 3   ActivityDate       445271 non-null  datetime64[ns]\n",
      " 4   ActivityType       445225 non-null  object        \n",
      " 5   IntervalTop        445271 non-null  float64       \n",
      " 6   IntervalBase       445271 non-null  float64       \n",
      " 7   PerfShots          370719 non-null  float64       \n",
      " 8   WellHeader.Match   445271 non-null  object        \n",
      "dtypes: datetime64[ns](1), float64(4), int64(2), object(2)\n",
      "memory usage: 30.6+ MB\n"
     ]
    }
   ],
   "source": [
    "display(well_production.info())\n",
    "\n",
    "print('\\n')\n",
    "\n",
    "perf_treatment.info()"
   ]
  },
  {
   "cell_type": "code",
   "execution_count": 5,
   "metadata": {},
   "outputs": [
    {
     "data": {
      "text/html": [
       "<div>\n",
       "<style scoped>\n",
       "    .dataframe tbody tr th:only-of-type {\n",
       "        vertical-align: middle;\n",
       "    }\n",
       "\n",
       "    .dataframe tbody tr th {\n",
       "        vertical-align: top;\n",
       "    }\n",
       "\n",
       "    .dataframe thead th {\n",
       "        text-align: right;\n",
       "    }\n",
       "</style>\n",
       "<table border=\"1\" class=\"dataframe\">\n",
       "  <thead>\n",
       "    <tr style=\"text-align: right;\">\n",
       "      <th></th>\n",
       "      <th>EPAssetsId</th>\n",
       "      <th>Province</th>\n",
       "      <th>LicenceNumber</th>\n",
       "      <th>UWI</th>\n",
       "      <th>CurrentOperator</th>\n",
       "      <th>CurrentOperatorParent</th>\n",
       "      <th>CurrentOperatorParentName</th>\n",
       "      <th>Licensee</th>\n",
       "      <th>LicenseeParentCompany</th>\n",
       "      <th>LicenseeParentCompanyName</th>\n",
       "      <th>...</th>\n",
       "      <th>PSACAreaCode</th>\n",
       "      <th>PSACAreaName</th>\n",
       "      <th>ProjectedDepth</th>\n",
       "      <th>StatusDate</th>\n",
       "      <th>StatusSource</th>\n",
       "      <th>UnitID</th>\n",
       "      <th>UnitName</th>\n",
       "      <th>UnitFlag</th>\n",
       "      <th>Municipality</th>\n",
       "      <th>CompletionDate</th>\n",
       "    </tr>\n",
       "  </thead>\n",
       "  <tbody>\n",
       "    <tr>\n",
       "      <th>0</th>\n",
       "      <td>2587301</td>\n",
       "      <td>Alberta</td>\n",
       "      <td>475898</td>\n",
       "      <td>100122706624W500</td>\n",
       "      <td>Enerplus Corporation</td>\n",
       "      <td>267</td>\n",
       "      <td>Enerplus Corporation</td>\n",
       "      <td>Enerplus Corporation</td>\n",
       "      <td>267</td>\n",
       "      <td>Enerplus Corporation</td>\n",
       "      <td>...</td>\n",
       "      <td>AB2</td>\n",
       "      <td>Foothills Front</td>\n",
       "      <td>3800.0</td>\n",
       "      <td>2016-02-28</td>\n",
       "      <td>AER</td>\n",
       "      <td>NaN</td>\n",
       "      <td>NaN</td>\n",
       "      <td>No</td>\n",
       "      <td>NaN</td>\n",
       "      <td>NaT</td>\n",
       "    </tr>\n",
       "    <tr>\n",
       "      <th>1</th>\n",
       "      <td>2593278</td>\n",
       "      <td>Alberta</td>\n",
       "      <td>479407</td>\n",
       "      <td>102052706624W500</td>\n",
       "      <td>Enerplus Corporation</td>\n",
       "      <td>267</td>\n",
       "      <td>Enerplus Corporation</td>\n",
       "      <td>Enerplus Corporation</td>\n",
       "      <td>267</td>\n",
       "      <td>Enerplus Corporation</td>\n",
       "      <td>...</td>\n",
       "      <td>AB2</td>\n",
       "      <td>Foothills Front</td>\n",
       "      <td>3700.0</td>\n",
       "      <td>2016-09-23</td>\n",
       "      <td>AER</td>\n",
       "      <td>NaN</td>\n",
       "      <td>NaN</td>\n",
       "      <td>No</td>\n",
       "      <td>NaN</td>\n",
       "      <td>NaT</td>\n",
       "    </tr>\n",
       "  </tbody>\n",
       "</table>\n",
       "<p>2 rows × 85 columns</p>\n",
       "</div>"
      ],
      "text/plain": [
       "   EPAssetsId Province LicenceNumber               UWI       CurrentOperator  \\\n",
       "0     2587301  Alberta        475898  100122706624W500  Enerplus Corporation   \n",
       "1     2593278  Alberta        479407  102052706624W500  Enerplus Corporation   \n",
       "\n",
       "   CurrentOperatorParent CurrentOperatorParentName              Licensee  \\\n",
       "0                    267      Enerplus Corporation  Enerplus Corporation   \n",
       "1                    267      Enerplus Corporation  Enerplus Corporation   \n",
       "\n",
       "   LicenseeParentCompany LicenseeParentCompanyName  ... PSACAreaCode  \\\n",
       "0                    267      Enerplus Corporation  ...          AB2   \n",
       "1                    267      Enerplus Corporation  ...          AB2   \n",
       "\n",
       "      PSACAreaName ProjectedDepth StatusDate StatusSource UnitID UnitName  \\\n",
       "0  Foothills Front         3800.0 2016-02-28          AER    NaN      NaN   \n",
       "1  Foothills Front         3700.0 2016-09-23          AER    NaN      NaN   \n",
       "\n",
       "  UnitFlag Municipality CompletionDate  \n",
       "0       No          NaN            NaT  \n",
       "1       No          NaN            NaT  \n",
       "\n",
       "[2 rows x 85 columns]"
      ]
     },
     "execution_count": 5,
     "metadata": {},
     "output_type": "execute_result"
    }
   ],
   "source": [
    "well_header.head(2)"
   ]
  },
  {
   "cell_type": "code",
   "execution_count": 6,
   "metadata": {},
   "outputs": [
    {
     "data": {
      "text/plain": [
       "Index(['Province', 'LicenceNumber', 'UWI', 'CurrentOperator',\n",
       "       'CurrentOperatorParentName', 'Licensee', 'LicenseeParentCompanyName',\n",
       "       'CurrentStatus', 'CurrentStatusStandardised', 'WellType',\n",
       "       'WellTypeStandardised', 'WellName', 'Formation', 'Field', 'Pool',\n",
       "       'SurveySystem', 'Surf_Location', 'Surf_Meridian', 'Surf_TownshipRange',\n",
       "       'Surf_QuarterUnit', 'Surf_Block', 'Surf_NTSMapSheet', 'Surf_Area',\n",
       "       'Surf_QuarterSection', 'BH_Location', 'BH_TownshipRange',\n",
       "       'BH_QuarterUnit', 'BH_Block', 'BH_NTSMapSheet', 'BH_Area',\n",
       "       'BH_QuarterSection', 'BH_Meridian', 'LaheeClass', 'Confidential',\n",
       "       'SurfaceOwner', 'OSArea', 'DrillingContractor', 'WellProfile',\n",
       "       'Country', 'RegulatoryAgency', 'PSACAreaCode', 'PSACAreaName',\n",
       "       'StatusSource', 'UnitID', 'UnitName', 'UnitFlag', 'Municipality'],\n",
       "      dtype='object')"
      ]
     },
     "execution_count": 6,
     "metadata": {},
     "output_type": "execute_result"
    }
   ],
   "source": [
    "##check which columns are object datatypes \n",
    "\n",
    "well_header.columns[well_header.dtypes == 'object']\n",
    "\n"
   ]
  },
  {
   "cell_type": "code",
   "execution_count": 7,
   "metadata": {},
   "outputs": [
    {
     "name": "stdout",
     "output_type": "stream",
     "text": [
      "<class 'pandas.core.frame.DataFrame'>\n",
      "RangeIndex: 10437 entries, 0 to 10436\n",
      "Data columns (total 85 columns):\n",
      " #   Column                     Non-Null Count  Dtype         \n",
      "---  ------                     --------------  -----         \n",
      " 0   EPAssetsId                 10437 non-null  int64         \n",
      " 1   Province                   10437 non-null  category      \n",
      " 2   LicenceNumber              10437 non-null  object        \n",
      " 3   UWI                        10437 non-null  object        \n",
      " 4   CurrentOperator            10437 non-null  category      \n",
      " 5   CurrentOperatorParent      10437 non-null  int64         \n",
      " 6   CurrentOperatorParentName  10437 non-null  category      \n",
      " 7   Licensee                   10437 non-null  category      \n",
      " 8   LicenseeParentCompany      10437 non-null  int64         \n",
      " 9   LicenseeParentCompanyName  10437 non-null  category      \n",
      " 10  LicenceDate                10437 non-null  datetime64[ns]\n",
      " 11  CurrentStatus              10437 non-null  category      \n",
      " 12  CurrentStatusStandardised  10437 non-null  category      \n",
      " 13  WellType                   10437 non-null  category      \n",
      " 14  WellTypeStandardised       10437 non-null  category      \n",
      " 15  ConfidentialReleaseDate    7477 non-null   datetime64[ns]\n",
      " 16  AbandonDate                0 non-null      datetime64[ns]\n",
      " 17  SurfAbandonDate            0 non-null      datetime64[ns]\n",
      " 18  WellName                   10437 non-null  object        \n",
      " 19  Formation                  10437 non-null  category      \n",
      " 20  Field                      10437 non-null  category      \n",
      " 21  Pool                       10437 non-null  category      \n",
      " 22  SurveySystem               10437 non-null  category      \n",
      " 23  Surf_Location              10437 non-null  object        \n",
      " 24  Surf_Township              9904 non-null   float64       \n",
      " 25  Surf_Meridian              9904 non-null   category      \n",
      " 26  Surf_Range                 9904 non-null   float64       \n",
      " 27  Surf_Section               9904 non-null   float64       \n",
      " 28  Surf_LSD                   9904 non-null   float64       \n",
      " 29  Surf_Longitude             10437 non-null  float64       \n",
      " 30  Surf_Latitude              10437 non-null  float64       \n",
      " 31  Surf_TownshipRange         9904 non-null   object        \n",
      " 32  Surf_QuarterUnit           533 non-null    category      \n",
      " 33  Surf_Unit                  533 non-null    float64       \n",
      " 34  Surf_Block                 533 non-null    category      \n",
      " 35  Surf_NTSMapSheet           533 non-null    category      \n",
      " 36  Surf_Series                533 non-null    float64       \n",
      " 37  Surf_Area                  533 non-null    category      \n",
      " 38  Surf_Sheet                 533 non-null    float64       \n",
      " 39  Surf_QuarterSection        9904 non-null   category      \n",
      " 40  BH_Location                10437 non-null  category      \n",
      " 41  BH_TownshipRange           9909 non-null   object        \n",
      " 42  BH_QuarterUnit             528 non-null    category      \n",
      " 43  BH_Unit                    528 non-null    float64       \n",
      " 44  BH_Block                   528 non-null    category      \n",
      " 45  BH_NTSMapSheet             528 non-null    category      \n",
      " 46  BH_Series                  528 non-null    float64       \n",
      " 47  BH_Area                    528 non-null    category      \n",
      " 48  BH_Sheet                   528 non-null    float64       \n",
      " 49  BH_QuarterSection          8697 non-null   category      \n",
      " 50  BH_Longitude               8697 non-null   float64       \n",
      " 51  BH_Latitude                8697 non-null   float64       \n",
      " 52  BH_Township                9909 non-null   float64       \n",
      " 53  BH_Meridian                9909 non-null   category      \n",
      " 54  BH_Range                   9909 non-null   float64       \n",
      " 55  BH_Section                 9909 non-null   float64       \n",
      " 56  BH_LSD                     9909 non-null   float64       \n",
      " 57  GroundElevation            10429 non-null  float64       \n",
      " 58  KBElevation                10437 non-null  float64       \n",
      " 59  TotalDepth                 10437 non-null  float64       \n",
      " 60  LaheeClass                 10437 non-null  category      \n",
      " 61  Confidential               10437 non-null  category      \n",
      " 62  SurfaceOwner               10437 non-null  category      \n",
      " 63  OSArea                     61 non-null     category      \n",
      " 64  OSDeposit                  0 non-null      category      \n",
      " 65  DrillingContractor         10405 non-null  category      \n",
      " 66  SpudDate                   10437 non-null  datetime64[ns]\n",
      " 67  FinalDrillDate             8697 non-null   datetime64[ns]\n",
      " 68  RigReleaseDate             10437 non-null  datetime64[ns]\n",
      " 69  DaysDrilling               10431 non-null  float64       \n",
      " 70  DrillMetresPerDay          10437 non-null  float64       \n",
      " 71  TVD                        6731 non-null   float64       \n",
      " 72  WellProfile                10437 non-null  category      \n",
      " 73  Country                    10437 non-null  category      \n",
      " 74  RegulatoryAgency           10437 non-null  category      \n",
      " 75  PSACAreaCode               10437 non-null  category      \n",
      " 76  PSACAreaName               10437 non-null  category      \n",
      " 77  ProjectedDepth             10045 non-null  float64       \n",
      " 78  StatusDate                 10437 non-null  datetime64[ns]\n",
      " 79  StatusSource               10437 non-null  category      \n",
      " 80  UnitID                     965 non-null    object        \n",
      " 81  UnitName                   965 non-null    object        \n",
      " 82  UnitFlag                   8697 non-null   category      \n",
      " 83  Municipality               4111 non-null   category      \n",
      " 84  CompletionDate             5851 non-null   datetime64[ns]\n",
      "dtypes: category(40), datetime64[ns](9), float64(25), int64(3), object(8)\n",
      "memory usage: 4.5+ MB\n"
     ]
    }
   ],
   "source": [
    "## Select objects to convert to category type \n",
    "obj_cast_category = ['Province', 'CurrentOperator', 'CurrentOperatorParentName',\n",
    "       'Licensee', 'LicenseeParentCompanyName', 'CurrentStatus',\n",
    "       'CurrentStatusStandardised', 'WellType', 'WellTypeStandardised',\n",
    "       'Formation', 'Field', 'Pool', 'SurveySystem',\n",
    "       'Surf_Meridian', \n",
    "       'Surf_QuarterUnit',  'Surf_Block', 'Surf_NTSMapSheet',\n",
    "       'Surf_Area',  'Surf_QuarterSection',\n",
    "       'BH_Location', 'BH_QuarterUnit', \n",
    "       'BH_Block', 'BH_NTSMapSheet', 'BH_Area', \n",
    "       'BH_QuarterSection', 'BH_Meridian', 'LaheeClass', 'Confidential',\n",
    "       'SurfaceOwner', 'OSArea', 'OSDeposit', 'DrillingContractor',\n",
    "       'WellProfile', 'Country', 'RegulatoryAgency', 'PSACAreaCode',\n",
    "       'PSACAreaName', 'StatusSource', 'UnitFlag','Municipality']       \n",
    "\n",
    "\n",
    "well_header[obj_cast_category] = well_header[obj_cast_category].astype('category')\n",
    "\n",
    "well_header.info()"
   ]
  },
  {
   "cell_type": "code",
   "execution_count": 8,
   "metadata": {},
   "outputs": [],
   "source": [
    "# change ProdType and ActivityType columns from object to category datatype\n",
    "well_production['ProdType'] = well_production['ProdType'].astype('category')\n",
    "perf_treatment['ActivityType'] = perf_treatment['ActivityType'].astype('category')"
   ]
  },
  {
   "cell_type": "markdown",
   "metadata": {},
   "source": [
    "## Seewtviz Magic"
   ]
  },
  {
   "cell_type": "code",
   "execution_count": 9,
   "metadata": {},
   "outputs": [
    {
     "name": "stderr",
     "output_type": "stream",
     "text": [
      ":FEATURES DONE:                    |█████████████████████| [100%]   00:18  -> (00:00 left)\n",
      ":PAIRWISE DONE:                    |█████████████████████| [100%]   00:24  -> (00:00 left)\n"
     ]
    },
    {
     "name": "stdout",
     "output_type": "stream",
     "text": [
      "Creating Associations graph... DONE!\n"
     ]
    }
   ],
   "source": [
    " wh= sv.analyze(well_header)"
   ]
  },
  {
   "cell_type": "code",
   "execution_count": 10,
   "metadata": {},
   "outputs": [
    {
     "name": "stdout",
     "output_type": "stream",
     "text": [
      "Report wells.html was generated! NOTEBOOK/COLAB USERS: no browser will pop up, the report is saved in your notebook/colab files.\n"
     ]
    }
   ],
   "source": [
    "wh.show_html('wells.html')"
   ]
  },
  {
   "cell_type": "code",
   "execution_count": 11,
   "metadata": {},
   "outputs": [],
   "source": [
    "well_production=well_production.iloc[:,0:4]"
   ]
  },
  {
   "cell_type": "code",
   "execution_count": 12,
   "metadata": {},
   "outputs": [
    {
     "name": "stdout",
     "output_type": "stream",
     "text": [
      "<class 'pandas.core.frame.DataFrame'>\n",
      "RangeIndex: 961054 entries, 0 to 961053\n",
      "Data columns (total 4 columns):\n",
      " #   Column      Non-Null Count   Dtype         \n",
      "---  ------      --------------   -----         \n",
      " 0   EPAssetsId  961054 non-null  int64         \n",
      " 1   ProdPeriod  961054 non-null  datetime64[ns]\n",
      " 2   ProdType    961054 non-null  category      \n",
      " 3   Volume      961054 non-null  float64       \n",
      "dtypes: category(1), datetime64[ns](1), float64(1), int64(1)\n",
      "memory usage: 22.9 MB\n"
     ]
    }
   ],
   "source": [
    "well_production.info()"
   ]
  },
  {
   "cell_type": "code",
   "execution_count": 13,
   "metadata": {},
   "outputs": [
    {
     "name": "stderr",
     "output_type": "stream",
     "text": [
      ":FEATURES DONE:                    |█████████████████████| [100%]   00:30  -> (00:00 left)\n",
      ":PAIRWISE DONE:                    |█████████████████████| [100%]   00:19  -> (00:00 left)\n"
     ]
    },
    {
     "name": "stdout",
     "output_type": "stream",
     "text": [
      "Creating Associations graph... DONE!\n"
     ]
    }
   ],
   "source": [
    " wp= sv.analyze(well_production)"
   ]
  },
  {
   "cell_type": "code",
   "execution_count": 14,
   "metadata": {},
   "outputs": [
    {
     "name": "stdout",
     "output_type": "stream",
     "text": [
      "Report wells_production.html was generated! NOTEBOOK/COLAB USERS: no browser will pop up, the report is saved in your notebook/colab files.\n"
     ]
    }
   ],
   "source": [
    "wp.show_html('wells_production.html')"
   ]
  },
  {
   "cell_type": "code",
   "execution_count": 15,
   "metadata": {},
   "outputs": [],
   "source": [
    "perf_treatment=perf_treatment.iloc[:,0:8]"
   ]
  },
  {
   "cell_type": "code",
   "execution_count": 16,
   "metadata": {},
   "outputs": [
    {
     "name": "stdout",
     "output_type": "stream",
     "text": [
      "<class 'pandas.core.frame.DataFrame'>\n",
      "RangeIndex: 445271 entries, 0 to 445270\n",
      "Data columns (total 8 columns):\n",
      " #   Column             Non-Null Count   Dtype         \n",
      "---  ------             --------------   -----         \n",
      " 0   EPAssetsId         445271 non-null  int64         \n",
      " 1   EPAPTId            445271 non-null  int64         \n",
      " 2   ObservationNumber  370719 non-null  float64       \n",
      " 3   ActivityDate       445271 non-null  datetime64[ns]\n",
      " 4   ActivityType       445225 non-null  category      \n",
      " 5   IntervalTop        445271 non-null  float64       \n",
      " 6   IntervalBase       445271 non-null  float64       \n",
      " 7   PerfShots          370719 non-null  float64       \n",
      "dtypes: category(1), datetime64[ns](1), float64(4), int64(2)\n",
      "memory usage: 24.2 MB\n"
     ]
    }
   ],
   "source": [
    "perf_treatment.info()"
   ]
  },
  {
   "cell_type": "code",
   "execution_count": 17,
   "metadata": {},
   "outputs": [
    {
     "name": "stderr",
     "output_type": "stream",
     "text": [
      ":FEATURES DONE:                    |█████████████████████| [100%]   00:41  -> (00:00 left)\n",
      ":PAIRWISE DONE:                    |█████████████████████| [100%]   00:01  -> (00:00 left)\n"
     ]
    },
    {
     "name": "stdout",
     "output_type": "stream",
     "text": [
      "Creating Associations graph... DONE!\n"
     ]
    }
   ],
   "source": [
    "pt=sv.analyze(perf_treatment)"
   ]
  },
  {
   "cell_type": "code",
   "execution_count": 18,
   "metadata": {},
   "outputs": [
    {
     "name": "stdout",
     "output_type": "stream",
     "text": [
      "Report perf_treatment.html was generated! NOTEBOOK/COLAB USERS: no browser will pop up, the report is saved in your notebook/colab files.\n"
     ]
    }
   ],
   "source": [
    "pt.show_html('perf_treatment.html')"
   ]
  },
  {
   "cell_type": "markdown",
   "metadata": {},
   "source": [
    "## Clean data "
   ]
  },
  {
   "cell_type": "code",
   "execution_count": 19,
   "metadata": {},
   "outputs": [
    {
     "name": "stdout",
     "output_type": "stream",
     "text": [
      "well columns to drop as follows: \n",
      "['CompletionDate', 'UnitID', 'UnitFlag', 'UnitName', 'Confidential', 'RegulatoryAgency', 'ConfidentialReleaseDate', 'AbandonDate', 'SurfAbandonDate', 'OSArea', 'OSDeposit', 'Municipality', 'CurrentStatus']\n"
     ]
    }
   ],
   "source": [
    "##create list of columns to be dropped\n",
    "\n",
    "dropcols_wellheader= ['CompletionDate','UnitID', 'UnitFlag', 'UnitName', 'Confidential', 'RegulatoryAgency', 'ConfidentialReleaseDate', 'AbandonDate', 'SurfAbandonDate', 'OSArea', 'OSDeposit', 'Municipality', 'CurrentStatus']\n",
    "\n",
    "print('well columns to drop as follows:' + ' ')\n",
    "print(dropcols_wellheader)"
   ]
  },
  {
   "cell_type": "code",
   "execution_count": 20,
   "metadata": {},
   "outputs": [
    {
     "data": {
      "text/plain": [
       "(10437, 72)"
      ]
     },
     "execution_count": 20,
     "metadata": {},
     "output_type": "execute_result"
    }
   ],
   "source": [
    "## drop columns selected\n",
    "well_header_df = well_header.drop(columns=dropcols_wellheader, axis=1, inplace=False)\n",
    "\n",
    "## Check number of rows and columns\n",
    "well_header_df.shape"
   ]
  },
  {
   "cell_type": "markdown",
   "metadata": {},
   "source": [
    "## Create venn diagram showing intersection between datasets"
   ]
  },
  {
   "cell_type": "code",
   "execution_count": 21,
   "metadata": {},
   "outputs": [],
   "source": [
    "#Import libraries\n",
    "from matplotlib_venn import venn2, venn2_circles, venn2_unweighted\n",
    "from matplotlib_venn import venn3, venn3_circles\n",
    "from matplotlib import pyplot as plt\n",
    "%matplotlib inline"
   ]
  },
  {
   "cell_type": "code",
   "execution_count": 22,
   "metadata": {},
   "outputs": [
    {
     "data": {
      "image/png": "[encoded data removed]",
      "text/plain": [
       "<Figure size 432x288 with 1 Axes>"
      ]
     },
     "metadata": {},
     "output_type": "display_data"
    }
   ],
   "source": [
    "#venn diagram showing intersection of EPAssetsId between Wellheader and Production\n",
    "venn2_unweighted([set(well_header_df['EPAssetsId']), set(well_production['EPAssetsId'])], set_labels=['Wellheader', 'Production'], set_colors=['purple', 'skyblue'])\n",
    "#c=venn2_circles([set(well_header_df['EPAssetsId']), set(perf_treatment['EPAssetsId']), set(well_production['EPAssetsId'])], linestyle='dotted', linewidth=1)\n",
    "\n",
    "plt.title('VennDiagram for number of wells')\n",
    "plt.show()"
   ]
  },
  {
   "cell_type": "code",
   "execution_count": 23,
   "metadata": {},
   "outputs": [
    {
     "data": {
      "image/png": "[encoded data removed]",
      "text/plain": [
       "<Figure size 432x288 with 1 Axes>"
      ]
     },
     "metadata": {},
     "output_type": "display_data"
    }
   ],
   "source": [
    "#venn diagram showing intersection of EPAssetsId between Wellheader and Production\n",
    "venn2_unweighted([set(well_header_df['EPAssetsId']), set(perf_treatment['EPAssetsId'])], set_labels=['Wellheader', 'PerfTreatment'])\n",
    "plt.title('VennDiagram for number of wells')\n",
    "plt.show()"
   ]
  },
  {
   "cell_type": "code",
   "execution_count": 24,
   "metadata": {},
   "outputs": [
    {
     "name": "stderr",
     "output_type": "stream",
     "text": [
      "C:\\Users\\ijeke\\Anaconda3\\envs\\geo_env\\lib\\site-packages\\matplotlib_venn\\_venn3.py:117: UserWarning: Bad circle positioning\n",
      "  warnings.warn(\"Bad circle positioning\")\n"
     ]
    },
    {
     "data": {
      "image/png": "[encoded data removed]",
      "text/plain": [
       "<Figure size 432x288 with 1 Axes>"
      ]
     },
     "metadata": {},
     "output_type": "display_data"
    }
   ],
   "source": [
    "## venn diagram showing intersection of EPAssetsId between Wellheader, Perforation and Production datasets\n",
    "v=venn3([set(well_header_df['EPAssetsId']), set(perf_treatment['EPAssetsId']), set(well_production['EPAssetsId'])], set_labels=['Wellheader', 'PerfTreatment', 'Production'])\n",
    "c=venn3_circles([set(well_header_df['EPAssetsId']), set(perf_treatment['EPAssetsId']), set(well_production['EPAssetsId'])], linestyle='dotted', linewidth=0.5)\n",
    "plt.title('VennDiagram for number of wells', fontsize=14)\n",
    "\n",
    "#https://en.wikipedia.org/wiki/Venn_diagram (reference for calling id for the venn diagram for customization)\n",
    "v.get_patch_by_id('111').set_color('orange')\n",
    "plt.annotate('Possible DUC wells', xy=v.get_label_by_id('100').get_position(),xytext=(-70,-70),\n",
    "ha='center', textcoords='offset points', bbox=dict(boxstyle='round,pad=0.5', fc='gray', alpha=0.1),\n",
    "arrowprops=dict(arrowstyle='->', connectionstyle='arc3,rad=0.5',color='gray'))\n",
    "\n",
    "plt.show()\n",
    "##plt.savefig('Venn diagram for number of wells in datasets.jpg', dpi=150)\n"
   ]
  },
  {
   "cell_type": "markdown",
   "metadata": {},
   "source": [
    "# Modified Dataframes"
   ]
  },
  {
   "cell_type": "markdown",
   "metadata": {},
   "source": [
    "## Merging wellheader, production and perf_treatment dataframes"
   ]
  },
  {
   "cell_type": "code",
   "execution_count": 25,
   "metadata": {},
   "outputs": [],
   "source": [
    "df=pd.merge(well_header_df, well_production, on='EPAssetsId', how='left')"
   ]
  },
  {
   "cell_type": "code",
   "execution_count": 26,
   "metadata": {},
   "outputs": [],
   "source": [
    "df2 = pd.merge(df,perf_treatment, on ='EPAssetsId',how ='left')"
   ]
  },
  {
   "cell_type": "code",
   "execution_count": 27,
   "metadata": {},
   "outputs": [
    {
     "name": "stdout",
     "output_type": "stream",
     "text": [
      "<class 'pandas.core.frame.DataFrame'>\n",
      "Int64Index: 31077178 entries, 0 to 31077177\n",
      "Data columns (total 82 columns):\n",
      " #   Column                     Dtype         \n",
      "---  ------                     -----         \n",
      " 0   EPAssetsId                 int64         \n",
      " 1   Province                   category      \n",
      " 2   LicenceNumber              object        \n",
      " 3   UWI                        object        \n",
      " 4   CurrentOperator            category      \n",
      " 5   CurrentOperatorParent      int64         \n",
      " 6   CurrentOperatorParentName  category      \n",
      " 7   Licensee                   category      \n",
      " 8   LicenseeParentCompany      int64         \n",
      " 9   LicenseeParentCompanyName  category      \n",
      " 10  LicenceDate                datetime64[ns]\n",
      " 11  CurrentStatusStandardised  category      \n",
      " 12  WellType                   category      \n",
      " 13  WellTypeStandardised       category      \n",
      " 14  WellName                   object        \n",
      " 15  Formation                  category      \n",
      " 16  Field                      category      \n",
      " 17  Pool                       category      \n",
      " 18  SurveySystem               category      \n",
      " 19  Surf_Location              object        \n",
      " 20  Surf_Township              float64       \n",
      " 21  Surf_Meridian              category      \n",
      " 22  Surf_Range                 float64       \n",
      " 23  Surf_Section               float64       \n",
      " 24  Surf_LSD                   float64       \n",
      " 25  Surf_Longitude             float64       \n",
      " 26  Surf_Latitude              float64       \n",
      " 27  Surf_TownshipRange         object        \n",
      " 28  Surf_QuarterUnit           category      \n",
      " 29  Surf_Unit                  float64       \n",
      " 30  Surf_Block                 category      \n",
      " 31  Surf_NTSMapSheet           category      \n",
      " 32  Surf_Series                float64       \n",
      " 33  Surf_Area                  category      \n",
      " 34  Surf_Sheet                 float64       \n",
      " 35  Surf_QuarterSection        category      \n",
      " 36  BH_Location                category      \n",
      " 37  BH_TownshipRange           object        \n",
      " 38  BH_QuarterUnit             category      \n",
      " 39  BH_Unit                    float64       \n",
      " 40  BH_Block                   category      \n",
      " 41  BH_NTSMapSheet             category      \n",
      " 42  BH_Series                  float64       \n",
      " 43  BH_Area                    category      \n",
      " 44  BH_Sheet                   float64       \n",
      " 45  BH_QuarterSection          category      \n",
      " 46  BH_Longitude               float64       \n",
      " 47  BH_Latitude                float64       \n",
      " 48  BH_Township                float64       \n",
      " 49  BH_Meridian                category      \n",
      " 50  BH_Range                   float64       \n",
      " 51  BH_Section                 float64       \n",
      " 52  BH_LSD                     float64       \n",
      " 53  GroundElevation            float64       \n",
      " 54  KBElevation                float64       \n",
      " 55  TotalDepth                 float64       \n",
      " 56  LaheeClass                 category      \n",
      " 57  SurfaceOwner               category      \n",
      " 58  DrillingContractor         category      \n",
      " 59  SpudDate                   datetime64[ns]\n",
      " 60  FinalDrillDate             datetime64[ns]\n",
      " 61  RigReleaseDate             datetime64[ns]\n",
      " 62  DaysDrilling               float64       \n",
      " 63  DrillMetresPerDay          float64       \n",
      " 64  TVD                        float64       \n",
      " 65  WellProfile                category      \n",
      " 66  Country                    category      \n",
      " 67  PSACAreaCode               category      \n",
      " 68  PSACAreaName               category      \n",
      " 69  ProjectedDepth             float64       \n",
      " 70  StatusDate                 datetime64[ns]\n",
      " 71  StatusSource               category      \n",
      " 72  ProdPeriod                 datetime64[ns]\n",
      " 73  ProdType                   category      \n",
      " 74  Volume                     float64       \n",
      " 75  EPAPTId                    float64       \n",
      " 76  ObservationNumber          float64       \n",
      " 77  ActivityDate               datetime64[ns]\n",
      " 78  ActivityType               category      \n",
      " 79  IntervalTop                float64       \n",
      " 80  IntervalBase               float64       \n",
      " 81  PerfShots                  float64       \n",
      "dtypes: category(35), datetime64[ns](7), float64(31), int64(3), object(6)\n",
      "memory usage: 12.2+ GB\n"
     ]
    }
   ],
   "source": [
    "df2.info()"
   ]
  },
  {
   "cell_type": "markdown",
   "metadata": {},
   "source": [
    "## Create pivot table for production data"
   ]
  },
  {
   "cell_type": "code",
   "execution_count": 28,
   "metadata": {},
   "outputs": [],
   "source": [
    "## add year and month column to the well production data \n",
    "\n",
    "well_production['Year'] = well_production['ProdPeriod'].dt.year\n",
    "\n",
    "well_production['Month'] = well_production['ProdPeriod'].dt.month"
   ]
  },
  {
   "cell_type": "code",
   "execution_count": 29,
   "metadata": {},
   "outputs": [
    {
     "data": {
      "text/html": [
       "<div>\n",
       "<style scoped>\n",
       "    .dataframe tbody tr th:only-of-type {\n",
       "        vertical-align: middle;\n",
       "    }\n",
       "\n",
       "    .dataframe tbody tr th {\n",
       "        vertical-align: top;\n",
       "    }\n",
       "\n",
       "    .dataframe thead th {\n",
       "        text-align: right;\n",
       "    }\n",
       "</style>\n",
       "<table border=\"1\" class=\"dataframe\">\n",
       "  <thead>\n",
       "    <tr style=\"text-align: right;\">\n",
       "      <th></th>\n",
       "      <th></th>\n",
       "      <th></th>\n",
       "      <th>ProdType</th>\n",
       "      <th>Condensate Production (Bbls)</th>\n",
       "      <th>Gas Production (MMcf)</th>\n",
       "      <th>Oil Production (Bbls)</th>\n",
       "      <th>Production Hours</th>\n",
       "      <th>Water Production (Bbls)</th>\n",
       "    </tr>\n",
       "    <tr>\n",
       "      <th>EPAssetsId</th>\n",
       "      <th>Year</th>\n",
       "      <th>Month</th>\n",
       "      <th>ProdPeriod</th>\n",
       "      <th></th>\n",
       "      <th></th>\n",
       "      <th></th>\n",
       "      <th></th>\n",
       "      <th></th>\n",
       "    </tr>\n",
       "  </thead>\n",
       "  <tbody>\n",
       "    <tr>\n",
       "      <th rowspan=\"5\" valign=\"top\">3373</th>\n",
       "      <th rowspan=\"5\" valign=\"top\">2017</th>\n",
       "      <th>8</th>\n",
       "      <th>2017-08-31</th>\n",
       "      <td>0.00000</td>\n",
       "      <td>2.330777</td>\n",
       "      <td>0.0</td>\n",
       "      <td>60.0</td>\n",
       "      <td>0.00000</td>\n",
       "    </tr>\n",
       "    <tr>\n",
       "      <th>9</th>\n",
       "      <th>2017-09-30</th>\n",
       "      <td>3744.94692</td>\n",
       "      <td>55.009864</td>\n",
       "      <td>0.0</td>\n",
       "      <td>499.2</td>\n",
       "      <td>2213.38062</td>\n",
       "    </tr>\n",
       "    <tr>\n",
       "      <th>10</th>\n",
       "      <th>2017-10-31</th>\n",
       "      <td>3792.12042</td>\n",
       "      <td>48.999285</td>\n",
       "      <td>0.0</td>\n",
       "      <td>417.6</td>\n",
       "      <td>2327.22600</td>\n",
       "    </tr>\n",
       "    <tr>\n",
       "      <th>11</th>\n",
       "      <th>2017-11-30</th>\n",
       "      <td>5577.16566</td>\n",
       "      <td>58.516624</td>\n",
       "      <td>0.0</td>\n",
       "      <td>619.2</td>\n",
       "      <td>2127.21036</td>\n",
       "    </tr>\n",
       "    <tr>\n",
       "      <th>12</th>\n",
       "      <th>2017-12-31</th>\n",
       "      <td>4994.73018</td>\n",
       "      <td>77.385321</td>\n",
       "      <td>0.0</td>\n",
       "      <td>662.4</td>\n",
       "      <td>2403.96156</td>\n",
       "    </tr>\n",
       "  </tbody>\n",
       "</table>\n",
       "</div>"
      ],
      "text/plain": [
       "ProdType                          Condensate Production (Bbls)  \\\n",
       "EPAssetsId Year Month ProdPeriod                                 \n",
       "3373       2017 8     2017-08-31                       0.00000   \n",
       "                9     2017-09-30                    3744.94692   \n",
       "                10    2017-10-31                    3792.12042   \n",
       "                11    2017-11-30                    5577.16566   \n",
       "                12    2017-12-31                    4994.73018   \n",
       "\n",
       "ProdType                          Gas Production (MMcf)  \\\n",
       "EPAssetsId Year Month ProdPeriod                          \n",
       "3373       2017 8     2017-08-31               2.330777   \n",
       "                9     2017-09-30              55.009864   \n",
       "                10    2017-10-31              48.999285   \n",
       "                11    2017-11-30              58.516624   \n",
       "                12    2017-12-31              77.385321   \n",
       "\n",
       "ProdType                          Oil Production (Bbls)  Production Hours  \\\n",
       "EPAssetsId Year Month ProdPeriod                                            \n",
       "3373       2017 8     2017-08-31                    0.0              60.0   \n",
       "                9     2017-09-30                    0.0             499.2   \n",
       "                10    2017-10-31                    0.0             417.6   \n",
       "                11    2017-11-30                    0.0             619.2   \n",
       "                12    2017-12-31                    0.0             662.4   \n",
       "\n",
       "ProdType                          Water Production (Bbls)  \n",
       "EPAssetsId Year Month ProdPeriod                           \n",
       "3373       2017 8     2017-08-31                  0.00000  \n",
       "                9     2017-09-30               2213.38062  \n",
       "                10    2017-10-31               2327.22600  \n",
       "                11    2017-11-30               2127.21036  \n",
       "                12    2017-12-31               2403.96156  "
      ]
     },
     "execution_count": 29,
     "metadata": {},
     "output_type": "execute_result"
    }
   ],
   "source": [
    "# fill in null values as zero(0)\n",
    "\n",
    "wellproduction_pivot = well_production.pivot_table(index=['EPAssetsId', 'Year', 'Month','ProdPeriod'], columns='ProdType', values='Volume',fill_value= 0, observed=True)\n",
    "\n",
    "wellproduction_pivot.head()"
   ]
  },
  {
   "cell_type": "code",
   "execution_count": 30,
   "metadata": {},
   "outputs": [
    {
     "name": "stderr",
     "output_type": "stream",
     "text": [
      ":FEATURES DONE:                    |█████████████████████| [100%]   00:24  -> (00:00 left)\n",
      ":PAIRWISE DONE:                    |█████████████████████| [100%]   00:00  -> (00:00 left)\n"
     ]
    },
    {
     "name": "stdout",
     "output_type": "stream",
     "text": [
      "Creating Associations graph... DONE!\n"
     ]
    }
   ],
   "source": [
    "wp_pivot=sv.analyze(wellproduction_pivot)"
   ]
  },
  {
   "cell_type": "code",
   "execution_count": 31,
   "metadata": {},
   "outputs": [
    {
     "name": "stdout",
     "output_type": "stream",
     "text": [
      "Report wellproduction_pivot.html was generated! NOTEBOOK/COLAB USERS: no browser will pop up, the report is saved in your notebook/colab files.\n"
     ]
    }
   ],
   "source": [
    "wp_pivot.show_html('wellproduction_pivot.html')"
   ]
  },
  {
   "cell_type": "markdown",
   "metadata": {},
   "source": [
    "## Create pivot table for production data (MONTH)"
   ]
  },
  {
   "cell_type": "code",
   "execution_count": 32,
   "metadata": {},
   "outputs": [
    {
     "data": {
      "text/html": [
       "<div>\n",
       "<style scoped>\n",
       "    .dataframe tbody tr th:only-of-type {\n",
       "        vertical-align: middle;\n",
       "    }\n",
       "\n",
       "    .dataframe tbody tr th {\n",
       "        vertical-align: top;\n",
       "    }\n",
       "\n",
       "    .dataframe thead th {\n",
       "        text-align: right;\n",
       "    }\n",
       "</style>\n",
       "<table border=\"1\" class=\"dataframe\">\n",
       "  <thead>\n",
       "    <tr style=\"text-align: right;\">\n",
       "      <th></th>\n",
       "      <th></th>\n",
       "      <th>ProdType</th>\n",
       "      <th>Condensate Production (Bbls)</th>\n",
       "      <th>Gas Production (MMcf)</th>\n",
       "      <th>Oil Production (Bbls)</th>\n",
       "      <th>Production Hours</th>\n",
       "      <th>Water Production (Bbls)</th>\n",
       "    </tr>\n",
       "    <tr>\n",
       "      <th>EPAssetsId</th>\n",
       "      <th>Year</th>\n",
       "      <th>Month</th>\n",
       "      <th></th>\n",
       "      <th></th>\n",
       "      <th></th>\n",
       "      <th></th>\n",
       "      <th></th>\n",
       "    </tr>\n",
       "  </thead>\n",
       "  <tbody>\n",
       "    <tr>\n",
       "      <th>2624467</th>\n",
       "      <th>2020</th>\n",
       "      <th>1</th>\n",
       "      <td>0.0</td>\n",
       "      <td>4.114174</td>\n",
       "      <td>2661.21438</td>\n",
       "      <td>0.0</td>\n",
       "      <td>8581.80312</td>\n",
       "    </tr>\n",
       "    <tr>\n",
       "      <th>2624624</th>\n",
       "      <th>2020</th>\n",
       "      <th>1</th>\n",
       "      <td>0.0</td>\n",
       "      <td>11.297205</td>\n",
       "      <td>6781.03338</td>\n",
       "      <td>262.0</td>\n",
       "      <td>0.00000</td>\n",
       "    </tr>\n",
       "    <tr>\n",
       "      <th rowspan=\"2\" valign=\"top\">2625202</th>\n",
       "      <th>2019</th>\n",
       "      <th>12</th>\n",
       "      <td>0.0</td>\n",
       "      <td>27.616174</td>\n",
       "      <td>5084.67432</td>\n",
       "      <td>0.0</td>\n",
       "      <td>0.00000</td>\n",
       "    </tr>\n",
       "    <tr>\n",
       "      <th>2020</th>\n",
       "      <th>1</th>\n",
       "      <td>0.0</td>\n",
       "      <td>59.600788</td>\n",
       "      <td>9234.05538</td>\n",
       "      <td>0.0</td>\n",
       "      <td>0.00000</td>\n",
       "    </tr>\n",
       "    <tr>\n",
       "      <th>2625908</th>\n",
       "      <th>2020</th>\n",
       "      <th>1</th>\n",
       "      <td>0.0</td>\n",
       "      <td>0.017657</td>\n",
       "      <td>1430.30052</td>\n",
       "      <td>148.0</td>\n",
       "      <td>0.00000</td>\n",
       "    </tr>\n",
       "  </tbody>\n",
       "</table>\n",
       "</div>"
      ],
      "text/plain": [
       "ProdType               Condensate Production (Bbls)  Gas Production (MMcf)  \\\n",
       "EPAssetsId Year Month                                                        \n",
       "2624467    2020 1                               0.0               4.114174   \n",
       "2624624    2020 1                               0.0              11.297205   \n",
       "2625202    2019 12                              0.0              27.616174   \n",
       "           2020 1                               0.0              59.600788   \n",
       "2625908    2020 1                               0.0               0.017657   \n",
       "\n",
       "ProdType               Oil Production (Bbls)  Production Hours  \\\n",
       "EPAssetsId Year Month                                            \n",
       "2624467    2020 1                 2661.21438               0.0   \n",
       "2624624    2020 1                 6781.03338             262.0   \n",
       "2625202    2019 12                5084.67432               0.0   \n",
       "           2020 1                 9234.05538               0.0   \n",
       "2625908    2020 1                 1430.30052             148.0   \n",
       "\n",
       "ProdType               Water Production (Bbls)  \n",
       "EPAssetsId Year Month                           \n",
       "2624467    2020 1                   8581.80312  \n",
       "2624624    2020 1                      0.00000  \n",
       "2625202    2019 12                     0.00000  \n",
       "           2020 1                      0.00000  \n",
       "2625908    2020 1                      0.00000  "
      ]
     },
     "execution_count": 32,
     "metadata": {},
     "output_type": "execute_result"
    }
   ],
   "source": [
    "wellproduction_monthly_pivot = well_production.pivot_table(index=['EPAssetsId', 'Year', 'Month'], columns='ProdType',  values='Volume', fill_value= 0, aggfunc=np.sum, observed=True)\n",
    "\n",
    "wellproduction_monthly_pivot.tail()"
   ]
  },
  {
   "cell_type": "code",
   "execution_count": 33,
   "metadata": {},
   "outputs": [
    {
     "name": "stderr",
     "output_type": "stream",
     "text": [
      ":FEATURES DONE:                    |█████████████████████| [100%]   00:23  -> (00:00 left)\n",
      ":PAIRWISE DONE:                    |█████████████████████| [100%]   00:00  -> (00:00 left)\n"
     ]
    },
    {
     "name": "stdout",
     "output_type": "stream",
     "text": [
      "Creating Associations graph... DONE!\n"
     ]
    }
   ],
   "source": [
    "wpm_pivot=sv.analyze(wellproduction_monthly_pivot)"
   ]
  },
  {
   "cell_type": "code",
   "execution_count": 34,
   "metadata": {},
   "outputs": [
    {
     "name": "stdout",
     "output_type": "stream",
     "text": [
      "Report wellproduction_monthly_pivot.html was generated! NOTEBOOK/COLAB USERS: no browser will pop up, the report is saved in your notebook/colab files.\n"
     ]
    }
   ],
   "source": [
    "wpm_pivot.show_html('wellproduction_monthly_pivot.html')"
   ]
  },
  {
   "cell_type": "code",
   "execution_count": null,
   "metadata": {},
   "outputs": [],
   "source": []
  },
  {
   "cell_type": "markdown",
   "metadata": {},
   "source": [
    "## Create pivot table for production data (ANNUAL)"
   ]
  },
  {
   "cell_type": "code",
   "execution_count": 35,
   "metadata": {},
   "outputs": [
    {
     "data": {
      "text/html": [
       "<div>\n",
       "<style scoped>\n",
       "    .dataframe tbody tr th:only-of-type {\n",
       "        vertical-align: middle;\n",
       "    }\n",
       "\n",
       "    .dataframe tbody tr th {\n",
       "        vertical-align: top;\n",
       "    }\n",
       "\n",
       "    .dataframe thead th {\n",
       "        text-align: right;\n",
       "    }\n",
       "</style>\n",
       "<table border=\"1\" class=\"dataframe\">\n",
       "  <thead>\n",
       "    <tr style=\"text-align: right;\">\n",
       "      <th></th>\n",
       "      <th>ProdType</th>\n",
       "      <th>Condensate Production (Bbls)</th>\n",
       "      <th>Gas Production (MMcf)</th>\n",
       "      <th>Oil Production (Bbls)</th>\n",
       "      <th>Production Hours</th>\n",
       "      <th>Water Production (Bbls)</th>\n",
       "    </tr>\n",
       "    <tr>\n",
       "      <th>EPAssetsId</th>\n",
       "      <th>Year</th>\n",
       "      <th></th>\n",
       "      <th></th>\n",
       "      <th></th>\n",
       "      <th></th>\n",
       "      <th></th>\n",
       "    </tr>\n",
       "  </thead>\n",
       "  <tbody>\n",
       "    <tr>\n",
       "      <th rowspan=\"3\" valign=\"top\">3373</th>\n",
       "      <th>2017</th>\n",
       "      <td>18108.96318</td>\n",
       "      <td>242.241871</td>\n",
       "      <td>0.0</td>\n",
       "      <td>2258.4</td>\n",
       "      <td>9071.77854</td>\n",
       "    </tr>\n",
       "    <tr>\n",
       "      <th>2018</th>\n",
       "      <td>21488.47272</td>\n",
       "      <td>800.967916</td>\n",
       "      <td>0.0</td>\n",
       "      <td>6864.0</td>\n",
       "      <td>11916.02610</td>\n",
       "    </tr>\n",
       "    <tr>\n",
       "      <th>2019</th>\n",
       "      <td>9325.88646</td>\n",
       "      <td>584.138575</td>\n",
       "      <td>0.0</td>\n",
       "      <td>8328.0</td>\n",
       "      <td>3654.37380</td>\n",
       "    </tr>\n",
       "    <tr>\n",
       "      <th rowspan=\"2\" valign=\"top\">6976</th>\n",
       "      <th>2015</th>\n",
       "      <td>237.12546</td>\n",
       "      <td>26.517883</td>\n",
       "      <td>0.0</td>\n",
       "      <td>240.0</td>\n",
       "      <td>10252.37400</td>\n",
       "    </tr>\n",
       "    <tr>\n",
       "      <th>2016</th>\n",
       "      <td>3146.78694</td>\n",
       "      <td>524.322367</td>\n",
       "      <td>0.0</td>\n",
       "      <td>7128.0</td>\n",
       "      <td>20370.14628</td>\n",
       "    </tr>\n",
       "  </tbody>\n",
       "</table>\n",
       "</div>"
      ],
      "text/plain": [
       "ProdType         Condensate Production (Bbls)  Gas Production (MMcf)  \\\n",
       "EPAssetsId Year                                                        \n",
       "3373       2017                   18108.96318             242.241871   \n",
       "           2018                   21488.47272             800.967916   \n",
       "           2019                    9325.88646             584.138575   \n",
       "6976       2015                     237.12546              26.517883   \n",
       "           2016                    3146.78694             524.322367   \n",
       "\n",
       "ProdType         Oil Production (Bbls)  Production Hours  \\\n",
       "EPAssetsId Year                                            \n",
       "3373       2017                    0.0            2258.4   \n",
       "           2018                    0.0            6864.0   \n",
       "           2019                    0.0            8328.0   \n",
       "6976       2015                    0.0             240.0   \n",
       "           2016                    0.0            7128.0   \n",
       "\n",
       "ProdType         Water Production (Bbls)  \n",
       "EPAssetsId Year                           \n",
       "3373       2017               9071.77854  \n",
       "           2018              11916.02610  \n",
       "           2019               3654.37380  \n",
       "6976       2015              10252.37400  \n",
       "           2016              20370.14628  "
      ]
     },
     "execution_count": 35,
     "metadata": {},
     "output_type": "execute_result"
    }
   ],
   "source": [
    "wellproduction_annual_pivot = well_production.pivot_table(index=['EPAssetsId', 'Year'], columns='ProdType', values='Volume', fill_value= 0, aggfunc=np.sum,  observed=True)\n",
    "\n",
    "wellproduction_annual_pivot.head()"
   ]
  },
  {
   "cell_type": "code",
   "execution_count": 36,
   "metadata": {},
   "outputs": [
    {
     "name": "stdout",
     "output_type": "stream",
     "text": [
      "<class 'pandas.core.frame.DataFrame'>\n",
      "MultiIndex: 36530 entries, (3373, 2017) to (2625908, 2020)\n",
      "Data columns (total 5 columns):\n",
      " #   Column                        Non-Null Count  Dtype  \n",
      "---  ------                        --------------  -----  \n",
      " 0   Condensate Production (Bbls)  36530 non-null  float64\n",
      " 1   Gas Production (MMcf)         36530 non-null  float64\n",
      " 2   Oil Production (Bbls)         36530 non-null  float64\n",
      " 3   Production Hours              36530 non-null  float64\n",
      " 4   Water Production (Bbls)       36530 non-null  float64\n",
      "dtypes: float64(5)\n",
      "memory usage: 1.6 MB\n"
     ]
    }
   ],
   "source": [
    "wellproduction_annual_pivot.info()"
   ]
  },
  {
   "cell_type": "code",
   "execution_count": 37,
   "metadata": {},
   "outputs": [
    {
     "name": "stderr",
     "output_type": "stream",
     "text": [
      ":FEATURES DONE:                    |█████████████████████| [100%]   00:04  -> (00:00 left)\n",
      ":PAIRWISE DONE:                    |█████████████████████| [100%]   00:00  -> (00:00 left)\n"
     ]
    },
    {
     "name": "stdout",
     "output_type": "stream",
     "text": [
      "Creating Associations graph... DONE!\n"
     ]
    }
   ],
   "source": [
    "wpa_pivot = sv.analyze(wellproduction_annual_pivot)"
   ]
  },
  {
   "cell_type": "code",
   "execution_count": 38,
   "metadata": {},
   "outputs": [
    {
     "name": "stdout",
     "output_type": "stream",
     "text": [
      "Report wpa.html was generated! NOTEBOOK/COLAB USERS: no browser will pop up, the report is saved in your notebook/colab files.\n"
     ]
    }
   ],
   "source": [
    "wpa_pivot.show_html('wpa.html')"
   ]
  },
  {
   "cell_type": "markdown",
   "metadata": {},
   "source": [
    "# Create pivot table for production data (TOTAL)"
   ]
  },
  {
   "cell_type": "code",
   "execution_count": 39,
   "metadata": {},
   "outputs": [
    {
     "data": {
      "text/html": [
       "<div>\n",
       "<style scoped>\n",
       "    .dataframe tbody tr th:only-of-type {\n",
       "        vertical-align: middle;\n",
       "    }\n",
       "\n",
       "    .dataframe tbody tr th {\n",
       "        vertical-align: top;\n",
       "    }\n",
       "\n",
       "    .dataframe thead th {\n",
       "        text-align: right;\n",
       "    }\n",
       "</style>\n",
       "<table border=\"1\" class=\"dataframe\">\n",
       "  <thead>\n",
       "    <tr style=\"text-align: right;\">\n",
       "      <th>ProdType</th>\n",
       "      <th>Condensate Production (Bbls)</th>\n",
       "      <th>Gas Production (MMcf)</th>\n",
       "      <th>Oil Production (Bbls)</th>\n",
       "      <th>Production Hours</th>\n",
       "      <th>Water Production (Bbls)</th>\n",
       "    </tr>\n",
       "    <tr>\n",
       "      <th>EPAssetsId</th>\n",
       "      <th></th>\n",
       "      <th></th>\n",
       "      <th></th>\n",
       "      <th></th>\n",
       "      <th></th>\n",
       "    </tr>\n",
       "  </thead>\n",
       "  <tbody>\n",
       "    <tr>\n",
       "      <th>3373</th>\n",
       "      <td>48923.32236</td>\n",
       "      <td>1627.348362</td>\n",
       "      <td>0.0</td>\n",
       "      <td>17450.4</td>\n",
       "      <td>24642.17844</td>\n",
       "    </tr>\n",
       "    <tr>\n",
       "      <th>6976</th>\n",
       "      <td>4753.83084</td>\n",
       "      <td>1358.849937</td>\n",
       "      <td>0.0</td>\n",
       "      <td>31180.8</td>\n",
       "      <td>40039.60884</td>\n",
       "    </tr>\n",
       "    <tr>\n",
       "      <th>6977</th>\n",
       "      <td>5082.15840</td>\n",
       "      <td>2767.624407</td>\n",
       "      <td>0.0</td>\n",
       "      <td>30981.6</td>\n",
       "      <td>29144.41728</td>\n",
       "    </tr>\n",
       "    <tr>\n",
       "      <th>7129</th>\n",
       "      <td>116.36130</td>\n",
       "      <td>1706.372290</td>\n",
       "      <td>0.0</td>\n",
       "      <td>17536.8</td>\n",
       "      <td>24205.66632</td>\n",
       "    </tr>\n",
       "    <tr>\n",
       "      <th>7130</th>\n",
       "      <td>164.79276</td>\n",
       "      <td>2554.319484</td>\n",
       "      <td>0.0</td>\n",
       "      <td>20496.0</td>\n",
       "      <td>21244.42848</td>\n",
       "    </tr>\n",
       "  </tbody>\n",
       "</table>\n",
       "</div>"
      ],
      "text/plain": [
       "ProdType    Condensate Production (Bbls)  Gas Production (MMcf)  \\\n",
       "EPAssetsId                                                        \n",
       "3373                         48923.32236            1627.348362   \n",
       "6976                          4753.83084            1358.849937   \n",
       "6977                          5082.15840            2767.624407   \n",
       "7129                           116.36130            1706.372290   \n",
       "7130                           164.79276            2554.319484   \n",
       "\n",
       "ProdType    Oil Production (Bbls)  Production Hours  Water Production (Bbls)  \n",
       "EPAssetsId                                                                    \n",
       "3373                          0.0           17450.4              24642.17844  \n",
       "6976                          0.0           31180.8              40039.60884  \n",
       "6977                          0.0           30981.6              29144.41728  \n",
       "7129                          0.0           17536.8              24205.66632  \n",
       "7130                          0.0           20496.0              21244.42848  "
      ]
     },
     "execution_count": 39,
     "metadata": {},
     "output_type": "execute_result"
    }
   ],
   "source": [
    "wellproduction_total_pivot = well_production.pivot_table(index=['EPAssetsId'], columns='ProdType', values='Volume', fill_value= 0, aggfunc=np.sum, observed=True)\n",
    "\n",
    "wellproduction_total_pivot.head()"
   ]
  },
  {
   "cell_type": "code",
   "execution_count": 40,
   "metadata": {},
   "outputs": [
    {
     "name": "stdout",
     "output_type": "stream",
     "text": [
      "<class 'pandas.core.frame.DataFrame'>\n",
      "Int64Index: 10386 entries, 3373 to 2625908\n",
      "Data columns (total 5 columns):\n",
      " #   Column                        Non-Null Count  Dtype  \n",
      "---  ------                        --------------  -----  \n",
      " 0   Condensate Production (Bbls)  10386 non-null  float64\n",
      " 1   Gas Production (MMcf)         10386 non-null  float64\n",
      " 2   Oil Production (Bbls)         10386 non-null  float64\n",
      " 3   Production Hours              10386 non-null  float64\n",
      " 4   Water Production (Bbls)       10386 non-null  float64\n",
      "dtypes: float64(5)\n",
      "memory usage: 486.8 KB\n"
     ]
    }
   ],
   "source": [
    "wellproduction_total_pivot.info()"
   ]
  },
  {
   "cell_type": "code",
   "execution_count": 41,
   "metadata": {},
   "outputs": [
    {
     "name": "stderr",
     "output_type": "stream",
     "text": [
      ":FEATURES DONE:                    |█████████████████████| [100%]   00:02  -> (00:00 left)\n",
      ":PAIRWISE DONE:                    |█████████████████████| [100%]   00:00  -> (00:00 left)\n"
     ]
    },
    {
     "name": "stdout",
     "output_type": "stream",
     "text": [
      "Creating Associations graph... DONE!\n"
     ]
    }
   ],
   "source": [
    "wpt_pivot = sv.analyze(wellproduction_total_pivot)"
   ]
  },
  {
   "cell_type": "code",
   "execution_count": 42,
   "metadata": {},
   "outputs": [
    {
     "name": "stdout",
     "output_type": "stream",
     "text": [
      "Report wpt.html was generated! NOTEBOOK/COLAB USERS: no browser will pop up, the report is saved in your notebook/colab files.\n"
     ]
    }
   ],
   "source": [
    "wpt_pivot.show_html('wpt.html')"
   ]
  },
  {
   "cell_type": "code",
   "execution_count": null,
   "metadata": {},
   "outputs": [],
   "source": []
  }
 ],
 "metadata": {
  "kernelspec": {
   "display_name": "Python 3",
   "language": "python",
   "name": "python3"
  },
  "language_info": {
   "codemirror_mode": {
    "name": "ipython",
    "version": 3
   },
   "file_extension": ".py",
   "mimetype": "text/x-python",
   "name": "python",
   "nbconvert_exporter": "python",
   "pygments_lexer": "ipython3",
   "version": "3.8.3"
  }
 },
 "nbformat": 4,
 "nbformat_minor": 4
}
