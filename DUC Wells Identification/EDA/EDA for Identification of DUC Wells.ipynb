{
 "cells": [
  {
   "cell_type": "markdown",
   "metadata": {},
   "source": [
    "#### Assumptions made/issues/observations found, please review and advise: \n",
    "\n",
    "####   Well header dataset\n",
    "      -Assumed 'Not Applicable' values as null values. See Line 2 of Code. Agreed\n",
    "      -Changed some objects to category data types. See line 7 of Code. Waiting for confirmation.\n",
    "      -Columns dropped. See Line 20 of Code. Waiting for confirmation.\n",
    "      -BH Longitude/Latitude values missing and they correspond to British Columbia data. See corresponding html file and          Line 3 of code.\n",
    "      \n",
    "####    Production dataset - Require review and input\n",
    "      -Duplicate rows.\n",
    "      \n",
    "####    Perforation dataset\n",
    "      -ActivityType column values(46) missing. See corresponding html file and Line 17 of code.\n",
    "      -Added a Completion Activity (Yes or No) column to the perforation dataset. See Line 18 and 19.\n",
    "\n",
    "     "
   ]
  },
  {
   "cell_type": "markdown",
   "metadata": {},
   "source": [
    "# Import Libraries"
   ]
  },
  {
   "cell_type": "code",
   "execution_count": 1,
   "metadata": {},
   "outputs": [
    {
     "name": "stderr",
     "output_type": "stream",
     "text": [
      "\n",
      "Bad key \"text.kerning_factor\" on line 4 in\n",
      "C:\\Users\\ijeke\\Anaconda3\\lib\\site-packages\\matplotlib\\mpl-data\\stylelib\\_classic_test_patch.mplstyle.\n",
      "You probably need to get an updated matplotlibrc file from\n",
      "https://github.com/matplotlib/matplotlib/blob/v3.1.3/matplotlibrc.template\n",
      "or from the matplotlib source distribution\n"
     ]
    }
   ],
   "source": [
    "import pandas as pd\n",
    "import numpy as np\n",
    "import sweetviz as sv\n",
    "from matplotlib_venn import venn2, venn2_circles, venn2_unweighted\n",
    "from matplotlib_venn import venn3, venn3_circles\n",
    "from matplotlib import pyplot as plt\n",
    "%matplotlib inline"
   ]
  },
  {
   "cell_type": "markdown",
   "metadata": {},
   "source": [
    "## Get the data"
   ]
  },
  {
   "cell_type": "code",
   "execution_count": 2,
   "metadata": {},
   "outputs": [],
   "source": [
    "## add list of datecolumns to parse_date to ensure datetime datatypes\n",
    "## assumed 'Not Applicable' values are NA values\n",
    "\n",
    "datecolumns = ['LicenceDate', 'ConfidentialReleaseDate','AbandonDate', 'SurfAbandonDate', 'SpudDate', 'FinalDrillDate', 'RigReleaseDate','StatusDate','CompletionDate']   \n",
    "well_header = pd.read_csv(r\"C:\\Users\\ijeke\\Documents\\Datathon\\Complete set\\WellHeader_Datathon.csv\",parse_dates=datecolumns, low_memory=False, na_values='Not Applicable')\n",
    "well_production = pd.read_csv(r\"C:\\Users\\ijeke\\Documents\\Datathon\\Complete set\\WellProduction.csv\", parse_dates=['ProdPeriod'])\n",
    "perf_treatment = pd.read_csv(r\"C:\\Users\\ijeke\\Documents\\Datathon\\Complete set\\PerfTreatments.csv\", parse_dates=['ActivityDate'])"
   ]
  },
  {
   "cell_type": "code",
   "execution_count": 3,
   "metadata": {},
   "outputs": [
    {
     "name": "stdout",
     "output_type": "stream",
     "text": [
      "<class 'pandas.core.frame.DataFrame'>\n",
      "RangeIndex: 10437 entries, 0 to 10436\n",
      "Data columns (total 85 columns):\n",
      " #   Column                     Non-Null Count  Dtype         \n",
      "---  ------                     --------------  -----         \n",
      " 0   EPAssetsId                 10437 non-null  int64         \n",
      " 1   Province                   10437 non-null  object        \n",
      " 2   LicenceNumber              10437 non-null  object        \n",
      " 3   UWI                        10437 non-null  object        \n",
      " 4   CurrentOperator            10437 non-null  object        \n",
      " 5   CurrentOperatorParent      10437 non-null  int64         \n",
      " 6   CurrentOperatorParentName  10437 non-null  object        \n",
      " 7   Licensee                   10437 non-null  object        \n",
      " 8   LicenseeParentCompany      10437 non-null  int64         \n",
      " 9   LicenseeParentCompanyName  10437 non-null  object        \n",
      " 10  LicenceDate                10437 non-null  datetime64[ns]\n",
      " 11  CurrentStatus              10437 non-null  object        \n",
      " 12  CurrentStatusStandardised  10437 non-null  object        \n",
      " 13  WellType                   10437 non-null  object        \n",
      " 14  WellTypeStandardised       10437 non-null  object        \n",
      " 15  ConfidentialReleaseDate    7477 non-null   datetime64[ns]\n",
      " 16  AbandonDate                0 non-null      datetime64[ns]\n",
      " 17  SurfAbandonDate            0 non-null      datetime64[ns]\n",
      " 18  WellName                   10437 non-null  object        \n",
      " 19  Formation                  10437 non-null  object        \n",
      " 20  Field                      10437 non-null  object        \n",
      " 21  Pool                       10437 non-null  object        \n",
      " 22  SurveySystem               10437 non-null  object        \n",
      " 23  Surf_Location              10437 non-null  object        \n",
      " 24  Surf_Township              9904 non-null   float64       \n",
      " 25  Surf_Meridian              9904 non-null   object        \n",
      " 26  Surf_Range                 9904 non-null   float64       \n",
      " 27  Surf_Section               9904 non-null   float64       \n",
      " 28  Surf_LSD                   9904 non-null   float64       \n",
      " 29  Surf_Longitude             10437 non-null  float64       \n",
      " 30  Surf_Latitude              10437 non-null  float64       \n",
      " 31  Surf_TownshipRange         9904 non-null   object        \n",
      " 32  Surf_QuarterUnit           533 non-null    object        \n",
      " 33  Surf_Unit                  533 non-null    float64       \n",
      " 34  Surf_Block                 533 non-null    object        \n",
      " 35  Surf_NTSMapSheet           533 non-null    object        \n",
      " 36  Surf_Series                533 non-null    float64       \n",
      " 37  Surf_Area                  533 non-null    object        \n",
      " 38  Surf_Sheet                 533 non-null    float64       \n",
      " 39  Surf_QuarterSection        9904 non-null   object        \n",
      " 40  BH_Location                10437 non-null  object        \n",
      " 41  BH_TownshipRange           9909 non-null   object        \n",
      " 42  BH_QuarterUnit             528 non-null    object        \n",
      " 43  BH_Unit                    528 non-null    float64       \n",
      " 44  BH_Block                   528 non-null    object        \n",
      " 45  BH_NTSMapSheet             528 non-null    object        \n",
      " 46  BH_Series                  528 non-null    float64       \n",
      " 47  BH_Area                    528 non-null    object        \n",
      " 48  BH_Sheet                   528 non-null    float64       \n",
      " 49  BH_QuarterSection          8697 non-null   object        \n",
      " 50  BH_Longitude               8697 non-null   float64       \n",
      " 51  BH_Latitude                8697 non-null   float64       \n",
      " 52  BH_Township                9909 non-null   float64       \n",
      " 53  BH_Meridian                9909 non-null   object        \n",
      " 54  BH_Range                   9909 non-null   float64       \n",
      " 55  BH_Section                 9909 non-null   float64       \n",
      " 56  BH_LSD                     9909 non-null   float64       \n",
      " 57  GroundElevation            10429 non-null  float64       \n",
      " 58  KBElevation                10437 non-null  float64       \n",
      " 59  TotalDepth                 10437 non-null  float64       \n",
      " 60  LaheeClass                 10437 non-null  object        \n",
      " 61  Confidential               10437 non-null  object        \n",
      " 62  SurfaceOwner               10437 non-null  object        \n",
      " 63  OSArea                     61 non-null     object        \n",
      " 64  OSDeposit                  0 non-null      float64       \n",
      " 65  DrillingContractor         10405 non-null  object        \n",
      " 66  SpudDate                   10437 non-null  datetime64[ns]\n",
      " 67  FinalDrillDate             8697 non-null   datetime64[ns]\n",
      " 68  RigReleaseDate             10437 non-null  datetime64[ns]\n",
      " 69  DaysDrilling               10431 non-null  float64       \n",
      " 70  DrillMetresPerDay          10437 non-null  float64       \n",
      " 71  TVD                        6731 non-null   float64       \n",
      " 72  WellProfile                10437 non-null  object        \n",
      " 73  Country                    10437 non-null  object        \n",
      " 74  RegulatoryAgency           10437 non-null  object        \n",
      " 75  PSACAreaCode               10437 non-null  object        \n",
      " 76  PSACAreaName               10437 non-null  object        \n",
      " 77  ProjectedDepth             10045 non-null  float64       \n",
      " 78  StatusDate                 10437 non-null  datetime64[ns]\n",
      " 79  StatusSource               10437 non-null  object        \n",
      " 80  UnitID                     965 non-null    object        \n",
      " 81  UnitName                   965 non-null    object        \n",
      " 82  UnitFlag                   8697 non-null   object        \n",
      " 83  Municipality               4111 non-null   object        \n",
      " 84  CompletionDate             5851 non-null   datetime64[ns]\n",
      "dtypes: datetime64[ns](9), float64(26), int64(3), object(47)\n",
      "memory usage: 6.8+ MB\n"
     ]
    }
   ],
   "source": [
    "well_header=well_header.iloc[:,0:85]\n",
    "well_header.info()"
   ]
  },
  {
   "cell_type": "code",
   "execution_count": 4,
   "metadata": {},
   "outputs": [
    {
     "name": "stdout",
     "output_type": "stream",
     "text": [
      "<class 'pandas.core.frame.DataFrame'>\n",
      "RangeIndex: 961054 entries, 0 to 961053\n",
      "Data columns (total 5 columns):\n",
      " #   Column            Non-Null Count   Dtype         \n",
      "---  ------            --------------   -----         \n",
      " 0   EPAssetsId        961054 non-null  int64         \n",
      " 1   ProdPeriod        961054 non-null  datetime64[ns]\n",
      " 2   ProdType          961054 non-null  object        \n",
      " 3   Volume            961054 non-null  float64       \n",
      " 4   WellHeader.Match  961054 non-null  object        \n",
      "dtypes: datetime64[ns](1), float64(1), int64(1), object(2)\n",
      "memory usage: 36.7+ MB\n"
     ]
    },
    {
     "data": {
      "text/plain": [
       "None"
      ]
     },
     "metadata": {},
     "output_type": "display_data"
    },
    {
     "name": "stdout",
     "output_type": "stream",
     "text": [
      "\n",
      "\n",
      "<class 'pandas.core.frame.DataFrame'>\n",
      "RangeIndex: 445271 entries, 0 to 445270\n",
      "Data columns (total 9 columns):\n",
      " #   Column             Non-Null Count   Dtype         \n",
      "---  ------             --------------   -----         \n",
      " 0   EPAssetsId         445271 non-null  int64         \n",
      " 1   EPAPTId            445271 non-null  int64         \n",
      " 2   ObservationNumber  370719 non-null  float64       \n",
      " 3   ActivityDate       445271 non-null  datetime64[ns]\n",
      " 4   ActivityType       445225 non-null  object        \n",
      " 5   IntervalTop        445271 non-null  float64       \n",
      " 6   IntervalBase       445271 non-null  float64       \n",
      " 7   PerfShots          370719 non-null  float64       \n",
      " 8   WellHeader.Match   445271 non-null  object        \n",
      "dtypes: datetime64[ns](1), float64(4), int64(2), object(2)\n",
      "memory usage: 30.6+ MB\n"
     ]
    }
   ],
   "source": [
    "display(well_production.info())\n",
    "\n",
    "print('\\n')\n",
    "\n",
    "perf_treatment.info()"
   ]
  },
  {
   "cell_type": "code",
   "execution_count": 5,
   "metadata": {},
   "outputs": [
    {
     "data": {
      "text/html": [
       "<div>\n",
       "<style scoped>\n",
       "    .dataframe tbody tr th:only-of-type {\n",
       "        vertical-align: middle;\n",
       "    }\n",
       "\n",
       "    .dataframe tbody tr th {\n",
       "        vertical-align: top;\n",
       "    }\n",
       "\n",
       "    .dataframe thead th {\n",
       "        text-align: right;\n",
       "    }\n",
       "</style>\n",
       "<table border=\"1\" class=\"dataframe\">\n",
       "  <thead>\n",
       "    <tr style=\"text-align: right;\">\n",
       "      <th></th>\n",
       "      <th>EPAssetsId</th>\n",
       "      <th>Province</th>\n",
       "      <th>LicenceNumber</th>\n",
       "      <th>UWI</th>\n",
       "      <th>CurrentOperator</th>\n",
       "      <th>CurrentOperatorParent</th>\n",
       "      <th>CurrentOperatorParentName</th>\n",
       "      <th>Licensee</th>\n",
       "      <th>LicenseeParentCompany</th>\n",
       "      <th>LicenseeParentCompanyName</th>\n",
       "      <th>...</th>\n",
       "      <th>PSACAreaCode</th>\n",
       "      <th>PSACAreaName</th>\n",
       "      <th>ProjectedDepth</th>\n",
       "      <th>StatusDate</th>\n",
       "      <th>StatusSource</th>\n",
       "      <th>UnitID</th>\n",
       "      <th>UnitName</th>\n",
       "      <th>UnitFlag</th>\n",
       "      <th>Municipality</th>\n",
       "      <th>CompletionDate</th>\n",
       "    </tr>\n",
       "  </thead>\n",
       "  <tbody>\n",
       "    <tr>\n",
       "      <th>0</th>\n",
       "      <td>2587301</td>\n",
       "      <td>Alberta</td>\n",
       "      <td>475898</td>\n",
       "      <td>100122706624W500</td>\n",
       "      <td>Enerplus Corporation</td>\n",
       "      <td>267</td>\n",
       "      <td>Enerplus Corporation</td>\n",
       "      <td>Enerplus Corporation</td>\n",
       "      <td>267</td>\n",
       "      <td>Enerplus Corporation</td>\n",
       "      <td>...</td>\n",
       "      <td>AB2</td>\n",
       "      <td>Foothills Front</td>\n",
       "      <td>3800.0</td>\n",
       "      <td>2016-02-28</td>\n",
       "      <td>AER</td>\n",
       "      <td>NaN</td>\n",
       "      <td>NaN</td>\n",
       "      <td>No</td>\n",
       "      <td>NaN</td>\n",
       "      <td>NaT</td>\n",
       "    </tr>\n",
       "    <tr>\n",
       "      <th>1</th>\n",
       "      <td>2593278</td>\n",
       "      <td>Alberta</td>\n",
       "      <td>479407</td>\n",
       "      <td>102052706624W500</td>\n",
       "      <td>Enerplus Corporation</td>\n",
       "      <td>267</td>\n",
       "      <td>Enerplus Corporation</td>\n",
       "      <td>Enerplus Corporation</td>\n",
       "      <td>267</td>\n",
       "      <td>Enerplus Corporation</td>\n",
       "      <td>...</td>\n",
       "      <td>AB2</td>\n",
       "      <td>Foothills Front</td>\n",
       "      <td>3700.0</td>\n",
       "      <td>2016-09-23</td>\n",
       "      <td>AER</td>\n",
       "      <td>NaN</td>\n",
       "      <td>NaN</td>\n",
       "      <td>No</td>\n",
       "      <td>NaN</td>\n",
       "      <td>NaT</td>\n",
       "    </tr>\n",
       "  </tbody>\n",
       "</table>\n",
       "<p>2 rows × 85 columns</p>\n",
       "</div>"
      ],
      "text/plain": [
       "   EPAssetsId Province LicenceNumber               UWI       CurrentOperator  \\\n",
       "0     2587301  Alberta        475898  100122706624W500  Enerplus Corporation   \n",
       "1     2593278  Alberta        479407  102052706624W500  Enerplus Corporation   \n",
       "\n",
       "   CurrentOperatorParent CurrentOperatorParentName              Licensee  \\\n",
       "0                    267      Enerplus Corporation  Enerplus Corporation   \n",
       "1                    267      Enerplus Corporation  Enerplus Corporation   \n",
       "\n",
       "   LicenseeParentCompany LicenseeParentCompanyName  ... PSACAreaCode  \\\n",
       "0                    267      Enerplus Corporation  ...          AB2   \n",
       "1                    267      Enerplus Corporation  ...          AB2   \n",
       "\n",
       "      PSACAreaName ProjectedDepth StatusDate StatusSource UnitID UnitName  \\\n",
       "0  Foothills Front         3800.0 2016-02-28          AER    NaN      NaN   \n",
       "1  Foothills Front         3700.0 2016-09-23          AER    NaN      NaN   \n",
       "\n",
       "  UnitFlag Municipality CompletionDate  \n",
       "0       No          NaN            NaT  \n",
       "1       No          NaN            NaT  \n",
       "\n",
       "[2 rows x 85 columns]"
      ]
     },
     "execution_count": 5,
     "metadata": {},
     "output_type": "execute_result"
    }
   ],
   "source": [
    "well_header.head(2)"
   ]
  },
  {
   "cell_type": "code",
   "execution_count": 6,
   "metadata": {},
   "outputs": [
    {
     "data": {
      "text/plain": [
       "Index(['Province', 'LicenceNumber', 'UWI', 'CurrentOperator',\n",
       "       'CurrentOperatorParentName', 'Licensee', 'LicenseeParentCompanyName',\n",
       "       'CurrentStatus', 'CurrentStatusStandardised', 'WellType',\n",
       "       'WellTypeStandardised', 'WellName', 'Formation', 'Field', 'Pool',\n",
       "       'SurveySystem', 'Surf_Location', 'Surf_Meridian', 'Surf_TownshipRange',\n",
       "       'Surf_QuarterUnit', 'Surf_Block', 'Surf_NTSMapSheet', 'Surf_Area',\n",
       "       'Surf_QuarterSection', 'BH_Location', 'BH_TownshipRange',\n",
       "       'BH_QuarterUnit', 'BH_Block', 'BH_NTSMapSheet', 'BH_Area',\n",
       "       'BH_QuarterSection', 'BH_Meridian', 'LaheeClass', 'Confidential',\n",
       "       'SurfaceOwner', 'OSArea', 'DrillingContractor', 'WellProfile',\n",
       "       'Country', 'RegulatoryAgency', 'PSACAreaCode', 'PSACAreaName',\n",
       "       'StatusSource', 'UnitID', 'UnitName', 'UnitFlag', 'Municipality'],\n",
       "      dtype='object')"
      ]
     },
     "execution_count": 6,
     "metadata": {},
     "output_type": "execute_result"
    }
   ],
   "source": [
    "##check which columns are object datatypes \n",
    "\n",
    "well_header.columns[well_header.dtypes == 'object']\n",
    "\n"
   ]
  },
  {
   "cell_type": "code",
   "execution_count": 7,
   "metadata": {},
   "outputs": [
    {
     "name": "stdout",
     "output_type": "stream",
     "text": [
      "<class 'pandas.core.frame.DataFrame'>\n",
      "RangeIndex: 10437 entries, 0 to 10436\n",
      "Data columns (total 85 columns):\n",
      " #   Column                     Non-Null Count  Dtype         \n",
      "---  ------                     --------------  -----         \n",
      " 0   EPAssetsId                 10437 non-null  int64         \n",
      " 1   Province                   10437 non-null  category      \n",
      " 2   LicenceNumber              10437 non-null  object        \n",
      " 3   UWI                        10437 non-null  object        \n",
      " 4   CurrentOperator            10437 non-null  category      \n",
      " 5   CurrentOperatorParent      10437 non-null  int64         \n",
      " 6   CurrentOperatorParentName  10437 non-null  category      \n",
      " 7   Licensee                   10437 non-null  category      \n",
      " 8   LicenseeParentCompany      10437 non-null  int64         \n",
      " 9   LicenseeParentCompanyName  10437 non-null  category      \n",
      " 10  LicenceDate                10437 non-null  datetime64[ns]\n",
      " 11  CurrentStatus              10437 non-null  category      \n",
      " 12  CurrentStatusStandardised  10437 non-null  category      \n",
      " 13  WellType                   10437 non-null  category      \n",
      " 14  WellTypeStandardised       10437 non-null  category      \n",
      " 15  ConfidentialReleaseDate    7477 non-null   datetime64[ns]\n",
      " 16  AbandonDate                0 non-null      datetime64[ns]\n",
      " 17  SurfAbandonDate            0 non-null      datetime64[ns]\n",
      " 18  WellName                   10437 non-null  object        \n",
      " 19  Formation                  10437 non-null  category      \n",
      " 20  Field                      10437 non-null  category      \n",
      " 21  Pool                       10437 non-null  category      \n",
      " 22  SurveySystem               10437 non-null  category      \n",
      " 23  Surf_Location              10437 non-null  object        \n",
      " 24  Surf_Township              9904 non-null   float64       \n",
      " 25  Surf_Meridian              9904 non-null   category      \n",
      " 26  Surf_Range                 9904 non-null   float64       \n",
      " 27  Surf_Section               9904 non-null   float64       \n",
      " 28  Surf_LSD                   9904 non-null   float64       \n",
      " 29  Surf_Longitude             10437 non-null  float64       \n",
      " 30  Surf_Latitude              10437 non-null  float64       \n",
      " 31  Surf_TownshipRange         9904 non-null   object        \n",
      " 32  Surf_QuarterUnit           533 non-null    category      \n",
      " 33  Surf_Unit                  533 non-null    float64       \n",
      " 34  Surf_Block                 533 non-null    category      \n",
      " 35  Surf_NTSMapSheet           533 non-null    category      \n",
      " 36  Surf_Series                533 non-null    float64       \n",
      " 37  Surf_Area                  533 non-null    category      \n",
      " 38  Surf_Sheet                 533 non-null    float64       \n",
      " 39  Surf_QuarterSection        9904 non-null   category      \n",
      " 40  BH_Location                10437 non-null  category      \n",
      " 41  BH_TownshipRange           9909 non-null   object        \n",
      " 42  BH_QuarterUnit             528 non-null    category      \n",
      " 43  BH_Unit                    528 non-null    float64       \n",
      " 44  BH_Block                   528 non-null    category      \n",
      " 45  BH_NTSMapSheet             528 non-null    category      \n",
      " 46  BH_Series                  528 non-null    float64       \n",
      " 47  BH_Area                    528 non-null    category      \n",
      " 48  BH_Sheet                   528 non-null    float64       \n",
      " 49  BH_QuarterSection          8697 non-null   category      \n",
      " 50  BH_Longitude               8697 non-null   float64       \n",
      " 51  BH_Latitude                8697 non-null   float64       \n",
      " 52  BH_Township                9909 non-null   float64       \n",
      " 53  BH_Meridian                9909 non-null   category      \n",
      " 54  BH_Range                   9909 non-null   float64       \n",
      " 55  BH_Section                 9909 non-null   float64       \n",
      " 56  BH_LSD                     9909 non-null   float64       \n",
      " 57  GroundElevation            10429 non-null  float64       \n",
      " 58  KBElevation                10437 non-null  float64       \n",
      " 59  TotalDepth                 10437 non-null  float64       \n",
      " 60  LaheeClass                 10437 non-null  category      \n",
      " 61  Confidential               10437 non-null  category      \n",
      " 62  SurfaceOwner               10437 non-null  category      \n",
      " 63  OSArea                     61 non-null     category      \n",
      " 64  OSDeposit                  0 non-null      category      \n",
      " 65  DrillingContractor         10405 non-null  category      \n",
      " 66  SpudDate                   10437 non-null  datetime64[ns]\n",
      " 67  FinalDrillDate             8697 non-null   datetime64[ns]\n",
      " 68  RigReleaseDate             10437 non-null  datetime64[ns]\n",
      " 69  DaysDrilling               10431 non-null  float64       \n",
      " 70  DrillMetresPerDay          10437 non-null  float64       \n",
      " 71  TVD                        6731 non-null   float64       \n",
      " 72  WellProfile                10437 non-null  category      \n",
      " 73  Country                    10437 non-null  category      \n",
      " 74  RegulatoryAgency           10437 non-null  category      \n",
      " 75  PSACAreaCode               10437 non-null  category      \n",
      " 76  PSACAreaName               10437 non-null  category      \n",
      " 77  ProjectedDepth             10045 non-null  float64       \n",
      " 78  StatusDate                 10437 non-null  datetime64[ns]\n",
      " 79  StatusSource               10437 non-null  category      \n",
      " 80  UnitID                     965 non-null    object        \n",
      " 81  UnitName                   965 non-null    object        \n",
      " 82  UnitFlag                   8697 non-null   category      \n",
      " 83  Municipality               4111 non-null   category      \n",
      " 84  CompletionDate             5851 non-null   datetime64[ns]\n",
      "dtypes: category(40), datetime64[ns](9), float64(25), int64(3), object(8)\n",
      "memory usage: 4.5+ MB\n"
     ]
    }
   ],
   "source": [
    "## Select objects to convert to category type \n",
    "obj_cast_category = ['Province', 'CurrentOperator', 'CurrentOperatorParentName',\n",
    "       'Licensee', 'LicenseeParentCompanyName', 'CurrentStatus',\n",
    "       'CurrentStatusStandardised', 'WellType', 'WellTypeStandardised',\n",
    "       'Formation', 'Field', 'Pool', 'SurveySystem',\n",
    "       'Surf_Meridian', \n",
    "       'Surf_QuarterUnit',  'Surf_Block', 'Surf_NTSMapSheet',\n",
    "       'Surf_Area',  'Surf_QuarterSection',\n",
    "       'BH_Location', 'BH_QuarterUnit', \n",
    "       'BH_Block', 'BH_NTSMapSheet', 'BH_Area', \n",
    "       'BH_QuarterSection', 'BH_Meridian', 'LaheeClass', 'Confidential',\n",
    "       'SurfaceOwner', 'OSArea', 'OSDeposit', 'DrillingContractor',\n",
    "       'WellProfile', 'Country', 'RegulatoryAgency', 'PSACAreaCode',\n",
    "       'PSACAreaName', 'StatusSource', 'UnitFlag','Municipality']       \n",
    "\n",
    "\n",
    "well_header[obj_cast_category] = well_header[obj_cast_category].astype('category')\n",
    "\n",
    "well_header.info()"
   ]
  },
  {
   "cell_type": "code",
   "execution_count": 8,
   "metadata": {},
   "outputs": [],
   "source": [
    "# change ProdType and ActivityType columns from object to category datatype\n",
    "well_production['ProdType'] = well_production['ProdType'].astype('category')\n",
    "perf_treatment['ActivityType'] = perf_treatment['ActivityType'].astype('category')"
   ]
  },
  {
   "cell_type": "markdown",
   "metadata": {},
   "source": [
    "## Seewtviz Magic"
   ]
  },
  {
   "cell_type": "code",
   "execution_count": 9,
   "metadata": {},
   "outputs": [
    {
     "name": "stderr",
     "output_type": "stream",
     "text": [
      ":FEATURES DONE:                    |█████████████████████| [100%]   00:14  -> (00:00 left)\n",
      ":PAIRWISE DONE:                    |█████████████████████| [100%]   00:26  -> (00:00 left)\n"
     ]
    },
    {
     "name": "stdout",
     "output_type": "stream",
     "text": [
      "Creating Associations graph... DONE!\n"
     ]
    }
   ],
   "source": [
    " wh= sv.analyze(well_header)"
   ]
  },
  {
   "cell_type": "code",
   "execution_count": 10,
   "metadata": {},
   "outputs": [
    {
     "name": "stdout",
     "output_type": "stream",
     "text": [
      "Report wells.html was generated! NOTEBOOK/COLAB USERS: no browser will pop up, the report is saved in your notebook/colab files.\n"
     ]
    }
   ],
   "source": [
    "wh.show_html('wells.html')"
   ]
  },
  {
   "cell_type": "code",
   "execution_count": 11,
   "metadata": {},
   "outputs": [],
   "source": [
    "well_production=well_production.iloc[:,0:4]"
   ]
  },
  {
   "cell_type": "code",
   "execution_count": 12,
   "metadata": {},
   "outputs": [
    {
     "name": "stdout",
     "output_type": "stream",
     "text": [
      "<class 'pandas.core.frame.DataFrame'>\n",
      "RangeIndex: 961054 entries, 0 to 961053\n",
      "Data columns (total 4 columns):\n",
      " #   Column      Non-Null Count   Dtype         \n",
      "---  ------      --------------   -----         \n",
      " 0   EPAssetsId  961054 non-null  int64         \n",
      " 1   ProdPeriod  961054 non-null  datetime64[ns]\n",
      " 2   ProdType    961054 non-null  category      \n",
      " 3   Volume      961054 non-null  float64       \n",
      "dtypes: category(1), datetime64[ns](1), float64(1), int64(1)\n",
      "memory usage: 22.9 MB\n"
     ]
    }
   ],
   "source": [
    "well_production.info()"
   ]
  },
  {
   "cell_type": "code",
   "execution_count": 13,
   "metadata": {},
   "outputs": [
    {
     "name": "stderr",
     "output_type": "stream",
     "text": [
      ":FEATURES DONE:                    |█████████████████████| [100%]   00:01  -> (00:00 left)\n",
      ":PAIRWISE DONE:                    |█████████████████████| [100%]   00:21  -> (00:00 left)\n"
     ]
    },
    {
     "name": "stdout",
     "output_type": "stream",
     "text": [
      "Creating Associations graph... DONE!\n"
     ]
    }
   ],
   "source": [
    " wp= sv.analyze(well_production)"
   ]
  },
  {
   "cell_type": "code",
   "execution_count": 14,
   "metadata": {},
   "outputs": [
    {
     "name": "stdout",
     "output_type": "stream",
     "text": [
      "Report wells_production.html was generated! NOTEBOOK/COLAB USERS: no browser will pop up, the report is saved in your notebook/colab files.\n"
     ]
    }
   ],
   "source": [
    "wp.show_html('wells_production.html')"
   ]
  },
  {
   "cell_type": "code",
   "execution_count": 15,
   "metadata": {},
   "outputs": [],
   "source": [
    "perf_treatment=perf_treatment.iloc[:,0:8]"
   ]
  },
  {
   "cell_type": "code",
   "execution_count": 16,
   "metadata": {},
   "outputs": [
    {
     "name": "stdout",
     "output_type": "stream",
     "text": [
      "<class 'pandas.core.frame.DataFrame'>\n",
      "RangeIndex: 445271 entries, 0 to 445270\n",
      "Data columns (total 8 columns):\n",
      " #   Column             Non-Null Count   Dtype         \n",
      "---  ------             --------------   -----         \n",
      " 0   EPAssetsId         445271 non-null  int64         \n",
      " 1   EPAPTId            445271 non-null  int64         \n",
      " 2   ObservationNumber  370719 non-null  float64       \n",
      " 3   ActivityDate       445271 non-null  datetime64[ns]\n",
      " 4   ActivityType       445225 non-null  category      \n",
      " 5   IntervalTop        445271 non-null  float64       \n",
      " 6   IntervalBase       445271 non-null  float64       \n",
      " 7   PerfShots          370719 non-null  float64       \n",
      "dtypes: category(1), datetime64[ns](1), float64(4), int64(2)\n",
      "memory usage: 24.2 MB\n"
     ]
    }
   ],
   "source": [
    "perf_treatment.info()"
   ]
  },
  {
   "cell_type": "code",
   "execution_count": 17,
   "metadata": {},
   "outputs": [
    {
     "data": {
      "text/plain": [
       "[Perforation, Fracture, Hydraulic Fracture, Sand Fracture, Open Hole, ..., Packing Device Capped w/Cement, Chemical Squeeze, Casing Patch, Acid Treatment, Multi-Stage Fracture]\n",
       "Length: 26\n",
       "Categories (25, object): [Perforation, Fracture, Hydraulic Fracture, Sand Fracture, ..., Chemical Squeeze, Casing Patch, Acid Treatment, Multi-Stage Fracture]"
      ]
     },
     "execution_count": 17,
     "metadata": {},
     "output_type": "execute_result"
    }
   ],
   "source": [
    "perf_treatment['ActivityType'].unique()"
   ]
  },
  {
   "cell_type": "code",
   "execution_count": 18,
   "metadata": {},
   "outputs": [
    {
     "name": "stdout",
     "output_type": "stream",
     "text": [
      "{'Perforation': 'Yes', 'Fracture': 'Yes', 'Hydraulic Fracture': 'Yes', 'Sand Fracture': 'Yes', 'Open Hole': 'No', 'Chemical Fracture': 'Yes', 'Other': 'No', 'Acid Squeeze': 'Yes', 'Bridge Plug Set': 'No', 'Acid Wash': 'Yes', 'Acidize': 'Yes', 'Remedial': 'Yes', 'Cement Squeeze': 'Yes', 'Hydra Jet Perforation': 'Yes', 'Slotted Liner': 'Yes', 'Open Hole/Barefoot Completion': 'No', 'Remedial Casing Cementing': 'No', 'Cement Plug': 'Yes', 'Multi-Stage Fracture - Port Closed': 'Yes', 'Bridge Plug - No Cement': 'No', 'Packing Device Capped w/Cement': 'Yes', 'Chemical Squeeze': 'Yes', 'Casing Patch': 'No', 'Acid Treatment': 'Yes', 'Multi-Stage Fracture': 'Yes'}\n"
     ]
    }
   ],
   "source": [
    "## create perf activity type dictionary to classify as Completion Activity (Yes or No) based on our assumptions and intrepretation for the different perftreatment['ActivityType'].\n",
    "perf_activity_dict = {'Perforation': 'Yes',\n",
    " 'Fracture': 'Yes',\n",
    " 'Hydraulic Fracture': 'Yes',\n",
    " 'Sand Fracture': 'Yes',\n",
    " 'Open Hole': 'No',\n",
    " 'Chemical Fracture': 'Yes',\n",
    " 'Other' : 'No',\n",
    " 'Acid Squeeze' : 'Yes',\n",
    " 'Bridge Plug Set' : 'No',\n",
    " 'Acid Wash' : 'Yes',\n",
    " 'Acidize' : 'Yes',\n",
    " 'Remedial' : 'Yes',\n",
    " 'Cement Squeeze' : 'Yes',\n",
    "'Hydra Jet Perforation': 'Yes',\n",
    " 'Slotted Liner' : 'Yes',\n",
    " 'Open Hole/Barefoot Completion' : 'No',\n",
    " 'Remedial Casing Cementing' : 'No',\n",
    " 'Cement Plug' : 'Yes',\n",
    " 'Multi-Stage Fracture - Port Closed': 'Yes',\n",
    " 'Bridge Plug - No Cement' : 'No',\n",
    " 'Packing Device Capped w/Cement' : 'Yes',\n",
    " 'Chemical Squeeze': 'Yes',\n",
    " 'Casing Patch' : 'No',\n",
    " 'Acid Treatment' : 'Yes',\n",
    " 'Multi-Stage Fracture': 'Yes'}\n",
    "\n",
    "print(perf_activity_dict)\n"
   ]
  },
  {
   "cell_type": "code",
   "execution_count": 19,
   "metadata": {},
   "outputs": [],
   "source": [
    "# merge new table to existing perftreatment table\n",
    "perf_treatment['CompletionActivity'] = perf_treatment['ActivityType'].map(perf_activity_dict)"
   ]
  },
  {
   "cell_type": "code",
   "execution_count": 20,
   "metadata": {},
   "outputs": [
    {
     "name": "stderr",
     "output_type": "stream",
     "text": [
      ":FEATURES DONE:                    |█████████████████████| [100%]   00:03  -> (00:00 left)\n",
      ":PAIRWISE DONE:                    |█████████████████████| [100%]   00:04  -> (00:00 left)\n"
     ]
    },
    {
     "name": "stdout",
     "output_type": "stream",
     "text": [
      "Creating Associations graph... DONE!\n"
     ]
    }
   ],
   "source": [
    "pt=sv.analyze(perf_treatment)"
   ]
  },
  {
   "cell_type": "code",
   "execution_count": 21,
   "metadata": {},
   "outputs": [
    {
     "name": "stdout",
     "output_type": "stream",
     "text": [
      "Report perf_treatment.html was generated! NOTEBOOK/COLAB USERS: no browser will pop up, the report is saved in your notebook/colab files.\n"
     ]
    }
   ],
   "source": [
    "pt.show_html('perf_treatment.html')\n"
   ]
  },
  {
   "cell_type": "code",
   "execution_count": 22,
   "metadata": {},
   "outputs": [
    {
     "data": {
      "text/html": [
       "<div>\n",
       "<style scoped>\n",
       "    .dataframe tbody tr th:only-of-type {\n",
       "        vertical-align: middle;\n",
       "    }\n",
       "\n",
       "    .dataframe tbody tr th {\n",
       "        vertical-align: top;\n",
       "    }\n",
       "\n",
       "    .dataframe thead th {\n",
       "        text-align: right;\n",
       "    }\n",
       "</style>\n",
       "<table border=\"1\" class=\"dataframe\">\n",
       "  <thead>\n",
       "    <tr style=\"text-align: right;\">\n",
       "      <th></th>\n",
       "      <th>EPAssetsId</th>\n",
       "      <th>EPAPTId</th>\n",
       "      <th>ObservationNumber</th>\n",
       "      <th>ActivityDate</th>\n",
       "      <th>ActivityType</th>\n",
       "      <th>IntervalTop</th>\n",
       "      <th>IntervalBase</th>\n",
       "      <th>PerfShots</th>\n",
       "      <th>CompletionActivity</th>\n",
       "    </tr>\n",
       "  </thead>\n",
       "  <tbody>\n",
       "    <tr>\n",
       "      <th>0</th>\n",
       "      <td>2598013</td>\n",
       "      <td>3679026</td>\n",
       "      <td>2.0</td>\n",
       "      <td>2017-01-19</td>\n",
       "      <td>Perforation</td>\n",
       "      <td>2263.0</td>\n",
       "      <td>2263.5</td>\n",
       "      <td>20.0</td>\n",
       "      <td>Yes</td>\n",
       "    </tr>\n",
       "    <tr>\n",
       "      <th>1</th>\n",
       "      <td>2599020</td>\n",
       "      <td>3680087</td>\n",
       "      <td>2.0</td>\n",
       "      <td>2017-01-18</td>\n",
       "      <td>Perforation</td>\n",
       "      <td>1435.0</td>\n",
       "      <td>1435.5</td>\n",
       "      <td>20.0</td>\n",
       "      <td>Yes</td>\n",
       "    </tr>\n",
       "    <tr>\n",
       "      <th>2</th>\n",
       "      <td>2585063</td>\n",
       "      <td>3681132</td>\n",
       "      <td>2.0</td>\n",
       "      <td>2015-02-14</td>\n",
       "      <td>Perforation</td>\n",
       "      <td>1794.0</td>\n",
       "      <td>1794.5</td>\n",
       "      <td>20.0</td>\n",
       "      <td>Yes</td>\n",
       "    </tr>\n",
       "    <tr>\n",
       "      <th>3</th>\n",
       "      <td>2589680</td>\n",
       "      <td>3682967</td>\n",
       "      <td>2.0</td>\n",
       "      <td>2015-11-08</td>\n",
       "      <td>Perforation</td>\n",
       "      <td>1878.0</td>\n",
       "      <td>1878.5</td>\n",
       "      <td>20.0</td>\n",
       "      <td>Yes</td>\n",
       "    </tr>\n",
       "    <tr>\n",
       "      <th>4</th>\n",
       "      <td>2590441</td>\n",
       "      <td>3695025</td>\n",
       "      <td>2.0</td>\n",
       "      <td>2016-08-09</td>\n",
       "      <td>Perforation</td>\n",
       "      <td>1957.0</td>\n",
       "      <td>1957.5</td>\n",
       "      <td>20.0</td>\n",
       "      <td>Yes</td>\n",
       "    </tr>\n",
       "  </tbody>\n",
       "</table>\n",
       "</div>"
      ],
      "text/plain": [
       "   EPAssetsId  EPAPTId  ObservationNumber ActivityDate ActivityType  \\\n",
       "0     2598013  3679026                2.0   2017-01-19  Perforation   \n",
       "1     2599020  3680087                2.0   2017-01-18  Perforation   \n",
       "2     2585063  3681132                2.0   2015-02-14  Perforation   \n",
       "3     2589680  3682967                2.0   2015-11-08  Perforation   \n",
       "4     2590441  3695025                2.0   2016-08-09  Perforation   \n",
       "\n",
       "   IntervalTop  IntervalBase  PerfShots CompletionActivity  \n",
       "0       2263.0        2263.5       20.0                Yes  \n",
       "1       1435.0        1435.5       20.0                Yes  \n",
       "2       1794.0        1794.5       20.0                Yes  \n",
       "3       1878.0        1878.5       20.0                Yes  \n",
       "4       1957.0        1957.5       20.0                Yes  "
      ]
     },
     "execution_count": 22,
     "metadata": {},
     "output_type": "execute_result"
    }
   ],
   "source": [
    "perf_treatment.head()"
   ]
  },
  {
   "cell_type": "code",
   "execution_count": 23,
   "metadata": {},
   "outputs": [
    {
     "data": {
      "text/plain": [
       "[Yes, No, NaN]\n",
       "Categories (2, object): [Yes, No]"
      ]
     },
     "execution_count": 23,
     "metadata": {},
     "output_type": "execute_result"
    }
   ],
   "source": [
    "perf_treatment['CompletionActivity'] = perf_treatment['CompletionActivity'].astype('category')\n",
    "\n",
    "perf_treatment['CompletionActivity'].unique()"
   ]
  },
  {
   "cell_type": "code",
   "execution_count": 24,
   "metadata": {},
   "outputs": [
    {
     "name": "stdout",
     "output_type": "stream",
     "text": [
      "<class 'pandas.core.frame.DataFrame'>\n",
      "RangeIndex: 445271 entries, 0 to 445270\n",
      "Data columns (total 9 columns):\n",
      " #   Column              Non-Null Count   Dtype         \n",
      "---  ------              --------------   -----         \n",
      " 0   EPAssetsId          445271 non-null  int64         \n",
      " 1   EPAPTId             445271 non-null  int64         \n",
      " 2   ObservationNumber   370719 non-null  float64       \n",
      " 3   ActivityDate        445271 non-null  datetime64[ns]\n",
      " 4   ActivityType        445225 non-null  category      \n",
      " 5   IntervalTop         445271 non-null  float64       \n",
      " 6   IntervalBase        445271 non-null  float64       \n",
      " 7   PerfShots           370719 non-null  float64       \n",
      " 8   CompletionActivity  445225 non-null  category      \n",
      "dtypes: category(2), datetime64[ns](1), float64(4), int64(2)\n",
      "memory usage: 24.6 MB\n"
     ]
    }
   ],
   "source": [
    "perf_treatment.info()"
   ]
  },
  {
   "cell_type": "markdown",
   "metadata": {},
   "source": [
    "## Create subsets of Perf Treatment to obtain wells which have Completion Activity as Yes, No or NaN"
   ]
  },
  {
   "cell_type": "code",
   "execution_count": 25,
   "metadata": {},
   "outputs": [
    {
     "name": "stdout",
     "output_type": "stream",
     "text": [
      "<class 'pandas.core.frame.DataFrame'>\n",
      "RangeIndex: 445271 entries, 0 to 445270\n",
      "Data columns (total 3 columns):\n",
      " #   Column              Non-Null Count   Dtype         \n",
      "---  ------              --------------   -----         \n",
      " 0   EPAssetsId          445271 non-null  int64         \n",
      " 1   CompletionActivity  445225 non-null  category      \n",
      " 2   ActivityDate        445271 non-null  datetime64[ns]\n",
      "dtypes: category(1), datetime64[ns](1), int64(1)\n",
      "memory usage: 7.2 MB\n",
      "None\n",
      "<class 'pandas.core.frame.DataFrame'>\n",
      "Int64Index: 2316 entries, 275701 to 279222\n",
      "Data columns (total 3 columns):\n",
      " #   Column              Non-Null Count  Dtype         \n",
      "---  ------              --------------  -----         \n",
      " 0   EPAssetsId          2316 non-null   int64         \n",
      " 1   CompletionActivity  2316 non-null   category      \n",
      " 2   ActivityDate        2316 non-null   datetime64[ns]\n",
      "dtypes: category(1), datetime64[ns](1), int64(1)\n",
      "memory usage: 56.6 KB\n",
      "None\n",
      "<class 'pandas.core.frame.DataFrame'>\n",
      "Int64Index: 442909 entries, 0 to 445270\n",
      "Data columns (total 3 columns):\n",
      " #   Column              Non-Null Count   Dtype         \n",
      "---  ------              --------------   -----         \n",
      " 0   EPAssetsId          442909 non-null  int64         \n",
      " 1   CompletionActivity  442909 non-null  category      \n",
      " 2   ActivityDate        442909 non-null  datetime64[ns]\n",
      "dtypes: category(1), datetime64[ns](1), int64(1)\n",
      "memory usage: 10.6 MB\n",
      "None\n"
     ]
    }
   ],
   "source": [
    "perf_treatment_subset = perf_treatment[['EPAssetsId', 'CompletionActivity', 'ActivityDate']]\n",
    "\n",
    "perf_treatment_subset_null_values = perf_treatment_subset[pd.isnull(perf_treatment_subset['CompletionActivity'])]\n",
    "\n",
    "perf_treatment_subset2 = perf_treatment_subset[perf_treatment_subset['CompletionActivity'] !='Yes']\n",
    "\n",
    "perf_treatment_subset1 = perf_treatment_subset[perf_treatment_subset['CompletionActivity'] =='Yes']\n",
    "\n",
    "print(perf_treatment_subset.info())\n",
    "\n",
    "print(perf_treatment_subset2.info())\n",
    "\n",
    "print(perf_treatment_subset1.info())"
   ]
  },
  {
   "cell_type": "code",
   "execution_count": 26,
   "metadata": {},
   "outputs": [
    {
     "name": "stdout",
     "output_type": "stream",
     "text": [
      "<class 'pandas.core.frame.DataFrame'>\n",
      "RangeIndex: 445271 entries, 0 to 445270\n",
      "Data columns (total 3 columns):\n",
      " #   Column              Non-Null Count   Dtype         \n",
      "---  ------              --------------   -----         \n",
      " 0   EPAssetsId          445271 non-null  int64         \n",
      " 1   CompletionActivity  445225 non-null  category      \n",
      " 2   ActivityDate        445271 non-null  datetime64[ns]\n",
      "dtypes: category(1), datetime64[ns](1), int64(1)\n",
      "memory usage: 7.2 MB\n",
      "None\n",
      "<class 'pandas.core.frame.DataFrame'>\n",
      "Int64Index: 445225 entries, 0 to 445270\n",
      "Data columns (total 3 columns):\n",
      " #   Column              Non-Null Count   Dtype         \n",
      "---  ------              --------------   -----         \n",
      " 0   EPAssetsId          445225 non-null  int64         \n",
      " 1   CompletionActivity  445225 non-null  category      \n",
      " 2   ActivityDate        445225 non-null  datetime64[ns]\n",
      "dtypes: category(1), datetime64[ns](1), int64(1)\n",
      "memory usage: 10.6 MB\n",
      "None\n",
      "<class 'pandas.core.frame.DataFrame'>\n",
      "Int64Index: 2316 entries, 275701 to 279222\n",
      "Data columns (total 3 columns):\n",
      " #   Column              Non-Null Count  Dtype         \n",
      "---  ------              --------------  -----         \n",
      " 0   EPAssetsId          2316 non-null   int64         \n",
      " 1   CompletionActivity  2316 non-null   category      \n",
      " 2   ActivityDate        2316 non-null   datetime64[ns]\n",
      "dtypes: category(1), datetime64[ns](1), int64(1)\n",
      "memory usage: 56.6 KB\n",
      "None\n",
      "<class 'pandas.core.frame.DataFrame'>\n",
      "Int64Index: 442909 entries, 0 to 445270\n",
      "Data columns (total 3 columns):\n",
      " #   Column              Non-Null Count   Dtype         \n",
      "---  ------              --------------   -----         \n",
      " 0   EPAssetsId          442909 non-null  int64         \n",
      " 1   CompletionActivity  442909 non-null  category      \n",
      " 2   ActivityDate        442909 non-null  datetime64[ns]\n",
      "dtypes: category(1), datetime64[ns](1), int64(1)\n",
      "memory usage: 10.6 MB\n",
      "None\n"
     ]
    }
   ],
   "source": [
    "perf_treatment_subset = perf_treatment[['EPAssetsId', 'CompletionActivity', 'ActivityDate']]\n",
    "\n",
    "perf_treatment_subset_null_values = perf_treatment_subset[pd.isnull(perf_treatment_subset['CompletionActivity'])]\n",
    "\n",
    "perf_treatment_subset_notnull_values = perf_treatment_subset[~pd.isnull(perf_treatment_subset['CompletionActivity'])]\n",
    "\n",
    "perf_treatment_subset2 = perf_treatment_subset_notnull_values[perf_treatment_subset_notnull_values['CompletionActivity'] !='Yes']\n",
    "\n",
    "perf_treatment_subset1 = perf_treatment_subset_notnull_values[perf_treatment_subset_notnull_values['CompletionActivity'] =='Yes']\n",
    "\n",
    "print(perf_treatment_subset.info())\n",
    "print (perf_treatment_subset_notnull_values.info())\n",
    "print(perf_treatment_subset2.info())\n",
    "\n",
    "print(perf_treatment_subset1.info())"
   ]
  },
  {
   "cell_type": "code",
   "execution_count": 27,
   "metadata": {},
   "outputs": [
    {
     "name": "stdout",
     "output_type": "stream",
     "text": [
      "10108\n",
      "9906\n",
      "2129\n",
      "46\n"
     ]
    }
   ],
   "source": [
    "print(perf_treatment_subset['EPAssetsId'].nunique())\n",
    "\n",
    "print(perf_treatment_subset1['EPAssetsId'].nunique())\n",
    "\n",
    "print(perf_treatment_subset2['EPAssetsId'].nunique())\n",
    "\n",
    "print(perf_treatment_subset_null_values['EPAssetsId'].nunique())"
   ]
  },
  {
   "cell_type": "code",
   "execution_count": 28,
   "metadata": {},
   "outputs": [
    {
     "data": {
      "image/png": "[encoded data removed]",
      "text/plain": [
       "<Figure size 600x400 with 1 Axes>"
      ]
     },
     "metadata": {},
     "output_type": "display_data"
    }
   ],
   "source": [
    "## venn diagram showing intersection of EPAssetsId between Perftreatment (Completion Activity Yes, No or NaN)\n",
    "\n",
    "if perf_treatment_subset['EPAssetsId'].nunique() > perf_treatment_subset1['EPAssetsId'].nunique():\n",
    "    v=venn3([set(perf_treatment_subset1['EPAssetsId']), set(perf_treatment_subset2['EPAssetsId']), set(perf_treatment_subset_null_values['EPAssetsId'])], set_labels=['Yes', 'No', 'NaN'])\n",
    "    c=venn3_circles([set(perf_treatment_subset1['EPAssetsId']), set(perf_treatment_subset2['EPAssetsId']), set(perf_treatment_subset_null_values['EPAssetsId'])], linestyle='dotted', linewidth=0.5)\n",
    "    plt.title('VennDiagram for number of wells by Completion Activity', fontsize=14)\n",
    "    plt.show()\n",
    "else: \n",
    "    print('No wells identified as potential DUC wells')\n"
   ]
  },
  {
   "cell_type": "code",
   "execution_count": 29,
   "metadata": {},
   "outputs": [
    {
     "name": "stdout",
     "output_type": "stream",
     "text": [
      "Potential number of DUC wells based on Completion Activity only =  202\n"
     ]
    }
   ],
   "source": [
    "# calculate number of wells with Completion Activity with only No or NaN\n",
    "\n",
    "if perf_treatment_subset['EPAssetsId'].nunique() > perf_treatment_subset1['EPAssetsId'].nunique():\n",
    "    Potential_DUC_wells = perf_treatment_subset['EPAssetsId'].nunique() - perf_treatment_subset1['EPAssetsId'].nunique()\n",
    "    print('Potential number of DUC wells based on Completion Activity only = ', Potential_DUC_wells)\n",
    "else: \n",
    "    print('No wells identified as potential DUC wells')"
   ]
  },
  {
   "cell_type": "markdown",
   "metadata": {},
   "source": [
    "## Clean wellheader data "
   ]
  },
  {
   "cell_type": "code",
   "execution_count": 30,
   "metadata": {},
   "outputs": [
    {
     "name": "stdout",
     "output_type": "stream",
     "text": [
      "well columns to drop as follows: \n",
      "['CompletionDate', 'UnitID', 'UnitFlag', 'UnitName', 'Confidential', 'RegulatoryAgency', 'ConfidentialReleaseDate', 'AbandonDate', 'SurfAbandonDate', 'OSArea', 'OSDeposit', 'Municipality', 'CurrentStatus']\n"
     ]
    }
   ],
   "source": [
    "##create list of columns to be dropped\n",
    "\n",
    "dropcols_wellheader= ['CompletionDate','UnitID', 'UnitFlag', 'UnitName', 'Confidential', 'RegulatoryAgency', 'ConfidentialReleaseDate', 'AbandonDate', 'SurfAbandonDate', 'OSArea', 'OSDeposit', 'Municipality', 'CurrentStatus']\n",
    "\n",
    "print('well columns to drop as follows:' + ' ')\n",
    "print(dropcols_wellheader)"
   ]
  },
  {
   "cell_type": "code",
   "execution_count": 31,
   "metadata": {},
   "outputs": [
    {
     "data": {
      "text/plain": [
       "(10437, 72)"
      ]
     },
     "execution_count": 31,
     "metadata": {},
     "output_type": "execute_result"
    }
   ],
   "source": [
    "## drop columns selected\n",
    "well_header_df = well_header.drop(columns=dropcols_wellheader, axis=1, inplace=False)\n",
    "\n",
    "## Check number of rows and columns\n",
    "well_header_df.shape"
   ]
  },
  {
   "cell_type": "code",
   "execution_count": 32,
   "metadata": {},
   "outputs": [],
   "source": [
    "well_header_df.to_csv(r\"C:\\Users\\ijeke\\Documents\\Datathon\\Complete setWellheader_df\")"
   ]
  },
  {
   "cell_type": "markdown",
   "metadata": {},
   "source": [
    "## Create venn diagram showing intersection between datasets"
   ]
  },
  {
   "cell_type": "code",
   "execution_count": 33,
   "metadata": {},
   "outputs": [
    {
     "data": {
      "image/png": "[encoded data removed]",
      "text/plain": [
       "<Figure size 600x400 with 1 Axes>"
      ]
     },
     "metadata": {},
     "output_type": "display_data"
    }
   ],
   "source": [
    "#venn diagram showing intersection of EPAssetsId between Wellheader and Production\n",
    "venn2_unweighted([set(well_header_df['EPAssetsId']), set(well_production['EPAssetsId'])], set_labels=['Wellheader', 'Production'], set_colors=['purple', 'skyblue'])\n",
    "#c=venn2_circles([set(well_header_df['EPAssetsId']), set(perf_treatment['EPAssetsId']), set(well_production['EPAssetsId'])], linestyle='dotted', linewidth=1)\n",
    "\n",
    "plt.title('VennDiagram for number of wells')\n",
    "plt.show()"
   ]
  },
  {
   "cell_type": "code",
   "execution_count": 34,
   "metadata": {},
   "outputs": [
    {
     "data": {
      "image/png": "[encoded data removed]",
      "text/plain": [
       "<Figure size 600x400 with 1 Axes>"
      ]
     },
     "metadata": {},
     "output_type": "display_data"
    }
   ],
   "source": [
    "#venn diagram showing intersection of EPAssetsId between Wellheader and PerfTreatment\n",
    "venn2_unweighted([set(well_header_df['EPAssetsId']), set(perf_treatment['EPAssetsId'])], set_labels=['Wellheader', 'PerfTreatment'])\n",
    "plt.title('VennDiagram for number of wells')\n",
    "plt.show()"
   ]
  },
  {
   "cell_type": "code",
   "execution_count": 35,
   "metadata": {},
   "outputs": [
    {
     "data": {
      "image/png": "[encoded data removed]",
      "text/plain": [
       "<IPython.core.display.Image object>"
      ]
     },
     "execution_count": 35,
     "metadata": {
      "image/png": {
       "height": 150,
       "width": 150
      }
     },
     "output_type": "execute_result"
    }
   ],
   "source": [
    "#### Display truth table as venn diagram gotten from \n",
    "### Wikepedia at https://en.wikipedia.org/wiki/Venn_diagram#/media/File:Venn3tab.svg to help intrepret chart below. \n",
    "\n",
    "from IPython.display import Image\n",
    "Image(filename=\"1024px-Venn3tab.svg.png\", width=150, height=150)"
   ]
  },
  {
   "cell_type": "code",
   "execution_count": 36,
   "metadata": {},
   "outputs": [
    {
     "name": "stderr",
     "output_type": "stream",
     "text": [
      "C:\\Users\\ijeke\\Anaconda3\\lib\\site-packages\\matplotlib_venn\\_venn3.py:117: UserWarning: Bad circle positioning\n",
      "  warnings.warn(\"Bad circle positioning\")\n"
     ]
    },
    {
     "data": {
      "image/png": "[encoded data removed]",
      "text/plain": [
       "<Figure size 600x400 with 1 Axes>"
      ]
     },
     "metadata": {},
     "output_type": "display_data"
    }
   ],
   "source": [
    "## venn diagram showing intersection of EPAssetsId between Wellheader, Perforation and Production datasets\n",
    "v=venn3([set(well_header_df['EPAssetsId']), set(perf_treatment['EPAssetsId']), set(well_production['EPAssetsId'])], set_labels=['Wellheader', 'PerfTreatment', 'Production'])\n",
    "c=venn3_circles([set(well_header_df['EPAssetsId']), set(perf_treatment['EPAssetsId']), set(well_production['EPAssetsId'])], linestyle='dotted', linewidth=0.5)\n",
    "plt.title('VennDiagram for number of wells', fontsize=14)\n",
    "\n",
    "#https://en.wikipedia.org/wiki/Venn_diagram (reference for calling id for the venn diagram for customization)\n",
    "v.get_patch_by_id('111').set_color('orange')\n",
    "plt.annotate('Possible DUC wells', xy=v.get_label_by_id('100').get_position(),xytext=(-70,-70),\n",
    "ha='center', textcoords='offset points', bbox=dict(boxstyle='round,pad=0.5', fc='gray', alpha=0.1),\n",
    "arrowprops=dict(arrowstyle='->', connectionstyle='arc3,rad=0.5',color='gray'))\n",
    "\n",
    "plt.show()\n",
    "\n"
   ]
  },
  {
   "cell_type": "markdown",
   "metadata": {},
   "source": [
    "#### intrepreting data above \n",
    "#### Number of wells common to all three datasets = 10087\n",
    "#### The number of the wells contained only in the wellheader dataset = 30\n",
    "#### The number of the wells contained only in the perftreatment dataset = 0 \n",
    "#### The number of wells contained only in the production dataset = 0\n",
    "#### The remainder of the wells common to both wellheader and perftreatment only  = 21\n",
    "#### The remainder of the wells common to both wellheader and production only = 299\n",
    "#### The remainder of the wells common to both production and perftreatment only = 0"
   ]
  },
  {
   "cell_type": "markdown",
   "metadata": {},
   "source": [
    "# Modified Dataframes"
   ]
  },
  {
   "cell_type": "code",
   "execution_count": 37,
   "metadata": {},
   "outputs": [],
   "source": [
    "## add year and month column to the well production data \n",
    "\n",
    "well_production['Year'] = well_production['ProdPeriod'].dt.year\n",
    "\n",
    "well_production['Month'] = well_production['ProdPeriod'].dt.month\n",
    "\n",
    "well_production['Month_Name'] = well_production['ProdPeriod'].dt.month_name()"
   ]
  },
  {
   "cell_type": "markdown",
   "metadata": {},
   "source": [
    "## Check for duplicate values in production dataframe "
   ]
  },
  {
   "cell_type": "code",
   "execution_count": 38,
   "metadata": {},
   "outputs": [
    {
     "name": "stdout",
     "output_type": "stream",
     "text": [
      "317\n",
      "\n",
      "\n",
      "440\n",
      "\n",
      "\n",
      "378\n",
      "\n",
      "\n",
      "281\n",
      "\n",
      "\n",
      "0\n"
     ]
    }
   ],
   "source": [
    "# check for number of duplicates in the production dataframe\n",
    "def check_duplicates_in_wellproduction(ProdType):\n",
    "    x = well_production[well_production['ProdType']== ProdType]\n",
    "    y = x[x.duplicated(subset=['EPAssetsId', \"ProdPeriod\"])]\n",
    "    print(y['EPAssetsId'].nunique())\n",
    "\n",
    "duplicate_values_for_gas_production = check_duplicates_in_wellproduction('Gas Production (MMcf)')\n",
    "print('\\n')\n",
    "duplicate_values_for_prod_hrs = check_duplicates_in_wellproduction('Production Hours')\n",
    "print('\\n')\n",
    "duplicate_values_for_oil_production = check_duplicates_in_wellproduction('Oil Production (Bbls)')\n",
    "print('\\n')\n",
    "duplicate_values_for_water_production = check_duplicates_in_wellproduction('Water Production (Bbls)')\n",
    "print('\\n')\n",
    "duplicate_values_for_condensate_production = check_duplicates_in_wellproduction('Condensate Production (Bbls)')"
   ]
  },
  {
   "cell_type": "code",
   "execution_count": 39,
   "metadata": {},
   "outputs": [
    {
     "data": {
      "text/html": [
       "<div>\n",
       "<style scoped>\n",
       "    .dataframe tbody tr th:only-of-type {\n",
       "        vertical-align: middle;\n",
       "    }\n",
       "\n",
       "    .dataframe tbody tr th {\n",
       "        vertical-align: top;\n",
       "    }\n",
       "\n",
       "    .dataframe thead th {\n",
       "        text-align: right;\n",
       "    }\n",
       "</style>\n",
       "<table border=\"1\" class=\"dataframe\">\n",
       "  <thead>\n",
       "    <tr style=\"text-align: right;\">\n",
       "      <th></th>\n",
       "      <th>EPAssetsId</th>\n",
       "      <th>ProdPeriod</th>\n",
       "      <th>ProdType</th>\n",
       "      <th>Volume</th>\n",
       "      <th>Year</th>\n",
       "      <th>Month</th>\n",
       "      <th>Month_Name</th>\n",
       "    </tr>\n",
       "  </thead>\n",
       "  <tbody>\n",
       "    <tr>\n",
       "      <th>192637</th>\n",
       "      <td>1164075</td>\n",
       "      <td>2017-05-31</td>\n",
       "      <td>Production Hours</td>\n",
       "      <td>196.0</td>\n",
       "      <td>2017</td>\n",
       "      <td>5</td>\n",
       "      <td>May</td>\n",
       "    </tr>\n",
       "    <tr>\n",
       "      <th>87325</th>\n",
       "      <td>1164075</td>\n",
       "      <td>2017-06-30</td>\n",
       "      <td>Production Hours</td>\n",
       "      <td>720.0</td>\n",
       "      <td>2017</td>\n",
       "      <td>6</td>\n",
       "      <td>June</td>\n",
       "    </tr>\n",
       "    <tr>\n",
       "      <th>59149</th>\n",
       "      <td>1164075</td>\n",
       "      <td>2017-07-31</td>\n",
       "      <td>Production Hours</td>\n",
       "      <td>744.0</td>\n",
       "      <td>2017</td>\n",
       "      <td>7</td>\n",
       "      <td>July</td>\n",
       "    </tr>\n",
       "    <tr>\n",
       "      <th>61413</th>\n",
       "      <td>1164075</td>\n",
       "      <td>2017-08-31</td>\n",
       "      <td>Production Hours</td>\n",
       "      <td>744.0</td>\n",
       "      <td>2017</td>\n",
       "      <td>8</td>\n",
       "      <td>August</td>\n",
       "    </tr>\n",
       "    <tr>\n",
       "      <th>90952</th>\n",
       "      <td>1164075</td>\n",
       "      <td>2017-09-30</td>\n",
       "      <td>Production Hours</td>\n",
       "      <td>720.0</td>\n",
       "      <td>2017</td>\n",
       "      <td>9</td>\n",
       "      <td>September</td>\n",
       "    </tr>\n",
       "    <tr>\n",
       "      <th>177702</th>\n",
       "      <td>1164075</td>\n",
       "      <td>2017-10-31</td>\n",
       "      <td>Production Hours</td>\n",
       "      <td>456.0</td>\n",
       "      <td>2017</td>\n",
       "      <td>10</td>\n",
       "      <td>October</td>\n",
       "    </tr>\n",
       "    <tr>\n",
       "      <th>177391</th>\n",
       "      <td>1164075</td>\n",
       "      <td>2017-10-31</td>\n",
       "      <td>Production Hours</td>\n",
       "      <td>266.0</td>\n",
       "      <td>2017</td>\n",
       "      <td>10</td>\n",
       "      <td>October</td>\n",
       "    </tr>\n",
       "    <tr>\n",
       "      <th>93433</th>\n",
       "      <td>1164075</td>\n",
       "      <td>2017-11-30</td>\n",
       "      <td>Production Hours</td>\n",
       "      <td>720.0</td>\n",
       "      <td>2017</td>\n",
       "      <td>11</td>\n",
       "      <td>November</td>\n",
       "    </tr>\n",
       "    <tr>\n",
       "      <th>56849</th>\n",
       "      <td>1164075</td>\n",
       "      <td>2017-12-31</td>\n",
       "      <td>Production Hours</td>\n",
       "      <td>744.0</td>\n",
       "      <td>2017</td>\n",
       "      <td>12</td>\n",
       "      <td>December</td>\n",
       "    </tr>\n",
       "    <tr>\n",
       "      <th>54362</th>\n",
       "      <td>1164075</td>\n",
       "      <td>2018-01-31</td>\n",
       "      <td>Production Hours</td>\n",
       "      <td>744.0</td>\n",
       "      <td>2018</td>\n",
       "      <td>1</td>\n",
       "      <td>January</td>\n",
       "    </tr>\n",
       "    <tr>\n",
       "      <th>312285</th>\n",
       "      <td>1164075</td>\n",
       "      <td>2018-02-28</td>\n",
       "      <td>Production Hours</td>\n",
       "      <td>672.0</td>\n",
       "      <td>2018</td>\n",
       "      <td>2</td>\n",
       "      <td>February</td>\n",
       "    </tr>\n",
       "    <tr>\n",
       "      <th>206714</th>\n",
       "      <td>1164075</td>\n",
       "      <td>2018-03-31</td>\n",
       "      <td>Production Hours</td>\n",
       "      <td>735.0</td>\n",
       "      <td>2018</td>\n",
       "      <td>3</td>\n",
       "      <td>March</td>\n",
       "    </tr>\n",
       "    <tr>\n",
       "      <th>97050</th>\n",
       "      <td>1164075</td>\n",
       "      <td>2018-04-30</td>\n",
       "      <td>Production Hours</td>\n",
       "      <td>720.0</td>\n",
       "      <td>2018</td>\n",
       "      <td>4</td>\n",
       "      <td>April</td>\n",
       "    </tr>\n",
       "    <tr>\n",
       "      <th>45631</th>\n",
       "      <td>1164075</td>\n",
       "      <td>2018-05-31</td>\n",
       "      <td>Production Hours</td>\n",
       "      <td>744.0</td>\n",
       "      <td>2018</td>\n",
       "      <td>5</td>\n",
       "      <td>May</td>\n",
       "    </tr>\n",
       "    <tr>\n",
       "      <th>99310</th>\n",
       "      <td>1164075</td>\n",
       "      <td>2018-06-30</td>\n",
       "      <td>Production Hours</td>\n",
       "      <td>720.0</td>\n",
       "      <td>2018</td>\n",
       "      <td>6</td>\n",
       "      <td>June</td>\n",
       "    </tr>\n",
       "    <tr>\n",
       "      <th>48643</th>\n",
       "      <td>1164075</td>\n",
       "      <td>2018-07-31</td>\n",
       "      <td>Production Hours</td>\n",
       "      <td>744.0</td>\n",
       "      <td>2018</td>\n",
       "      <td>7</td>\n",
       "      <td>July</td>\n",
       "    </tr>\n",
       "    <tr>\n",
       "      <th>30452</th>\n",
       "      <td>1164075</td>\n",
       "      <td>2018-08-31</td>\n",
       "      <td>Production Hours</td>\n",
       "      <td>744.0</td>\n",
       "      <td>2018</td>\n",
       "      <td>8</td>\n",
       "      <td>August</td>\n",
       "    </tr>\n",
       "    <tr>\n",
       "      <th>102569</th>\n",
       "      <td>1164075</td>\n",
       "      <td>2018-09-30</td>\n",
       "      <td>Production Hours</td>\n",
       "      <td>720.0</td>\n",
       "      <td>2018</td>\n",
       "      <td>9</td>\n",
       "      <td>September</td>\n",
       "    </tr>\n",
       "    <tr>\n",
       "      <th>41219</th>\n",
       "      <td>1164075</td>\n",
       "      <td>2018-10-31</td>\n",
       "      <td>Production Hours</td>\n",
       "      <td>744.0</td>\n",
       "      <td>2018</td>\n",
       "      <td>10</td>\n",
       "      <td>October</td>\n",
       "    </tr>\n",
       "    <tr>\n",
       "      <th>105222</th>\n",
       "      <td>1164075</td>\n",
       "      <td>2018-11-30</td>\n",
       "      <td>Production Hours</td>\n",
       "      <td>720.0</td>\n",
       "      <td>2018</td>\n",
       "      <td>11</td>\n",
       "      <td>November</td>\n",
       "    </tr>\n",
       "    <tr>\n",
       "      <th>305730</th>\n",
       "      <td>1164075</td>\n",
       "      <td>2018-12-31</td>\n",
       "      <td>Production Hours</td>\n",
       "      <td>743.0</td>\n",
       "      <td>2018</td>\n",
       "      <td>12</td>\n",
       "      <td>December</td>\n",
       "    </tr>\n",
       "    <tr>\n",
       "      <th>248285</th>\n",
       "      <td>1164075</td>\n",
       "      <td>2019-01-31</td>\n",
       "      <td>Production Hours</td>\n",
       "      <td>737.0</td>\n",
       "      <td>2019</td>\n",
       "      <td>1</td>\n",
       "      <td>January</td>\n",
       "    </tr>\n",
       "    <tr>\n",
       "      <th>316412</th>\n",
       "      <td>1164075</td>\n",
       "      <td>2019-02-28</td>\n",
       "      <td>Production Hours</td>\n",
       "      <td>672.0</td>\n",
       "      <td>2019</td>\n",
       "      <td>2</td>\n",
       "      <td>February</td>\n",
       "    </tr>\n",
       "    <tr>\n",
       "      <th>51812</th>\n",
       "      <td>1164075</td>\n",
       "      <td>2019-03-31</td>\n",
       "      <td>Production Hours</td>\n",
       "      <td>744.0</td>\n",
       "      <td>2019</td>\n",
       "      <td>3</td>\n",
       "      <td>March</td>\n",
       "    </tr>\n",
       "    <tr>\n",
       "      <th>115015</th>\n",
       "      <td>1164075</td>\n",
       "      <td>2019-04-30</td>\n",
       "      <td>Production Hours</td>\n",
       "      <td>720.0</td>\n",
       "      <td>2019</td>\n",
       "      <td>4</td>\n",
       "      <td>April</td>\n",
       "    </tr>\n",
       "    <tr>\n",
       "      <th>21153</th>\n",
       "      <td>1164075</td>\n",
       "      <td>2019-05-31</td>\n",
       "      <td>Production Hours</td>\n",
       "      <td>744.0</td>\n",
       "      <td>2019</td>\n",
       "      <td>5</td>\n",
       "      <td>May</td>\n",
       "    </tr>\n",
       "    <tr>\n",
       "      <th>109565</th>\n",
       "      <td>1164075</td>\n",
       "      <td>2019-06-30</td>\n",
       "      <td>Production Hours</td>\n",
       "      <td>720.0</td>\n",
       "      <td>2019</td>\n",
       "      <td>6</td>\n",
       "      <td>June</td>\n",
       "    </tr>\n",
       "    <tr>\n",
       "      <th>25133</th>\n",
       "      <td>1164075</td>\n",
       "      <td>2019-07-31</td>\n",
       "      <td>Production Hours</td>\n",
       "      <td>744.0</td>\n",
       "      <td>2019</td>\n",
       "      <td>7</td>\n",
       "      <td>July</td>\n",
       "    </tr>\n",
       "    <tr>\n",
       "      <th>10993</th>\n",
       "      <td>1164075</td>\n",
       "      <td>2019-08-31</td>\n",
       "      <td>Production Hours</td>\n",
       "      <td>744.0</td>\n",
       "      <td>2019</td>\n",
       "      <td>8</td>\n",
       "      <td>August</td>\n",
       "    </tr>\n",
       "    <tr>\n",
       "      <th>120734</th>\n",
       "      <td>1164075</td>\n",
       "      <td>2019-09-30</td>\n",
       "      <td>Production Hours</td>\n",
       "      <td>720.0</td>\n",
       "      <td>2019</td>\n",
       "      <td>9</td>\n",
       "      <td>September</td>\n",
       "    </tr>\n",
       "    <tr>\n",
       "      <th>6296</th>\n",
       "      <td>1164075</td>\n",
       "      <td>2019-10-31</td>\n",
       "      <td>Production Hours</td>\n",
       "      <td>744.0</td>\n",
       "      <td>2019</td>\n",
       "      <td>10</td>\n",
       "      <td>October</td>\n",
       "    </tr>\n",
       "    <tr>\n",
       "      <th>124844</th>\n",
       "      <td>1164075</td>\n",
       "      <td>2019-11-30</td>\n",
       "      <td>Production Hours</td>\n",
       "      <td>720.0</td>\n",
       "      <td>2019</td>\n",
       "      <td>11</td>\n",
       "      <td>November</td>\n",
       "    </tr>\n",
       "    <tr>\n",
       "      <th>459</th>\n",
       "      <td>1164075</td>\n",
       "      <td>2019-12-31</td>\n",
       "      <td>Production Hours</td>\n",
       "      <td>744.0</td>\n",
       "      <td>2019</td>\n",
       "      <td>12</td>\n",
       "      <td>December</td>\n",
       "    </tr>\n",
       "    <tr>\n",
       "      <th>37341</th>\n",
       "      <td>1164075</td>\n",
       "      <td>2020-01-31</td>\n",
       "      <td>Production Hours</td>\n",
       "      <td>744.0</td>\n",
       "      <td>2020</td>\n",
       "      <td>1</td>\n",
       "      <td>January</td>\n",
       "    </tr>\n",
       "  </tbody>\n",
       "</table>\n",
       "</div>"
      ],
      "text/plain": [
       "        EPAssetsId ProdPeriod          ProdType  Volume  Year  Month  \\\n",
       "192637     1164075 2017-05-31  Production Hours   196.0  2017      5   \n",
       "87325      1164075 2017-06-30  Production Hours   720.0  2017      6   \n",
       "59149      1164075 2017-07-31  Production Hours   744.0  2017      7   \n",
       "61413      1164075 2017-08-31  Production Hours   744.0  2017      8   \n",
       "90952      1164075 2017-09-30  Production Hours   720.0  2017      9   \n",
       "177702     1164075 2017-10-31  Production Hours   456.0  2017     10   \n",
       "177391     1164075 2017-10-31  Production Hours   266.0  2017     10   \n",
       "93433      1164075 2017-11-30  Production Hours   720.0  2017     11   \n",
       "56849      1164075 2017-12-31  Production Hours   744.0  2017     12   \n",
       "54362      1164075 2018-01-31  Production Hours   744.0  2018      1   \n",
       "312285     1164075 2018-02-28  Production Hours   672.0  2018      2   \n",
       "206714     1164075 2018-03-31  Production Hours   735.0  2018      3   \n",
       "97050      1164075 2018-04-30  Production Hours   720.0  2018      4   \n",
       "45631      1164075 2018-05-31  Production Hours   744.0  2018      5   \n",
       "99310      1164075 2018-06-30  Production Hours   720.0  2018      6   \n",
       "48643      1164075 2018-07-31  Production Hours   744.0  2018      7   \n",
       "30452      1164075 2018-08-31  Production Hours   744.0  2018      8   \n",
       "102569     1164075 2018-09-30  Production Hours   720.0  2018      9   \n",
       "41219      1164075 2018-10-31  Production Hours   744.0  2018     10   \n",
       "105222     1164075 2018-11-30  Production Hours   720.0  2018     11   \n",
       "305730     1164075 2018-12-31  Production Hours   743.0  2018     12   \n",
       "248285     1164075 2019-01-31  Production Hours   737.0  2019      1   \n",
       "316412     1164075 2019-02-28  Production Hours   672.0  2019      2   \n",
       "51812      1164075 2019-03-31  Production Hours   744.0  2019      3   \n",
       "115015     1164075 2019-04-30  Production Hours   720.0  2019      4   \n",
       "21153      1164075 2019-05-31  Production Hours   744.0  2019      5   \n",
       "109565     1164075 2019-06-30  Production Hours   720.0  2019      6   \n",
       "25133      1164075 2019-07-31  Production Hours   744.0  2019      7   \n",
       "10993      1164075 2019-08-31  Production Hours   744.0  2019      8   \n",
       "120734     1164075 2019-09-30  Production Hours   720.0  2019      9   \n",
       "6296       1164075 2019-10-31  Production Hours   744.0  2019     10   \n",
       "124844     1164075 2019-11-30  Production Hours   720.0  2019     11   \n",
       "459        1164075 2019-12-31  Production Hours   744.0  2019     12   \n",
       "37341      1164075 2020-01-31  Production Hours   744.0  2020      1   \n",
       "\n",
       "       Month_Name  \n",
       "192637        May  \n",
       "87325        June  \n",
       "59149        July  \n",
       "61413      August  \n",
       "90952   September  \n",
       "177702    October  \n",
       "177391    October  \n",
       "93433    November  \n",
       "56849    December  \n",
       "54362     January  \n",
       "312285   February  \n",
       "206714      March  \n",
       "97050       April  \n",
       "45631         May  \n",
       "99310        June  \n",
       "48643        July  \n",
       "30452      August  \n",
       "102569  September  \n",
       "41219     October  \n",
       "105222   November  \n",
       "305730   December  \n",
       "248285    January  \n",
       "316412   February  \n",
       "51812       March  \n",
       "115015      April  \n",
       "21153         May  \n",
       "109565       June  \n",
       "25133        July  \n",
       "10993      August  \n",
       "120734  September  \n",
       "6296      October  \n",
       "124844   November  \n",
       "459      December  \n",
       "37341     January  "
      ]
     },
     "execution_count": 39,
     "metadata": {},
     "output_type": "execute_result"
    }
   ],
   "source": [
    "# check a duplicate value in the original production dataframe before pivoting\n",
    "\n",
    "well_production[(well_production['EPAssetsId']== 1164075) & (well_production['ProdType']== 'Production Hours')].sort_values(by=['ProdPeriod'])"
   ]
  },
  {
   "cell_type": "code",
   "execution_count": 40,
   "metadata": {},
   "outputs": [
    {
     "name": "stdout",
     "output_type": "stream",
     "text": [
      "<class 'pandas.core.frame.DataFrame'>\n",
      "Int64Index: 279435 entries, 0 to 319035\n",
      "Data columns (total 7 columns):\n",
      " #   Column      Non-Null Count   Dtype         \n",
      "---  ------      --------------   -----         \n",
      " 0   EPAssetsId  279435 non-null  int64         \n",
      " 1   ProdPeriod  279435 non-null  datetime64[ns]\n",
      " 2   ProdType    279435 non-null  category      \n",
      " 3   Volume      279435 non-null  float64       \n",
      " 4   Year        279435 non-null  int64         \n",
      " 5   Month       279435 non-null  int64         \n",
      " 6   Month_Name  279435 non-null  object        \n",
      "dtypes: category(1), datetime64[ns](1), float64(1), int64(3), object(1)\n",
      "memory usage: 15.2+ MB\n"
     ]
    }
   ],
   "source": [
    "# create separate dataframe for production hours\n",
    "\n",
    "prod_hrs_data = well_production[well_production['ProdType']== 'Production Hours']\n",
    "prod_hrs_data.info()"
   ]
  },
  {
   "cell_type": "code",
   "execution_count": 41,
   "metadata": {},
   "outputs": [],
   "source": [
    "## group production hours table\n",
    "prod_hrs = prod_hrs_data.groupby(by=['EPAssetsId', 'ProdType', 'Year', 'Month'], as_index=False, observed=True).agg({'ProdPeriod':'max', 'Volume': 'sum'}) "
   ]
  },
  {
   "cell_type": "code",
   "execution_count": 42,
   "metadata": {},
   "outputs": [
    {
     "data": {
      "text/html": [
       "<div>\n",
       "<style scoped>\n",
       "    .dataframe tbody tr th:only-of-type {\n",
       "        vertical-align: middle;\n",
       "    }\n",
       "\n",
       "    .dataframe tbody tr th {\n",
       "        vertical-align: top;\n",
       "    }\n",
       "\n",
       "    .dataframe thead th {\n",
       "        text-align: right;\n",
       "    }\n",
       "</style>\n",
       "<table border=\"1\" class=\"dataframe\">\n",
       "  <thead>\n",
       "    <tr style=\"text-align: right;\">\n",
       "      <th></th>\n",
       "      <th>EPAssetsId</th>\n",
       "      <th>ProdType</th>\n",
       "      <th>Year</th>\n",
       "      <th>Month</th>\n",
       "      <th>ProdPeriod</th>\n",
       "      <th>Volume</th>\n",
       "    </tr>\n",
       "  </thead>\n",
       "  <tbody>\n",
       "    <tr>\n",
       "      <th>122502</th>\n",
       "      <td>1164075</td>\n",
       "      <td>Production Hours</td>\n",
       "      <td>2017</td>\n",
       "      <td>5</td>\n",
       "      <td>2017-05-31</td>\n",
       "      <td>196.0</td>\n",
       "    </tr>\n",
       "    <tr>\n",
       "      <th>122503</th>\n",
       "      <td>1164075</td>\n",
       "      <td>Production Hours</td>\n",
       "      <td>2017</td>\n",
       "      <td>6</td>\n",
       "      <td>2017-06-30</td>\n",
       "      <td>720.0</td>\n",
       "    </tr>\n",
       "    <tr>\n",
       "      <th>122504</th>\n",
       "      <td>1164075</td>\n",
       "      <td>Production Hours</td>\n",
       "      <td>2017</td>\n",
       "      <td>7</td>\n",
       "      <td>2017-07-31</td>\n",
       "      <td>744.0</td>\n",
       "    </tr>\n",
       "    <tr>\n",
       "      <th>122505</th>\n",
       "      <td>1164075</td>\n",
       "      <td>Production Hours</td>\n",
       "      <td>2017</td>\n",
       "      <td>8</td>\n",
       "      <td>2017-08-31</td>\n",
       "      <td>744.0</td>\n",
       "    </tr>\n",
       "    <tr>\n",
       "      <th>122506</th>\n",
       "      <td>1164075</td>\n",
       "      <td>Production Hours</td>\n",
       "      <td>2017</td>\n",
       "      <td>9</td>\n",
       "      <td>2017-09-30</td>\n",
       "      <td>720.0</td>\n",
       "    </tr>\n",
       "    <tr>\n",
       "      <th>122507</th>\n",
       "      <td>1164075</td>\n",
       "      <td>Production Hours</td>\n",
       "      <td>2017</td>\n",
       "      <td>10</td>\n",
       "      <td>2017-10-31</td>\n",
       "      <td>722.0</td>\n",
       "    </tr>\n",
       "    <tr>\n",
       "      <th>122508</th>\n",
       "      <td>1164075</td>\n",
       "      <td>Production Hours</td>\n",
       "      <td>2017</td>\n",
       "      <td>11</td>\n",
       "      <td>2017-11-30</td>\n",
       "      <td>720.0</td>\n",
       "    </tr>\n",
       "    <tr>\n",
       "      <th>122509</th>\n",
       "      <td>1164075</td>\n",
       "      <td>Production Hours</td>\n",
       "      <td>2017</td>\n",
       "      <td>12</td>\n",
       "      <td>2017-12-31</td>\n",
       "      <td>744.0</td>\n",
       "    </tr>\n",
       "    <tr>\n",
       "      <th>122510</th>\n",
       "      <td>1164075</td>\n",
       "      <td>Production Hours</td>\n",
       "      <td>2018</td>\n",
       "      <td>1</td>\n",
       "      <td>2018-01-31</td>\n",
       "      <td>744.0</td>\n",
       "    </tr>\n",
       "    <tr>\n",
       "      <th>122511</th>\n",
       "      <td>1164075</td>\n",
       "      <td>Production Hours</td>\n",
       "      <td>2018</td>\n",
       "      <td>2</td>\n",
       "      <td>2018-02-28</td>\n",
       "      <td>672.0</td>\n",
       "    </tr>\n",
       "    <tr>\n",
       "      <th>122512</th>\n",
       "      <td>1164075</td>\n",
       "      <td>Production Hours</td>\n",
       "      <td>2018</td>\n",
       "      <td>3</td>\n",
       "      <td>2018-03-31</td>\n",
       "      <td>735.0</td>\n",
       "    </tr>\n",
       "    <tr>\n",
       "      <th>122513</th>\n",
       "      <td>1164075</td>\n",
       "      <td>Production Hours</td>\n",
       "      <td>2018</td>\n",
       "      <td>4</td>\n",
       "      <td>2018-04-30</td>\n",
       "      <td>720.0</td>\n",
       "    </tr>\n",
       "    <tr>\n",
       "      <th>122514</th>\n",
       "      <td>1164075</td>\n",
       "      <td>Production Hours</td>\n",
       "      <td>2018</td>\n",
       "      <td>5</td>\n",
       "      <td>2018-05-31</td>\n",
       "      <td>744.0</td>\n",
       "    </tr>\n",
       "    <tr>\n",
       "      <th>122515</th>\n",
       "      <td>1164075</td>\n",
       "      <td>Production Hours</td>\n",
       "      <td>2018</td>\n",
       "      <td>6</td>\n",
       "      <td>2018-06-30</td>\n",
       "      <td>720.0</td>\n",
       "    </tr>\n",
       "    <tr>\n",
       "      <th>122516</th>\n",
       "      <td>1164075</td>\n",
       "      <td>Production Hours</td>\n",
       "      <td>2018</td>\n",
       "      <td>7</td>\n",
       "      <td>2018-07-31</td>\n",
       "      <td>744.0</td>\n",
       "    </tr>\n",
       "    <tr>\n",
       "      <th>122517</th>\n",
       "      <td>1164075</td>\n",
       "      <td>Production Hours</td>\n",
       "      <td>2018</td>\n",
       "      <td>8</td>\n",
       "      <td>2018-08-31</td>\n",
       "      <td>744.0</td>\n",
       "    </tr>\n",
       "    <tr>\n",
       "      <th>122518</th>\n",
       "      <td>1164075</td>\n",
       "      <td>Production Hours</td>\n",
       "      <td>2018</td>\n",
       "      <td>9</td>\n",
       "      <td>2018-09-30</td>\n",
       "      <td>720.0</td>\n",
       "    </tr>\n",
       "    <tr>\n",
       "      <th>122519</th>\n",
       "      <td>1164075</td>\n",
       "      <td>Production Hours</td>\n",
       "      <td>2018</td>\n",
       "      <td>10</td>\n",
       "      <td>2018-10-31</td>\n",
       "      <td>744.0</td>\n",
       "    </tr>\n",
       "    <tr>\n",
       "      <th>122520</th>\n",
       "      <td>1164075</td>\n",
       "      <td>Production Hours</td>\n",
       "      <td>2018</td>\n",
       "      <td>11</td>\n",
       "      <td>2018-11-30</td>\n",
       "      <td>720.0</td>\n",
       "    </tr>\n",
       "    <tr>\n",
       "      <th>122521</th>\n",
       "      <td>1164075</td>\n",
       "      <td>Production Hours</td>\n",
       "      <td>2018</td>\n",
       "      <td>12</td>\n",
       "      <td>2018-12-31</td>\n",
       "      <td>743.0</td>\n",
       "    </tr>\n",
       "    <tr>\n",
       "      <th>122522</th>\n",
       "      <td>1164075</td>\n",
       "      <td>Production Hours</td>\n",
       "      <td>2019</td>\n",
       "      <td>1</td>\n",
       "      <td>2019-01-31</td>\n",
       "      <td>737.0</td>\n",
       "    </tr>\n",
       "    <tr>\n",
       "      <th>122523</th>\n",
       "      <td>1164075</td>\n",
       "      <td>Production Hours</td>\n",
       "      <td>2019</td>\n",
       "      <td>2</td>\n",
       "      <td>2019-02-28</td>\n",
       "      <td>672.0</td>\n",
       "    </tr>\n",
       "    <tr>\n",
       "      <th>122524</th>\n",
       "      <td>1164075</td>\n",
       "      <td>Production Hours</td>\n",
       "      <td>2019</td>\n",
       "      <td>3</td>\n",
       "      <td>2019-03-31</td>\n",
       "      <td>744.0</td>\n",
       "    </tr>\n",
       "    <tr>\n",
       "      <th>122525</th>\n",
       "      <td>1164075</td>\n",
       "      <td>Production Hours</td>\n",
       "      <td>2019</td>\n",
       "      <td>4</td>\n",
       "      <td>2019-04-30</td>\n",
       "      <td>720.0</td>\n",
       "    </tr>\n",
       "    <tr>\n",
       "      <th>122526</th>\n",
       "      <td>1164075</td>\n",
       "      <td>Production Hours</td>\n",
       "      <td>2019</td>\n",
       "      <td>5</td>\n",
       "      <td>2019-05-31</td>\n",
       "      <td>744.0</td>\n",
       "    </tr>\n",
       "    <tr>\n",
       "      <th>122527</th>\n",
       "      <td>1164075</td>\n",
       "      <td>Production Hours</td>\n",
       "      <td>2019</td>\n",
       "      <td>6</td>\n",
       "      <td>2019-06-30</td>\n",
       "      <td>720.0</td>\n",
       "    </tr>\n",
       "    <tr>\n",
       "      <th>122528</th>\n",
       "      <td>1164075</td>\n",
       "      <td>Production Hours</td>\n",
       "      <td>2019</td>\n",
       "      <td>7</td>\n",
       "      <td>2019-07-31</td>\n",
       "      <td>744.0</td>\n",
       "    </tr>\n",
       "    <tr>\n",
       "      <th>122529</th>\n",
       "      <td>1164075</td>\n",
       "      <td>Production Hours</td>\n",
       "      <td>2019</td>\n",
       "      <td>8</td>\n",
       "      <td>2019-08-31</td>\n",
       "      <td>744.0</td>\n",
       "    </tr>\n",
       "    <tr>\n",
       "      <th>122530</th>\n",
       "      <td>1164075</td>\n",
       "      <td>Production Hours</td>\n",
       "      <td>2019</td>\n",
       "      <td>9</td>\n",
       "      <td>2019-09-30</td>\n",
       "      <td>720.0</td>\n",
       "    </tr>\n",
       "    <tr>\n",
       "      <th>122531</th>\n",
       "      <td>1164075</td>\n",
       "      <td>Production Hours</td>\n",
       "      <td>2019</td>\n",
       "      <td>10</td>\n",
       "      <td>2019-10-31</td>\n",
       "      <td>744.0</td>\n",
       "    </tr>\n",
       "    <tr>\n",
       "      <th>122532</th>\n",
       "      <td>1164075</td>\n",
       "      <td>Production Hours</td>\n",
       "      <td>2019</td>\n",
       "      <td>11</td>\n",
       "      <td>2019-11-30</td>\n",
       "      <td>720.0</td>\n",
       "    </tr>\n",
       "    <tr>\n",
       "      <th>122533</th>\n",
       "      <td>1164075</td>\n",
       "      <td>Production Hours</td>\n",
       "      <td>2019</td>\n",
       "      <td>12</td>\n",
       "      <td>2019-12-31</td>\n",
       "      <td>744.0</td>\n",
       "    </tr>\n",
       "    <tr>\n",
       "      <th>122534</th>\n",
       "      <td>1164075</td>\n",
       "      <td>Production Hours</td>\n",
       "      <td>2020</td>\n",
       "      <td>1</td>\n",
       "      <td>2020-01-31</td>\n",
       "      <td>744.0</td>\n",
       "    </tr>\n",
       "  </tbody>\n",
       "</table>\n",
       "</div>"
      ],
      "text/plain": [
       "        EPAssetsId          ProdType  Year  Month ProdPeriod  Volume\n",
       "122502     1164075  Production Hours  2017      5 2017-05-31   196.0\n",
       "122503     1164075  Production Hours  2017      6 2017-06-30   720.0\n",
       "122504     1164075  Production Hours  2017      7 2017-07-31   744.0\n",
       "122505     1164075  Production Hours  2017      8 2017-08-31   744.0\n",
       "122506     1164075  Production Hours  2017      9 2017-09-30   720.0\n",
       "122507     1164075  Production Hours  2017     10 2017-10-31   722.0\n",
       "122508     1164075  Production Hours  2017     11 2017-11-30   720.0\n",
       "122509     1164075  Production Hours  2017     12 2017-12-31   744.0\n",
       "122510     1164075  Production Hours  2018      1 2018-01-31   744.0\n",
       "122511     1164075  Production Hours  2018      2 2018-02-28   672.0\n",
       "122512     1164075  Production Hours  2018      3 2018-03-31   735.0\n",
       "122513     1164075  Production Hours  2018      4 2018-04-30   720.0\n",
       "122514     1164075  Production Hours  2018      5 2018-05-31   744.0\n",
       "122515     1164075  Production Hours  2018      6 2018-06-30   720.0\n",
       "122516     1164075  Production Hours  2018      7 2018-07-31   744.0\n",
       "122517     1164075  Production Hours  2018      8 2018-08-31   744.0\n",
       "122518     1164075  Production Hours  2018      9 2018-09-30   720.0\n",
       "122519     1164075  Production Hours  2018     10 2018-10-31   744.0\n",
       "122520     1164075  Production Hours  2018     11 2018-11-30   720.0\n",
       "122521     1164075  Production Hours  2018     12 2018-12-31   743.0\n",
       "122522     1164075  Production Hours  2019      1 2019-01-31   737.0\n",
       "122523     1164075  Production Hours  2019      2 2019-02-28   672.0\n",
       "122524     1164075  Production Hours  2019      3 2019-03-31   744.0\n",
       "122525     1164075  Production Hours  2019      4 2019-04-30   720.0\n",
       "122526     1164075  Production Hours  2019      5 2019-05-31   744.0\n",
       "122527     1164075  Production Hours  2019      6 2019-06-30   720.0\n",
       "122528     1164075  Production Hours  2019      7 2019-07-31   744.0\n",
       "122529     1164075  Production Hours  2019      8 2019-08-31   744.0\n",
       "122530     1164075  Production Hours  2019      9 2019-09-30   720.0\n",
       "122531     1164075  Production Hours  2019     10 2019-10-31   744.0\n",
       "122532     1164075  Production Hours  2019     11 2019-11-30   720.0\n",
       "122533     1164075  Production Hours  2019     12 2019-12-31   744.0\n",
       "122534     1164075  Production Hours  2020      1 2020-01-31   744.0"
      ]
     },
     "execution_count": 42,
     "metadata": {},
     "output_type": "execute_result"
    }
   ],
   "source": [
    "# check it for 1164075 for duplicates\n",
    "prod_hrs[prod_hrs['EPAssetsId']== 1164075].sort_values(by=['ProdPeriod'])"
   ]
  },
  {
   "cell_type": "markdown",
   "metadata": {},
   "source": [
    "## Groupby original production dataframe to remove duplicate rows"
   ]
  },
  {
   "cell_type": "code",
   "execution_count": 43,
   "metadata": {},
   "outputs": [
    {
     "name": "stdout",
     "output_type": "stream",
     "text": [
      "<class 'pandas.core.frame.DataFrame'>\n",
      "Int64Index: 959619 entries, 0 to 959618\n",
      "Data columns (total 6 columns):\n",
      " #   Column      Non-Null Count   Dtype         \n",
      "---  ------      --------------   -----         \n",
      " 0   EPAssetsId  959619 non-null  int64         \n",
      " 1   ProdType    959619 non-null  category      \n",
      " 2   Year        959619 non-null  int64         \n",
      " 3   Month       959619 non-null  int64         \n",
      " 4   ProdPeriod  959619 non-null  datetime64[ns]\n",
      " 5   Volume      959619 non-null  float64       \n",
      "dtypes: category(1), datetime64[ns](1), float64(1), int64(3)\n",
      "memory usage: 44.8 MB\n"
     ]
    }
   ],
   "source": [
    "## groupby original production table \n",
    "new_production_table = well_production.groupby(by=['EPAssetsId', 'ProdType', 'Year', 'Month'],as_index=False, observed=True).agg({'ProdPeriod':'max', 'Volume': 'sum'}) \n",
    "\n",
    "new_production_table.info()"
   ]
  },
  {
   "cell_type": "code",
   "execution_count": 44,
   "metadata": {},
   "outputs": [
    {
     "name": "stdout",
     "output_type": "stream",
     "text": [
      "0\n",
      "\n",
      "\n",
      "0\n",
      "\n",
      "\n",
      "0\n",
      "\n",
      "\n",
      "0\n",
      "\n",
      "\n",
      "0\n"
     ]
    }
   ],
   "source": [
    "# check for number of duplicates in the revised production dataframe before pivoting\n",
    "def check_duplicates_in_newproductiontable(ProdType):\n",
    "    x = new_production_table[new_production_table['ProdType']== ProdType]\n",
    "    y = x[x.duplicated(subset=['EPAssetsId', \"ProdPeriod\"])]\n",
    "    print(y['EPAssetsId'].nunique())\n",
    "\n",
    "duplicate_values_for_gas_production = check_duplicates_in_newproductiontable('Gas Production (MMcf)')\n",
    "print('\\n')\n",
    "duplicate_values_for_prod_hrs = check_duplicates_in_newproductiontable('Production Hours')\n",
    "print('\\n')\n",
    "duplicate_values_for_oil_production = check_duplicates_in_newproductiontable('Oil Production (Bbls)')\n",
    "print('\\n')\n",
    "duplicate_values_for_water_production = check_duplicates_in_newproductiontable('Water Production (Bbls)')\n",
    "print('\\n')\n",
    "duplicate_values_for_condensate_production = check_duplicates_in_newproductiontable('Condensate Production (Bbls)')"
   ]
  },
  {
   "cell_type": "code",
   "execution_count": 45,
   "metadata": {},
   "outputs": [
    {
     "data": {
      "text/html": [
       "<div>\n",
       "<style scoped>\n",
       "    .dataframe tbody tr th:only-of-type {\n",
       "        vertical-align: middle;\n",
       "    }\n",
       "\n",
       "    .dataframe tbody tr th {\n",
       "        vertical-align: top;\n",
       "    }\n",
       "\n",
       "    .dataframe thead th {\n",
       "        text-align: right;\n",
       "    }\n",
       "</style>\n",
       "<table border=\"1\" class=\"dataframe\">\n",
       "  <thead>\n",
       "    <tr style=\"text-align: right;\">\n",
       "      <th></th>\n",
       "      <th></th>\n",
       "      <th></th>\n",
       "      <th>ProdType</th>\n",
       "      <th>Condensate Production (Bbls)</th>\n",
       "      <th>Gas Production (MMcf)</th>\n",
       "      <th>Oil Production (Bbls)</th>\n",
       "      <th>Production Hours</th>\n",
       "      <th>Water Production (Bbls)</th>\n",
       "    </tr>\n",
       "    <tr>\n",
       "      <th>EPAssetsId</th>\n",
       "      <th>Year</th>\n",
       "      <th>Month</th>\n",
       "      <th>ProdPeriod</th>\n",
       "      <th></th>\n",
       "      <th></th>\n",
       "      <th></th>\n",
       "      <th></th>\n",
       "      <th></th>\n",
       "    </tr>\n",
       "  </thead>\n",
       "  <tbody>\n",
       "    <tr>\n",
       "      <th rowspan=\"5\" valign=\"top\">3373</th>\n",
       "      <th rowspan=\"5\" valign=\"top\">2017</th>\n",
       "      <th>8</th>\n",
       "      <th>2017-08-31</th>\n",
       "      <td>NaN</td>\n",
       "      <td>2.330777</td>\n",
       "      <td>NaN</td>\n",
       "      <td>60.0</td>\n",
       "      <td>NaN</td>\n",
       "    </tr>\n",
       "    <tr>\n",
       "      <th>9</th>\n",
       "      <th>2017-09-30</th>\n",
       "      <td>3744.94692</td>\n",
       "      <td>55.009864</td>\n",
       "      <td>NaN</td>\n",
       "      <td>499.2</td>\n",
       "      <td>2213.38062</td>\n",
       "    </tr>\n",
       "    <tr>\n",
       "      <th>10</th>\n",
       "      <th>2017-10-31</th>\n",
       "      <td>3792.12042</td>\n",
       "      <td>48.999285</td>\n",
       "      <td>NaN</td>\n",
       "      <td>417.6</td>\n",
       "      <td>2327.22600</td>\n",
       "    </tr>\n",
       "    <tr>\n",
       "      <th>11</th>\n",
       "      <th>2017-11-30</th>\n",
       "      <td>5577.16566</td>\n",
       "      <td>58.516624</td>\n",
       "      <td>NaN</td>\n",
       "      <td>619.2</td>\n",
       "      <td>2127.21036</td>\n",
       "    </tr>\n",
       "    <tr>\n",
       "      <th>12</th>\n",
       "      <th>2017-12-31</th>\n",
       "      <td>4994.73018</td>\n",
       "      <td>77.385321</td>\n",
       "      <td>NaN</td>\n",
       "      <td>662.4</td>\n",
       "      <td>2403.96156</td>\n",
       "    </tr>\n",
       "  </tbody>\n",
       "</table>\n",
       "</div>"
      ],
      "text/plain": [
       "ProdType                          Condensate Production (Bbls)  \\\n",
       "EPAssetsId Year Month ProdPeriod                                 \n",
       "3373       2017 8     2017-08-31                           NaN   \n",
       "                9     2017-09-30                    3744.94692   \n",
       "                10    2017-10-31                    3792.12042   \n",
       "                11    2017-11-30                    5577.16566   \n",
       "                12    2017-12-31                    4994.73018   \n",
       "\n",
       "ProdType                          Gas Production (MMcf)  \\\n",
       "EPAssetsId Year Month ProdPeriod                          \n",
       "3373       2017 8     2017-08-31               2.330777   \n",
       "                9     2017-09-30              55.009864   \n",
       "                10    2017-10-31              48.999285   \n",
       "                11    2017-11-30              58.516624   \n",
       "                12    2017-12-31              77.385321   \n",
       "\n",
       "ProdType                          Oil Production (Bbls)  Production Hours  \\\n",
       "EPAssetsId Year Month ProdPeriod                                            \n",
       "3373       2017 8     2017-08-31                    NaN              60.0   \n",
       "                9     2017-09-30                    NaN             499.2   \n",
       "                10    2017-10-31                    NaN             417.6   \n",
       "                11    2017-11-30                    NaN             619.2   \n",
       "                12    2017-12-31                    NaN             662.4   \n",
       "\n",
       "ProdType                          Water Production (Bbls)  \n",
       "EPAssetsId Year Month ProdPeriod                           \n",
       "3373       2017 8     2017-08-31                      NaN  \n",
       "                9     2017-09-30               2213.38062  \n",
       "                10    2017-10-31               2327.22600  \n",
       "                11    2017-11-30               2127.21036  \n",
       "                12    2017-12-31               2403.96156  "
      ]
     },
     "execution_count": 45,
     "metadata": {},
     "output_type": "execute_result"
    }
   ],
   "source": [
    "new_production_pivot= new_production_table.pivot_table(index=['EPAssetsId', 'Year', 'Month','ProdPeriod'], columns='ProdType', values='Volume', aggfunc=np.sum, observed=True)\n",
    "\n",
    "new_production_pivot.head()"
   ]
  },
  {
   "cell_type": "code",
   "execution_count": 46,
   "metadata": {},
   "outputs": [
    {
     "name": "stderr",
     "output_type": "stream",
     "text": [
      ":FEATURES DONE:                    |█████████████████████| [100%]   00:02  -> (00:00 left)\n",
      ":PAIRWISE DONE:                    |█████████████████████| [100%]   00:00  -> (00:00 left)\n"
     ]
    },
    {
     "name": "stdout",
     "output_type": "stream",
     "text": [
      "Creating Associations graph... DONE!\n"
     ]
    }
   ],
   "source": [
    "new_wp_pivot=sv.analyze(new_production_pivot)"
   ]
  },
  {
   "cell_type": "code",
   "execution_count": 47,
   "metadata": {},
   "outputs": [
    {
     "name": "stdout",
     "output_type": "stream",
     "text": [
      "Report new_wp.html was generated! NOTEBOOK/COLAB USERS: no browser will pop up, the report is saved in your notebook/colab files.\n"
     ]
    }
   ],
   "source": [
    "new_wp_pivot.show_html('new_wp.html')"
   ]
  },
  {
   "cell_type": "code",
   "execution_count": null,
   "metadata": {},
   "outputs": [],
   "source": []
  }
 ],
 "metadata": {
  "kernelspec": {
   "display_name": "Python 3",
   "language": "python",
   "name": "python3"
  },
  "language_info": {
   "codemirror_mode": {
    "name": "ipython",
    "version": 3
   },
   "file_extension": ".py",
   "mimetype": "text/x-python",
   "name": "python",
   "nbconvert_exporter": "python",
   "pygments_lexer": "ipython3",
   "version": "3.7.6"
  }
 },
 "nbformat": 4,
 "nbformat_minor": 4
}
