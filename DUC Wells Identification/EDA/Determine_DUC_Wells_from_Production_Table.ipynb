{
 "cells": [
  {
   "cell_type": "markdown",
   "metadata": {
    "colab_type": "text",
    "id": "M_WAbq6ppLyw"
   },
   "source": [
    "#### Assumptions made/issues/observations found, please review and advise: \n",
    "      \n",
    "####    Production dataset - Require review and input\n",
    "      -Duplicate values found in original production dataset.\n",
    "      \n",
    "\n",
    "\n",
    "     "
   ]
  },
  {
   "cell_type": "markdown",
   "metadata": {
    "colab_type": "text",
    "id": "V6tMeJjWpLyx"
   },
   "source": [
    "# Import Libraries"
   ]
  },
  {
   "cell_type": "code",
   "execution_count": null,
   "metadata": {
    "colab": {
     "base_uri": "https://localhost:8080/",
     "height": 478
    },
    "colab_type": "code",
    "id": "hAA55R90rnR8",
    "outputId": "faef2387-795b-421f-8990-fe15fd7cb41f"
   },
   "outputs": [
    {
     "name": "stdout",
     "output_type": "stream",
     "text": [
      "Collecting sweetviz\n",
      "\u001b[?25l  Downloading https://files.pythonhosted.org/packages/1c/11/2a5a08f1bb16d25c23c97c205ae2457130aff65b4ab1e4d5a80d0942746a/sweetviz-1.0b5-py3-none-any.whl (325kB)\n",
      "\u001b[K     |████████████████████████████████| 327kB 5.1MB/s eta 0:00:01\n",
      "\u001b[?25hRequirement already satisfied: jinja2>=2.11.1 in /usr/local/lib/python3.6/dist-packages (from sweetviz) (2.11.2)\n",
      "Requirement already satisfied: pandas!=1.0.0,!=1.0.1,!=1.0.2,>=0.25.3 in /usr/local/lib/python3.6/dist-packages (from sweetviz) (1.0.5)\n",
      "Requirement already satisfied: matplotlib>=3.1.3 in /usr/local/lib/python3.6/dist-packages (from sweetviz) (3.2.2)\n",
      "Collecting importlib-resources>=1.2.0\n",
      "  Downloading https://files.pythonhosted.org/packages/ba/03/0f9595c0c2ef12590877f3c47e5f579759ce5caf817f8256d5dcbd8a1177/importlib_resources-3.0.0-py2.py3-none-any.whl\n",
      "Collecting tqdm>=4.43.0\n",
      "\u001b[?25l  Downloading https://files.pythonhosted.org/packages/28/7e/281edb5bc3274dfb894d90f4dbacfceaca381c2435ec6187a2c6f329aed7/tqdm-4.48.2-py2.py3-none-any.whl (68kB)\n",
      "\u001b[K     |████████████████████████████████| 71kB 5.9MB/s \n",
      "\u001b[?25hRequirement already satisfied: scipy>=1.3.2 in /usr/local/lib/python3.6/dist-packages (from sweetviz) (1.4.1)\n",
      "Requirement already satisfied: numpy>=1.16.0 in /usr/local/lib/python3.6/dist-packages (from sweetviz) (1.18.5)\n",
      "Requirement already satisfied: MarkupSafe>=0.23 in /usr/local/lib/python3.6/dist-packages (from jinja2>=2.11.1->sweetviz) (1.1.1)\n",
      "Requirement already satisfied: python-dateutil>=2.6.1 in /usr/local/lib/python3.6/dist-packages (from pandas!=1.0.0,!=1.0.1,!=1.0.2,>=0.25.3->sweetviz) (2.8.1)\n",
      "Requirement already satisfied: pytz>=2017.2 in /usr/local/lib/python3.6/dist-packages (from pandas!=1.0.0,!=1.0.1,!=1.0.2,>=0.25.3->sweetviz) (2018.9)\n",
      "Requirement already satisfied: pyparsing!=2.0.4,!=2.1.2,!=2.1.6,>=2.0.1 in /usr/local/lib/python3.6/dist-packages (from matplotlib>=3.1.3->sweetviz) (2.4.7)\n",
      "Requirement already satisfied: cycler>=0.10 in /usr/local/lib/python3.6/dist-packages (from matplotlib>=3.1.3->sweetviz) (0.10.0)\n",
      "Requirement already satisfied: kiwisolver>=1.0.1 in /usr/local/lib/python3.6/dist-packages (from matplotlib>=3.1.3->sweetviz) (1.2.0)\n",
      "Requirement already satisfied: zipp>=0.4; python_version < \"3.8\" in /usr/local/lib/python3.6/dist-packages (from importlib-resources>=1.2.0->sweetviz) (3.1.0)\n",
      "Requirement already satisfied: six>=1.5 in /usr/local/lib/python3.6/dist-packages (from python-dateutil>=2.6.1->pandas!=1.0.0,!=1.0.1,!=1.0.2,>=0.25.3->sweetviz) (1.15.0)\n",
      "Installing collected packages: importlib-resources, tqdm, sweetviz\n",
      "  Found existing installation: tqdm 4.41.1\n",
      "    Uninstalling tqdm-4.41.1:\n",
      "      Successfully uninstalled tqdm-4.41.1\n",
      "Successfully installed importlib-resources-3.0.0 sweetviz-1.0b5 tqdm-4.48.2\n"
     ]
    }
   ],
   "source": [
    "!pip install sweetviz"
   ]
  },
  {
   "cell_type": "code",
   "execution_count": null,
   "metadata": {
    "colab": {},
    "colab_type": "code",
    "id": "zE32zfsSpLyy"
   },
   "outputs": [],
   "source": [
    "import pandas as pd\n",
    "import numpy as np\n",
    "import sweetviz as sv"
   ]
  },
  {
   "cell_type": "markdown",
   "metadata": {
    "colab_type": "text",
    "id": "jpyaaemVpLy2"
   },
   "source": [
    "## Get the data"
   ]
  },
  {
   "cell_type": "code",
   "execution_count": null,
   "metadata": {
    "colab": {
     "base_uri": "https://localhost:8080/",
     "height": 73,
     "resources": {
      "http://localhost:8080/nbextensions/google.colab/files.js": {
       "data": "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",
       "headers": [
        [
         "content-type",
         "application/javascript"
        ]
       ],
       "ok": true,
       "status": 200,
       "status_text": ""
      }
     }
    },
    "colab_type": "code",
    "id": "LPiW1k8HrXwE",
    "outputId": "35246a00-1288-42c3-e58b-93fd9df41ca4"
   },
   "outputs": [
    {
     "data": {
      "text/html": [
       "\n",
       "     <input type=\"file\" id=\"files-394040a6-bdb4-4a7d-b370-1ce1fc728222\" name=\"files[]\" multiple disabled\n",
       "        style=\"border:none\" />\n",
       "     <output id=\"result-394040a6-bdb4-4a7d-b370-1ce1fc728222\">\n",
       "      Upload widget is only available when the cell has been executed in the\n",
       "      current browser session. Please rerun this cell to enable.\n",
       "      </output>\n",
       "      <script src=\"/nbextensions/google.colab/files.js\"></script> "
      ],
      "text/plain": [
       "<IPython.core.display.HTML object>"
      ]
     },
     "metadata": {
      "tags": []
     },
     "output_type": "display_data"
    },
    {
     "name": "stdout",
     "output_type": "stream",
     "text": [
      "Saving WellProduction.csv to WellProduction (1).csv\n"
     ]
    }
   ],
   "source": [
    "\n",
    "from google.colab import files\n",
    "\n",
    "uploaded = files.upload()"
   ]
  },
  {
   "cell_type": "code",
   "execution_count": null,
   "metadata": {
    "colab": {},
    "colab_type": "code",
    "id": "OxuNLLU1pLy2"
   },
   "outputs": [],
   "source": [
    "## add list of datecolumns to parse_date to ensure datetime datatypes\n",
    "## assumed 'Not Applicable' values are NA values\n",
    "\n",
    "import io\n",
    "\n",
    "well_production = pd.read_csv(io.StringIO(uploaded['WellProduction.csv'].decode(\"utf-8\")),parse_dates=['ProdPeriod'], index_col=False)"
   ]
  },
  {
   "cell_type": "code",
   "execution_count": null,
   "metadata": {
    "colab": {
     "base_uri": "https://localhost:8080/",
     "height": 247
    },
    "colab_type": "code",
    "id": "7tn590zSpLy9",
    "outputId": "b3325812-7598-477c-c014-b51ae9fa86c8"
   },
   "outputs": [
    {
     "name": "stdout",
     "output_type": "stream",
     "text": [
      "<class 'pandas.core.frame.DataFrame'>\n",
      "RangeIndex: 961054 entries, 0 to 961053\n",
      "Data columns (total 5 columns):\n",
      " #   Column            Non-Null Count   Dtype         \n",
      "---  ------            --------------   -----         \n",
      " 0   EPAssetsId        961054 non-null  int64         \n",
      " 1   ProdPeriod        961054 non-null  datetime64[ns]\n",
      " 2   ProdType          961054 non-null  object        \n",
      " 3   Volume            961054 non-null  float64       \n",
      " 4   WellHeader.Match  961054 non-null  object        \n",
      "dtypes: datetime64[ns](1), float64(1), int64(1), object(2)\n",
      "memory usage: 36.7+ MB\n"
     ]
    },
    {
     "data": {
      "text/plain": [
       "None"
      ]
     },
     "metadata": {
      "tags": []
     },
     "output_type": "display_data"
    }
   ],
   "source": [
    "display(well_production.info())\n",
    "\n"
   ]
  },
  {
   "cell_type": "code",
   "execution_count": null,
   "metadata": {
    "colab": {},
    "colab_type": "code",
    "id": "F2ATGiVepLzI"
   },
   "outputs": [],
   "source": [
    "# change ProdType and ActivityType columns from object to category datatype\n",
    "well_production['ProdType'] = well_production['ProdType'].astype('category')\n"
   ]
  },
  {
   "cell_type": "markdown",
   "metadata": {
    "colab_type": "text",
    "id": "pRUcuzY6pLzK"
   },
   "source": [
    "## Seewtviz Magic"
   ]
  },
  {
   "cell_type": "code",
   "execution_count": null,
   "metadata": {
    "colab": {},
    "colab_type": "code",
    "id": "ufjhxYA2pLzP"
   },
   "outputs": [],
   "source": [
    "well_production=well_production.iloc[:,0:4]"
   ]
  },
  {
   "cell_type": "code",
   "execution_count": null,
   "metadata": {
    "colab": {
     "base_uri": "https://localhost:8080/",
     "height": 212
    },
    "colab_type": "code",
    "id": "oPRIwUHTpLzR",
    "outputId": "7585071d-d7e7-4599-866e-7ae5ca29c9e0"
   },
   "outputs": [
    {
     "name": "stdout",
     "output_type": "stream",
     "text": [
      "<class 'pandas.core.frame.DataFrame'>\n",
      "RangeIndex: 961054 entries, 0 to 961053\n",
      "Data columns (total 4 columns):\n",
      " #   Column      Non-Null Count   Dtype         \n",
      "---  ------      --------------   -----         \n",
      " 0   EPAssetsId  961054 non-null  int64         \n",
      " 1   ProdPeriod  961054 non-null  datetime64[ns]\n",
      " 2   ProdType    961054 non-null  category      \n",
      " 3   Volume      961054 non-null  float64       \n",
      "dtypes: category(1), datetime64[ns](1), float64(1), int64(1)\n",
      "memory usage: 22.9 MB\n"
     ]
    }
   ],
   "source": [
    "well_production.info()"
   ]
  },
  {
   "cell_type": "code",
   "execution_count": null,
   "metadata": {
    "colab": {
     "base_uri": "https://localhost:8080/",
     "height": 70
    },
    "colab_type": "code",
    "id": "2NLHGF0qpLzU",
    "outputId": "5fd84701-6817-499e-9631-e0dc3a876d1c"
   },
   "outputs": [
    {
     "name": "stderr",
     "output_type": "stream",
     "text": [
      ":FEATURES DONE:                    |█████████████████████| [100%]   00:02  -> (00:00 left)\n",
      ":PAIRWISE DONE:                    |█████████████████████| [100%]   00:20  -> (00:00 left)\n"
     ]
    },
    {
     "name": "stdout",
     "output_type": "stream",
     "text": [
      "Creating Associations graph... DONE!\n"
     ]
    }
   ],
   "source": [
    " wp= sv.analyze(well_production)"
   ]
  },
  {
   "cell_type": "code",
   "execution_count": null,
   "metadata": {
    "colab": {
     "base_uri": "https://localhost:8080/",
     "height": 34
    },
    "colab_type": "code",
    "id": "fhuHs4ONpLzW",
    "outputId": "27057ba4-9508-44c2-f1c0-ad56c893ed36"
   },
   "outputs": [
    {
     "name": "stdout",
     "output_type": "stream",
     "text": [
      "Report wells_production.html was generated! NOTEBOOK/COLAB USERS: no browser will pop up, the report is saved in your notebook/colab files.\n"
     ]
    }
   ],
   "source": [
    "wp.show_html('wells_production.html')"
   ]
  },
  {
   "cell_type": "markdown",
   "metadata": {
    "colab_type": "text",
    "id": "nEcRRSVWpL0A"
   },
   "source": [
    "# Modified Dataframes"
   ]
  },
  {
   "cell_type": "code",
   "execution_count": null,
   "metadata": {
    "colab": {},
    "colab_type": "code",
    "id": "VIKjJx0uuTOz"
   },
   "outputs": [],
   "source": [
    "## add year and month column to the well production data \n",
    "\n",
    "well_production['Year'] = well_production['ProdPeriod'].dt.year\n",
    "\n",
    "well_production['Month'] = well_production['ProdPeriod'].dt.month\n",
    "\n",
    "well_production['Month_Name'] = well_production['ProdPeriod'].dt.month_name()"
   ]
  },
  {
   "cell_type": "markdown",
   "metadata": {
    "colab_type": "text",
    "id": "WAJsQG3hpL0k"
   },
   "source": [
    "## Check for duplicates"
   ]
  },
  {
   "cell_type": "code",
   "execution_count": null,
   "metadata": {
    "colab": {
     "base_uri": "https://localhost:8080/",
     "height": 247
    },
    "colab_type": "code",
    "id": "uOC3Ay2TpL0k",
    "outputId": "87b9fe1e-11db-41bc-8a57-128c5cf516ad"
   },
   "outputs": [
    {
     "name": "stdout",
     "output_type": "stream",
     "text": [
      "317\n",
      "\n",
      "\n",
      "440\n",
      "\n",
      "\n",
      "378\n",
      "\n",
      "\n",
      "281\n",
      "\n",
      "\n",
      "0\n"
     ]
    }
   ],
   "source": [
    "# check for number of duplicates in the original production dataframe before pivoting\n",
    "def check_duplicates_in_wellproduction(ProdType):\n",
    "    x = well_production[well_production['ProdType']== ProdType]\n",
    "    y = x[x.duplicated(subset=['EPAssetsId', \"ProdPeriod\"])]\n",
    "    print(y['EPAssetsId'].nunique())\n",
    "\n",
    "duplicate_values_for_gas_production = check_duplicates_in_wellproduction('Gas Production (MMcf)')\n",
    "print('\\n')\n",
    "duplicate_values_for_prod_hrs = check_duplicates_in_wellproduction('Production Hours')\n",
    "print('\\n')\n",
    "duplicate_values_for_oil_production = check_duplicates_in_wellproduction('Oil Production (Bbls)')\n",
    "print('\\n')\n",
    "duplicate_values_for_water_production = check_duplicates_in_wellproduction('Water Production (Bbls)')\n",
    "print('\\n')\n",
    "duplicate_values_for_condensate_production = check_duplicates_in_wellproduction('Condensate Production (Bbls)')"
   ]
  },
  {
   "cell_type": "code",
   "execution_count": null,
   "metadata": {
    "colab": {
     "base_uri": "https://localhost:8080/",
     "height": 1000
    },
    "colab_type": "code",
    "id": "73qqXBLTpL0n",
    "outputId": "5b2e6afd-fffe-43cd-e277-ce822094824c"
   },
   "outputs": [
    {
     "data": {
      "text/html": [
       "<div>\n",
       "<style scoped>\n",
       "    .dataframe tbody tr th:only-of-type {\n",
       "        vertical-align: middle;\n",
       "    }\n",
       "\n",
       "    .dataframe tbody tr th {\n",
       "        vertical-align: top;\n",
       "    }\n",
       "\n",
       "    .dataframe thead th {\n",
       "        text-align: right;\n",
       "    }\n",
       "</style>\n",
       "<table border=\"1\" class=\"dataframe\">\n",
       "  <thead>\n",
       "    <tr style=\"text-align: right;\">\n",
       "      <th></th>\n",
       "      <th>EPAssetsId</th>\n",
       "      <th>ProdPeriod</th>\n",
       "      <th>ProdType</th>\n",
       "      <th>Volume</th>\n",
       "      <th>Year</th>\n",
       "      <th>Month</th>\n",
       "      <th>Month_Name</th>\n",
       "    </tr>\n",
       "  </thead>\n",
       "  <tbody>\n",
       "    <tr>\n",
       "      <th>192637</th>\n",
       "      <td>1164075</td>\n",
       "      <td>2017-05-31</td>\n",
       "      <td>Production Hours</td>\n",
       "      <td>196.0</td>\n",
       "      <td>2017</td>\n",
       "      <td>5</td>\n",
       "      <td>May</td>\n",
       "    </tr>\n",
       "    <tr>\n",
       "      <th>87325</th>\n",
       "      <td>1164075</td>\n",
       "      <td>2017-06-30</td>\n",
       "      <td>Production Hours</td>\n",
       "      <td>720.0</td>\n",
       "      <td>2017</td>\n",
       "      <td>6</td>\n",
       "      <td>June</td>\n",
       "    </tr>\n",
       "    <tr>\n",
       "      <th>59149</th>\n",
       "      <td>1164075</td>\n",
       "      <td>2017-07-31</td>\n",
       "      <td>Production Hours</td>\n",
       "      <td>744.0</td>\n",
       "      <td>2017</td>\n",
       "      <td>7</td>\n",
       "      <td>July</td>\n",
       "    </tr>\n",
       "    <tr>\n",
       "      <th>61413</th>\n",
       "      <td>1164075</td>\n",
       "      <td>2017-08-31</td>\n",
       "      <td>Production Hours</td>\n",
       "      <td>744.0</td>\n",
       "      <td>2017</td>\n",
       "      <td>8</td>\n",
       "      <td>August</td>\n",
       "    </tr>\n",
       "    <tr>\n",
       "      <th>90952</th>\n",
       "      <td>1164075</td>\n",
       "      <td>2017-09-30</td>\n",
       "      <td>Production Hours</td>\n",
       "      <td>720.0</td>\n",
       "      <td>2017</td>\n",
       "      <td>9</td>\n",
       "      <td>September</td>\n",
       "    </tr>\n",
       "    <tr>\n",
       "      <th>177702</th>\n",
       "      <td>1164075</td>\n",
       "      <td>2017-10-31</td>\n",
       "      <td>Production Hours</td>\n",
       "      <td>456.0</td>\n",
       "      <td>2017</td>\n",
       "      <td>10</td>\n",
       "      <td>October</td>\n",
       "    </tr>\n",
       "    <tr>\n",
       "      <th>177391</th>\n",
       "      <td>1164075</td>\n",
       "      <td>2017-10-31</td>\n",
       "      <td>Production Hours</td>\n",
       "      <td>266.0</td>\n",
       "      <td>2017</td>\n",
       "      <td>10</td>\n",
       "      <td>October</td>\n",
       "    </tr>\n",
       "    <tr>\n",
       "      <th>93433</th>\n",
       "      <td>1164075</td>\n",
       "      <td>2017-11-30</td>\n",
       "      <td>Production Hours</td>\n",
       "      <td>720.0</td>\n",
       "      <td>2017</td>\n",
       "      <td>11</td>\n",
       "      <td>November</td>\n",
       "    </tr>\n",
       "    <tr>\n",
       "      <th>56849</th>\n",
       "      <td>1164075</td>\n",
       "      <td>2017-12-31</td>\n",
       "      <td>Production Hours</td>\n",
       "      <td>744.0</td>\n",
       "      <td>2017</td>\n",
       "      <td>12</td>\n",
       "      <td>December</td>\n",
       "    </tr>\n",
       "    <tr>\n",
       "      <th>54362</th>\n",
       "      <td>1164075</td>\n",
       "      <td>2018-01-31</td>\n",
       "      <td>Production Hours</td>\n",
       "      <td>744.0</td>\n",
       "      <td>2018</td>\n",
       "      <td>1</td>\n",
       "      <td>January</td>\n",
       "    </tr>\n",
       "    <tr>\n",
       "      <th>312285</th>\n",
       "      <td>1164075</td>\n",
       "      <td>2018-02-28</td>\n",
       "      <td>Production Hours</td>\n",
       "      <td>672.0</td>\n",
       "      <td>2018</td>\n",
       "      <td>2</td>\n",
       "      <td>February</td>\n",
       "    </tr>\n",
       "    <tr>\n",
       "      <th>206714</th>\n",
       "      <td>1164075</td>\n",
       "      <td>2018-03-31</td>\n",
       "      <td>Production Hours</td>\n",
       "      <td>735.0</td>\n",
       "      <td>2018</td>\n",
       "      <td>3</td>\n",
       "      <td>March</td>\n",
       "    </tr>\n",
       "    <tr>\n",
       "      <th>97050</th>\n",
       "      <td>1164075</td>\n",
       "      <td>2018-04-30</td>\n",
       "      <td>Production Hours</td>\n",
       "      <td>720.0</td>\n",
       "      <td>2018</td>\n",
       "      <td>4</td>\n",
       "      <td>April</td>\n",
       "    </tr>\n",
       "    <tr>\n",
       "      <th>45631</th>\n",
       "      <td>1164075</td>\n",
       "      <td>2018-05-31</td>\n",
       "      <td>Production Hours</td>\n",
       "      <td>744.0</td>\n",
       "      <td>2018</td>\n",
       "      <td>5</td>\n",
       "      <td>May</td>\n",
       "    </tr>\n",
       "    <tr>\n",
       "      <th>99310</th>\n",
       "      <td>1164075</td>\n",
       "      <td>2018-06-30</td>\n",
       "      <td>Production Hours</td>\n",
       "      <td>720.0</td>\n",
       "      <td>2018</td>\n",
       "      <td>6</td>\n",
       "      <td>June</td>\n",
       "    </tr>\n",
       "    <tr>\n",
       "      <th>48643</th>\n",
       "      <td>1164075</td>\n",
       "      <td>2018-07-31</td>\n",
       "      <td>Production Hours</td>\n",
       "      <td>744.0</td>\n",
       "      <td>2018</td>\n",
       "      <td>7</td>\n",
       "      <td>July</td>\n",
       "    </tr>\n",
       "    <tr>\n",
       "      <th>30452</th>\n",
       "      <td>1164075</td>\n",
       "      <td>2018-08-31</td>\n",
       "      <td>Production Hours</td>\n",
       "      <td>744.0</td>\n",
       "      <td>2018</td>\n",
       "      <td>8</td>\n",
       "      <td>August</td>\n",
       "    </tr>\n",
       "    <tr>\n",
       "      <th>102569</th>\n",
       "      <td>1164075</td>\n",
       "      <td>2018-09-30</td>\n",
       "      <td>Production Hours</td>\n",
       "      <td>720.0</td>\n",
       "      <td>2018</td>\n",
       "      <td>9</td>\n",
       "      <td>September</td>\n",
       "    </tr>\n",
       "    <tr>\n",
       "      <th>41219</th>\n",
       "      <td>1164075</td>\n",
       "      <td>2018-10-31</td>\n",
       "      <td>Production Hours</td>\n",
       "      <td>744.0</td>\n",
       "      <td>2018</td>\n",
       "      <td>10</td>\n",
       "      <td>October</td>\n",
       "    </tr>\n",
       "    <tr>\n",
       "      <th>105222</th>\n",
       "      <td>1164075</td>\n",
       "      <td>2018-11-30</td>\n",
       "      <td>Production Hours</td>\n",
       "      <td>720.0</td>\n",
       "      <td>2018</td>\n",
       "      <td>11</td>\n",
       "      <td>November</td>\n",
       "    </tr>\n",
       "    <tr>\n",
       "      <th>305730</th>\n",
       "      <td>1164075</td>\n",
       "      <td>2018-12-31</td>\n",
       "      <td>Production Hours</td>\n",
       "      <td>743.0</td>\n",
       "      <td>2018</td>\n",
       "      <td>12</td>\n",
       "      <td>December</td>\n",
       "    </tr>\n",
       "    <tr>\n",
       "      <th>248285</th>\n",
       "      <td>1164075</td>\n",
       "      <td>2019-01-31</td>\n",
       "      <td>Production Hours</td>\n",
       "      <td>737.0</td>\n",
       "      <td>2019</td>\n",
       "      <td>1</td>\n",
       "      <td>January</td>\n",
       "    </tr>\n",
       "    <tr>\n",
       "      <th>316412</th>\n",
       "      <td>1164075</td>\n",
       "      <td>2019-02-28</td>\n",
       "      <td>Production Hours</td>\n",
       "      <td>672.0</td>\n",
       "      <td>2019</td>\n",
       "      <td>2</td>\n",
       "      <td>February</td>\n",
       "    </tr>\n",
       "    <tr>\n",
       "      <th>51812</th>\n",
       "      <td>1164075</td>\n",
       "      <td>2019-03-31</td>\n",
       "      <td>Production Hours</td>\n",
       "      <td>744.0</td>\n",
       "      <td>2019</td>\n",
       "      <td>3</td>\n",
       "      <td>March</td>\n",
       "    </tr>\n",
       "    <tr>\n",
       "      <th>115015</th>\n",
       "      <td>1164075</td>\n",
       "      <td>2019-04-30</td>\n",
       "      <td>Production Hours</td>\n",
       "      <td>720.0</td>\n",
       "      <td>2019</td>\n",
       "      <td>4</td>\n",
       "      <td>April</td>\n",
       "    </tr>\n",
       "    <tr>\n",
       "      <th>21153</th>\n",
       "      <td>1164075</td>\n",
       "      <td>2019-05-31</td>\n",
       "      <td>Production Hours</td>\n",
       "      <td>744.0</td>\n",
       "      <td>2019</td>\n",
       "      <td>5</td>\n",
       "      <td>May</td>\n",
       "    </tr>\n",
       "    <tr>\n",
       "      <th>109565</th>\n",
       "      <td>1164075</td>\n",
       "      <td>2019-06-30</td>\n",
       "      <td>Production Hours</td>\n",
       "      <td>720.0</td>\n",
       "      <td>2019</td>\n",
       "      <td>6</td>\n",
       "      <td>June</td>\n",
       "    </tr>\n",
       "    <tr>\n",
       "      <th>25133</th>\n",
       "      <td>1164075</td>\n",
       "      <td>2019-07-31</td>\n",
       "      <td>Production Hours</td>\n",
       "      <td>744.0</td>\n",
       "      <td>2019</td>\n",
       "      <td>7</td>\n",
       "      <td>July</td>\n",
       "    </tr>\n",
       "    <tr>\n",
       "      <th>10993</th>\n",
       "      <td>1164075</td>\n",
       "      <td>2019-08-31</td>\n",
       "      <td>Production Hours</td>\n",
       "      <td>744.0</td>\n",
       "      <td>2019</td>\n",
       "      <td>8</td>\n",
       "      <td>August</td>\n",
       "    </tr>\n",
       "    <tr>\n",
       "      <th>120734</th>\n",
       "      <td>1164075</td>\n",
       "      <td>2019-09-30</td>\n",
       "      <td>Production Hours</td>\n",
       "      <td>720.0</td>\n",
       "      <td>2019</td>\n",
       "      <td>9</td>\n",
       "      <td>September</td>\n",
       "    </tr>\n",
       "    <tr>\n",
       "      <th>6296</th>\n",
       "      <td>1164075</td>\n",
       "      <td>2019-10-31</td>\n",
       "      <td>Production Hours</td>\n",
       "      <td>744.0</td>\n",
       "      <td>2019</td>\n",
       "      <td>10</td>\n",
       "      <td>October</td>\n",
       "    </tr>\n",
       "    <tr>\n",
       "      <th>124844</th>\n",
       "      <td>1164075</td>\n",
       "      <td>2019-11-30</td>\n",
       "      <td>Production Hours</td>\n",
       "      <td>720.0</td>\n",
       "      <td>2019</td>\n",
       "      <td>11</td>\n",
       "      <td>November</td>\n",
       "    </tr>\n",
       "    <tr>\n",
       "      <th>459</th>\n",
       "      <td>1164075</td>\n",
       "      <td>2019-12-31</td>\n",
       "      <td>Production Hours</td>\n",
       "      <td>744.0</td>\n",
       "      <td>2019</td>\n",
       "      <td>12</td>\n",
       "      <td>December</td>\n",
       "    </tr>\n",
       "    <tr>\n",
       "      <th>37341</th>\n",
       "      <td>1164075</td>\n",
       "      <td>2020-01-31</td>\n",
       "      <td>Production Hours</td>\n",
       "      <td>744.0</td>\n",
       "      <td>2020</td>\n",
       "      <td>1</td>\n",
       "      <td>January</td>\n",
       "    </tr>\n",
       "  </tbody>\n",
       "</table>\n",
       "</div>"
      ],
      "text/plain": [
       "        EPAssetsId ProdPeriod          ProdType  Volume  Year  Month Month_Name\n",
       "192637     1164075 2017-05-31  Production Hours   196.0  2017      5        May\n",
       "87325      1164075 2017-06-30  Production Hours   720.0  2017      6       June\n",
       "59149      1164075 2017-07-31  Production Hours   744.0  2017      7       July\n",
       "61413      1164075 2017-08-31  Production Hours   744.0  2017      8     August\n",
       "90952      1164075 2017-09-30  Production Hours   720.0  2017      9  September\n",
       "177702     1164075 2017-10-31  Production Hours   456.0  2017     10    October\n",
       "177391     1164075 2017-10-31  Production Hours   266.0  2017     10    October\n",
       "93433      1164075 2017-11-30  Production Hours   720.0  2017     11   November\n",
       "56849      1164075 2017-12-31  Production Hours   744.0  2017     12   December\n",
       "54362      1164075 2018-01-31  Production Hours   744.0  2018      1    January\n",
       "312285     1164075 2018-02-28  Production Hours   672.0  2018      2   February\n",
       "206714     1164075 2018-03-31  Production Hours   735.0  2018      3      March\n",
       "97050      1164075 2018-04-30  Production Hours   720.0  2018      4      April\n",
       "45631      1164075 2018-05-31  Production Hours   744.0  2018      5        May\n",
       "99310      1164075 2018-06-30  Production Hours   720.0  2018      6       June\n",
       "48643      1164075 2018-07-31  Production Hours   744.0  2018      7       July\n",
       "30452      1164075 2018-08-31  Production Hours   744.0  2018      8     August\n",
       "102569     1164075 2018-09-30  Production Hours   720.0  2018      9  September\n",
       "41219      1164075 2018-10-31  Production Hours   744.0  2018     10    October\n",
       "105222     1164075 2018-11-30  Production Hours   720.0  2018     11   November\n",
       "305730     1164075 2018-12-31  Production Hours   743.0  2018     12   December\n",
       "248285     1164075 2019-01-31  Production Hours   737.0  2019      1    January\n",
       "316412     1164075 2019-02-28  Production Hours   672.0  2019      2   February\n",
       "51812      1164075 2019-03-31  Production Hours   744.0  2019      3      March\n",
       "115015     1164075 2019-04-30  Production Hours   720.0  2019      4      April\n",
       "21153      1164075 2019-05-31  Production Hours   744.0  2019      5        May\n",
       "109565     1164075 2019-06-30  Production Hours   720.0  2019      6       June\n",
       "25133      1164075 2019-07-31  Production Hours   744.0  2019      7       July\n",
       "10993      1164075 2019-08-31  Production Hours   744.0  2019      8     August\n",
       "120734     1164075 2019-09-30  Production Hours   720.0  2019      9  September\n",
       "6296       1164075 2019-10-31  Production Hours   744.0  2019     10    October\n",
       "124844     1164075 2019-11-30  Production Hours   720.0  2019     11   November\n",
       "459        1164075 2019-12-31  Production Hours   744.0  2019     12   December\n",
       "37341      1164075 2020-01-31  Production Hours   744.0  2020      1    January"
      ]
     },
     "execution_count": 20,
     "metadata": {
      "tags": []
     },
     "output_type": "execute_result"
    }
   ],
   "source": [
    "# check a duplicate value in the original production dataframe before pivoting\n",
    "\n",
    "well_production[(well_production['EPAssetsId']== 1164075) & (well_production['ProdType']== 'Production Hours')].sort_values(by=['ProdPeriod'])"
   ]
  },
  {
   "cell_type": "code",
   "execution_count": null,
   "metadata": {
    "colab": {
     "base_uri": "https://localhost:8080/",
     "height": 265
    },
    "colab_type": "code",
    "id": "ISc7RRzBpL0s",
    "outputId": "cdf2f9aa-0d4a-4e80-c93f-390819ecb57f"
   },
   "outputs": [
    {
     "name": "stdout",
     "output_type": "stream",
     "text": [
      "<class 'pandas.core.frame.DataFrame'>\n",
      "Int64Index: 279435 entries, 0 to 319035\n",
      "Data columns (total 7 columns):\n",
      " #   Column      Non-Null Count   Dtype         \n",
      "---  ------      --------------   -----         \n",
      " 0   EPAssetsId  279435 non-null  int64         \n",
      " 1   ProdPeriod  279435 non-null  datetime64[ns]\n",
      " 2   ProdType    279435 non-null  category      \n",
      " 3   Volume      279435 non-null  float64       \n",
      " 4   Year        279435 non-null  int64         \n",
      " 5   Month       279435 non-null  int64         \n",
      " 6   Month_Name  279435 non-null  object        \n",
      "dtypes: category(1), datetime64[ns](1), float64(1), int64(3), object(1)\n",
      "memory usage: 15.2+ MB\n"
     ]
    }
   ],
   "source": [
    "# create separate dataframe for production hours\n",
    "\n",
    "prod_hrs_data = well_production[well_production['ProdType']== 'Production Hours']\n",
    "prod_hrs_data.info()"
   ]
  },
  {
   "cell_type": "code",
   "execution_count": null,
   "metadata": {
    "colab": {},
    "colab_type": "code",
    "id": "RV7RGpnGpL0u"
   },
   "outputs": [],
   "source": [
    "## group production hours table\n",
    "prod_hrs = prod_hrs_data.groupby(by=['EPAssetsId', 'ProdType', 'Year', 'Month'], as_index=False, observed=True).agg({'ProdPeriod':'max', 'Volume': 'sum'}) "
   ]
  },
  {
   "cell_type": "code",
   "execution_count": null,
   "metadata": {
    "colab": {
     "base_uri": "https://localhost:8080/",
     "height": 1000
    },
    "colab_type": "code",
    "id": "Nbd8FYt0pL0w",
    "outputId": "f76c329c-bf73-465e-f557-ae01e65e6a1f"
   },
   "outputs": [
    {
     "data": {
      "text/html": [
       "<div>\n",
       "<style scoped>\n",
       "    .dataframe tbody tr th:only-of-type {\n",
       "        vertical-align: middle;\n",
       "    }\n",
       "\n",
       "    .dataframe tbody tr th {\n",
       "        vertical-align: top;\n",
       "    }\n",
       "\n",
       "    .dataframe thead th {\n",
       "        text-align: right;\n",
       "    }\n",
       "</style>\n",
       "<table border=\"1\" class=\"dataframe\">\n",
       "  <thead>\n",
       "    <tr style=\"text-align: right;\">\n",
       "      <th></th>\n",
       "      <th>EPAssetsId</th>\n",
       "      <th>ProdType</th>\n",
       "      <th>Year</th>\n",
       "      <th>Month</th>\n",
       "      <th>ProdPeriod</th>\n",
       "      <th>Volume</th>\n",
       "    </tr>\n",
       "  </thead>\n",
       "  <tbody>\n",
       "    <tr>\n",
       "      <th>122502</th>\n",
       "      <td>1164075</td>\n",
       "      <td>Production Hours</td>\n",
       "      <td>2017</td>\n",
       "      <td>5</td>\n",
       "      <td>2017-05-31</td>\n",
       "      <td>196.0</td>\n",
       "    </tr>\n",
       "    <tr>\n",
       "      <th>122503</th>\n",
       "      <td>1164075</td>\n",
       "      <td>Production Hours</td>\n",
       "      <td>2017</td>\n",
       "      <td>6</td>\n",
       "      <td>2017-06-30</td>\n",
       "      <td>720.0</td>\n",
       "    </tr>\n",
       "    <tr>\n",
       "      <th>122504</th>\n",
       "      <td>1164075</td>\n",
       "      <td>Production Hours</td>\n",
       "      <td>2017</td>\n",
       "      <td>7</td>\n",
       "      <td>2017-07-31</td>\n",
       "      <td>744.0</td>\n",
       "    </tr>\n",
       "    <tr>\n",
       "      <th>122505</th>\n",
       "      <td>1164075</td>\n",
       "      <td>Production Hours</td>\n",
       "      <td>2017</td>\n",
       "      <td>8</td>\n",
       "      <td>2017-08-31</td>\n",
       "      <td>744.0</td>\n",
       "    </tr>\n",
       "    <tr>\n",
       "      <th>122506</th>\n",
       "      <td>1164075</td>\n",
       "      <td>Production Hours</td>\n",
       "      <td>2017</td>\n",
       "      <td>9</td>\n",
       "      <td>2017-09-30</td>\n",
       "      <td>720.0</td>\n",
       "    </tr>\n",
       "    <tr>\n",
       "      <th>122507</th>\n",
       "      <td>1164075</td>\n",
       "      <td>Production Hours</td>\n",
       "      <td>2017</td>\n",
       "      <td>10</td>\n",
       "      <td>2017-10-31</td>\n",
       "      <td>722.0</td>\n",
       "    </tr>\n",
       "    <tr>\n",
       "      <th>122508</th>\n",
       "      <td>1164075</td>\n",
       "      <td>Production Hours</td>\n",
       "      <td>2017</td>\n",
       "      <td>11</td>\n",
       "      <td>2017-11-30</td>\n",
       "      <td>720.0</td>\n",
       "    </tr>\n",
       "    <tr>\n",
       "      <th>122509</th>\n",
       "      <td>1164075</td>\n",
       "      <td>Production Hours</td>\n",
       "      <td>2017</td>\n",
       "      <td>12</td>\n",
       "      <td>2017-12-31</td>\n",
       "      <td>744.0</td>\n",
       "    </tr>\n",
       "    <tr>\n",
       "      <th>122510</th>\n",
       "      <td>1164075</td>\n",
       "      <td>Production Hours</td>\n",
       "      <td>2018</td>\n",
       "      <td>1</td>\n",
       "      <td>2018-01-31</td>\n",
       "      <td>744.0</td>\n",
       "    </tr>\n",
       "    <tr>\n",
       "      <th>122511</th>\n",
       "      <td>1164075</td>\n",
       "      <td>Production Hours</td>\n",
       "      <td>2018</td>\n",
       "      <td>2</td>\n",
       "      <td>2018-02-28</td>\n",
       "      <td>672.0</td>\n",
       "    </tr>\n",
       "    <tr>\n",
       "      <th>122512</th>\n",
       "      <td>1164075</td>\n",
       "      <td>Production Hours</td>\n",
       "      <td>2018</td>\n",
       "      <td>3</td>\n",
       "      <td>2018-03-31</td>\n",
       "      <td>735.0</td>\n",
       "    </tr>\n",
       "    <tr>\n",
       "      <th>122513</th>\n",
       "      <td>1164075</td>\n",
       "      <td>Production Hours</td>\n",
       "      <td>2018</td>\n",
       "      <td>4</td>\n",
       "      <td>2018-04-30</td>\n",
       "      <td>720.0</td>\n",
       "    </tr>\n",
       "    <tr>\n",
       "      <th>122514</th>\n",
       "      <td>1164075</td>\n",
       "      <td>Production Hours</td>\n",
       "      <td>2018</td>\n",
       "      <td>5</td>\n",
       "      <td>2018-05-31</td>\n",
       "      <td>744.0</td>\n",
       "    </tr>\n",
       "    <tr>\n",
       "      <th>122515</th>\n",
       "      <td>1164075</td>\n",
       "      <td>Production Hours</td>\n",
       "      <td>2018</td>\n",
       "      <td>6</td>\n",
       "      <td>2018-06-30</td>\n",
       "      <td>720.0</td>\n",
       "    </tr>\n",
       "    <tr>\n",
       "      <th>122516</th>\n",
       "      <td>1164075</td>\n",
       "      <td>Production Hours</td>\n",
       "      <td>2018</td>\n",
       "      <td>7</td>\n",
       "      <td>2018-07-31</td>\n",
       "      <td>744.0</td>\n",
       "    </tr>\n",
       "    <tr>\n",
       "      <th>122517</th>\n",
       "      <td>1164075</td>\n",
       "      <td>Production Hours</td>\n",
       "      <td>2018</td>\n",
       "      <td>8</td>\n",
       "      <td>2018-08-31</td>\n",
       "      <td>744.0</td>\n",
       "    </tr>\n",
       "    <tr>\n",
       "      <th>122518</th>\n",
       "      <td>1164075</td>\n",
       "      <td>Production Hours</td>\n",
       "      <td>2018</td>\n",
       "      <td>9</td>\n",
       "      <td>2018-09-30</td>\n",
       "      <td>720.0</td>\n",
       "    </tr>\n",
       "    <tr>\n",
       "      <th>122519</th>\n",
       "      <td>1164075</td>\n",
       "      <td>Production Hours</td>\n",
       "      <td>2018</td>\n",
       "      <td>10</td>\n",
       "      <td>2018-10-31</td>\n",
       "      <td>744.0</td>\n",
       "    </tr>\n",
       "    <tr>\n",
       "      <th>122520</th>\n",
       "      <td>1164075</td>\n",
       "      <td>Production Hours</td>\n",
       "      <td>2018</td>\n",
       "      <td>11</td>\n",
       "      <td>2018-11-30</td>\n",
       "      <td>720.0</td>\n",
       "    </tr>\n",
       "    <tr>\n",
       "      <th>122521</th>\n",
       "      <td>1164075</td>\n",
       "      <td>Production Hours</td>\n",
       "      <td>2018</td>\n",
       "      <td>12</td>\n",
       "      <td>2018-12-31</td>\n",
       "      <td>743.0</td>\n",
       "    </tr>\n",
       "    <tr>\n",
       "      <th>122522</th>\n",
       "      <td>1164075</td>\n",
       "      <td>Production Hours</td>\n",
       "      <td>2019</td>\n",
       "      <td>1</td>\n",
       "      <td>2019-01-31</td>\n",
       "      <td>737.0</td>\n",
       "    </tr>\n",
       "    <tr>\n",
       "      <th>122523</th>\n",
       "      <td>1164075</td>\n",
       "      <td>Production Hours</td>\n",
       "      <td>2019</td>\n",
       "      <td>2</td>\n",
       "      <td>2019-02-28</td>\n",
       "      <td>672.0</td>\n",
       "    </tr>\n",
       "    <tr>\n",
       "      <th>122524</th>\n",
       "      <td>1164075</td>\n",
       "      <td>Production Hours</td>\n",
       "      <td>2019</td>\n",
       "      <td>3</td>\n",
       "      <td>2019-03-31</td>\n",
       "      <td>744.0</td>\n",
       "    </tr>\n",
       "    <tr>\n",
       "      <th>122525</th>\n",
       "      <td>1164075</td>\n",
       "      <td>Production Hours</td>\n",
       "      <td>2019</td>\n",
       "      <td>4</td>\n",
       "      <td>2019-04-30</td>\n",
       "      <td>720.0</td>\n",
       "    </tr>\n",
       "    <tr>\n",
       "      <th>122526</th>\n",
       "      <td>1164075</td>\n",
       "      <td>Production Hours</td>\n",
       "      <td>2019</td>\n",
       "      <td>5</td>\n",
       "      <td>2019-05-31</td>\n",
       "      <td>744.0</td>\n",
       "    </tr>\n",
       "    <tr>\n",
       "      <th>122527</th>\n",
       "      <td>1164075</td>\n",
       "      <td>Production Hours</td>\n",
       "      <td>2019</td>\n",
       "      <td>6</td>\n",
       "      <td>2019-06-30</td>\n",
       "      <td>720.0</td>\n",
       "    </tr>\n",
       "    <tr>\n",
       "      <th>122528</th>\n",
       "      <td>1164075</td>\n",
       "      <td>Production Hours</td>\n",
       "      <td>2019</td>\n",
       "      <td>7</td>\n",
       "      <td>2019-07-31</td>\n",
       "      <td>744.0</td>\n",
       "    </tr>\n",
       "    <tr>\n",
       "      <th>122529</th>\n",
       "      <td>1164075</td>\n",
       "      <td>Production Hours</td>\n",
       "      <td>2019</td>\n",
       "      <td>8</td>\n",
       "      <td>2019-08-31</td>\n",
       "      <td>744.0</td>\n",
       "    </tr>\n",
       "    <tr>\n",
       "      <th>122530</th>\n",
       "      <td>1164075</td>\n",
       "      <td>Production Hours</td>\n",
       "      <td>2019</td>\n",
       "      <td>9</td>\n",
       "      <td>2019-09-30</td>\n",
       "      <td>720.0</td>\n",
       "    </tr>\n",
       "    <tr>\n",
       "      <th>122531</th>\n",
       "      <td>1164075</td>\n",
       "      <td>Production Hours</td>\n",
       "      <td>2019</td>\n",
       "      <td>10</td>\n",
       "      <td>2019-10-31</td>\n",
       "      <td>744.0</td>\n",
       "    </tr>\n",
       "    <tr>\n",
       "      <th>122532</th>\n",
       "      <td>1164075</td>\n",
       "      <td>Production Hours</td>\n",
       "      <td>2019</td>\n",
       "      <td>11</td>\n",
       "      <td>2019-11-30</td>\n",
       "      <td>720.0</td>\n",
       "    </tr>\n",
       "    <tr>\n",
       "      <th>122533</th>\n",
       "      <td>1164075</td>\n",
       "      <td>Production Hours</td>\n",
       "      <td>2019</td>\n",
       "      <td>12</td>\n",
       "      <td>2019-12-31</td>\n",
       "      <td>744.0</td>\n",
       "    </tr>\n",
       "    <tr>\n",
       "      <th>122534</th>\n",
       "      <td>1164075</td>\n",
       "      <td>Production Hours</td>\n",
       "      <td>2020</td>\n",
       "      <td>1</td>\n",
       "      <td>2020-01-31</td>\n",
       "      <td>744.0</td>\n",
       "    </tr>\n",
       "  </tbody>\n",
       "</table>\n",
       "</div>"
      ],
      "text/plain": [
       "        EPAssetsId          ProdType  Year  Month ProdPeriod  Volume\n",
       "122502     1164075  Production Hours  2017      5 2017-05-31   196.0\n",
       "122503     1164075  Production Hours  2017      6 2017-06-30   720.0\n",
       "122504     1164075  Production Hours  2017      7 2017-07-31   744.0\n",
       "122505     1164075  Production Hours  2017      8 2017-08-31   744.0\n",
       "122506     1164075  Production Hours  2017      9 2017-09-30   720.0\n",
       "122507     1164075  Production Hours  2017     10 2017-10-31   722.0\n",
       "122508     1164075  Production Hours  2017     11 2017-11-30   720.0\n",
       "122509     1164075  Production Hours  2017     12 2017-12-31   744.0\n",
       "122510     1164075  Production Hours  2018      1 2018-01-31   744.0\n",
       "122511     1164075  Production Hours  2018      2 2018-02-28   672.0\n",
       "122512     1164075  Production Hours  2018      3 2018-03-31   735.0\n",
       "122513     1164075  Production Hours  2018      4 2018-04-30   720.0\n",
       "122514     1164075  Production Hours  2018      5 2018-05-31   744.0\n",
       "122515     1164075  Production Hours  2018      6 2018-06-30   720.0\n",
       "122516     1164075  Production Hours  2018      7 2018-07-31   744.0\n",
       "122517     1164075  Production Hours  2018      8 2018-08-31   744.0\n",
       "122518     1164075  Production Hours  2018      9 2018-09-30   720.0\n",
       "122519     1164075  Production Hours  2018     10 2018-10-31   744.0\n",
       "122520     1164075  Production Hours  2018     11 2018-11-30   720.0\n",
       "122521     1164075  Production Hours  2018     12 2018-12-31   743.0\n",
       "122522     1164075  Production Hours  2019      1 2019-01-31   737.0\n",
       "122523     1164075  Production Hours  2019      2 2019-02-28   672.0\n",
       "122524     1164075  Production Hours  2019      3 2019-03-31   744.0\n",
       "122525     1164075  Production Hours  2019      4 2019-04-30   720.0\n",
       "122526     1164075  Production Hours  2019      5 2019-05-31   744.0\n",
       "122527     1164075  Production Hours  2019      6 2019-06-30   720.0\n",
       "122528     1164075  Production Hours  2019      7 2019-07-31   744.0\n",
       "122529     1164075  Production Hours  2019      8 2019-08-31   744.0\n",
       "122530     1164075  Production Hours  2019      9 2019-09-30   720.0\n",
       "122531     1164075  Production Hours  2019     10 2019-10-31   744.0\n",
       "122532     1164075  Production Hours  2019     11 2019-11-30   720.0\n",
       "122533     1164075  Production Hours  2019     12 2019-12-31   744.0\n",
       "122534     1164075  Production Hours  2020      1 2020-01-31   744.0"
      ]
     },
     "execution_count": 23,
     "metadata": {
      "tags": []
     },
     "output_type": "execute_result"
    }
   ],
   "source": [
    "# check it with 1164075 for duplicates\n",
    "prod_hrs[prod_hrs['EPAssetsId']== 1164075].sort_values(by=['ProdPeriod'])"
   ]
  },
  {
   "cell_type": "markdown",
   "metadata": {
    "colab_type": "text",
    "id": "K4hMMtkdqYnO"
   },
   "source": [
    "# Group by original production table to get rid of duplicate values"
   ]
  },
  {
   "cell_type": "code",
   "execution_count": null,
   "metadata": {
    "colab": {
     "base_uri": "https://localhost:8080/",
     "height": 265
    },
    "colab_type": "code",
    "id": "CZGN1_lnpL0y",
    "outputId": "6875b70a-ea71-4d43-fc6b-bc2d7cfab67c"
   },
   "outputs": [
    {
     "name": "stdout",
     "output_type": "stream",
     "text": [
      "<class 'pandas.core.frame.DataFrame'>\n",
      "Int64Index: 959619 entries, 0 to 959618\n",
      "Data columns (total 7 columns):\n",
      " #   Column      Non-Null Count   Dtype         \n",
      "---  ------      --------------   -----         \n",
      " 0   EPAssetsId  959619 non-null  int64         \n",
      " 1   ProdType    959619 non-null  category      \n",
      " 2   Year        959619 non-null  int64         \n",
      " 3   Month       959619 non-null  int64         \n",
      " 4   Month_Name  959619 non-null  object        \n",
      " 5   ProdPeriod  959619 non-null  datetime64[ns]\n",
      " 6   Volume      959619 non-null  float64       \n",
      "dtypes: category(1), datetime64[ns](1), float64(1), int64(3), object(1)\n",
      "memory usage: 52.2+ MB\n"
     ]
    }
   ],
   "source": [
    "## groupby original production table \n",
    "new_production_table = well_production.groupby(by=['EPAssetsId', 'ProdType', 'Year', 'Month', 'Month_Name'],as_index=False, observed=True).agg({'ProdPeriod':'max', 'Volume': 'sum'}) \n",
    "\n",
    "new_production_table.info()"
   ]
  },
  {
   "cell_type": "code",
   "execution_count": null,
   "metadata": {
    "colab": {
     "base_uri": "https://localhost:8080/",
     "height": 247
    },
    "colab_type": "code",
    "id": "gvPX4gSepL01",
    "outputId": "eb2e6c08-382c-4ccc-e84e-c9a13162cc07"
   },
   "outputs": [
    {
     "name": "stdout",
     "output_type": "stream",
     "text": [
      "0\n",
      "\n",
      "\n",
      "0\n",
      "\n",
      "\n",
      "0\n",
      "\n",
      "\n",
      "0\n",
      "\n",
      "\n",
      "0\n"
     ]
    }
   ],
   "source": [
    "# check for number of duplicates in the revised production dataframe before pivoting\n",
    "def check_duplicates_in_newproductiontable(ProdType):\n",
    "    x = new_production_table[new_production_table['ProdType']== ProdType]\n",
    "    y = x[x.duplicated(subset=['EPAssetsId', \"ProdPeriod\"])]\n",
    "    print(y['EPAssetsId'].nunique())\n",
    "\n",
    "duplicate_values_for_gas_production = check_duplicates_in_newproductiontable('Gas Production (MMcf)')\n",
    "print('\\n')\n",
    "duplicate_values_for_prod_hrs = check_duplicates_in_newproductiontable('Production Hours')\n",
    "print('\\n')\n",
    "duplicate_values_for_oil_production = check_duplicates_in_newproductiontable('Oil Production (Bbls)')\n",
    "print('\\n')\n",
    "duplicate_values_for_water_production = check_duplicates_in_newproductiontable('Water Production (Bbls)')\n",
    "print('\\n')\n",
    "duplicate_values_for_condensate_production = check_duplicates_in_newproductiontable('Condensate Production (Bbls)')"
   ]
  },
  {
   "cell_type": "markdown",
   "metadata": {
    "colab_type": "text",
    "id": "iOYnLzpeXFFl"
   },
   "source": [
    "## Create pivot tables for production dataframes"
   ]
  },
  {
   "cell_type": "code",
   "execution_count": null,
   "metadata": {
    "colab": {
     "base_uri": "https://localhost:8080/",
     "height": 227
    },
    "colab_type": "code",
    "id": "YLyy3SAApL03",
    "outputId": "d95f0b06-a05d-4219-ea91-a40622f016e2"
   },
   "outputs": [
    {
     "data": {
      "text/html": [
       "<div>\n",
       "<style scoped>\n",
       "    .dataframe tbody tr th:only-of-type {\n",
       "        vertical-align: middle;\n",
       "    }\n",
       "\n",
       "    .dataframe tbody tr th {\n",
       "        vertical-align: top;\n",
       "    }\n",
       "\n",
       "    .dataframe thead th {\n",
       "        text-align: right;\n",
       "    }\n",
       "</style>\n",
       "<table border=\"1\" class=\"dataframe\">\n",
       "  <thead>\n",
       "    <tr style=\"text-align: right;\">\n",
       "      <th></th>\n",
       "      <th></th>\n",
       "      <th></th>\n",
       "      <th>ProdType</th>\n",
       "      <th>Condensate Production (Bbls)</th>\n",
       "      <th>Gas Production (MMcf)</th>\n",
       "      <th>Oil Production (Bbls)</th>\n",
       "      <th>Production Hours</th>\n",
       "      <th>Water Production (Bbls)</th>\n",
       "    </tr>\n",
       "    <tr>\n",
       "      <th>EPAssetsId</th>\n",
       "      <th>Year</th>\n",
       "      <th>Month</th>\n",
       "      <th>ProdPeriod</th>\n",
       "      <th></th>\n",
       "      <th></th>\n",
       "      <th></th>\n",
       "      <th></th>\n",
       "      <th></th>\n",
       "    </tr>\n",
       "  </thead>\n",
       "  <tbody>\n",
       "    <tr>\n",
       "      <th rowspan=\"5\" valign=\"top\">3373</th>\n",
       "      <th rowspan=\"5\" valign=\"top\">2017</th>\n",
       "      <th>8</th>\n",
       "      <th>2017-08-31</th>\n",
       "      <td>NaN</td>\n",
       "      <td>2.330777</td>\n",
       "      <td>NaN</td>\n",
       "      <td>60.0</td>\n",
       "      <td>NaN</td>\n",
       "    </tr>\n",
       "    <tr>\n",
       "      <th>9</th>\n",
       "      <th>2017-09-30</th>\n",
       "      <td>3744.94692</td>\n",
       "      <td>55.009864</td>\n",
       "      <td>NaN</td>\n",
       "      <td>499.2</td>\n",
       "      <td>2213.38062</td>\n",
       "    </tr>\n",
       "    <tr>\n",
       "      <th>10</th>\n",
       "      <th>2017-10-31</th>\n",
       "      <td>3792.12042</td>\n",
       "      <td>48.999285</td>\n",
       "      <td>NaN</td>\n",
       "      <td>417.6</td>\n",
       "      <td>2327.22600</td>\n",
       "    </tr>\n",
       "    <tr>\n",
       "      <th>11</th>\n",
       "      <th>2017-11-30</th>\n",
       "      <td>5577.16566</td>\n",
       "      <td>58.516624</td>\n",
       "      <td>NaN</td>\n",
       "      <td>619.2</td>\n",
       "      <td>2127.21036</td>\n",
       "    </tr>\n",
       "    <tr>\n",
       "      <th>12</th>\n",
       "      <th>2017-12-31</th>\n",
       "      <td>4994.73018</td>\n",
       "      <td>77.385321</td>\n",
       "      <td>NaN</td>\n",
       "      <td>662.4</td>\n",
       "      <td>2403.96156</td>\n",
       "    </tr>\n",
       "  </tbody>\n",
       "</table>\n",
       "</div>"
      ],
      "text/plain": [
       "ProdType                          Condensate Production (Bbls)  ...  Water Production (Bbls)\n",
       "EPAssetsId Year Month ProdPeriod                                ...                         \n",
       "3373       2017 8     2017-08-31                           NaN  ...                      NaN\n",
       "                9     2017-09-30                    3744.94692  ...               2213.38062\n",
       "                10    2017-10-31                    3792.12042  ...               2327.22600\n",
       "                11    2017-11-30                    5577.16566  ...               2127.21036\n",
       "                12    2017-12-31                    4994.73018  ...               2403.96156\n",
       "\n",
       "[5 rows x 5 columns]"
      ]
     },
     "execution_count": 26,
     "metadata": {
      "tags": []
     },
     "output_type": "execute_result"
    }
   ],
   "source": [
    "new_production_pivot= new_production_table.pivot_table(index=['EPAssetsId', 'Year', 'Month','ProdPeriod'], columns='ProdType', values='Volume', aggfunc=np.sum, observed=True)\n",
    "\n",
    "new_production_pivot.head()"
   ]
  },
  {
   "cell_type": "code",
   "execution_count": null,
   "metadata": {
    "colab": {
     "base_uri": "https://localhost:8080/",
     "height": 70
    },
    "colab_type": "code",
    "id": "wzur_JkapL05",
    "outputId": "82da1c26-d21f-4723-95d8-9c8639cc1000"
   },
   "outputs": [
    {
     "name": "stderr",
     "output_type": "stream",
     "text": [
      ":FEATURES DONE:                    |█████████████████████| [100%]   00:03  -> (00:00 left)\n",
      ":PAIRWISE DONE:                    |█████████████████████| [100%]   00:00  -> (00:00 left)\n"
     ]
    },
    {
     "name": "stdout",
     "output_type": "stream",
     "text": [
      "Creating Associations graph... DONE!\n"
     ]
    }
   ],
   "source": [
    "new_wp_pivot=sv.analyze(new_production_pivot)"
   ]
  },
  {
   "cell_type": "code",
   "execution_count": null,
   "metadata": {
    "colab": {
     "base_uri": "https://localhost:8080/",
     "height": 34
    },
    "colab_type": "code",
    "id": "AkBPVcMEpL07",
    "outputId": "ac0c8731-587e-4a9c-93b3-31c5d5d50c90"
   },
   "outputs": [
    {
     "name": "stdout",
     "output_type": "stream",
     "text": [
      "Report new_wp.html was generated! NOTEBOOK/COLAB USERS: no browser will pop up, the report is saved in your notebook/colab files.\n"
     ]
    }
   ],
   "source": [
    "new_wp_pivot.show_html('new_wp.html')"
   ]
  },
  {
   "cell_type": "code",
   "execution_count": null,
   "metadata": {
    "colab": {
     "base_uri": "https://localhost:8080/",
     "height": 227
    },
    "colab_type": "code",
    "id": "fwNrXoxntLqC",
    "outputId": "cc687f7d-f55d-48a7-88fc-09f4e897045c"
   },
   "outputs": [
    {
     "data": {
      "text/html": [
       "<div>\n",
       "<style scoped>\n",
       "    .dataframe tbody tr th:only-of-type {\n",
       "        vertical-align: middle;\n",
       "    }\n",
       "\n",
       "    .dataframe tbody tr th {\n",
       "        vertical-align: top;\n",
       "    }\n",
       "\n",
       "    .dataframe thead th {\n",
       "        text-align: right;\n",
       "    }\n",
       "</style>\n",
       "<table border=\"1\" class=\"dataframe\">\n",
       "  <thead>\n",
       "    <tr style=\"text-align: right;\">\n",
       "      <th>ProdType</th>\n",
       "      <th>Condensate Production (Bbls)</th>\n",
       "      <th>Gas Production (MMcf)</th>\n",
       "      <th>Oil Production (Bbls)</th>\n",
       "      <th>Production Hours</th>\n",
       "      <th>Water Production (Bbls)</th>\n",
       "    </tr>\n",
       "    <tr>\n",
       "      <th>EPAssetsId</th>\n",
       "      <th></th>\n",
       "      <th></th>\n",
       "      <th></th>\n",
       "      <th></th>\n",
       "      <th></th>\n",
       "    </tr>\n",
       "  </thead>\n",
       "  <tbody>\n",
       "    <tr>\n",
       "      <th>3373</th>\n",
       "      <td>48923.32236</td>\n",
       "      <td>1627.348362</td>\n",
       "      <td>NaN</td>\n",
       "      <td>17450.4</td>\n",
       "      <td>24642.17844</td>\n",
       "    </tr>\n",
       "    <tr>\n",
       "      <th>6976</th>\n",
       "      <td>4753.83084</td>\n",
       "      <td>1358.849937</td>\n",
       "      <td>NaN</td>\n",
       "      <td>31180.8</td>\n",
       "      <td>40039.60884</td>\n",
       "    </tr>\n",
       "    <tr>\n",
       "      <th>6977</th>\n",
       "      <td>5082.15840</td>\n",
       "      <td>2767.624407</td>\n",
       "      <td>NaN</td>\n",
       "      <td>30981.6</td>\n",
       "      <td>29144.41728</td>\n",
       "    </tr>\n",
       "    <tr>\n",
       "      <th>7129</th>\n",
       "      <td>116.36130</td>\n",
       "      <td>1706.372290</td>\n",
       "      <td>NaN</td>\n",
       "      <td>17536.8</td>\n",
       "      <td>24205.66632</td>\n",
       "    </tr>\n",
       "    <tr>\n",
       "      <th>7130</th>\n",
       "      <td>164.79276</td>\n",
       "      <td>2554.319484</td>\n",
       "      <td>NaN</td>\n",
       "      <td>20496.0</td>\n",
       "      <td>21244.42848</td>\n",
       "    </tr>\n",
       "  </tbody>\n",
       "</table>\n",
       "</div>"
      ],
      "text/plain": [
       "ProdType    Condensate Production (Bbls)  ...  Water Production (Bbls)\n",
       "EPAssetsId                                ...                         \n",
       "3373                         48923.32236  ...              24642.17844\n",
       "6976                          4753.83084  ...              40039.60884\n",
       "6977                          5082.15840  ...              29144.41728\n",
       "7129                           116.36130  ...              24205.66632\n",
       "7130                           164.79276  ...              21244.42848\n",
       "\n",
       "[5 rows x 5 columns]"
      ]
     },
     "execution_count": 29,
     "metadata": {
      "tags": []
     },
     "output_type": "execute_result"
    }
   ],
   "source": [
    "# create new dataframe with Total Production for each well\n",
    "production_pivot_total_eachwell = new_production_table.pivot_table(index=['EPAssetsId'], columns='ProdType', values='Volume', aggfunc=np.sum, observed=True)\n",
    "\n",
    "\n",
    "production_pivot_total_eachwell.head()"
   ]
  },
  {
   "cell_type": "code",
   "execution_count": null,
   "metadata": {
    "colab": {
     "base_uri": "https://localhost:8080/",
     "height": 230
    },
    "colab_type": "code",
    "id": "XLl4msuIKh2Q",
    "outputId": "344f5681-cf88-4f97-c798-74c5515e09c3"
   },
   "outputs": [
    {
     "name": "stdout",
     "output_type": "stream",
     "text": [
      "<class 'pandas.core.frame.DataFrame'>\n",
      "Int64Index: 10386 entries, 3373 to 2625908\n",
      "Data columns (total 5 columns):\n",
      " #   Column                        Non-Null Count  Dtype  \n",
      "---  ------                        --------------  -----  \n",
      " 0   Condensate Production (Bbls)  2924 non-null   float64\n",
      " 1   Gas Production (MMcf)         10374 non-null  float64\n",
      " 2   Oil Production (Bbls)         6978 non-null   float64\n",
      " 3   Production Hours              10196 non-null  float64\n",
      " 4   Water Production (Bbls)       7254 non-null   float64\n",
      "dtypes: float64(5)\n",
      "memory usage: 486.8 KB\n"
     ]
    }
   ],
   "source": [
    "production_pivot_total_eachwell.info()"
   ]
  },
  {
   "cell_type": "code",
   "execution_count": null,
   "metadata": {
    "colab": {
     "base_uri": "https://localhost:8080/",
     "height": 34
    },
    "colab_type": "code",
    "id": "tUC42WNCPiZT",
    "outputId": "6fdf7a11-2570-4b66-f1dc-31ad72ccb980"
   },
   "outputs": [
    {
     "data": {
      "text/plain": [
       "True"
      ]
     },
     "execution_count": 31,
     "metadata": {
      "tags": []
     },
     "output_type": "execute_result"
    }
   ],
   "source": [
    "# check if row has an unique index\n",
    "production_pivot_total_eachwell.index.is_unique"
   ]
  },
  {
   "cell_type": "code",
   "execution_count": null,
   "metadata": {
    "colab": {
     "base_uri": "https://localhost:8080/",
     "height": 34
    },
    "colab_type": "code",
    "id": "cFP50rCxQpda",
    "outputId": "e04f9bad-7923-4eb7-d3a4-d93151dc2834"
   },
   "outputs": [
    {
     "data": {
      "text/plain": [
       "False"
      ]
     },
     "execution_count": 32,
     "metadata": {
      "tags": []
     },
     "output_type": "execute_result"
    }
   ],
   "source": [
    "# check if index values has duplicates\n",
    "production_pivot_total_eachwell.index.has_duplicates"
   ]
  },
  {
   "cell_type": "markdown",
   "metadata": {
    "colab_type": "text",
    "id": "C9UYzWSwXX7b"
   },
   "source": [
    "## Find Wells with no production hours"
   ]
  },
  {
   "cell_type": "code",
   "execution_count": null,
   "metadata": {
    "colab": {
     "base_uri": "https://localhost:8080/",
     "height": 230
    },
    "colab_type": "code",
    "id": "QlRtRaR0HyPp",
    "outputId": "1f83e108-767b-4d23-8fdb-a694bba0e4a2"
   },
   "outputs": [
    {
     "name": "stdout",
     "output_type": "stream",
     "text": [
      "<class 'pandas.core.frame.DataFrame'>\n",
      "Int64Index: 190 entries, 2607534 to 2625202\n",
      "Data columns (total 5 columns):\n",
      " #   Column                        Non-Null Count  Dtype  \n",
      "---  ------                        --------------  -----  \n",
      " 0   Condensate Production (Bbls)  95 non-null     float64\n",
      " 1   Gas Production (MMcf)         190 non-null    float64\n",
      " 2   Oil Production (Bbls)         82 non-null     float64\n",
      " 3   Production Hours              0 non-null      float64\n",
      " 4   Water Production (Bbls)       51 non-null     float64\n",
      "dtypes: float64(5)\n",
      "memory usage: 8.9 KB\n"
     ]
    }
   ],
   "source": [
    "# create new dataframe with no production recorded for each well\n",
    "no_production_hrs = production_pivot_total_eachwell[pd.isnull(production_pivot_total_eachwell['Production Hours'])]\n",
    "\n",
    "no_production_hrs.info()"
   ]
  },
  {
   "cell_type": "markdown",
   "metadata": {
    "colab_type": "text",
    "id": "I96MyvbAXjGn"
   },
   "source": [
    "## Find Wells with Reporting period of only one (1) month"
   ]
  },
  {
   "cell_type": "code",
   "execution_count": null,
   "metadata": {
    "colab": {
     "base_uri": "https://localhost:8080/",
     "height": 227
    },
    "colab_type": "code",
    "id": "rPuX76XqdypV",
    "outputId": "7a7b83b2-a9f1-4423-a8e2-949c5f3698c2"
   },
   "outputs": [
    {
     "data": {
      "text/html": [
       "<div>\n",
       "<style scoped>\n",
       "    .dataframe tbody tr th:only-of-type {\n",
       "        vertical-align: middle;\n",
       "    }\n",
       "\n",
       "    .dataframe tbody tr th {\n",
       "        vertical-align: top;\n",
       "    }\n",
       "\n",
       "    .dataframe thead tr th {\n",
       "        text-align: left;\n",
       "    }\n",
       "</style>\n",
       "<table border=\"1\" class=\"dataframe\">\n",
       "  <thead>\n",
       "    <tr>\n",
       "      <th></th>\n",
       "      <th>EPAssetsId</th>\n",
       "      <th>ProdType</th>\n",
       "      <th colspan=\"2\" halign=\"left\">ProdPeriod</th>\n",
       "      <th>Month_Name</th>\n",
       "    </tr>\n",
       "    <tr>\n",
       "      <th></th>\n",
       "      <th></th>\n",
       "      <th></th>\n",
       "      <th>min</th>\n",
       "      <th>max</th>\n",
       "      <th>count</th>\n",
       "    </tr>\n",
       "  </thead>\n",
       "  <tbody>\n",
       "    <tr>\n",
       "      <th>0</th>\n",
       "      <td>3373</td>\n",
       "      <td>Production Hours</td>\n",
       "      <td>2017-08-31</td>\n",
       "      <td>2019-12-31</td>\n",
       "      <td>29</td>\n",
       "    </tr>\n",
       "    <tr>\n",
       "      <th>1</th>\n",
       "      <td>3373</td>\n",
       "      <td>Condensate Production (Bbls)</td>\n",
       "      <td>2017-09-30</td>\n",
       "      <td>2019-12-31</td>\n",
       "      <td>28</td>\n",
       "    </tr>\n",
       "    <tr>\n",
       "      <th>2</th>\n",
       "      <td>3373</td>\n",
       "      <td>Water Production (Bbls)</td>\n",
       "      <td>2017-09-30</td>\n",
       "      <td>2019-12-31</td>\n",
       "      <td>28</td>\n",
       "    </tr>\n",
       "    <tr>\n",
       "      <th>3</th>\n",
       "      <td>3373</td>\n",
       "      <td>Gas Production (MMcf)</td>\n",
       "      <td>2017-08-31</td>\n",
       "      <td>2019-12-31</td>\n",
       "      <td>29</td>\n",
       "    </tr>\n",
       "    <tr>\n",
       "      <th>4</th>\n",
       "      <td>6976</td>\n",
       "      <td>Production Hours</td>\n",
       "      <td>2015-11-30</td>\n",
       "      <td>2019-12-31</td>\n",
       "      <td>48</td>\n",
       "    </tr>\n",
       "  </tbody>\n",
       "</table>\n",
       "</div>"
      ],
      "text/plain": [
       "  EPAssetsId                      ProdType ProdPeriod            Month_Name\n",
       "                                                  min        max      count\n",
       "0       3373              Production Hours 2017-08-31 2019-12-31         29\n",
       "1       3373  Condensate Production (Bbls) 2017-09-30 2019-12-31         28\n",
       "2       3373       Water Production (Bbls) 2017-09-30 2019-12-31         28\n",
       "3       3373         Gas Production (MMcf) 2017-08-31 2019-12-31         29\n",
       "4       6976              Production Hours 2015-11-30 2019-12-31         48"
      ]
     },
     "execution_count": 34,
     "metadata": {
      "tags": []
     },
     "output_type": "execute_result"
    }
   ],
   "source": [
    "reporting_periods = new_production_table.groupby(by=['EPAssetsId', 'ProdType'], as_index=False, observed=True).agg({'ProdPeriod':['min', 'max'], 'Month_Name':'count' })\n",
    "\n",
    "reporting_periods.head()"
   ]
  },
  {
   "cell_type": "code",
   "execution_count": null,
   "metadata": {
    "colab": {
     "base_uri": "https://localhost:8080/",
     "height": 230
    },
    "colab_type": "code",
    "id": "a_-82R2qv4RF",
    "outputId": "7945cb22-4f84-4c17-a1b5-41f244cb6278"
   },
   "outputs": [
    {
     "name": "stdout",
     "output_type": "stream",
     "text": [
      "<class 'pandas.core.frame.DataFrame'>\n",
      "Int64Index: 37726 entries, 0 to 37725\n",
      "Data columns (total 5 columns):\n",
      " #   Column               Non-Null Count  Dtype         \n",
      "---  ------               --------------  -----         \n",
      " 0   (EPAssetsId, )       37726 non-null  int64         \n",
      " 1   (ProdType, )         37726 non-null  category      \n",
      " 2   (ProdPeriod, min)    37726 non-null  datetime64[ns]\n",
      " 3   (ProdPeriod, max)    37726 non-null  datetime64[ns]\n",
      " 4   (Month_Name, count)  37726 non-null  int64         \n",
      "dtypes: category(1), datetime64[ns](2), int64(2)\n",
      "memory usage: 1.5 MB\n"
     ]
    }
   ],
   "source": [
    "reporting_periods.info()"
   ]
  },
  {
   "cell_type": "code",
   "execution_count": null,
   "metadata": {
    "colab": {
     "base_uri": "https://localhost:8080/",
     "height": 317
    },
    "colab_type": "code",
    "id": "3SqLX-u5FaUa",
    "outputId": "b702e590-5ca8-414e-d36f-43add81e80b5"
   },
   "outputs": [
    {
     "data": {
      "text/html": [
       "<div>\n",
       "<style scoped>\n",
       "    .dataframe tbody tr th:only-of-type {\n",
       "        vertical-align: middle;\n",
       "    }\n",
       "\n",
       "    .dataframe tbody tr th {\n",
       "        vertical-align: top;\n",
       "    }\n",
       "\n",
       "    .dataframe thead tr th {\n",
       "        text-align: left;\n",
       "    }\n",
       "</style>\n",
       "<table border=\"1\" class=\"dataframe\">\n",
       "  <thead>\n",
       "    <tr>\n",
       "      <th></th>\n",
       "      <th>EPAssetsId</th>\n",
       "      <th>Month_Name</th>\n",
       "    </tr>\n",
       "    <tr>\n",
       "      <th></th>\n",
       "      <th></th>\n",
       "      <th>count</th>\n",
       "    </tr>\n",
       "  </thead>\n",
       "  <tbody>\n",
       "    <tr>\n",
       "      <th>count</th>\n",
       "      <td>3.772600e+04</td>\n",
       "      <td>37726.000000</td>\n",
       "    </tr>\n",
       "    <tr>\n",
       "      <th>mean</th>\n",
       "      <td>1.579560e+06</td>\n",
       "      <td>25.436542</td>\n",
       "    </tr>\n",
       "    <tr>\n",
       "      <th>std</th>\n",
       "      <td>9.629405e+05</td>\n",
       "      <td>15.512204</td>\n",
       "    </tr>\n",
       "    <tr>\n",
       "      <th>min</th>\n",
       "      <td>3.373000e+03</td>\n",
       "      <td>1.000000</td>\n",
       "    </tr>\n",
       "    <tr>\n",
       "      <th>25%</th>\n",
       "      <td>1.152831e+06</td>\n",
       "      <td>13.000000</td>\n",
       "    </tr>\n",
       "    <tr>\n",
       "      <th>50%</th>\n",
       "      <td>1.170591e+06</td>\n",
       "      <td>24.000000</td>\n",
       "    </tr>\n",
       "    <tr>\n",
       "      <th>75%</th>\n",
       "      <td>2.600789e+06</td>\n",
       "      <td>36.000000</td>\n",
       "    </tr>\n",
       "    <tr>\n",
       "      <th>max</th>\n",
       "      <td>2.625908e+06</td>\n",
       "      <td>61.000000</td>\n",
       "    </tr>\n",
       "  </tbody>\n",
       "</table>\n",
       "</div>"
      ],
      "text/plain": [
       "         EPAssetsId    Month_Name\n",
       "                            count\n",
       "count  3.772600e+04  37726.000000\n",
       "mean   1.579560e+06     25.436542\n",
       "std    9.629405e+05     15.512204\n",
       "min    3.373000e+03      1.000000\n",
       "25%    1.152831e+06     13.000000\n",
       "50%    1.170591e+06     24.000000\n",
       "75%    2.600789e+06     36.000000\n",
       "max    2.625908e+06     61.000000"
      ]
     },
     "execution_count": 36,
     "metadata": {
      "tags": []
     },
     "output_type": "execute_result"
    }
   ],
   "source": [
    "reporting_periods.describe()"
   ]
  },
  {
   "cell_type": "code",
   "execution_count": null,
   "metadata": {
    "colab": {
     "base_uri": "https://localhost:8080/",
     "height": 415
    },
    "colab_type": "code",
    "id": "wFfUjITgFpxZ",
    "outputId": "4167fbc1-8db7-4bac-b4d3-d908a2a38a90"
   },
   "outputs": [
    {
     "data": {
      "text/plain": [
       "array([[<matplotlib.axes._subplots.AxesSubplot object at 0x7f0dcd164c50>]],\n",
       "      dtype=object)"
      ]
     },
     "execution_count": 37,
     "metadata": {
      "tags": []
     },
     "output_type": "execute_result"
    },
    {
     "data": {
      "image/png": "[encoded data removed]",
      "text/plain": [
       "<Figure size 600x400 with 1 Axes>"
      ]
     },
     "metadata": {
      "tags": []
     },
     "output_type": "display_data"
    }
   ],
   "source": [
    "reporting_periods.hist(column =('Month_Name', 'count') )"
   ]
  },
  {
   "cell_type": "code",
   "execution_count": null,
   "metadata": {
    "colab": {
     "base_uri": "https://localhost:8080/",
     "height": 321
    },
    "colab_type": "code",
    "id": "DR5hxXqtnWIF",
    "outputId": "21b18904-1106-4b4c-9c25-a65d672aa7d4"
   },
   "outputs": [
    {
     "data": {
      "text/html": [
       "<div>\n",
       "<style scoped>\n",
       "    .dataframe tbody tr th:only-of-type {\n",
       "        vertical-align: middle;\n",
       "    }\n",
       "\n",
       "    .dataframe tbody tr th {\n",
       "        vertical-align: top;\n",
       "    }\n",
       "\n",
       "    .dataframe thead tr th {\n",
       "        text-align: left;\n",
       "    }\n",
       "\n",
       "    .dataframe thead tr:last-of-type th {\n",
       "        text-align: right;\n",
       "    }\n",
       "</style>\n",
       "<table border=\"1\" class=\"dataframe\">\n",
       "  <thead>\n",
       "    <tr>\n",
       "      <th></th>\n",
       "      <th colspan=\"10\" halign=\"left\">ProdPeriod</th>\n",
       "      <th colspan=\"5\" halign=\"left\">Month_Name</th>\n",
       "    </tr>\n",
       "    <tr>\n",
       "      <th></th>\n",
       "      <th colspan=\"5\" halign=\"left\">min</th>\n",
       "      <th colspan=\"5\" halign=\"left\">max</th>\n",
       "      <th colspan=\"5\" halign=\"left\">count</th>\n",
       "    </tr>\n",
       "    <tr>\n",
       "      <th>ProdType</th>\n",
       "      <th>Condensate Production (Bbls)</th>\n",
       "      <th>Gas Production (MMcf)</th>\n",
       "      <th>Oil Production (Bbls)</th>\n",
       "      <th>Production Hours</th>\n",
       "      <th>Water Production (Bbls)</th>\n",
       "      <th>Condensate Production (Bbls)</th>\n",
       "      <th>Gas Production (MMcf)</th>\n",
       "      <th>Oil Production (Bbls)</th>\n",
       "      <th>Production Hours</th>\n",
       "      <th>Water Production (Bbls)</th>\n",
       "      <th>Condensate Production (Bbls)</th>\n",
       "      <th>Gas Production (MMcf)</th>\n",
       "      <th>Oil Production (Bbls)</th>\n",
       "      <th>Production Hours</th>\n",
       "      <th>Water Production (Bbls)</th>\n",
       "    </tr>\n",
       "    <tr>\n",
       "      <th>EPAssetsId</th>\n",
       "      <th></th>\n",
       "      <th></th>\n",
       "      <th></th>\n",
       "      <th></th>\n",
       "      <th></th>\n",
       "      <th></th>\n",
       "      <th></th>\n",
       "      <th></th>\n",
       "      <th></th>\n",
       "      <th></th>\n",
       "      <th></th>\n",
       "      <th></th>\n",
       "      <th></th>\n",
       "      <th></th>\n",
       "      <th></th>\n",
       "    </tr>\n",
       "  </thead>\n",
       "  <tbody>\n",
       "    <tr>\n",
       "      <th>3373</th>\n",
       "      <td>2017-09-30</td>\n",
       "      <td>2017-08-31</td>\n",
       "      <td>NaT</td>\n",
       "      <td>2017-08-31</td>\n",
       "      <td>2017-09-30</td>\n",
       "      <td>2019-12-31</td>\n",
       "      <td>2019-12-31</td>\n",
       "      <td>NaT</td>\n",
       "      <td>2019-12-31</td>\n",
       "      <td>2019-12-31</td>\n",
       "      <td>28.0</td>\n",
       "      <td>29.0</td>\n",
       "      <td>NaN</td>\n",
       "      <td>29.0</td>\n",
       "      <td>28.0</td>\n",
       "    </tr>\n",
       "    <tr>\n",
       "      <th>6976</th>\n",
       "      <td>2015-11-30</td>\n",
       "      <td>2015-11-30</td>\n",
       "      <td>NaT</td>\n",
       "      <td>2015-11-30</td>\n",
       "      <td>2015-11-30</td>\n",
       "      <td>2019-12-31</td>\n",
       "      <td>2019-12-31</td>\n",
       "      <td>NaT</td>\n",
       "      <td>2019-12-31</td>\n",
       "      <td>2019-12-31</td>\n",
       "      <td>48.0</td>\n",
       "      <td>48.0</td>\n",
       "      <td>NaN</td>\n",
       "      <td>48.0</td>\n",
       "      <td>48.0</td>\n",
       "    </tr>\n",
       "    <tr>\n",
       "      <th>6977</th>\n",
       "      <td>2015-11-30</td>\n",
       "      <td>2015-11-30</td>\n",
       "      <td>NaT</td>\n",
       "      <td>2015-11-30</td>\n",
       "      <td>2015-11-30</td>\n",
       "      <td>2019-12-31</td>\n",
       "      <td>2019-12-31</td>\n",
       "      <td>NaT</td>\n",
       "      <td>2019-12-31</td>\n",
       "      <td>2019-12-31</td>\n",
       "      <td>49.0</td>\n",
       "      <td>49.0</td>\n",
       "      <td>NaN</td>\n",
       "      <td>49.0</td>\n",
       "      <td>49.0</td>\n",
       "    </tr>\n",
       "    <tr>\n",
       "      <th>7129</th>\n",
       "      <td>2018-01-31</td>\n",
       "      <td>2017-06-30</td>\n",
       "      <td>NaT</td>\n",
       "      <td>2017-06-30</td>\n",
       "      <td>2017-06-30</td>\n",
       "      <td>2019-05-31</td>\n",
       "      <td>2019-12-31</td>\n",
       "      <td>NaT</td>\n",
       "      <td>2019-12-31</td>\n",
       "      <td>2019-12-31</td>\n",
       "      <td>3.0</td>\n",
       "      <td>29.0</td>\n",
       "      <td>NaN</td>\n",
       "      <td>29.0</td>\n",
       "      <td>29.0</td>\n",
       "    </tr>\n",
       "    <tr>\n",
       "      <th>7130</th>\n",
       "      <td>2018-01-31</td>\n",
       "      <td>2017-06-30</td>\n",
       "      <td>NaT</td>\n",
       "      <td>2017-06-30</td>\n",
       "      <td>2017-06-30</td>\n",
       "      <td>2018-05-31</td>\n",
       "      <td>2019-12-31</td>\n",
       "      <td>NaT</td>\n",
       "      <td>2019-12-31</td>\n",
       "      <td>2019-12-31</td>\n",
       "      <td>4.0</td>\n",
       "      <td>31.0</td>\n",
       "      <td>NaN</td>\n",
       "      <td>31.0</td>\n",
       "      <td>31.0</td>\n",
       "    </tr>\n",
       "  </tbody>\n",
       "</table>\n",
       "</div>"
      ],
      "text/plain": [
       "                             ProdPeriod  ...              Month_Name\n",
       "                                    min  ...                   count\n",
       "ProdType   Condensate Production (Bbls)  ... Water Production (Bbls)\n",
       "EPAssetsId                               ...                        \n",
       "3373                         2017-09-30  ...                    28.0\n",
       "6976                         2015-11-30  ...                    48.0\n",
       "6977                         2015-11-30  ...                    49.0\n",
       "7129                         2018-01-31  ...                    29.0\n",
       "7130                         2018-01-31  ...                    31.0\n",
       "\n",
       "[5 rows x 15 columns]"
      ]
     },
     "execution_count": 38,
     "metadata": {
      "tags": []
     },
     "output_type": "execute_result"
    }
   ],
   "source": [
    "## pivot reporting periods\n",
    "\n",
    "reporting_periods_pivot = reporting_periods.pivot(index='EPAssetsId', columns='ProdType')\n",
    "\n",
    "reporting_periods_pivot.head()"
   ]
  },
  {
   "cell_type": "markdown",
   "metadata": {
    "colab_type": "text",
    "id": "fO-PUTqAvYLt"
   },
   "source": [
    "##### Some wells have reporting periods that vary for the production types. Groupby by Well only to find out max number of reporting periods irrespective of production types. "
   ]
  },
  {
   "cell_type": "code",
   "execution_count": null,
   "metadata": {
    "colab": {
     "base_uri": "https://localhost:8080/",
     "height": 197
    },
    "colab_type": "code",
    "id": "BdG6KV01XKzN",
    "outputId": "08aadf54-3dce-4a12-b9db-c80b9e11373d"
   },
   "outputs": [
    {
     "data": {
      "text/html": [
       "<div>\n",
       "<style scoped>\n",
       "    .dataframe tbody tr th:only-of-type {\n",
       "        vertical-align: middle;\n",
       "    }\n",
       "\n",
       "    .dataframe tbody tr th {\n",
       "        vertical-align: top;\n",
       "    }\n",
       "\n",
       "    .dataframe thead th {\n",
       "        text-align: right;\n",
       "    }\n",
       "</style>\n",
       "<table border=\"1\" class=\"dataframe\">\n",
       "  <thead>\n",
       "    <tr style=\"text-align: right;\">\n",
       "      <th></th>\n",
       "      <th>EPAssetsId</th>\n",
       "      <th>ProdType</th>\n",
       "      <th>ProdPeriod min</th>\n",
       "      <th>ProdPeriod max</th>\n",
       "      <th>Month_Name count</th>\n",
       "    </tr>\n",
       "  </thead>\n",
       "  <tbody>\n",
       "    <tr>\n",
       "      <th>0</th>\n",
       "      <td>3373</td>\n",
       "      <td>Production Hours</td>\n",
       "      <td>2017-08-31</td>\n",
       "      <td>2019-12-31</td>\n",
       "      <td>29</td>\n",
       "    </tr>\n",
       "    <tr>\n",
       "      <th>1</th>\n",
       "      <td>3373</td>\n",
       "      <td>Condensate Production (Bbls)</td>\n",
       "      <td>2017-09-30</td>\n",
       "      <td>2019-12-31</td>\n",
       "      <td>28</td>\n",
       "    </tr>\n",
       "    <tr>\n",
       "      <th>2</th>\n",
       "      <td>3373</td>\n",
       "      <td>Water Production (Bbls)</td>\n",
       "      <td>2017-09-30</td>\n",
       "      <td>2019-12-31</td>\n",
       "      <td>28</td>\n",
       "    </tr>\n",
       "    <tr>\n",
       "      <th>3</th>\n",
       "      <td>3373</td>\n",
       "      <td>Gas Production (MMcf)</td>\n",
       "      <td>2017-08-31</td>\n",
       "      <td>2019-12-31</td>\n",
       "      <td>29</td>\n",
       "    </tr>\n",
       "    <tr>\n",
       "      <th>4</th>\n",
       "      <td>6976</td>\n",
       "      <td>Production Hours</td>\n",
       "      <td>2015-11-30</td>\n",
       "      <td>2019-12-31</td>\n",
       "      <td>48</td>\n",
       "    </tr>\n",
       "  </tbody>\n",
       "</table>\n",
       "</div>"
      ],
      "text/plain": [
       "   EPAssetsId                      ProdType  ... ProdPeriod max Month_Name count\n",
       "0        3373              Production Hours  ...     2019-12-31               29\n",
       "1        3373  Condensate Production (Bbls)  ...     2019-12-31               28\n",
       "2        3373       Water Production (Bbls)  ...     2019-12-31               28\n",
       "3        3373         Gas Production (MMcf)  ...     2019-12-31               29\n",
       "4        6976              Production Hours  ...     2019-12-31               48\n",
       "\n",
       "[5 rows x 5 columns]"
      ]
     },
     "execution_count": 39,
     "metadata": {
      "tags": []
     },
     "output_type": "execute_result"
    }
   ],
   "source": [
    "# remove hierachical index in column by joining multindex \n",
    "reporting_periods.columns = [' '.join(col).strip() for col in reporting_periods.columns.values]\n",
    "\n",
    "reporting_periods.head()"
   ]
  },
  {
   "cell_type": "code",
   "execution_count": null,
   "metadata": {
    "colab": {
     "base_uri": "https://localhost:8080/",
     "height": 197
    },
    "colab_type": "code",
    "id": "UVOEyQYAYC4u",
    "outputId": "91f09a96-44fc-4755-efe0-f1f094d7a4ae"
   },
   "outputs": [
    {
     "data": {
      "text/html": [
       "<div>\n",
       "<style scoped>\n",
       "    .dataframe tbody tr th:only-of-type {\n",
       "        vertical-align: middle;\n",
       "    }\n",
       "\n",
       "    .dataframe tbody tr th {\n",
       "        vertical-align: top;\n",
       "    }\n",
       "\n",
       "    .dataframe thead th {\n",
       "        text-align: right;\n",
       "    }\n",
       "</style>\n",
       "<table border=\"1\" class=\"dataframe\">\n",
       "  <thead>\n",
       "    <tr style=\"text-align: right;\">\n",
       "      <th></th>\n",
       "      <th>EPAssetsId</th>\n",
       "      <th>Month_Name count</th>\n",
       "    </tr>\n",
       "  </thead>\n",
       "  <tbody>\n",
       "    <tr>\n",
       "      <th>0</th>\n",
       "      <td>3373</td>\n",
       "      <td>29</td>\n",
       "    </tr>\n",
       "    <tr>\n",
       "      <th>1</th>\n",
       "      <td>6976</td>\n",
       "      <td>48</td>\n",
       "    </tr>\n",
       "    <tr>\n",
       "      <th>2</th>\n",
       "      <td>6977</td>\n",
       "      <td>49</td>\n",
       "    </tr>\n",
       "    <tr>\n",
       "      <th>3</th>\n",
       "      <td>7129</td>\n",
       "      <td>29</td>\n",
       "    </tr>\n",
       "    <tr>\n",
       "      <th>4</th>\n",
       "      <td>7130</td>\n",
       "      <td>31</td>\n",
       "    </tr>\n",
       "  </tbody>\n",
       "</table>\n",
       "</div>"
      ],
      "text/plain": [
       "   EPAssetsId  Month_Name count\n",
       "0        3373                29\n",
       "1        6976                48\n",
       "2        6977                49\n",
       "3        7129                29\n",
       "4        7130                31"
      ]
     },
     "execution_count": 40,
     "metadata": {
      "tags": []
     },
     "output_type": "execute_result"
    }
   ],
   "source": [
    "reporting_periods_by_well = reporting_periods.groupby(by='EPAssetsId', as_index=False).agg({'Month_Name count':'max'})\n",
    "                        \n",
    "reporting_periods_by_well.head()"
   ]
  },
  {
   "cell_type": "code",
   "execution_count": null,
   "metadata": {
    "colab": {
     "base_uri": "https://localhost:8080/",
     "height": 176
    },
    "colab_type": "code",
    "id": "aZHNFjNNYCS8",
    "outputId": "78c7b1ae-7ff6-4530-bb03-bdee2b9a43bc"
   },
   "outputs": [
    {
     "name": "stdout",
     "output_type": "stream",
     "text": [
      "<class 'pandas.core.frame.DataFrame'>\n",
      "Int64Index: 10386 entries, 0 to 10385\n",
      "Data columns (total 2 columns):\n",
      " #   Column            Non-Null Count  Dtype\n",
      "---  ------            --------------  -----\n",
      " 0   EPAssetsId        10386 non-null  int64\n",
      " 1   Month_Name count  10386 non-null  int64\n",
      "dtypes: int64(2)\n",
      "memory usage: 243.4 KB\n"
     ]
    }
   ],
   "source": [
    "reporting_periods_by_well.info()"
   ]
  },
  {
   "cell_type": "code",
   "execution_count": null,
   "metadata": {
    "colab": {
     "base_uri": "https://localhost:8080/",
     "height": 414
    },
    "colab_type": "code",
    "id": "r9_kI7-bbE4o",
    "outputId": "a27123d2-5c44-436d-a26d-cb3ef798bfaf"
   },
   "outputs": [
    {
     "data": {
      "text/plain": [
       "array([[<matplotlib.axes._subplots.AxesSubplot object at 0x7f0dcd170c18>]],\n",
       "      dtype=object)"
      ]
     },
     "execution_count": 42,
     "metadata": {
      "tags": []
     },
     "output_type": "execute_result"
    },
    {
     "data": {
      "image/png": "[encoded data removed]",
      "text/plain": [
       "<Figure size 600x400 with 1 Axes>"
      ]
     },
     "metadata": {
      "tags": []
     },
     "output_type": "display_data"
    }
   ],
   "source": [
    "reporting_periods_by_well.hist(column='Month_Name count')"
   ]
  },
  {
   "cell_type": "code",
   "execution_count": null,
   "metadata": {
    "colab": {
     "base_uri": "https://localhost:8080/",
     "height": 176
    },
    "colab_type": "code",
    "id": "tje3yGnQami2",
    "outputId": "d41f52fe-9326-4294-970a-8f3074333864"
   },
   "outputs": [
    {
     "name": "stdout",
     "output_type": "stream",
     "text": [
      "<class 'pandas.core.frame.DataFrame'>\n",
      "Int64Index: 141 entries, 57 to 10385\n",
      "Data columns (total 2 columns):\n",
      " #   Column            Non-Null Count  Dtype\n",
      "---  ------            --------------  -----\n",
      " 0   EPAssetsId        141 non-null    int64\n",
      " 1   Month_Name count  141 non-null    int64\n",
      "dtypes: int64(2)\n",
      "memory usage: 3.3 KB\n"
     ]
    }
   ],
   "source": [
    "## create new subset of data with reporting periods equal to one (1)\n",
    "\n",
    "reporting_periods_one = reporting_periods_by_well[reporting_periods_by_well['Month_Name count'] == 1]\n",
    "\n",
    "reporting_periods_one.info()"
   ]
  },
  {
   "cell_type": "code",
   "execution_count": null,
   "metadata": {
    "colab": {
     "base_uri": "https://localhost:8080/",
     "height": 197
    },
    "colab_type": "code",
    "id": "WRRut0d7bhiW",
    "outputId": "93b29604-56cb-4210-bf21-867d3a39d7a6"
   },
   "outputs": [
    {
     "data": {
      "text/html": [
       "<div>\n",
       "<style scoped>\n",
       "    .dataframe tbody tr th:only-of-type {\n",
       "        vertical-align: middle;\n",
       "    }\n",
       "\n",
       "    .dataframe tbody tr th {\n",
       "        vertical-align: top;\n",
       "    }\n",
       "\n",
       "    .dataframe thead th {\n",
       "        text-align: right;\n",
       "    }\n",
       "</style>\n",
       "<table border=\"1\" class=\"dataframe\">\n",
       "  <thead>\n",
       "    <tr style=\"text-align: right;\">\n",
       "      <th></th>\n",
       "      <th>EPAssetsId</th>\n",
       "      <th>Month_Name count</th>\n",
       "    </tr>\n",
       "  </thead>\n",
       "  <tbody>\n",
       "    <tr>\n",
       "      <th>57</th>\n",
       "      <td>37787</td>\n",
       "      <td>1</td>\n",
       "    </tr>\n",
       "    <tr>\n",
       "      <th>188</th>\n",
       "      <td>39222</td>\n",
       "      <td>1</td>\n",
       "    </tr>\n",
       "    <tr>\n",
       "      <th>202</th>\n",
       "      <td>39274</td>\n",
       "      <td>1</td>\n",
       "    </tr>\n",
       "    <tr>\n",
       "      <th>398</th>\n",
       "      <td>39864</td>\n",
       "      <td>1</td>\n",
       "    </tr>\n",
       "    <tr>\n",
       "      <th>640</th>\n",
       "      <td>40528</td>\n",
       "      <td>1</td>\n",
       "    </tr>\n",
       "  </tbody>\n",
       "</table>\n",
       "</div>"
      ],
      "text/plain": [
       "     EPAssetsId  Month_Name count\n",
       "57        37787                 1\n",
       "188       39222                 1\n",
       "202       39274                 1\n",
       "398       39864                 1\n",
       "640       40528                 1"
      ]
     },
     "execution_count": 44,
     "metadata": {
      "tags": []
     },
     "output_type": "execute_result"
    }
   ],
   "source": [
    "reporting_periods_one.head()"
   ]
  },
  {
   "cell_type": "markdown",
   "metadata": {
    "colab_type": "text",
    "id": "3qo6tkrEDyDQ"
   },
   "source": [
    "## Merge no_production_hours data with reporting_periods_by_well"
   ]
  },
  {
   "cell_type": "code",
   "execution_count": null,
   "metadata": {
    "colab": {
     "base_uri": "https://localhost:8080/",
     "height": 227
    },
    "colab_type": "code",
    "id": "l6WKe-DflgdF",
    "outputId": "addd56a6-d3af-40f3-a41b-479686b56fbb"
   },
   "outputs": [
    {
     "data": {
      "text/html": [
       "<div>\n",
       "<style scoped>\n",
       "    .dataframe tbody tr th:only-of-type {\n",
       "        vertical-align: middle;\n",
       "    }\n",
       "\n",
       "    .dataframe tbody tr th {\n",
       "        vertical-align: top;\n",
       "    }\n",
       "\n",
       "    .dataframe thead th {\n",
       "        text-align: right;\n",
       "    }\n",
       "</style>\n",
       "<table border=\"1\" class=\"dataframe\">\n",
       "  <thead>\n",
       "    <tr style=\"text-align: right;\">\n",
       "      <th>ProdType</th>\n",
       "      <th>Condensate Production (Bbls)</th>\n",
       "      <th>Gas Production (MMcf)</th>\n",
       "      <th>Oil Production (Bbls)</th>\n",
       "      <th>Production Hours</th>\n",
       "      <th>Water Production (Bbls)</th>\n",
       "    </tr>\n",
       "    <tr>\n",
       "      <th>EPAssetsId</th>\n",
       "      <th></th>\n",
       "      <th></th>\n",
       "      <th></th>\n",
       "      <th></th>\n",
       "      <th></th>\n",
       "    </tr>\n",
       "  </thead>\n",
       "  <tbody>\n",
       "    <tr>\n",
       "      <th>2607534</th>\n",
       "      <td>9307.01706</td>\n",
       "      <td>393.445718</td>\n",
       "      <td>NaN</td>\n",
       "      <td>NaN</td>\n",
       "      <td>NaN</td>\n",
       "    </tr>\n",
       "    <tr>\n",
       "      <th>2607816</th>\n",
       "      <td>133772.09538</td>\n",
       "      <td>457.835193</td>\n",
       "      <td>NaN</td>\n",
       "      <td>NaN</td>\n",
       "      <td>NaN</td>\n",
       "    </tr>\n",
       "    <tr>\n",
       "      <th>2611405</th>\n",
       "      <td>309.45816</td>\n",
       "      <td>85.091011</td>\n",
       "      <td>NaN</td>\n",
       "      <td>NaN</td>\n",
       "      <td>NaN</td>\n",
       "    </tr>\n",
       "    <tr>\n",
       "      <th>2611868</th>\n",
       "      <td>77.36454</td>\n",
       "      <td>243.326035</td>\n",
       "      <td>NaN</td>\n",
       "      <td>NaN</td>\n",
       "      <td>NaN</td>\n",
       "    </tr>\n",
       "    <tr>\n",
       "      <th>2611876</th>\n",
       "      <td>455.38152</td>\n",
       "      <td>92.489461</td>\n",
       "      <td>NaN</td>\n",
       "      <td>NaN</td>\n",
       "      <td>NaN</td>\n",
       "    </tr>\n",
       "  </tbody>\n",
       "</table>\n",
       "</div>"
      ],
      "text/plain": [
       "ProdType    Condensate Production (Bbls)  ...  Water Production (Bbls)\n",
       "EPAssetsId                                ...                         \n",
       "2607534                       9307.01706  ...                      NaN\n",
       "2607816                     133772.09538  ...                      NaN\n",
       "2611405                        309.45816  ...                      NaN\n",
       "2611868                         77.36454  ...                      NaN\n",
       "2611876                        455.38152  ...                      NaN\n",
       "\n",
       "[5 rows x 5 columns]"
      ]
     },
     "execution_count": 47,
     "metadata": {
      "tags": []
     },
     "output_type": "execute_result"
    }
   ],
   "source": [
    "no_production_hrs.head(2)"
   ]
  },
  {
   "cell_type": "code",
   "execution_count": null,
   "metadata": {
    "colab": {
     "base_uri": "https://localhost:8080/",
     "height": 137
    },
    "colab_type": "code",
    "id": "18IYWPIHmH3g",
    "outputId": "b2aef59f-1f9f-4de9-c32b-5fef689415c5"
   },
   "outputs": [
    {
     "data": {
      "text/html": [
       "<div>\n",
       "<style scoped>\n",
       "    .dataframe tbody tr th:only-of-type {\n",
       "        vertical-align: middle;\n",
       "    }\n",
       "\n",
       "    .dataframe tbody tr th {\n",
       "        vertical-align: top;\n",
       "    }\n",
       "\n",
       "    .dataframe thead th {\n",
       "        text-align: right;\n",
       "    }\n",
       "</style>\n",
       "<table border=\"1\" class=\"dataframe\">\n",
       "  <thead>\n",
       "    <tr style=\"text-align: right;\">\n",
       "      <th></th>\n",
       "      <th>Condensate Production (Bbls)</th>\n",
       "      <th>Gas Production (MMcf)</th>\n",
       "      <th>Oil Production (Bbls)</th>\n",
       "      <th>Production Hours</th>\n",
       "      <th>Water Production (Bbls)</th>\n",
       "    </tr>\n",
       "    <tr>\n",
       "      <th>EPAssetsId</th>\n",
       "      <th></th>\n",
       "      <th></th>\n",
       "      <th></th>\n",
       "      <th></th>\n",
       "      <th></th>\n",
       "    </tr>\n",
       "  </thead>\n",
       "  <tbody>\n",
       "    <tr>\n",
       "      <th>2607534</th>\n",
       "      <td>9307.01706</td>\n",
       "      <td>393.445718</td>\n",
       "      <td>NaN</td>\n",
       "      <td>NaN</td>\n",
       "      <td>NaN</td>\n",
       "    </tr>\n",
       "    <tr>\n",
       "      <th>2607816</th>\n",
       "      <td>133772.09538</td>\n",
       "      <td>457.835193</td>\n",
       "      <td>NaN</td>\n",
       "      <td>NaN</td>\n",
       "      <td>NaN</td>\n",
       "    </tr>\n",
       "  </tbody>\n",
       "</table>\n",
       "</div>"
      ],
      "text/plain": [
       "            Condensate Production (Bbls)  ...  Water Production (Bbls)\n",
       "EPAssetsId                                ...                         \n",
       "2607534                       9307.01706  ...                      NaN\n",
       "2607816                     133772.09538  ...                      NaN\n",
       "\n",
       "[2 rows x 5 columns]"
      ]
     },
     "execution_count": 48,
     "metadata": {
      "tags": []
     },
     "output_type": "execute_result"
    }
   ],
   "source": [
    "# remove name of column index \n",
    "no_production_hrs.columns.name = None\n",
    "\n",
    "no_production_hrs.head(2)"
   ]
  },
  {
   "cell_type": "code",
   "execution_count": null,
   "metadata": {
    "colab": {
     "base_uri": "https://localhost:8080/",
     "height": 137
    },
    "colab_type": "code",
    "id": "v8SlOWpgwf6P",
    "outputId": "f6b081f1-c2fd-4ed7-8f8f-0fda685bd3de"
   },
   "outputs": [
    {
     "data": {
      "text/html": [
       "<div>\n",
       "<style scoped>\n",
       "    .dataframe tbody tr th:only-of-type {\n",
       "        vertical-align: middle;\n",
       "    }\n",
       "\n",
       "    .dataframe tbody tr th {\n",
       "        vertical-align: top;\n",
       "    }\n",
       "\n",
       "    .dataframe thead th {\n",
       "        text-align: right;\n",
       "    }\n",
       "</style>\n",
       "<table border=\"1\" class=\"dataframe\">\n",
       "  <thead>\n",
       "    <tr style=\"text-align: right;\">\n",
       "      <th></th>\n",
       "      <th>Condensate Production (Bbls)</th>\n",
       "      <th>Gas Production (MMcf)</th>\n",
       "      <th>Oil Production (Bbls)</th>\n",
       "      <th>Production Hours</th>\n",
       "      <th>Water Production (Bbls)</th>\n",
       "    </tr>\n",
       "    <tr>\n",
       "      <th>EPAssetsId</th>\n",
       "      <th></th>\n",
       "      <th></th>\n",
       "      <th></th>\n",
       "      <th></th>\n",
       "      <th></th>\n",
       "    </tr>\n",
       "  </thead>\n",
       "  <tbody>\n",
       "    <tr>\n",
       "      <th>2607534</th>\n",
       "      <td>9307.01706</td>\n",
       "      <td>393.445718</td>\n",
       "      <td>NaN</td>\n",
       "      <td>NaN</td>\n",
       "      <td>NaN</td>\n",
       "    </tr>\n",
       "    <tr>\n",
       "      <th>2607816</th>\n",
       "      <td>133772.09538</td>\n",
       "      <td>457.835193</td>\n",
       "      <td>NaN</td>\n",
       "      <td>NaN</td>\n",
       "      <td>NaN</td>\n",
       "    </tr>\n",
       "  </tbody>\n",
       "</table>\n",
       "</div>"
      ],
      "text/plain": [
       "            Condensate Production (Bbls)  ...  Water Production (Bbls)\n",
       "EPAssetsId                                ...                         \n",
       "2607534                       9307.01706  ...                      NaN\n",
       "2607816                     133772.09538  ...                      NaN\n",
       "\n",
       "[2 rows x 5 columns]"
      ]
     },
     "execution_count": 68,
     "metadata": {
      "tags": []
     },
     "output_type": "execute_result"
    }
   ],
   "source": [
    "# flatten hierarchical columns\n",
    "no_production_hrs.columns = no_production_hrs.columns.get_level_values(0)\n",
    "\n",
    "# reassign column names \n",
    "no_production_hrs.columns = ['Condensate Production (Bbls)', 'Gas Production (MMcf)','Oil Production (Bbls)', 'Production Hours', 'Water Production (Bbls)']\n",
    "\n",
    "# change index to column\n",
    "no_production_hrs.reset_index()\n",
    "\n",
    "no_production_hrs.head(2)"
   ]
  },
  {
   "cell_type": "code",
   "execution_count": null,
   "metadata": {
    "colab": {
     "base_uri": "https://localhost:8080/",
     "height": 197
    },
    "colab_type": "code",
    "id": "_g0g5zBaDxc2",
    "outputId": "fe2e38a7-110d-4dcf-ff69-bb101011207b"
   },
   "outputs": [
    {
     "data": {
      "text/html": [
       "<div>\n",
       "<style scoped>\n",
       "    .dataframe tbody tr th:only-of-type {\n",
       "        vertical-align: middle;\n",
       "    }\n",
       "\n",
       "    .dataframe tbody tr th {\n",
       "        vertical-align: top;\n",
       "    }\n",
       "\n",
       "    .dataframe thead th {\n",
       "        text-align: right;\n",
       "    }\n",
       "</style>\n",
       "<table border=\"1\" class=\"dataframe\">\n",
       "  <thead>\n",
       "    <tr style=\"text-align: right;\">\n",
       "      <th></th>\n",
       "      <th>EPAssetsId</th>\n",
       "      <th>Condensate Production (Bbls)</th>\n",
       "      <th>Gas Production (MMcf)</th>\n",
       "      <th>Oil Production (Bbls)</th>\n",
       "      <th>Production Hours</th>\n",
       "      <th>Water Production (Bbls)</th>\n",
       "      <th>Month_Name count</th>\n",
       "    </tr>\n",
       "  </thead>\n",
       "  <tbody>\n",
       "    <tr>\n",
       "      <th>8381</th>\n",
       "      <td>2607534</td>\n",
       "      <td>9307.01706</td>\n",
       "      <td>393.445718</td>\n",
       "      <td>NaN</td>\n",
       "      <td>NaN</td>\n",
       "      <td>NaN</td>\n",
       "      <td>10</td>\n",
       "    </tr>\n",
       "    <tr>\n",
       "      <th>8456</th>\n",
       "      <td>2607816</td>\n",
       "      <td>133772.09538</td>\n",
       "      <td>457.835193</td>\n",
       "      <td>NaN</td>\n",
       "      <td>NaN</td>\n",
       "      <td>NaN</td>\n",
       "      <td>7</td>\n",
       "    </tr>\n",
       "    <tr>\n",
       "      <th>8877</th>\n",
       "      <td>2611405</td>\n",
       "      <td>309.45816</td>\n",
       "      <td>85.091011</td>\n",
       "      <td>NaN</td>\n",
       "      <td>NaN</td>\n",
       "      <td>NaN</td>\n",
       "      <td>3</td>\n",
       "    </tr>\n",
       "    <tr>\n",
       "      <th>8962</th>\n",
       "      <td>2611868</td>\n",
       "      <td>77.36454</td>\n",
       "      <td>243.326035</td>\n",
       "      <td>NaN</td>\n",
       "      <td>NaN</td>\n",
       "      <td>NaN</td>\n",
       "      <td>4</td>\n",
       "    </tr>\n",
       "    <tr>\n",
       "      <th>8969</th>\n",
       "      <td>2611876</td>\n",
       "      <td>455.38152</td>\n",
       "      <td>92.489461</td>\n",
       "      <td>NaN</td>\n",
       "      <td>NaN</td>\n",
       "      <td>NaN</td>\n",
       "      <td>2</td>\n",
       "    </tr>\n",
       "  </tbody>\n",
       "</table>\n",
       "</div>"
      ],
      "text/plain": [
       "      EPAssetsId  ...  Month_Name count\n",
       "8381     2607534  ...                10\n",
       "8456     2607816  ...                 7\n",
       "8877     2611405  ...                 3\n",
       "8962     2611868  ...                 4\n",
       "8969     2611876  ...                 2\n",
       "\n",
       "[5 rows x 7 columns]"
      ]
     },
     "execution_count": 70,
     "metadata": {
      "tags": []
     },
     "output_type": "execute_result"
    }
   ],
   "source": [
    "reporting_periods_for_wells_with_no_production_hrs = no_production_hrs.merge(reporting_periods_by_well, how='left', on='EPAssetsId', left_index=True, validate='1:1')\n",
    "\n",
    "reporting_periods_for_wells_with_no_production_hrs.head()"
   ]
  },
  {
   "cell_type": "code",
   "execution_count": null,
   "metadata": {
    "colab": {
     "base_uri": "https://localhost:8080/",
     "height": 287
    },
    "colab_type": "code",
    "id": "WLSiqdfEF7RB",
    "outputId": "feb1da63-bdf5-476e-eff0-e4e49ec79ae5"
   },
   "outputs": [
    {
     "data": {
      "text/html": [
       "<div>\n",
       "<style scoped>\n",
       "    .dataframe tbody tr th:only-of-type {\n",
       "        vertical-align: middle;\n",
       "    }\n",
       "\n",
       "    .dataframe tbody tr th {\n",
       "        vertical-align: top;\n",
       "    }\n",
       "\n",
       "    .dataframe thead th {\n",
       "        text-align: right;\n",
       "    }\n",
       "</style>\n",
       "<table border=\"1\" class=\"dataframe\">\n",
       "  <thead>\n",
       "    <tr style=\"text-align: right;\">\n",
       "      <th></th>\n",
       "      <th>EPAssetsId</th>\n",
       "      <th>Condensate Production (Bbls)</th>\n",
       "      <th>Gas Production (MMcf)</th>\n",
       "      <th>Oil Production (Bbls)</th>\n",
       "      <th>Production Hours</th>\n",
       "      <th>Water Production (Bbls)</th>\n",
       "      <th>Month_Name count</th>\n",
       "    </tr>\n",
       "  </thead>\n",
       "  <tbody>\n",
       "    <tr>\n",
       "      <th>count</th>\n",
       "      <td>1.900000e+02</td>\n",
       "      <td>95.000000</td>\n",
       "      <td>190.000000</td>\n",
       "      <td>82.000000</td>\n",
       "      <td>0.0</td>\n",
       "      <td>51.000000</td>\n",
       "      <td>190.000000</td>\n",
       "    </tr>\n",
       "    <tr>\n",
       "      <th>mean</th>\n",
       "      <td>2.619107e+06</td>\n",
       "      <td>30427.192196</td>\n",
       "      <td>323.006707</td>\n",
       "      <td>27954.141664</td>\n",
       "      <td>NaN</td>\n",
       "      <td>33246.328849</td>\n",
       "      <td>4.826316</td>\n",
       "    </tr>\n",
       "    <tr>\n",
       "      <th>std</th>\n",
       "      <td>3.019104e+03</td>\n",
       "      <td>44873.594324</td>\n",
       "      <td>397.450386</td>\n",
       "      <td>21891.758323</td>\n",
       "      <td>NaN</td>\n",
       "      <td>42307.466773</td>\n",
       "      <td>2.407295</td>\n",
       "    </tr>\n",
       "    <tr>\n",
       "      <th>min</th>\n",
       "      <td>2.607534e+06</td>\n",
       "      <td>7.547760</td>\n",
       "      <td>0.003531</td>\n",
       "      <td>201.902580</td>\n",
       "      <td>NaN</td>\n",
       "      <td>332.730420</td>\n",
       "      <td>1.000000</td>\n",
       "    </tr>\n",
       "    <tr>\n",
       "      <th>25%</th>\n",
       "      <td>2.617566e+06</td>\n",
       "      <td>586.209360</td>\n",
       "      <td>33.003446</td>\n",
       "      <td>12086.165190</td>\n",
       "      <td>NaN</td>\n",
       "      <td>5790.704370</td>\n",
       "      <td>3.000000</td>\n",
       "    </tr>\n",
       "    <tr>\n",
       "      <th>50%</th>\n",
       "      <td>2.619600e+06</td>\n",
       "      <td>2343.579480</td>\n",
       "      <td>161.750613</td>\n",
       "      <td>21812.082930</td>\n",
       "      <td>NaN</td>\n",
       "      <td>16318.886100</td>\n",
       "      <td>4.500000</td>\n",
       "    </tr>\n",
       "    <tr>\n",
       "      <th>75%</th>\n",
       "      <td>2.621278e+06</td>\n",
       "      <td>60131.431470</td>\n",
       "      <td>458.073568</td>\n",
       "      <td>41586.585150</td>\n",
       "      <td>NaN</td>\n",
       "      <td>39093.308430</td>\n",
       "      <td>7.000000</td>\n",
       "    </tr>\n",
       "    <tr>\n",
       "      <th>max</th>\n",
       "      <td>2.625202e+06</td>\n",
       "      <td>221135.530440</td>\n",
       "      <td>2041.555651</td>\n",
       "      <td>81804.509820</td>\n",
       "      <td>NaN</td>\n",
       "      <td>191571.583500</td>\n",
       "      <td>11.000000</td>\n",
       "    </tr>\n",
       "  </tbody>\n",
       "</table>\n",
       "</div>"
      ],
      "text/plain": [
       "         EPAssetsId  ...  Month_Name count\n",
       "count  1.900000e+02  ...        190.000000\n",
       "mean   2.619107e+06  ...          4.826316\n",
       "std    3.019104e+03  ...          2.407295\n",
       "min    2.607534e+06  ...          1.000000\n",
       "25%    2.617566e+06  ...          3.000000\n",
       "50%    2.619600e+06  ...          4.500000\n",
       "75%    2.621278e+06  ...          7.000000\n",
       "max    2.625202e+06  ...         11.000000\n",
       "\n",
       "[8 rows x 7 columns]"
      ]
     },
     "execution_count": 71,
     "metadata": {
      "tags": []
     },
     "output_type": "execute_result"
    }
   ],
   "source": [
    "# check distribution of values in the new table\n",
    "reporting_periods_for_wells_with_no_production_hrs.describe()"
   ]
  },
  {
   "cell_type": "code",
   "execution_count": null,
   "metadata": {
    "colab": {},
    "colab_type": "code",
    "id": "WlNyMQdg16nn"
   },
   "outputs": [],
   "source": [
    "#Import libraries\n",
    "from matplotlib_venn import venn2, venn2_circles, venn2_unweighted\n",
    "from matplotlib_venn import venn3, venn3_circles\n",
    "from matplotlib import pyplot as plt\n",
    "%matplotlib inline"
   ]
  },
  {
   "cell_type": "code",
   "execution_count": null,
   "metadata": {
    "colab": {
     "base_uri": "https://localhost:8080/",
     "height": 266
    },
    "colab_type": "code",
    "id": "7sNVITPs0lD9",
    "outputId": "28d4ccbb-ea16-444d-ec61-92eaef37489c"
   },
   "outputs": [
    {
     "data": {
      "image/png": "[encoded data removed]",
      "text/plain": [
       "<Figure size 432x288 with 1 Axes>"
      ]
     },
     "metadata": {
      "tags": []
     },
     "output_type": "display_data"
    }
   ],
   "source": [
    "#venn diagram showing intersection of EPAssetsId between Wells with no production recorded and wells with only one reporting period\n",
    "venn2_unweighted([set(reporting_periods_for_wells_with_no_production_hrs['EPAssetsId']), set(reporting_periods_one['EPAssetsId'])], set_labels=['No production recorded', 'Only one reporting period'], set_colors=['purple', 'skyblue'])\n",
    "\n",
    "\n",
    "plt.title('VennDiagram for number of wells')\n",
    "plt.show()"
   ]
  }
 ],
 "metadata": {
  "colab": {
   "collapsed_sections": [],
   "name": "Determine DUC Wells from Production Table.ipynb",
   "provenance": []
  },
  "kernelspec": {
   "display_name": "Python 3",
   "language": "python",
   "name": "python3"
  },
  "language_info": {
   "codemirror_mode": {
    "name": "ipython",
    "version": 3
   },
   "file_extension": ".py",
   "mimetype": "text/x-python",
   "name": "python",
   "nbconvert_exporter": "python",
   "pygments_lexer": "ipython3",
   "version": "3.7.4"
  }
 },
 "nbformat": 4,
 "nbformat_minor": 4
}
