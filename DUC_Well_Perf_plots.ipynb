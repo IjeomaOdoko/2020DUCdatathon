{
 "cells": [
  {
   "cell_type": "code",
   "execution_count": 14,
   "metadata": {},
   "outputs": [],
   "source": [
    "#pip3 install -U scikit-learn scipy matplotlib\n",
    "\n",
    "import pandas as pd\n",
    "import numpy as np\n",
    "import seaborn as sns\n",
    "import matplotlib.pyplot as plt\n",
    "#import sweetviz as sv\n",
    "\n"
   ]
  },
  {
   "cell_type": "code",
   "execution_count": 2,
   "metadata": {},
   "outputs": [],
   "source": [
    "perf_treatment = pd.read_csv(\"data/PerfTreatments.csv\", parse_dates=['ActivityDate'])"
   ]
  },
  {
   "cell_type": "code",
   "execution_count": 4,
   "metadata": {
    "tags": []
   },
   "outputs": [
    {
     "name": "stdout",
     "output_type": "stream",
     "text": [
      "<class 'pandas.core.frame.DataFrame'>\n",
      "RangeIndex: 961054 entries, 0 to 961053\n",
      "Data columns (total 5 columns):\n",
      " #   Column            Non-Null Count   Dtype         \n",
      "---  ------            --------------   -----         \n",
      " 0   EPAssetsId        961054 non-null  int64         \n",
      " 1   ProdPeriod        961054 non-null  datetime64[ns]\n",
      " 2   ProdType          961054 non-null  object        \n",
      " 3   Volume            961054 non-null  float64       \n",
      " 4   WellHeader.Match  961054 non-null  object        \n",
      "dtypes: datetime64[ns](1), float64(1), int64(1), object(2)\n",
      "memory usage: 36.7+ MB\n"
     ]
    },
    {
     "data": {
      "text/plain": [
       "None"
      ]
     },
     "metadata": {},
     "output_type": "display_data"
    },
    {
     "name": "stdout",
     "output_type": "stream",
     "text": [
      "\n",
      "\n",
      "<class 'pandas.core.frame.DataFrame'>\n",
      "RangeIndex: 445271 entries, 0 to 445270\n",
      "Data columns (total 9 columns):\n",
      " #   Column             Non-Null Count   Dtype         \n",
      "---  ------             --------------   -----         \n",
      " 0   EPAssetsId         445271 non-null  int64         \n",
      " 1   EPAPTId            445271 non-null  int64         \n",
      " 2   ObservationNumber  370719 non-null  float64       \n",
      " 3   ActivityDate       445271 non-null  datetime64[ns]\n",
      " 4   ActivityType       445225 non-null  object        \n",
      " 5   IntervalTop        445271 non-null  float64       \n",
      " 6   IntervalBase       445271 non-null  float64       \n",
      " 7   PerfShots          370719 non-null  float64       \n",
      " 8   WellHeader.Match   445271 non-null  object        \n",
      "dtypes: datetime64[ns](1), float64(4), int64(2), object(2)\n",
      "memory usage: 30.6+ MB\n"
     ]
    }
   ],
   "source": [
    "perf_treatment.info()"
   ]
  },
  {
   "cell_type": "code",
   "execution_count": 5,
   "metadata": {},
   "outputs": [],
   "source": [
    "perf_treatment['ActivityType'] = perf_treatment['ActivityType'].astype('category')"
   ]
  },
  {
   "cell_type": "code",
   "execution_count": 6,
   "metadata": {},
   "outputs": [],
   "source": [
    "perf_treatment=perf_treatment.iloc[:,0:8]"
   ]
  },
  {
   "cell_type": "code",
   "execution_count": 7,
   "metadata": {
    "tags": []
   },
   "outputs": [
    {
     "name": "stdout",
     "output_type": "stream",
     "text": [
      "<class 'pandas.core.frame.DataFrame'>\n",
      "RangeIndex: 445271 entries, 0 to 445270\n",
      "Data columns (total 8 columns):\n",
      " #   Column             Non-Null Count   Dtype         \n",
      "---  ------             --------------   -----         \n",
      " 0   EPAssetsId         445271 non-null  int64         \n",
      " 1   EPAPTId            445271 non-null  int64         \n",
      " 2   ObservationNumber  370719 non-null  float64       \n",
      " 3   ActivityDate       445271 non-null  datetime64[ns]\n",
      " 4   ActivityType       445225 non-null  category      \n",
      " 5   IntervalTop        445271 non-null  float64       \n",
      " 6   IntervalBase       445271 non-null  float64       \n",
      " 7   PerfShots          370719 non-null  float64       \n",
      "dtypes: category(1), datetime64[ns](1), float64(4), int64(2)\n",
      "memory usage: 24.2 MB\n"
     ]
    }
   ],
   "source": [
    "perf_treatment.info()"
   ]
  },
  {
   "cell_type": "code",
   "execution_count": 9,
   "metadata": {},
   "outputs": [
    {
     "data": {
      "text/plain": [
       "<matplotlib.axes._subplots.AxesSubplot at 0x1a2a280bd0>"
      ]
     },
     "execution_count": 9,
     "metadata": {},
     "output_type": "execute_result"
    },
    {
     "data": {
      "image/png": "[encoded data removed]",
      "text/plain": [
       "<Figure size 432x288 with 1 Axes>"
      ]
     },
     "metadata": {
      "needs_background": "light"
     },
     "output_type": "display_data"
    }
   ],
   "source": [
    "hist1=perf_treatment.groupby('EPAssetsId').count().sort_values(by='PerfShots',ascending=False)\n",
    "hist1['PerfShots'].hist()"
   ]
  },
  {
   "cell_type": "code",
   "execution_count": 10,
   "metadata": {},
   "outputs": [
    {
     "data": {
      "text/html": [
       "<div>\n",
       "<style scoped>\n",
       "    .dataframe tbody tr th:only-of-type {\n",
       "        vertical-align: middle;\n",
       "    }\n",
       "\n",
       "    .dataframe tbody tr th {\n",
       "        vertical-align: top;\n",
       "    }\n",
       "\n",
       "    .dataframe thead th {\n",
       "        text-align: right;\n",
       "    }\n",
       "</style>\n",
       "<table border=\"1\" class=\"dataframe\">\n",
       "  <thead>\n",
       "    <tr style=\"text-align: right;\">\n",
       "      <th></th>\n",
       "      <th>EPAssetsId</th>\n",
       "      <th>ActivityDate</th>\n",
       "      <th>ActivityType</th>\n",
       "      <th>PerfShots</th>\n",
       "    </tr>\n",
       "  </thead>\n",
       "  <tbody>\n",
       "    <tr>\n",
       "      <th>0</th>\n",
       "      <td>2598013</td>\n",
       "      <td>2017-01-19</td>\n",
       "      <td>Perforation</td>\n",
       "      <td>20.0</td>\n",
       "    </tr>\n",
       "    <tr>\n",
       "      <th>1</th>\n",
       "      <td>2599020</td>\n",
       "      <td>2017-01-18</td>\n",
       "      <td>Perforation</td>\n",
       "      <td>20.0</td>\n",
       "    </tr>\n",
       "    <tr>\n",
       "      <th>2</th>\n",
       "      <td>2585063</td>\n",
       "      <td>2015-02-14</td>\n",
       "      <td>Perforation</td>\n",
       "      <td>20.0</td>\n",
       "    </tr>\n",
       "    <tr>\n",
       "      <th>3</th>\n",
       "      <td>2589680</td>\n",
       "      <td>2015-11-08</td>\n",
       "      <td>Perforation</td>\n",
       "      <td>20.0</td>\n",
       "    </tr>\n",
       "    <tr>\n",
       "      <th>4</th>\n",
       "      <td>2590441</td>\n",
       "      <td>2016-08-09</td>\n",
       "      <td>Perforation</td>\n",
       "      <td>20.0</td>\n",
       "    </tr>\n",
       "    <tr>\n",
       "      <th>...</th>\n",
       "      <td>...</td>\n",
       "      <td>...</td>\n",
       "      <td>...</td>\n",
       "      <td>...</td>\n",
       "    </tr>\n",
       "    <tr>\n",
       "      <th>445266</th>\n",
       "      <td>2588444</td>\n",
       "      <td>2015-09-13</td>\n",
       "      <td>Multi-Stage Fracture</td>\n",
       "      <td>0.0</td>\n",
       "    </tr>\n",
       "    <tr>\n",
       "      <th>445267</th>\n",
       "      <td>2609973</td>\n",
       "      <td>2018-02-18</td>\n",
       "      <td>Multi-Stage Fracture</td>\n",
       "      <td>0.0</td>\n",
       "    </tr>\n",
       "    <tr>\n",
       "      <th>445268</th>\n",
       "      <td>2600493</td>\n",
       "      <td>2017-09-16</td>\n",
       "      <td>Multi-Stage Fracture</td>\n",
       "      <td>0.0</td>\n",
       "    </tr>\n",
       "    <tr>\n",
       "      <th>445269</th>\n",
       "      <td>2595389</td>\n",
       "      <td>2016-09-12</td>\n",
       "      <td>Multi-Stage Fracture</td>\n",
       "      <td>0.0</td>\n",
       "    </tr>\n",
       "    <tr>\n",
       "      <th>445270</th>\n",
       "      <td>2607433</td>\n",
       "      <td>2017-12-02</td>\n",
       "      <td>Multi-Stage Fracture</td>\n",
       "      <td>0.0</td>\n",
       "    </tr>\n",
       "  </tbody>\n",
       "</table>\n",
       "<p>445271 rows × 4 columns</p>\n",
       "</div>"
      ],
      "text/plain": [
       "        EPAssetsId ActivityDate          ActivityType  PerfShots\n",
       "0          2598013   2017-01-19           Perforation       20.0\n",
       "1          2599020   2017-01-18           Perforation       20.0\n",
       "2          2585063   2015-02-14           Perforation       20.0\n",
       "3          2589680   2015-11-08           Perforation       20.0\n",
       "4          2590441   2016-08-09           Perforation       20.0\n",
       "...            ...          ...                   ...        ...\n",
       "445266     2588444   2015-09-13  Multi-Stage Fracture        0.0\n",
       "445267     2609973   2018-02-18  Multi-Stage Fracture        0.0\n",
       "445268     2600493   2017-09-16  Multi-Stage Fracture        0.0\n",
       "445269     2595389   2016-09-12  Multi-Stage Fracture        0.0\n",
       "445270     2607433   2017-12-02  Multi-Stage Fracture        0.0\n",
       "\n",
       "[445271 rows x 4 columns]"
      ]
     },
     "execution_count": 10,
     "metadata": {},
     "output_type": "execute_result"
    }
   ],
   "source": [
    "perf_treatment1=perf_treatment.loc[ :,['EPAssetsId', 'ActivityDate', 'ActivityType', 'PerfShots'] ]"
   ]
  },
  {
   "cell_type": "code",
   "execution_count": 33,
   "metadata": {},
   "outputs": [
    {
     "data": {
      "text/plain": [
       "445225"
      ]
     },
     "execution_count": 33,
     "metadata": {},
     "output_type": "execute_result"
    }
   ],
   "source": [
    "perf_plot=perf_treatment1.groupby(['ActivityType']).count().sort_values('ActivityDate',ascending=False).reset_index()[['ActivityType','EPAssetsId']]\n",
    "perf_plot.columns=['ActivityType','Number of Acitvities']\n",
    "top10_activities=perf_plot.iloc[0:10]\n",
    "perf_plot['Number of Acitvities'].sum()"
   ]
  },
  {
   "cell_type": "code",
   "execution_count": 25,
   "metadata": {},
   "outputs": [
    {
     "data": {
      "image/png": "[encoded data removed]",
      "text/plain": [
       "<Figure size 432x288 with 1 Axes>"
      ]
     },
     "metadata": {
      "needs_background": "light"
     },
     "output_type": "display_data"
    }
   ],
   "source": [
    "sns.barplot(x='ActivityDate',y='ActivityType', data=top10_activities, order=top10_activities['ActivityType'])\n",
    "sns.despine(left=True, bottom=True)"
   ]
  },
  {
   "cell_type": "code",
   "execution_count": 57,
   "metadata": {},
   "outputs": [
    {
     "data": {
      "text/html": [
       "<div>\n",
       "<style scoped>\n",
       "    .dataframe tbody tr th:only-of-type {\n",
       "        vertical-align: middle;\n",
       "    }\n",
       "\n",
       "    .dataframe tbody tr th {\n",
       "        vertical-align: top;\n",
       "    }\n",
       "\n",
       "    .dataframe thead th {\n",
       "        text-align: right;\n",
       "    }\n",
       "</style>\n",
       "<table border=\"1\" class=\"dataframe\">\n",
       "  <thead>\n",
       "    <tr style=\"text-align: right;\">\n",
       "      <th></th>\n",
       "      <th>EPAssetsId</th>\n",
       "      <th>ActivityType</th>\n",
       "      <th>ActivityDate</th>\n",
       "      <th>PerfShots</th>\n",
       "    </tr>\n",
       "  </thead>\n",
       "  <tbody>\n",
       "    <tr>\n",
       "      <th>3888</th>\n",
       "      <td>41381</td>\n",
       "      <td>Fracture</td>\n",
       "      <td>32.0</td>\n",
       "      <td>0.0</td>\n",
       "    </tr>\n",
       "    <tr>\n",
       "      <th>3724</th>\n",
       "      <td>42850</td>\n",
       "      <td>Fracture</td>\n",
       "      <td>33.0</td>\n",
       "      <td>0.0</td>\n",
       "    </tr>\n",
       "    <tr>\n",
       "      <th>3822</th>\n",
       "      <td>42198</td>\n",
       "      <td>Perforation</td>\n",
       "      <td>32.0</td>\n",
       "      <td>0.0</td>\n",
       "    </tr>\n",
       "    <tr>\n",
       "      <th>3396</th>\n",
       "      <td>2622331</td>\n",
       "      <td>Multi-Stage Fracture</td>\n",
       "      <td>35.0</td>\n",
       "      <td>35.0</td>\n",
       "    </tr>\n",
       "    <tr>\n",
       "      <th>13976</th>\n",
       "      <td>2594872</td>\n",
       "      <td>Open Hole/Barefoot Completion</td>\n",
       "      <td>1.0</td>\n",
       "      <td>1.0</td>\n",
       "    </tr>\n",
       "    <tr>\n",
       "      <th>7139</th>\n",
       "      <td>2596688</td>\n",
       "      <td>Multi-Stage Fracture</td>\n",
       "      <td>20.0</td>\n",
       "      <td>20.0</td>\n",
       "    </tr>\n",
       "    <tr>\n",
       "      <th>14304</th>\n",
       "      <td>1166697</td>\n",
       "      <td>Sand Fracture</td>\n",
       "      <td>1.0</td>\n",
       "      <td>0.0</td>\n",
       "    </tr>\n",
       "    <tr>\n",
       "      <th>1256</th>\n",
       "      <td>2603282</td>\n",
       "      <td>Perforation</td>\n",
       "      <td>71.0</td>\n",
       "      <td>71.0</td>\n",
       "    </tr>\n",
       "    <tr>\n",
       "      <th>2946</th>\n",
       "      <td>41359</td>\n",
       "      <td>Fracture</td>\n",
       "      <td>38.0</td>\n",
       "      <td>0.0</td>\n",
       "    </tr>\n",
       "    <tr>\n",
       "      <th>9702</th>\n",
       "      <td>38912</td>\n",
       "      <td>Open Hole</td>\n",
       "      <td>1.0</td>\n",
       "      <td>0.0</td>\n",
       "    </tr>\n",
       "  </tbody>\n",
       "</table>\n",
       "</div>"
      ],
      "text/plain": [
       "       EPAssetsId                   ActivityType  ActivityDate  PerfShots\n",
       "3888        41381                       Fracture          32.0        0.0\n",
       "3724        42850                       Fracture          33.0        0.0\n",
       "3822        42198                    Perforation          32.0        0.0\n",
       "3396      2622331           Multi-Stage Fracture          35.0       35.0\n",
       "13976     2594872  Open Hole/Barefoot Completion           1.0        1.0\n",
       "7139      2596688           Multi-Stage Fracture          20.0       20.0\n",
       "14304     1166697                  Sand Fracture           1.0        0.0\n",
       "1256      2603282                    Perforation          71.0       71.0\n",
       "2946        41359                       Fracture          38.0        0.0\n",
       "9702        38912                      Open Hole           1.0        0.0"
      ]
     },
     "execution_count": 57,
     "metadata": {},
     "output_type": "execute_result"
    }
   ],
   "source": [
    "perf_plot2=perf_plot.reset_index()\n",
    "#perf_plot2['ActivityDate'].fillna(0,inplace=True)\n",
    "#perf_plot2['PerfShots'].fillna(0,inplace=True)\n",
    "perf_plot2.reset_index()\n",
    "perf_plot4=perf_plot2.dropna().sort_values('ActivityDate',ascending=[False])\n",
    "perf_plot4.sample(10)\n"
   ]
  },
  {
   "cell_type": "code",
   "execution_count": 58,
   "metadata": {},
   "outputs": [
    {
     "data": {
      "text/html": [
       "<div>\n",
       "<style scoped>\n",
       "    .dataframe tbody tr th:only-of-type {\n",
       "        vertical-align: middle;\n",
       "    }\n",
       "\n",
       "    .dataframe tbody tr th {\n",
       "        vertical-align: top;\n",
       "    }\n",
       "\n",
       "    .dataframe thead th {\n",
       "        text-align: right;\n",
       "    }\n",
       "</style>\n",
       "<table border=\"1\" class=\"dataframe\">\n",
       "  <thead>\n",
       "    <tr style=\"text-align: right;\">\n",
       "      <th></th>\n",
       "      <th>EPAssetsId</th>\n",
       "      <th>ActivityType</th>\n",
       "      <th>ActivityDate</th>\n",
       "      <th>PerfShots</th>\n",
       "    </tr>\n",
       "  </thead>\n",
       "  <tbody>\n",
       "    <tr>\n",
       "      <th>0</th>\n",
       "      <td>2600761</td>\n",
       "      <td>Perforation</td>\n",
       "      <td>618.0</td>\n",
       "      <td>618.0</td>\n",
       "    </tr>\n",
       "    <tr>\n",
       "      <th>1</th>\n",
       "      <td>2601039</td>\n",
       "      <td>Perforation</td>\n",
       "      <td>604.0</td>\n",
       "      <td>604.0</td>\n",
       "    </tr>\n",
       "    <tr>\n",
       "      <th>2</th>\n",
       "      <td>2597868</td>\n",
       "      <td>Perforation</td>\n",
       "      <td>601.0</td>\n",
       "      <td>601.0</td>\n",
       "    </tr>\n",
       "    <tr>\n",
       "      <th>3</th>\n",
       "      <td>2597875</td>\n",
       "      <td>Perforation</td>\n",
       "      <td>586.0</td>\n",
       "      <td>586.0</td>\n",
       "    </tr>\n",
       "    <tr>\n",
       "      <th>4</th>\n",
       "      <td>2603285</td>\n",
       "      <td>Perforation</td>\n",
       "      <td>581.0</td>\n",
       "      <td>581.0</td>\n",
       "    </tr>\n",
       "    <tr>\n",
       "      <th>...</th>\n",
       "      <td>...</td>\n",
       "      <td>...</td>\n",
       "      <td>...</td>\n",
       "      <td>...</td>\n",
       "    </tr>\n",
       "    <tr>\n",
       "      <th>15169</th>\n",
       "      <td>1168911</td>\n",
       "      <td>Sand Fracture</td>\n",
       "      <td>1.0</td>\n",
       "      <td>0.0</td>\n",
       "    </tr>\n",
       "    <tr>\n",
       "      <th>15170</th>\n",
       "      <td>1168910</td>\n",
       "      <td>Sand Fracture</td>\n",
       "      <td>1.0</td>\n",
       "      <td>0.0</td>\n",
       "    </tr>\n",
       "    <tr>\n",
       "      <th>15171</th>\n",
       "      <td>1168908</td>\n",
       "      <td>Hydraulic Fracture</td>\n",
       "      <td>1.0</td>\n",
       "      <td>0.0</td>\n",
       "    </tr>\n",
       "    <tr>\n",
       "      <th>15163</th>\n",
       "      <td>1168956</td>\n",
       "      <td>Hydraulic Fracture</td>\n",
       "      <td>1.0</td>\n",
       "      <td>0.0</td>\n",
       "    </tr>\n",
       "    <tr>\n",
       "      <th>15172</th>\n",
       "      <td>1175074</td>\n",
       "      <td>Sand Fracture</td>\n",
       "      <td>1.0</td>\n",
       "      <td>0.0</td>\n",
       "    </tr>\n",
       "  </tbody>\n",
       "</table>\n",
       "<p>15173 rows × 4 columns</p>\n",
       "</div>"
      ],
      "text/plain": [
       "       EPAssetsId        ActivityType  ActivityDate  PerfShots\n",
       "0         2600761         Perforation         618.0      618.0\n",
       "1         2601039         Perforation         604.0      604.0\n",
       "2         2597868         Perforation         601.0      601.0\n",
       "3         2597875         Perforation         586.0      586.0\n",
       "4         2603285         Perforation         581.0      581.0\n",
       "...           ...                 ...           ...        ...\n",
       "15169     1168911       Sand Fracture           1.0        0.0\n",
       "15170     1168910       Sand Fracture           1.0        0.0\n",
       "15171     1168908  Hydraulic Fracture           1.0        0.0\n",
       "15163     1168956  Hydraulic Fracture           1.0        0.0\n",
       "15172     1175074       Sand Fracture           1.0        0.0\n",
       "\n",
       "[15173 rows x 4 columns]"
      ]
     },
     "execution_count": 58,
     "metadata": {},
     "output_type": "execute_result"
    }
   ],
   "source": [
    "perf_plot5=perf_plot4.sort_values('ActivityDate',ascending=[False])\n",
    "perf_plot5"
   ]
  },
  {
   "cell_type": "code",
   "execution_count": 59,
   "metadata": {},
   "outputs": [
    {
     "data": {
      "image/png": "[encoded data removed]",
      "text/plain": [
       "<Figure size 432x288 with 1 Axes>"
      ]
     },
     "metadata": {
      "needs_background": "light"
     },
     "output_type": "display_data"
    }
   ],
   "source": [
    "import seaborn as sns\n",
    "import matplotlib.pylab as plt\n",
    "\n",
    "sns.barplot(x='ActivityDate',y='ActivityType', data=perf_plot5)\n",
    "sns.despine(left=True, bottom=True)\n",
    "\n",
    "#sns.barplot(x='Id', y=\"Speed\", data=df, order=result['Id'])\n",
    "#order=df.sort_values('Salary').Education)"
   ]
  },
  {
   "cell_type": "code",
   "execution_count": 60,
   "metadata": {},
   "outputs": [
    {
     "data": {
      "text/html": [
       "<div>\n",
       "<style scoped>\n",
       "    .dataframe tbody tr th:only-of-type {\n",
       "        vertical-align: middle;\n",
       "    }\n",
       "\n",
       "    .dataframe tbody tr th {\n",
       "        vertical-align: top;\n",
       "    }\n",
       "\n",
       "    .dataframe thead th {\n",
       "        text-align: right;\n",
       "    }\n",
       "</style>\n",
       "<table border=\"1\" class=\"dataframe\">\n",
       "  <thead>\n",
       "    <tr style=\"text-align: right;\">\n",
       "      <th></th>\n",
       "      <th>ActivityType</th>\n",
       "      <th>ActivityDate</th>\n",
       "      <th>PerfShots</th>\n",
       "    </tr>\n",
       "  </thead>\n",
       "  <tbody>\n",
       "    <tr>\n",
       "      <th>0</th>\n",
       "      <td>25</td>\n",
       "      <td>2</td>\n",
       "      <td>0.0</td>\n",
       "    </tr>\n",
       "    <tr>\n",
       "      <th>1</th>\n",
       "      <td>25</td>\n",
       "      <td>2</td>\n",
       "      <td>0.0</td>\n",
       "    </tr>\n",
       "    <tr>\n",
       "      <th>2</th>\n",
       "      <td>25</td>\n",
       "      <td>2</td>\n",
       "      <td>0.0</td>\n",
       "    </tr>\n",
       "    <tr>\n",
       "      <th>3</th>\n",
       "      <td>25</td>\n",
       "      <td>3</td>\n",
       "      <td>0.0</td>\n",
       "    </tr>\n",
       "    <tr>\n",
       "      <th>4</th>\n",
       "      <td>25</td>\n",
       "      <td>3</td>\n",
       "      <td>0.0</td>\n",
       "    </tr>\n",
       "    <tr>\n",
       "      <th>...</th>\n",
       "      <td>...</td>\n",
       "      <td>...</td>\n",
       "      <td>...</td>\n",
       "    </tr>\n",
       "    <tr>\n",
       "      <th>10103</th>\n",
       "      <td>25</td>\n",
       "      <td>1</td>\n",
       "      <td>44.0</td>\n",
       "    </tr>\n",
       "    <tr>\n",
       "      <th>10104</th>\n",
       "      <td>25</td>\n",
       "      <td>1</td>\n",
       "      <td>41.0</td>\n",
       "    </tr>\n",
       "    <tr>\n",
       "      <th>10105</th>\n",
       "      <td>25</td>\n",
       "      <td>1</td>\n",
       "      <td>45.0</td>\n",
       "    </tr>\n",
       "    <tr>\n",
       "      <th>10106</th>\n",
       "      <td>25</td>\n",
       "      <td>2</td>\n",
       "      <td>26.0</td>\n",
       "    </tr>\n",
       "    <tr>\n",
       "      <th>10107</th>\n",
       "      <td>25</td>\n",
       "      <td>1</td>\n",
       "      <td>164.0</td>\n",
       "    </tr>\n",
       "  </tbody>\n",
       "</table>\n",
       "<p>10108 rows × 3 columns</p>\n",
       "</div>"
      ],
      "text/plain": [
       "       ActivityType  ActivityDate  PerfShots\n",
       "0                25             2        0.0\n",
       "1                25             2        0.0\n",
       "2                25             2        0.0\n",
       "3                25             3        0.0\n",
       "4                25             3        0.0\n",
       "...             ...           ...        ...\n",
       "10103            25             1       44.0\n",
       "10104            25             1       41.0\n",
       "10105            25             1       45.0\n",
       "10106            25             2       26.0\n",
       "10107            25             1      164.0\n",
       "\n",
       "[10108 rows x 3 columns]"
      ]
     },
     "execution_count": 60,
     "metadata": {},
     "output_type": "execute_result"
    }
   ],
   "source": [
    "## groupby original production table \n",
    "perf_pivot_eachwell_10 = perf_plot.groupby(by=['EPAssetsId'],as_index=False, observed=True).agg({'ActivityType':'count','ActivityDate':'count', 'PerfShots': 'sum'})\n",
    "\n",
    "perf_pivot_eachwell_10\n"
   ]
  },
  {
   "cell_type": "code",
   "execution_count": 61,
   "metadata": {},
   "outputs": [
    {
     "data": {
      "text/html": [
       "<div>\n",
       "<style scoped>\n",
       "    .dataframe tbody tr th:only-of-type {\n",
       "        vertical-align: middle;\n",
       "    }\n",
       "\n",
       "    .dataframe tbody tr th {\n",
       "        vertical-align: top;\n",
       "    }\n",
       "\n",
       "    .dataframe thead th {\n",
       "        text-align: right;\n",
       "    }\n",
       "</style>\n",
       "<table border=\"1\" class=\"dataframe\">\n",
       "  <thead>\n",
       "    <tr style=\"text-align: right;\">\n",
       "      <th></th>\n",
       "      <th>ActivityType</th>\n",
       "      <th>ActivityDate</th>\n",
       "      <th>PerfShots</th>\n",
       "    </tr>\n",
       "    <tr>\n",
       "      <th>EPAssetsId</th>\n",
       "      <th></th>\n",
       "      <th></th>\n",
       "      <th></th>\n",
       "    </tr>\n",
       "  </thead>\n",
       "  <tbody>\n",
       "    <tr>\n",
       "      <th>3373</th>\n",
       "      <td>25</td>\n",
       "      <td>2</td>\n",
       "      <td>0.0</td>\n",
       "    </tr>\n",
       "    <tr>\n",
       "      <th>6976</th>\n",
       "      <td>25</td>\n",
       "      <td>2</td>\n",
       "      <td>0.0</td>\n",
       "    </tr>\n",
       "    <tr>\n",
       "      <th>6977</th>\n",
       "      <td>25</td>\n",
       "      <td>2</td>\n",
       "      <td>0.0</td>\n",
       "    </tr>\n",
       "    <tr>\n",
       "      <th>7129</th>\n",
       "      <td>25</td>\n",
       "      <td>3</td>\n",
       "      <td>0.0</td>\n",
       "    </tr>\n",
       "    <tr>\n",
       "      <th>7130</th>\n",
       "      <td>25</td>\n",
       "      <td>3</td>\n",
       "      <td>0.0</td>\n",
       "    </tr>\n",
       "    <tr>\n",
       "      <th>...</th>\n",
       "      <td>...</td>\n",
       "      <td>...</td>\n",
       "      <td>...</td>\n",
       "    </tr>\n",
       "    <tr>\n",
       "      <th>2624626</th>\n",
       "      <td>25</td>\n",
       "      <td>1</td>\n",
       "      <td>44.0</td>\n",
       "    </tr>\n",
       "    <tr>\n",
       "      <th>2624627</th>\n",
       "      <td>25</td>\n",
       "      <td>1</td>\n",
       "      <td>41.0</td>\n",
       "    </tr>\n",
       "    <tr>\n",
       "      <th>2624628</th>\n",
       "      <td>25</td>\n",
       "      <td>1</td>\n",
       "      <td>45.0</td>\n",
       "    </tr>\n",
       "    <tr>\n",
       "      <th>2624670</th>\n",
       "      <td>25</td>\n",
       "      <td>2</td>\n",
       "      <td>26.0</td>\n",
       "    </tr>\n",
       "    <tr>\n",
       "      <th>2625908</th>\n",
       "      <td>25</td>\n",
       "      <td>1</td>\n",
       "      <td>164.0</td>\n",
       "    </tr>\n",
       "  </tbody>\n",
       "</table>\n",
       "<p>10108 rows × 3 columns</p>\n",
       "</div>"
      ],
      "text/plain": [
       "            ActivityType  ActivityDate  PerfShots\n",
       "EPAssetsId                                       \n",
       "3373                  25             2        0.0\n",
       "6976                  25             2        0.0\n",
       "6977                  25             2        0.0\n",
       "7129                  25             3        0.0\n",
       "7130                  25             3        0.0\n",
       "...                  ...           ...        ...\n",
       "2624626               25             1       44.0\n",
       "2624627               25             1       41.0\n",
       "2624628               25             1       45.0\n",
       "2624670               25             2       26.0\n",
       "2625908               25             1      164.0\n",
       "\n",
       "[10108 rows x 3 columns]"
      ]
     },
     "execution_count": 61,
     "metadata": {},
     "output_type": "execute_result"
    }
   ],
   "source": [
    "## groupby original production table \n",
    "perf_pivot_eachwell_10 = perf_plot.groupby(by=['EPAssetsId'],as_index=True, observed=True).agg({'ActivityType':'count','ActivityDate':'count', 'PerfShots': 'sum'})\n",
    "\n",
    "perf_pivot_eachwell_10\n"
   ]
  },
  {
   "cell_type": "code",
   "execution_count": 63,
   "metadata": {},
   "outputs": [
    {
     "data": {
      "text/html": [
       "<div>\n",
       "<style scoped>\n",
       "    .dataframe tbody tr th:only-of-type {\n",
       "        vertical-align: middle;\n",
       "    }\n",
       "\n",
       "    .dataframe tbody tr th {\n",
       "        vertical-align: top;\n",
       "    }\n",
       "\n",
       "    .dataframe thead th {\n",
       "        text-align: right;\n",
       "    }\n",
       "</style>\n",
       "<table border=\"1\" class=\"dataframe\">\n",
       "  <thead>\n",
       "    <tr style=\"text-align: right;\">\n",
       "      <th></th>\n",
       "      <th>EPAssetsId</th>\n",
       "      <th>ActivityType</th>\n",
       "      <th>ActivityDate</th>\n",
       "      <th>PerfShots</th>\n",
       "    </tr>\n",
       "  </thead>\n",
       "  <tbody>\n",
       "    <tr>\n",
       "      <th>0</th>\n",
       "      <td>3373</td>\n",
       "      <td>25</td>\n",
       "      <td>2</td>\n",
       "      <td>0.0</td>\n",
       "    </tr>\n",
       "    <tr>\n",
       "      <th>1</th>\n",
       "      <td>6976</td>\n",
       "      <td>25</td>\n",
       "      <td>2</td>\n",
       "      <td>0.0</td>\n",
       "    </tr>\n",
       "    <tr>\n",
       "      <th>2</th>\n",
       "      <td>6977</td>\n",
       "      <td>25</td>\n",
       "      <td>2</td>\n",
       "      <td>0.0</td>\n",
       "    </tr>\n",
       "    <tr>\n",
       "      <th>3</th>\n",
       "      <td>7129</td>\n",
       "      <td>25</td>\n",
       "      <td>3</td>\n",
       "      <td>0.0</td>\n",
       "    </tr>\n",
       "    <tr>\n",
       "      <th>4</th>\n",
       "      <td>7130</td>\n",
       "      <td>25</td>\n",
       "      <td>3</td>\n",
       "      <td>0.0</td>\n",
       "    </tr>\n",
       "    <tr>\n",
       "      <th>...</th>\n",
       "      <td>...</td>\n",
       "      <td>...</td>\n",
       "      <td>...</td>\n",
       "      <td>...</td>\n",
       "    </tr>\n",
       "    <tr>\n",
       "      <th>10103</th>\n",
       "      <td>2624626</td>\n",
       "      <td>25</td>\n",
       "      <td>1</td>\n",
       "      <td>44.0</td>\n",
       "    </tr>\n",
       "    <tr>\n",
       "      <th>10104</th>\n",
       "      <td>2624627</td>\n",
       "      <td>25</td>\n",
       "      <td>1</td>\n",
       "      <td>41.0</td>\n",
       "    </tr>\n",
       "    <tr>\n",
       "      <th>10105</th>\n",
       "      <td>2624628</td>\n",
       "      <td>25</td>\n",
       "      <td>1</td>\n",
       "      <td>45.0</td>\n",
       "    </tr>\n",
       "    <tr>\n",
       "      <th>10106</th>\n",
       "      <td>2624670</td>\n",
       "      <td>25</td>\n",
       "      <td>2</td>\n",
       "      <td>26.0</td>\n",
       "    </tr>\n",
       "    <tr>\n",
       "      <th>10107</th>\n",
       "      <td>2625908</td>\n",
       "      <td>25</td>\n",
       "      <td>1</td>\n",
       "      <td>164.0</td>\n",
       "    </tr>\n",
       "  </tbody>\n",
       "</table>\n",
       "<p>10108 rows × 4 columns</p>\n",
       "</div>"
      ],
      "text/plain": [
       "       EPAssetsId  ActivityType  ActivityDate  PerfShots\n",
       "0            3373            25             2        0.0\n",
       "1            6976            25             2        0.0\n",
       "2            6977            25             2        0.0\n",
       "3            7129            25             3        0.0\n",
       "4            7130            25             3        0.0\n",
       "...           ...           ...           ...        ...\n",
       "10103     2624626            25             1       44.0\n",
       "10104     2624627            25             1       41.0\n",
       "10105     2624628            25             1       45.0\n",
       "10106     2624670            25             2       26.0\n",
       "10107     2625908            25             1      164.0\n",
       "\n",
       "[10108 rows x 4 columns]"
      ]
     },
     "execution_count": 63,
     "metadata": {},
     "output_type": "execute_result"
    }
   ],
   "source": [
    "perf3=perf_pivot_eachwell_10.reset_index()\n",
    "perf3"
   ]
  },
  {
   "cell_type": "code",
   "execution_count": 64,
   "metadata": {},
   "outputs": [
    {
     "data": {
      "text/html": [
       "<div>\n",
       "<style scoped>\n",
       "    .dataframe tbody tr th:only-of-type {\n",
       "        vertical-align: middle;\n",
       "    }\n",
       "\n",
       "    .dataframe tbody tr th {\n",
       "        vertical-align: top;\n",
       "    }\n",
       "\n",
       "    .dataframe thead th {\n",
       "        text-align: right;\n",
       "    }\n",
       "</style>\n",
       "<table border=\"1\" class=\"dataframe\">\n",
       "  <thead>\n",
       "    <tr style=\"text-align: right;\">\n",
       "      <th></th>\n",
       "      <th>PerfShots</th>\n",
       "    </tr>\n",
       "  </thead>\n",
       "  <tbody>\n",
       "    <tr>\n",
       "      <th>0</th>\n",
       "      <td>0.0</td>\n",
       "    </tr>\n",
       "    <tr>\n",
       "      <th>1</th>\n",
       "      <td>0.0</td>\n",
       "    </tr>\n",
       "    <tr>\n",
       "      <th>2</th>\n",
       "      <td>0.0</td>\n",
       "    </tr>\n",
       "    <tr>\n",
       "      <th>3</th>\n",
       "      <td>0.0</td>\n",
       "    </tr>\n",
       "    <tr>\n",
       "      <th>4</th>\n",
       "      <td>0.0</td>\n",
       "    </tr>\n",
       "    <tr>\n",
       "      <th>...</th>\n",
       "      <td>...</td>\n",
       "    </tr>\n",
       "    <tr>\n",
       "      <th>10103</th>\n",
       "      <td>44.0</td>\n",
       "    </tr>\n",
       "    <tr>\n",
       "      <th>10104</th>\n",
       "      <td>41.0</td>\n",
       "    </tr>\n",
       "    <tr>\n",
       "      <th>10105</th>\n",
       "      <td>45.0</td>\n",
       "    </tr>\n",
       "    <tr>\n",
       "      <th>10106</th>\n",
       "      <td>26.0</td>\n",
       "    </tr>\n",
       "    <tr>\n",
       "      <th>10107</th>\n",
       "      <td>164.0</td>\n",
       "    </tr>\n",
       "  </tbody>\n",
       "</table>\n",
       "<p>10108 rows × 1 columns</p>\n",
       "</div>"
      ],
      "text/plain": [
       "       PerfShots\n",
       "0            0.0\n",
       "1            0.0\n",
       "2            0.0\n",
       "3            0.0\n",
       "4            0.0\n",
       "...          ...\n",
       "10103       44.0\n",
       "10104       41.0\n",
       "10105       45.0\n",
       "10106       26.0\n",
       "10107      164.0\n",
       "\n",
       "[10108 rows x 1 columns]"
      ]
     },
     "execution_count": 64,
     "metadata": {},
     "output_type": "execute_result"
    }
   ],
   "source": [
    "perf4=perf3.drop(['EPAssetsId','ActivityType', 'ActivityDate'], axis=1)\n",
    "#g2.drop(g2.columns[0], axis=1)\n",
    "perf4"
   ]
  },
  {
   "cell_type": "code",
   "execution_count": 65,
   "metadata": {},
   "outputs": [
    {
     "data": {
      "text/html": [
       "<div>\n",
       "<style scoped>\n",
       "    .dataframe tbody tr th:only-of-type {\n",
       "        vertical-align: middle;\n",
       "    }\n",
       "\n",
       "    .dataframe tbody tr th {\n",
       "        vertical-align: top;\n",
       "    }\n",
       "\n",
       "    .dataframe thead th {\n",
       "        text-align: right;\n",
       "    }\n",
       "</style>\n",
       "<table border=\"1\" class=\"dataframe\">\n",
       "  <thead>\n",
       "    <tr style=\"text-align: right;\">\n",
       "      <th></th>\n",
       "      <th>EPAssetsId</th>\n",
       "      <th>ActivityType</th>\n",
       "      <th>ActivityDate</th>\n",
       "      <th>PerfShots</th>\n",
       "    </tr>\n",
       "  </thead>\n",
       "  <tbody>\n",
       "    <tr>\n",
       "      <th>0</th>\n",
       "      <td>2600761</td>\n",
       "      <td>Perforation</td>\n",
       "      <td>618.0</td>\n",
       "      <td>618.0</td>\n",
       "    </tr>\n",
       "    <tr>\n",
       "      <th>1</th>\n",
       "      <td>2601039</td>\n",
       "      <td>Perforation</td>\n",
       "      <td>604.0</td>\n",
       "      <td>604.0</td>\n",
       "    </tr>\n",
       "    <tr>\n",
       "      <th>2</th>\n",
       "      <td>2597868</td>\n",
       "      <td>Perforation</td>\n",
       "      <td>601.0</td>\n",
       "      <td>601.0</td>\n",
       "    </tr>\n",
       "    <tr>\n",
       "      <th>3</th>\n",
       "      <td>2597875</td>\n",
       "      <td>Perforation</td>\n",
       "      <td>586.0</td>\n",
       "      <td>586.0</td>\n",
       "    </tr>\n",
       "    <tr>\n",
       "      <th>4</th>\n",
       "      <td>2603285</td>\n",
       "      <td>Perforation</td>\n",
       "      <td>581.0</td>\n",
       "      <td>581.0</td>\n",
       "    </tr>\n",
       "    <tr>\n",
       "      <th>...</th>\n",
       "      <td>...</td>\n",
       "      <td>...</td>\n",
       "      <td>...</td>\n",
       "      <td>...</td>\n",
       "    </tr>\n",
       "    <tr>\n",
       "      <th>15169</th>\n",
       "      <td>1168911</td>\n",
       "      <td>Sand Fracture</td>\n",
       "      <td>1.0</td>\n",
       "      <td>0.0</td>\n",
       "    </tr>\n",
       "    <tr>\n",
       "      <th>15170</th>\n",
       "      <td>1168910</td>\n",
       "      <td>Sand Fracture</td>\n",
       "      <td>1.0</td>\n",
       "      <td>0.0</td>\n",
       "    </tr>\n",
       "    <tr>\n",
       "      <th>15171</th>\n",
       "      <td>1168908</td>\n",
       "      <td>Hydraulic Fracture</td>\n",
       "      <td>1.0</td>\n",
       "      <td>0.0</td>\n",
       "    </tr>\n",
       "    <tr>\n",
       "      <th>15163</th>\n",
       "      <td>1168956</td>\n",
       "      <td>Hydraulic Fracture</td>\n",
       "      <td>1.0</td>\n",
       "      <td>0.0</td>\n",
       "    </tr>\n",
       "    <tr>\n",
       "      <th>15172</th>\n",
       "      <td>1175074</td>\n",
       "      <td>Sand Fracture</td>\n",
       "      <td>1.0</td>\n",
       "      <td>0.0</td>\n",
       "    </tr>\n",
       "  </tbody>\n",
       "</table>\n",
       "<p>15173 rows × 4 columns</p>\n",
       "</div>"
      ],
      "text/plain": [
       "       EPAssetsId        ActivityType  ActivityDate  PerfShots\n",
       "0         2600761         Perforation         618.0      618.0\n",
       "1         2601039         Perforation         604.0      604.0\n",
       "2         2597868         Perforation         601.0      601.0\n",
       "3         2597875         Perforation         586.0      586.0\n",
       "4         2603285         Perforation         581.0      581.0\n",
       "...           ...                 ...           ...        ...\n",
       "15169     1168911       Sand Fracture           1.0        0.0\n",
       "15170     1168910       Sand Fracture           1.0        0.0\n",
       "15171     1168908  Hydraulic Fracture           1.0        0.0\n",
       "15163     1168956  Hydraulic Fracture           1.0        0.0\n",
       "15172     1175074       Sand Fracture           1.0        0.0\n",
       "\n",
       "[15173 rows x 4 columns]"
      ]
     },
     "execution_count": 65,
     "metadata": {},
     "output_type": "execute_result"
    }
   ],
   "source": [
    "perf_plot5"
   ]
  },
  {
   "cell_type": "code",
   "execution_count": 66,
   "metadata": {},
   "outputs": [
    {
     "data": {
      "text/html": [
       "<div>\n",
       "<style scoped>\n",
       "    .dataframe tbody tr th:only-of-type {\n",
       "        vertical-align: middle;\n",
       "    }\n",
       "\n",
       "    .dataframe tbody tr th {\n",
       "        vertical-align: top;\n",
       "    }\n",
       "\n",
       "    .dataframe thead th {\n",
       "        text-align: right;\n",
       "    }\n",
       "</style>\n",
       "<table border=\"1\" class=\"dataframe\">\n",
       "  <thead>\n",
       "    <tr style=\"text-align: right;\">\n",
       "      <th></th>\n",
       "      <th>ActivityType</th>\n",
       "      <th>ActivityDate</th>\n",
       "    </tr>\n",
       "  </thead>\n",
       "  <tbody>\n",
       "    <tr>\n",
       "      <th>20</th>\n",
       "      <td>Perforation</td>\n",
       "      <td>95.887993</td>\n",
       "    </tr>\n",
       "    <tr>\n",
       "      <th>14</th>\n",
       "      <td>Multi-Stage Fracture</td>\n",
       "      <td>34.851258</td>\n",
       "    </tr>\n",
       "    <tr>\n",
       "      <th>12</th>\n",
       "      <td>Hydra Jet Perforation</td>\n",
       "      <td>31.393443</td>\n",
       "    </tr>\n",
       "    <tr>\n",
       "      <th>11</th>\n",
       "      <td>Fracture</td>\n",
       "      <td>30.805609</td>\n",
       "    </tr>\n",
       "    <tr>\n",
       "      <th>1</th>\n",
       "      <td>Acid Treatment</td>\n",
       "      <td>26.437500</td>\n",
       "    </tr>\n",
       "    <tr>\n",
       "      <th>15</th>\n",
       "      <td>Multi-Stage Fracture - Port Closed</td>\n",
       "      <td>3.400000</td>\n",
       "    </tr>\n",
       "    <tr>\n",
       "      <th>5</th>\n",
       "      <td>Bridge Plug Set</td>\n",
       "      <td>2.954545</td>\n",
       "    </tr>\n",
       "    <tr>\n",
       "      <th>8</th>\n",
       "      <td>Cement Squeeze</td>\n",
       "      <td>1.800000</td>\n",
       "    </tr>\n",
       "    <tr>\n",
       "      <th>22</th>\n",
       "      <td>Remedial Casing Cementing</td>\n",
       "      <td>1.750000</td>\n",
       "    </tr>\n",
       "    <tr>\n",
       "      <th>21</th>\n",
       "      <td>Remedial</td>\n",
       "      <td>1.666667</td>\n",
       "    </tr>\n",
       "    <tr>\n",
       "      <th>23</th>\n",
       "      <td>Sand Fracture</td>\n",
       "      <td>1.634888</td>\n",
       "    </tr>\n",
       "    <tr>\n",
       "      <th>9</th>\n",
       "      <td>Chemical Fracture</td>\n",
       "      <td>1.518584</td>\n",
       "    </tr>\n",
       "    <tr>\n",
       "      <th>6</th>\n",
       "      <td>Casing Patch</td>\n",
       "      <td>1.500000</td>\n",
       "    </tr>\n",
       "    <tr>\n",
       "      <th>18</th>\n",
       "      <td>Other</td>\n",
       "      <td>1.426966</td>\n",
       "    </tr>\n",
       "    <tr>\n",
       "      <th>13</th>\n",
       "      <td>Hydraulic Fracture</td>\n",
       "      <td>1.340554</td>\n",
       "    </tr>\n",
       "    <tr>\n",
       "      <th>0</th>\n",
       "      <td>Acid Squeeze</td>\n",
       "      <td>1.017442</td>\n",
       "    </tr>\n",
       "    <tr>\n",
       "      <th>17</th>\n",
       "      <td>Open Hole/Barefoot Completion</td>\n",
       "      <td>1.011572</td>\n",
       "    </tr>\n",
       "    <tr>\n",
       "      <th>16</th>\n",
       "      <td>Open Hole</td>\n",
       "      <td>1.005365</td>\n",
       "    </tr>\n",
       "    <tr>\n",
       "      <th>10</th>\n",
       "      <td>Chemical Squeeze</td>\n",
       "      <td>1.000000</td>\n",
       "    </tr>\n",
       "    <tr>\n",
       "      <th>19</th>\n",
       "      <td>Packing Device Capped w/Cement</td>\n",
       "      <td>1.000000</td>\n",
       "    </tr>\n",
       "    <tr>\n",
       "      <th>7</th>\n",
       "      <td>Cement Plug</td>\n",
       "      <td>1.000000</td>\n",
       "    </tr>\n",
       "    <tr>\n",
       "      <th>4</th>\n",
       "      <td>Bridge Plug - No Cement</td>\n",
       "      <td>1.000000</td>\n",
       "    </tr>\n",
       "    <tr>\n",
       "      <th>3</th>\n",
       "      <td>Acidize</td>\n",
       "      <td>1.000000</td>\n",
       "    </tr>\n",
       "    <tr>\n",
       "      <th>2</th>\n",
       "      <td>Acid Wash</td>\n",
       "      <td>1.000000</td>\n",
       "    </tr>\n",
       "    <tr>\n",
       "      <th>24</th>\n",
       "      <td>Slotted Liner</td>\n",
       "      <td>1.000000</td>\n",
       "    </tr>\n",
       "  </tbody>\n",
       "</table>\n",
       "</div>"
      ],
      "text/plain": [
       "                          ActivityType  ActivityDate\n",
       "20                         Perforation     95.887993\n",
       "14                Multi-Stage Fracture     34.851258\n",
       "12               Hydra Jet Perforation     31.393443\n",
       "11                            Fracture     30.805609\n",
       "1                       Acid Treatment     26.437500\n",
       "15  Multi-Stage Fracture - Port Closed      3.400000\n",
       "5                      Bridge Plug Set      2.954545\n",
       "8                       Cement Squeeze      1.800000\n",
       "22           Remedial Casing Cementing      1.750000\n",
       "21                            Remedial      1.666667\n",
       "23                       Sand Fracture      1.634888\n",
       "9                    Chemical Fracture      1.518584\n",
       "6                         Casing Patch      1.500000\n",
       "18                               Other      1.426966\n",
       "13                  Hydraulic Fracture      1.340554\n",
       "0                         Acid Squeeze      1.017442\n",
       "17       Open Hole/Barefoot Completion      1.011572\n",
       "16                           Open Hole      1.005365\n",
       "10                    Chemical Squeeze      1.000000\n",
       "19      Packing Device Capped w/Cement      1.000000\n",
       "7                          Cement Plug      1.000000\n",
       "4              Bridge Plug - No Cement      1.000000\n",
       "3                              Acidize      1.000000\n",
       "2                            Acid Wash      1.000000\n",
       "24                       Slotted Liner      1.000000"
      ]
     },
     "execution_count": 66,
     "metadata": {},
     "output_type": "execute_result"
    }
   ],
   "source": [
    "#perf_plot6=perf_plot5.groupby('ActivityType').ActivityDate. agg(['count','mean','sum','min','max']).reset_index()\n",
    "perf_plot6=perf_plot5.groupby([\"ActivityType\"])['ActivityDate']. agg(np.mean).reset_index().sort_values('ActivityDate',ascending=[False])\n",
    "#'mean','sum','min','max'\n",
    "perf_plot6"
   ]
  },
  {
   "cell_type": "code",
   "execution_count": 67,
   "metadata": {},
   "outputs": [
    {
     "data": {
      "image/png": "[encoded data removed]",
      "text/plain": [
       "<Figure size 432x288 with 1 Axes>"
      ]
     },
     "metadata": {
      "needs_background": "light"
     },
     "output_type": "display_data"
    }
   ],
   "source": [
    "sns.barplot(x='ActivityDate',y='ActivityType', data=perf_plot6, order=perf_plot6['ActivityType'] )\n",
    "sns.despine(left=True, bottom=True)"
   ]
  },
  {
   "cell_type": "code",
   "execution_count": 68,
   "metadata": {},
   "outputs": [
    {
     "data": {
      "text/plain": [
       "<Figure size 842.4x595.44 with 0 Axes>"
      ]
     },
     "metadata": {},
     "output_type": "display_data"
    },
    {
     "data": {
      "image/png": "[encoded data removed]",
      "text/plain": [
       "<Figure size 432x288 with 1 Axes>"
      ]
     },
     "metadata": {
      "needs_background": "light"
     },
     "output_type": "display_data"
    }
   ],
   "source": [
    "plt.gcf().set_size_inches(11.7, 8.27)\n",
    "plt.figure()\n",
    "perf_bar_h1=sns.barplot(x='ActivityDate',y='ActivityType', data=perf_plot6, order=perf_plot6['ActivityType'] )\n",
    "sns.despine(left=True, bottom=True)\n",
    "plt.savefig('perf_bar_h1.png')\n"
   ]
  },
  {
   "cell_type": "code",
   "execution_count": 69,
   "metadata": {},
   "outputs": [
    {
     "data": {
      "image/png": "[encoded data removed]",
      "text/plain": [
       "<Figure size 360x360 with 1 Axes>"
      ]
     },
     "metadata": {
      "needs_background": "light"
     },
     "output_type": "display_data"
    }
   ],
   "source": [
    "sns.catplot(x=\"ActivityDate\", y=\"ActivityType\", data=perf_plot6);"
   ]
  },
  {
   "cell_type": "code",
   "execution_count": 70,
   "metadata": {},
   "outputs": [
    {
     "data": {
      "image/png": "[encoded data removed]",
      "text/plain": [
       "<Figure size 360x360 with 1 Axes>"
      ]
     },
     "metadata": {
      "needs_background": "light"
     },
     "output_type": "display_data"
    }
   ],
   "source": [
    "sns.catplot(x=\"ActivityType\", y=\"ActivityDate\", data=perf_plot6);"
   ]
  },
  {
   "cell_type": "code",
   "execution_count": 71,
   "metadata": {},
   "outputs": [
    {
     "data": {
      "text/html": [
       "<div>\n",
       "<style scoped>\n",
       "    .dataframe tbody tr th:only-of-type {\n",
       "        vertical-align: middle;\n",
       "    }\n",
       "\n",
       "    .dataframe tbody tr th {\n",
       "        vertical-align: top;\n",
       "    }\n",
       "\n",
       "    .dataframe thead th {\n",
       "        text-align: right;\n",
       "    }\n",
       "</style>\n",
       "<table border=\"1\" class=\"dataframe\">\n",
       "  <thead>\n",
       "    <tr style=\"text-align: right;\">\n",
       "      <th></th>\n",
       "      <th>EPAssetsId</th>\n",
       "      <th>ActivityDate</th>\n",
       "      <th>PerfShots</th>\n",
       "    </tr>\n",
       "    <tr>\n",
       "      <th>ActivityType</th>\n",
       "      <th></th>\n",
       "      <th></th>\n",
       "      <th></th>\n",
       "    </tr>\n",
       "  </thead>\n",
       "  <tbody>\n",
       "    <tr>\n",
       "      <th>Acid Squeeze</th>\n",
       "      <td>3373</td>\n",
       "      <td>NaN</td>\n",
       "      <td>NaN</td>\n",
       "    </tr>\n",
       "    <tr>\n",
       "      <th>Acid Squeeze</th>\n",
       "      <td>6976</td>\n",
       "      <td>NaN</td>\n",
       "      <td>NaN</td>\n",
       "    </tr>\n",
       "    <tr>\n",
       "      <th>Acid Squeeze</th>\n",
       "      <td>6977</td>\n",
       "      <td>NaN</td>\n",
       "      <td>NaN</td>\n",
       "    </tr>\n",
       "    <tr>\n",
       "      <th>Acid Squeeze</th>\n",
       "      <td>7129</td>\n",
       "      <td>NaN</td>\n",
       "      <td>NaN</td>\n",
       "    </tr>\n",
       "    <tr>\n",
       "      <th>Acid Squeeze</th>\n",
       "      <td>7130</td>\n",
       "      <td>NaN</td>\n",
       "      <td>NaN</td>\n",
       "    </tr>\n",
       "    <tr>\n",
       "      <th>...</th>\n",
       "      <td>...</td>\n",
       "      <td>...</td>\n",
       "      <td>...</td>\n",
       "    </tr>\n",
       "    <tr>\n",
       "      <th>Slotted Liner</th>\n",
       "      <td>2624626</td>\n",
       "      <td>NaN</td>\n",
       "      <td>NaN</td>\n",
       "    </tr>\n",
       "    <tr>\n",
       "      <th>Slotted Liner</th>\n",
       "      <td>2624627</td>\n",
       "      <td>NaN</td>\n",
       "      <td>NaN</td>\n",
       "    </tr>\n",
       "    <tr>\n",
       "      <th>Slotted Liner</th>\n",
       "      <td>2624628</td>\n",
       "      <td>NaN</td>\n",
       "      <td>NaN</td>\n",
       "    </tr>\n",
       "    <tr>\n",
       "      <th>Slotted Liner</th>\n",
       "      <td>2624670</td>\n",
       "      <td>NaN</td>\n",
       "      <td>NaN</td>\n",
       "    </tr>\n",
       "    <tr>\n",
       "      <th>Slotted Liner</th>\n",
       "      <td>2625908</td>\n",
       "      <td>NaN</td>\n",
       "      <td>NaN</td>\n",
       "    </tr>\n",
       "  </tbody>\n",
       "</table>\n",
       "<p>252700 rows × 3 columns</p>\n",
       "</div>"
      ],
      "text/plain": [
       "               EPAssetsId  ActivityDate  PerfShots\n",
       "ActivityType                                      \n",
       "Acid Squeeze         3373           NaN        NaN\n",
       "Acid Squeeze         6976           NaN        NaN\n",
       "Acid Squeeze         6977           NaN        NaN\n",
       "Acid Squeeze         7129           NaN        NaN\n",
       "Acid Squeeze         7130           NaN        NaN\n",
       "...                   ...           ...        ...\n",
       "Slotted Liner     2624626           NaN        NaN\n",
       "Slotted Liner     2624627           NaN        NaN\n",
       "Slotted Liner     2624628           NaN        NaN\n",
       "Slotted Liner     2624670           NaN        NaN\n",
       "Slotted Liner     2625908           NaN        NaN\n",
       "\n",
       "[252700 rows x 3 columns]"
      ]
     },
     "execution_count": 71,
     "metadata": {},
     "output_type": "execute_result"
    }
   ],
   "source": [
    "#perf_plot6=perf_plot5.groupby('ActivityType').ActivityDate. agg(['count','mean','sum','min','max']).reset_index()\n",
    "perf_plot7=perf_treatment1.groupby([\"ActivityType\",\"EPAssetsId\"]).count().reset_index(level=1)\n",
    "#sort_values('ActivityDate',ascending=[False])\n",
    "perf_plot7"
   ]
  },
  {
   "cell_type": "code",
   "execution_count": null,
   "metadata": {},
   "outputs": [],
   "source": [
    "import matplotlib.pyplot as plt\n",
    "sns.set(style=\"ticks\", color_codes=True)\n",
    "\n",
    "sns.catplot(x=\"ActivityType\", y=\"ActivityDate\", kind=\"swarm\", data=perf_plot7.reset_index());"
   ]
  },
  {
   "cell_type": "code",
   "execution_count": null,
   "metadata": {},
   "outputs": [],
   "source": [
    "plt.gcf().set_size_inches(11.7, 8.27)"
   ]
  },
  {
   "cell_type": "code",
   "execution_count": null,
   "metadata": {},
   "outputs": [],
   "source": [
    "sns.catplot(x=\"ActivityDate\",y=\"ActivityType\", kind=\"swarm\", data=perf_plot7.reset_index());"
   ]
  },
  {
   "cell_type": "code",
   "execution_count": null,
   "metadata": {},
   "outputs": [],
   "source": [
    "plt.gcf().set_size_inches(11.7, 8.27)\n",
    "sns.catplot(x=\"ActivityDate\",y=\"ActivityType\", kind=\"swarm\", data=perf_plot7.reset_index());"
   ]
  },
  {
   "cell_type": "code",
   "execution_count": null,
   "metadata": {},
   "outputs": [],
   "source": [
    "plt.gcf().set_size_inches(11.7, 8.27)\n",
    "plt.figure()\n",
    "perf_swarm_h1=sns.catplot(x=\"ActivityDate\",y=\"ActivityType\", kind=\"swarm\", data=perf_plot7.reset_index());\n",
    "plt.savefig('perf_swarm_h1.png')\n"
   ]
  },
  {
   "cell_type": "code",
   "execution_count": null,
   "metadata": {},
   "outputs": [],
   "source": [
    "sns.catplot(x=\"ActivityType\", y=\"ActivityDate\", kind=\"violin\", data=perf_plot7.reset_index());"
   ]
  },
  {
   "cell_type": "code",
   "execution_count": null,
   "metadata": {},
   "outputs": [],
   "source": [
    "sns.catplot(x=\"ActivityDate\",y=\"ActivityType\", kind=\"violin\", data=perf_plot7.reset_index());"
   ]
  },
  {
   "cell_type": "code",
   "execution_count": null,
   "metadata": {},
   "outputs": [],
   "source": [
    "g = sns.catplot(x=\"ActivityType\", y=\"ActivityDate\", kind=\"violin\", inner=None, data=perf_plot7.reset_index())\n",
    "sns.swarmplot(x=\"ActivityType\", y=\"ActivityDate\", size=3, data=perf_plot7.reset_index(), ax=g.ax);"
   ]
  },
  {
   "cell_type": "code",
   "execution_count": null,
   "metadata": {},
   "outputs": [],
   "source": [
    "g = sns.catplot(x=\"ActivityDate\",y=\"ActivityType\",  kind=\"violin\", inner=None, data=perf_plot7.reset_index())\n",
    "sns.swarmplot(x=\"ActivityDate\",y=\"ActivityType\", size=3, data=perf_plot7.reset_index(), ax=g.ax);"
   ]
  },
  {
   "cell_type": "code",
   "execution_count": null,
   "metadata": {},
   "outputs": [],
   "source": [
    "plt.gcf().set_size_inches(11.7, 8.27)\n",
    "plt.figure()\n",
    "g = sns.catplot(x=\"ActivityDate\",y=\"ActivityType\",  kind=\"violin\", inner=None, data=perf_plot7.reset_index())\n",
    "perf_swarm_piano_h1=sns.swarmplot(x=\"ActivityDate\",y=\"ActivityType\", size=3, data=perf_plot7.reset_index(), ax=g.ax);\n",
    "plt.savefig('perf_swarm_piano_h1.png')"
   ]
  },
  {
   "cell_type": "code",
   "execution_count": null,
   "metadata": {},
   "outputs": [],
   "source": [
    "# create new dataframe with PerfTable for each well\n",
    "perf_pivot_eachwell_1 = perf_plot.pivot_table(index=['EPAssetsId'], columns='ActivityType', values='ActivityDate', aggfunc=np.sum, observed=True)\n",
    "perf_pivot_eachwell_1"
   ]
  },
  {
   "cell_type": "code",
   "execution_count": null,
   "metadata": {},
   "outputs": [],
   "source": [
    "# create new dataframe with PerfTable for each well\n",
    "perf_pivot_eachwell_2 = perf_plot.pivot_table(index=['EPAssetsId'], columns={'ActivityType', values='ActivityDate', aggfunc=np.sum, observed=True)\n",
    "perf_pivot_eachwell_1"
   ]
  },
  {
   "cell_type": "code",
   "execution_count": null,
   "metadata": {},
   "outputs": [],
   "source": [
    "perf_pivot_eachwell_1.columns.name = None\n",
    "perf_pivot_eachwell_1.shape\n",
    "#perf_pivot_eachwell_1"
   ]
  },
  {
   "cell_type": "code",
   "execution_count": null,
   "metadata": {},
   "outputs": [],
   "source": [
    "perf_pivot_eachwell_1"
   ]
  },
  {
   "cell_type": "code",
   "execution_count": null,
   "metadata": {},
   "outputs": [],
   "source": [
    "#perf_pivot_eachwell_1.info()"
   ]
  },
  {
   "cell_type": "code",
   "execution_count": null,
   "metadata": {},
   "outputs": [],
   "source": [
    "print(type(perf_pivot_eachwell_1))"
   ]
  },
  {
   "cell_type": "code",
   "execution_count": null,
   "metadata": {},
   "outputs": [],
   "source": [
    "g1=perf_pivot_eachwell_1['Acid Squeeze'].reset_index()\n",
    "g1.drop(g1.tail(1).index,inplace=True)\n",
    "gg=g1.reset_index(drop=True)\n",
    "gg"
   ]
  },
  {
   "cell_type": "code",
   "execution_count": null,
   "metadata": {},
   "outputs": [],
   "source": [
    "g2=perf_pivot_eachwell_1['Acid Treatment'].reset_index()\n",
    "g2.drop(g2.tail(1).index,inplace=True)\n",
    "g2=g2.reset_index(drop=True)\n",
    "g22=g2.drop(g2.columns[0], axis=1)\n",
    "g22"
   ]
  },
  {
   "cell_type": "code",
   "execution_count": null,
   "metadata": {},
   "outputs": [],
   "source": [
    "g3=perf_pivot_eachwell_1['Acid Wash'].reset_index()\n",
    "g3.drop(g3.tail(1).index,inplace=True)\n",
    "g3=g3.reset_index(drop=True)\n",
    "g33=g3.drop(g3.columns[0], axis=1)"
   ]
  },
  {
   "cell_type": "code",
   "execution_count": null,
   "metadata": {},
   "outputs": [],
   "source": [
    "g4=perf_pivot_eachwell_1['Acidize'].reset_index()\n",
    "g4.drop(g4.tail(1).index,inplace=True)\n",
    "g4=g4.reset_index(drop=True)\n",
    "g44=g4.drop(g4.columns[0], axis=1)"
   ]
  },
  {
   "cell_type": "code",
   "execution_count": null,
   "metadata": {},
   "outputs": [],
   "source": [
    "g5=perf_pivot_eachwell_1['Bridge Plug - No Cement'].reset_index()\n",
    "g5.drop(g2.tail(1).index,inplace=True)\n",
    "g5=g5.reset_index(drop=True)\n",
    "g55=g5.drop(g5.columns[0], axis=1)\n",
    "\n",
    "g6=perf_pivot_eachwell_1['Bridge Plug Set'].reset_index()\n",
    "g6.drop(g6.tail(1).index,inplace=True)\n",
    "g6=g1.reset_index(drop=True)\n",
    "g66=g6.drop(g6.columns[0], axis=1)\n",
    "\n",
    "g7=perf_pivot_eachwell_1['Casing Patch'].reset_index()\n",
    "g7.drop(g7.tail(1).index,inplace=True)\n",
    "g7=g1.reset_index(drop=True)\n",
    "g77=g7.drop(g7.columns[0], axis=1)\n",
    "\n",
    "g8=perf_pivot_eachwell_1['Cement Plug'].reset_index()\n",
    "g8.drop(g8.tail(1).index,inplace=True)\n",
    "g8=g8.reset_index(drop=True)\n",
    "g88=g8.drop(g8.columns[0], axis=1)\n",
    "\n",
    "g9=perf_pivot_eachwell_1['Cement Squeeze'].reset_index()\n",
    "g9.drop(g9.tail(1).index,inplace=True)\n",
    "g9=g9.reset_index(drop=True)\n",
    "g99=g9.drop(g9.columns[0], axis=1)\n",
    "\n",
    "g10=perf_pivot_eachwell_1['Chemical Fracture'].reset_index()\n",
    "g10.drop(g10.tail(1).index,inplace=True)\n",
    "g10=g10.reset_index(drop=True)\n",
    "g102=g10.drop(g10.columns[0], axis=1)\n",
    "\n",
    "g11=perf_pivot_eachwell_1['Chemical Squeeze'].reset_index()\n",
    "g11.drop(g11.tail(1).index,inplace=True)\n",
    "g11=g11.reset_index(drop=True)\n",
    "g112=g11.drop(g11.columns[0], axis=1)\n",
    "\n",
    "g12=perf_pivot_eachwell_1['Fracture'].reset_index()\n",
    "g12.drop(g2.tail(1).index,inplace=True)\n",
    "g12=g12.reset_index(drop=True)\n",
    "g122=g12.drop(g12.columns[0], axis=1)\n",
    "\n",
    "g13=perf_pivot_eachwell_1['Hydra Jet Perforation'].reset_index()\n",
    "g13.drop(g13.tail(1).index,inplace=True)\n",
    "g13=g13.reset_index(drop=True)\n",
    "g132=g13.drop(g13.columns[0], axis=1)\n",
    "\n",
    "g14=perf_pivot_eachwell_1['Hydraulic Fracture'].reset_index()\n",
    "g14.drop(g14.tail(1).index,inplace=True)\n",
    "g14=g14.reset_index(drop=True)\n",
    "g142=g14.drop(g14.columns[0], axis=1)\n",
    "\n",
    "g15=perf_pivot_eachwell_1['Multi-Stage Fracture'].reset_index()\n",
    "g15.drop(g15.tail(1).index,inplace=True)\n",
    "g15=g15.reset_index(drop=True)\n",
    "g152=g15.drop(g15.columns[0], axis=1)\n",
    "\n",
    "g16=perf_pivot_eachwell_1['Multi-Stage Fracture - Port Closed'].reset_index()\n",
    "g16.drop(g16.tail(1).index,inplace=True)\n",
    "g16=g16.reset_index(drop=True)\n",
    "g162=g16.drop(g16.columns[0], axis=1)\n",
    "\n",
    "g17=perf_pivot_eachwell_1['Open Hole'].reset_index()\n",
    "g17.drop(g17.tail(1).index,inplace=True)\n",
    "g17=g17.reset_index(drop=True)\n",
    "g172=g17.drop(g17.columns[0], axis=1)\n",
    "\n",
    "g18=perf_pivot_eachwell_1['Open Hole/Barefoot Completion'].reset_index()\n",
    "g18.drop(g18.tail(1).index,inplace=True)\n",
    "g18=g18.reset_index(drop=True)\n",
    "g182=g18.drop(g18.columns[0], axis=1)\n",
    "\n",
    "g19=perf_pivot_eachwell_1['Other'].reset_index()\n",
    "g19.drop(g19.tail(1).index,inplace=True)\n",
    "g19=g19.reset_index(drop=True)\n",
    "g192=g19.drop(g19.columns[0], axis=1)\n",
    "\n",
    "g20=perf_pivot_eachwell_1['Packing Device Capped w/Cement'].reset_index()\n",
    "g20.drop(g20.tail(1).index,inplace=True)\n",
    "g20=g20.reset_index(drop=True)\n",
    "g202=g20.drop(g20.columns[0], axis=1)\n",
    "\n",
    "g21=perf_pivot_eachwell_1['Perforation'].reset_index()\n",
    "g21.drop(g21.tail(1).index,inplace=True)\n",
    "g21=g21.reset_index(drop=True)\n",
    "g212=g21.drop(g21.columns[0], axis=1)\n",
    "\n",
    "g22=perf_pivot_eachwell_1['Remedial'].reset_index()\n",
    "g22.drop(g21.tail(1).index,inplace=True)\n",
    "g22=g22.reset_index(drop=True)\n",
    "g222=g22.drop(g22.columns[0], axis=1)\n",
    "\n",
    "g23=perf_pivot_eachwell_1['Remedial Casing Cementing'].reset_index()\n",
    "g23.drop(g23.tail(1).index,inplace=True)\n",
    "g23=g23.reset_index(drop=True)\n",
    "g232=g23.drop(g23.columns[0], axis=1)\n",
    "\n",
    "g24=perf_pivot_eachwell_1['Sand Fracture'].reset_index()\n",
    "g24.drop(g24.tail(1).index,inplace=True)\n",
    "g24=g24.reset_index(drop=True)\n",
    "g242=g24.drop(g24.columns[0], axis=1)\n",
    "\n",
    "g25=perf_pivot_eachwell_1['Slotted Liner'].reset_index()\n",
    "g25.drop(g25.tail(1).index,inplace=True)\n",
    "g25=g25.reset_index(drop=True)\n",
    "g252=g25.drop(g25.columns[0], axis=1)"
   ]
  },
  {
   "cell_type": "code",
   "execution_count": null,
   "metadata": {},
   "outputs": [],
   "source": [
    "perf1=pd.concat([g1.reset_index(drop=True),g22.reset_index(drop=True),g33.reset_index(drop=True),g44.reset_index(drop=True),g55.reset_index(drop=True),g66.reset_index(drop=True),g77.reset_index(drop=True),g88.reset_index(drop=True),g99.reset_index(drop=True),g102.reset_index(drop=True),g112.reset_index(drop=True),g122.reset_index(drop=True),g132.reset_index(drop=True),g142.reset_index(drop=True),g152.reset_index(drop=True),g162.reset_index(drop=True),g172.reset_index(drop=True),g182.reset_index(drop=True),g192.reset_index(drop=True),g202.reset_index(drop=True),g212.reset_index(drop=True),g222.reset_index(drop=True),g232.reset_index(drop=True),g242.reset_index(drop=True),g252.reset_index(drop=True),perf4.reset_index(drop=True)], axis=1)\n",
    "perf1"
   ]
  },
  {
   "cell_type": "code",
   "execution_count": null,
   "metadata": {},
   "outputs": [],
   "source": []
  },
  {
   "cell_type": "code",
   "execution_count": null,
   "metadata": {},
   "outputs": [],
   "source": [
    "t1=production_pivot_total_eachwell['Condensate Production (Bbls)'].reset_index()\n",
    "t1.drop(t1.tail(1).index,inplace=True)\n",
    "tt=t1.reset_index(drop=True)\n",
    "#tt"
   ]
  },
  {
   "cell_type": "code",
   "execution_count": null,
   "metadata": {},
   "outputs": [],
   "source": [
    "t2=production_pivot_total_eachwell['Gas Production (MMcf)'].reset_index()\n",
    "t2.drop(t2.tail(1).index,inplace=True)\n",
    "t2.reset_index(drop=True)\n",
    "t22=t2.drop(t2.columns[0], axis=1)\n",
    "#t22"
   ]
  },
  {
   "cell_type": "code",
   "execution_count": null,
   "metadata": {},
   "outputs": [],
   "source": [
    "t3=production_pivot_total_eachwell['Oil Production (Bbls)'].reset_index()\n",
    "t3.drop(t3.tail(1).index,inplace=True)\n",
    "t3.reset_index(drop=True)\n",
    "t33=t3.drop(t3.columns[0], axis=1)"
   ]
  },
  {
   "cell_type": "code",
   "execution_count": null,
   "metadata": {},
   "outputs": [],
   "source": [
    "t4=production_pivot_total_eachwell['Water Production (Bbls)'].reset_index()\n",
    "t4.drop(t4.tail(1).index,inplace=True)\n",
    "t4.reset_index()\n",
    "t44=t4.drop(t4.columns[0], axis=1)"
   ]
  },
  {
   "cell_type": "code",
   "execution_count": null,
   "metadata": {},
   "outputs": [],
   "source": [
    "t5=production_pivot_total_eachwell['Production Hours'].reset_index()\n",
    "t5.drop(t5.tail(1).index,inplace=True)\n",
    "t5.reset_index(drop=True)\n",
    "t55=t5.drop(t5.columns[0], axis=1)"
   ]
  },
  {
   "cell_type": "code",
   "execution_count": null,
   "metadata": {},
   "outputs": [],
   "source": [
    "production1=pd.concat([t1.reset_index(drop=True),t22.reset_index(drop=True),t33.reset_index(drop=True),t44.reset_index(drop=True),t55.reset_index(drop=True)], axis=1)\n",
    "production1"
   ]
  },
  {
   "cell_type": "code",
   "execution_count": null,
   "metadata": {},
   "outputs": [],
   "source": []
  },
  {
   "cell_type": "code",
   "execution_count": null,
   "metadata": {},
   "outputs": [],
   "source": [
    "production_perf=pd.merge(production1 ,perf1, on = 'EPAssetsId', how='left')\n",
    "production_perf.fillna(0)"
   ]
  },
  {
   "cell_type": "code",
   "execution_count": null,
   "metadata": {},
   "outputs": [],
   "source": []
  },
  {
   "cell_type": "code",
   "execution_count": null,
   "metadata": {},
   "outputs": [],
   "source": [
    "## create perf activity type dictionary to classify as Completion Activity (Yes or No) based on our assumptions and intrepretation from AER directive 59 (Well Drilling and Completion Data Filing Requirements) pg 26-27 as Completion Operation types.\n",
    "\n",
    "perf_activity_dict = {'Perforation': 'Yes',\n",
    " 'Fracture': 'Yes',\n",
    " 'Hydraulic Fracture': 'Yes',\n",
    " 'Sand Fracture': 'Yes',\n",
    " 'Open Hole': 'Yes',\n",
    " 'Chemical Fracture': 'Yes',\n",
    " 'Other' : 'No',\n",
    " 'Acid Squeeze' : 'Yes',\n",
    " 'Bridge Plug Set' : 'Yes',\n",
    " 'Acid Wash' : 'Yes',\n",
    " 'Acidize' : 'Yes',\n",
    " 'Remedial' : 'Yes',\n",
    " 'Cement Squeeze' : 'Yes',\n",
    "'Hydra Jet Perforation': 'Yes',\n",
    " 'Slotted Liner' : 'Yes',\n",
    " 'Open Hole/Barefoot Completion' : 'Yes',\n",
    " 'Remedial Casing Cementing' : 'Yes',\n",
    " 'Cement Plug' : 'Yes',\n",
    " 'Multi-Stage Fracture - Port Closed': 'Yes',\n",
    " 'Bridge Plug - No Cement' : 'Yes',\n",
    " 'Packing Device Capped w/Cement' : 'Yes',\n",
    " 'Chemical Squeeze': 'Yes',\n",
    " 'Casing Patch' : 'Yes',\n",
    " 'Acid Treatment' : 'Yes',\n",
    " 'Multi-Stage Fracture': 'Yes'}\n",
    "\n",
    "print(perf_activity_dict)"
   ]
  },
  {
   "cell_type": "code",
   "execution_count": null,
   "metadata": {},
   "outputs": [],
   "source": [
    "# merge new table to existing perftreatment table\n",
    "perf_treatment['CompletionActivity'] = perf_treatment['ActivityType'].map(perf_activity_dict)"
   ]
  },
  {
   "cell_type": "code",
   "execution_count": null,
   "metadata": {},
   "outputs": [],
   "source": [
    "perf_treatment.head()"
   ]
  },
  {
   "cell_type": "code",
   "execution_count": null,
   "metadata": {},
   "outputs": [],
   "source": [
    "\n",
    "perf_treatment['CompletionActivity'] = perf_treatment['CompletionActivity'].astype('category')\n",
    "\n",
    "perf_treatment['CompletionActivity'].unique()"
   ]
  },
  {
   "cell_type": "code",
   "execution_count": null,
   "metadata": {},
   "outputs": [],
   "source": [
    "perf_treatment.info()"
   ]
  },
  {
   "cell_type": "code",
   "execution_count": null,
   "metadata": {},
   "outputs": [],
   "source": [
    "perf_treatment.shape()"
   ]
  }
 ],
 "metadata": {
  "kernelspec": {
   "display_name": "Python 3",
   "language": "python",
   "name": "python3"
  },
  "language_info": {
   "codemirror_mode": {
    "name": "ipython",
    "version": 3
   },
   "file_extension": ".py",
   "mimetype": "text/x-python",
   "name": "python",
   "nbconvert_exporter": "python",
   "pygments_lexer": "ipython3",
   "version": "3.7.4"
  }
 },
 "nbformat": 4,
 "nbformat_minor": 4
}
