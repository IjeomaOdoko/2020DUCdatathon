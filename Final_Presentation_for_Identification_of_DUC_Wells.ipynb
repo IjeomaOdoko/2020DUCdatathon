{
  "nbformat": 4,
  "nbformat_minor": 0,
  "metadata": {
    "colab": {
      "name": "Final Presentation for Identification of DUC Wells",
      "provenance": [],
      "collapsed_sections": [
        "IoMSnIioifBv",
        "XF9u1NRE1k6M",
        "XnTbRZT3ErpW",
        "gfFd7wkU1zdE",
        "cqfH6XKqWJjg",
        "koTU4BYuInEz",
        "oJm0colYJDvm",
        "v6NiCWbORC2A"
      ],
      "authorship_tag": "ABX9TyMLZx3NdcJkYx0xQNo9Iw7m",
      "include_colab_link": true
    },
    "kernelspec": {
      "name": "python3",
      "display_name": "Python 3"
    }
  },
  "cells": [
    {
      "cell_type": "markdown",
      "metadata": {
        "id": "view-in-github",
        "colab_type": "text"
      },
      "source": [
        "<a href=\"https://colab.research.google.com/github/coy17a/2020DUCdatathon/blob/master/Final_Presentation_for_Identification_of_DUC_Wells.ipynb\" target=\"_parent\"><img src=\"https://colab.research.google.com/assets/colab-badge.svg\" alt=\"Open In Colab\"/></a>"
      ]
    },
    {
      "cell_type": "markdown",
      "metadata": {
        "id": "Bc1OQrNZCsJF",
        "colab_type": "text"
      },
      "source": [
        "Three (3) datasets (**Wellheader, Production** and **PerfTreatment**) were provided for wells in Alberta, British Columbia and saskatchewan. The purpose of this Untapped Energy Datathon exercise is to **identify the DUC wells** and **provide insights**.\n",
        "\n",
        "Key Assumptions made to identify DUC wells are as follows: \n",
        "\n",
        "> A well with a Current Status of '**Flowing**', '**Gas Lift**', '**Pumping**' is not a DUC well.\n",
        "\n",
        "> A well with **production volumes** recorded  is not a DUC well.\n",
        "\n",
        "> A well with Completion Activities such as **Perforations**, **Well Stimulations** is not a DUC well.\n",
        "\n",
        "As part of the insights, we are also assuming that all wells where DUC wells at some point. \n",
        "\n",
        "For the DUC wells, we will assume DUC status duration as the difference between **Rig Release Date** and the **Last Production Period** within the datasets provided. \n",
        "\n",
        "We will also determine how long the non-DUC wells had DUC status by assuming that as the difference between **Rig Release Date** and **First Production Date** or Last **Activity Date** whichever is greater. \n",
        "\n",
        "For exploratory Data Analysis please review separate Jupyter notebook 'EDA for Identification of DUC Wells' and corresponding html files. \n"
      ]
    },
    {
      "cell_type": "markdown",
      "metadata": {
        "id": "IoMSnIioifBv",
        "colab_type": "text"
      },
      "source": [
        "## Import required Python Libraries"
      ]
    },
    {
      "cell_type": "code",
      "metadata": {
        "id": "s0hhNzsEitI9",
        "colab_type": "code",
        "colab": {
          "base_uri": "https://localhost:8080/",
          "height": 52
        },
        "outputId": "22fdfb3c-5b11-4513-8273-f1786cf39f70"
      },
      "source": [
        "import matplotlib.pyplot as plt\n",
        "import pandas as pd\n",
        "import seaborn as sns\n",
        "import numpy as np\n",
        "from google.colab import files\n"
      ],
      "execution_count": null,
      "outputs": [
        {
          "output_type": "stream",
          "text": [
            "/usr/local/lib/python3.6/dist-packages/statsmodels/tools/_testing.py:19: FutureWarning: pandas.util.testing is deprecated. Use the functions in the public API at pandas.testing instead.\n",
            "  import pandas.util.testing as tm\n"
          ],
          "name": "stderr"
        }
      ]
    },
    {
      "cell_type": "markdown",
      "metadata": {
        "id": "XF9u1NRE1k6M",
        "colab_type": "text"
      },
      "source": [
        "## Load datasets"
      ]
    },
    {
      "cell_type": "code",
      "metadata": {
        "id": "pX8LekwSj7Vo",
        "colab_type": "code",
        "colab": {
          "resources": {
            "http://localhost:8080/nbextensions/google.colab/files.js": {
              "data": "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",
              "ok": true,
              "headers": [
                [
                  "content-type",
                  "application/javascript"
                ]
              ],
              "status": 200,
              "status_text": ""
            }
          },
          "base_uri": "https://localhost:8080/",
          "height": 73
        },
        "outputId": "834f5dbc-120d-4124-f316-f1fbbcfc0094"
      },
      "source": [
        "uploaded = files.upload()"
      ],
      "execution_count": null,
      "outputs": [
        {
          "output_type": "display_data",
          "data": {
            "text/html": [
              "\n",
              "     <input type=\"file\" id=\"files-66c0353b-7721-4c81-a861-eb8e3d13a585\" name=\"files[]\" multiple disabled\n",
              "        style=\"border:none\" />\n",
              "     <output id=\"result-66c0353b-7721-4c81-a861-eb8e3d13a585\">\n",
              "      Upload widget is only available when the cell has been executed in the\n",
              "      current browser session. Please rerun this cell to enable.\n",
              "      </output>\n",
              "      <script src=\"/nbextensions/google.colab/files.js\"></script> "
            ],
            "text/plain": [
              "<IPython.core.display.HTML object>"
            ]
          },
          "metadata": {
            "tags": []
          }
        },
        {
          "output_type": "stream",
          "text": [
            "Saving WellHeader_Datathon.csv to WellHeader_Datathon.csv\n"
          ],
          "name": "stdout"
        }
      ]
    },
    {
      "cell_type": "code",
      "metadata": {
        "id": "sGVJyZH4nl7l",
        "colab_type": "code",
        "colab": {
          "resources": {
            "http://localhost:8080/nbextensions/google.colab/files.js": {
              "data": "Ly8gQ29weXJpZ2h0IDIwMTcgR29vZ2xlIExMQwovLwovLyBMaWNlbnNlZCB1bmRlciB0aGUgQXBhY2hlIExpY2Vuc2UsIFZlcnNpb24gMi4wICh0aGUgIkxpY2Vuc2UiKTsKLy8geW91IG1heSBub3QgdXNlIHRoaXMgZmlsZSBleGNlcHQgaW4gY29tcGxpYW5jZSB3aXRoIHRoZSBMaWNlbnNlLgovLyBZb3UgbWF5IG9idGFpbiBhIGNvcHkgb2YgdGhlIExpY2Vuc2UgYXQKLy8KLy8gICAgICBodHRwOi8vd3d3LmFwYWNoZS5vcmcvbGljZW5zZXMvTElDRU5TRS0yLjAKLy8KLy8gVW5sZXNzIHJlcXVpcmVkIGJ5IGFwcGxpY2FibGUgbGF3IG9yIGFncmVlZCB0byBpbiB3cml0aW5nLCBzb2Z0d2FyZQovLyBkaXN0cmlidXRlZCB1bmRlciB0aGUgTGljZW5zZSBpcyBkaXN0cmlidXRlZCBvbiBhbiAiQVMgSVMiIEJBU0lTLAovLyBXSVRIT1VUIFdBUlJBTlRJRVMgT1IgQ09ORElUSU9OUyBPRiBBTlkgS0lORCwgZWl0aGVyIGV4cHJlc3Mgb3IgaW1wbGllZC4KLy8gU2VlIHRoZSBMaWNlbnNlIGZvciB0aGUgc3BlY2lmaWMgbGFuZ3VhZ2UgZ292ZXJuaW5nIHBlcm1pc3Npb25zIGFuZAovLyBsaW1pdGF0aW9ucyB1bmRlciB0aGUgTGljZW5zZS4KCi8qKgogKiBAZmlsZW92ZXJ2aWV3IEhlbHBlcnMgZm9yIGdvb2dsZS5jb2xhYiBQeXRob24gbW9kdWxlLgogKi8KKGZ1bmN0aW9uKHNjb3BlKSB7CmZ1bmN0aW9uIHNwYW4odGV4dCwgc3R5bGVBdHRyaWJ1dGVzID0ge30pIHsKICBjb25zdCBlbGVtZW50ID0gZG9jdW1lbnQuY3JlYXRlRWxlbWVudCgnc3BhbicpOwogIGVsZW1lbnQudGV4dENvbnRlbnQgPSB0ZXh0OwogIGZvciAoY29uc3Qga2V5IG9mIE9iamVjdC5rZXlzKHN0eWxlQXR0cmlidXRlcykpIHsKICAgIGVsZW1lbnQuc3R5bGVba2V5XSA9IHN0eWxlQXR0cmlidXRlc1trZXldOwogIH0KICByZXR1cm4gZWxlbWVudDsKfQoKLy8gTWF4IG51bWJlciBvZiBieXRlcyB3aGljaCB3aWxsIGJlIHVwbG9hZGVkIGF0IGEgdGltZS4KY29uc3QgTUFYX1BBWUxPQURfU0laRSA9IDEwMCAqIDEwMjQ7CgpmdW5jdGlvbiBfdXBsb2FkRmlsZXMoaW5wdXRJZCwgb3V0cHV0SWQpIHsKICBjb25zdCBzdGVwcyA9IHVwbG9hZEZpbGVzU3RlcChpbnB1dElkLCBvdXRwdXRJZCk7CiAgY29uc3Qgb3V0cHV0RWxlbWVudCA9IGRvY3VtZW50LmdldEVsZW1lbnRCeUlkKG91dHB1dElkKTsKICAvLyBDYWNoZSBzdGVwcyBvbiB0aGUgb3V0cHV0RWxlbWVudCB0byBtYWtlIGl0IGF2YWlsYWJsZSBmb3IgdGhlIG5leHQgY2FsbAogIC8vIHRvIHVwbG9hZEZpbGVzQ29udGludWUgZnJvbSBQeXRob24uCiAgb3V0cHV0RWxlbWVudC5zdGVwcyA9IHN0ZXBzOwoKICByZXR1cm4gX3VwbG9hZEZpbGVzQ29udGludWUob3V0cHV0SWQpOwp9CgovLyBUaGlzIGlzIHJvdWdobHkgYW4gYXN5bmMgZ2VuZXJhdG9yIChub3Qgc3VwcG9ydGVkIGluIHRoZSBicm93c2VyIHlldCksCi8vIHdoZXJlIHRoZXJlIGFyZSBtdWx0aXBsZSBhc3luY2hyb25vdXMgc3RlcHMgYW5kIHRoZSBQeXRob24gc2lkZSBpcyBnb2luZwovLyB0byBwb2xsIGZvciBjb21wbGV0aW9uIG9mIGVhY2ggc3RlcC4KLy8gVGhpcyB1c2VzIGEgUHJvbWlzZSB0byBibG9jayB0aGUgcHl0aG9uIHNpZGUgb24gY29tcGxldGlvbiBvZiBlYWNoIHN0ZXAsCi8vIHRoZW4gcGFzc2VzIHRoZSByZXN1bHQgb2YgdGhlIHByZXZpb3VzIHN0ZXAgYXMgdGhlIGlucHV0IHRvIHRoZSBuZXh0IHN0ZXAuCmZ1bmN0aW9uIF91cGxvYWRGaWxlc0NvbnRpbnVlKG91dHB1dElkKSB7CiAgY29uc3Qgb3V0cHV0RWxlbWVudCA9IGRvY3VtZW50LmdldEVsZW1lbnRCeUlkKG91dHB1dElkKTsKICBjb25zdCBzdGVwcyA9IG91dHB1dEVsZW1lbnQuc3RlcHM7CgogIGNvbnN0IG5leHQgPSBzdGVwcy5uZXh0KG91dHB1dEVsZW1lbnQubGFzdFByb21pc2VWYWx1ZSk7CiAgcmV0dXJuIFByb21pc2UucmVzb2x2ZShuZXh0LnZhbHVlLnByb21pc2UpLnRoZW4oKHZhbHVlKSA9PiB7CiAgICAvLyBDYWNoZSB0aGUgbGFzdCBwcm9taXNlIHZhbHVlIHRvIG1ha2UgaXQgYXZhaWxhYmxlIHRvIHRoZSBuZXh0CiAgICAvLyBzdGVwIG9mIHRoZSBnZW5lcmF0b3IuCiAgICBvdXRwdXRFbGVtZW50Lmxhc3RQcm9taXNlVmFsdWUgPSB2YWx1ZTsKICAgIHJldHVybiBuZXh0LnZhbHVlLnJlc3BvbnNlOwogIH0pOwp9CgovKioKICogR2VuZXJhdG9yIGZ1bmN0aW9uIHdoaWNoIGlzIGNhbGxlZCBiZXR3ZWVuIGVhY2ggYXN5bmMgc3RlcCBvZiB0aGUgdXBsb2FkCiAqIHByb2Nlc3MuCiAqIEBwYXJhbSB7c3RyaW5nfSBpbnB1dElkIEVsZW1lbnQgSUQgb2YgdGhlIGlucHV0IGZpbGUgcGlja2VyIGVsZW1lbnQuCiAqIEBwYXJhbSB7c3RyaW5nfSBvdXRwdXRJZCBFbGVtZW50IElEIG9mIHRoZSBvdXRwdXQgZGlzcGxheS4KICogQHJldHVybiB7IUl0ZXJhYmxlPCFPYmplY3Q+fSBJdGVyYWJsZSBvZiBuZXh0IHN0ZXBzLgogKi8KZnVuY3Rpb24qIHVwbG9hZEZpbGVzU3RlcChpbnB1dElkLCBvdXRwdXRJZCkgewogIGNvbnN0IGlucHV0RWxlbWVudCA9IGRvY3VtZW50LmdldEVsZW1lbnRCeUlkKGlucHV0SWQpOwogIGlucHV0RWxlbWVudC5kaXNhYmxlZCA9IGZhbHNlOwoKICBjb25zdCBvdXRwdXRFbGVtZW50ID0gZG9jdW1lbnQuZ2V0RWxlbWVudEJ5SWQob3V0cHV0SWQpOwogIG91dHB1dEVsZW1lbnQuaW5uZXJIVE1MID0gJyc7CgogIGNvbnN0IHBpY2tlZFByb21pc2UgPSBuZXcgUHJvbWlzZSgocmVzb2x2ZSkgPT4gewogICAgaW5wdXRFbGVtZW50LmFkZEV2ZW50TGlzdGVuZXIoJ2NoYW5nZScsIChlKSA9PiB7CiAgICAgIHJlc29sdmUoZS50YXJnZXQuZmlsZXMpOwogICAgfSk7CiAgfSk7CgogIGNvbnN0IGNhbmNlbCA9IGRvY3VtZW50LmNyZWF0ZUVsZW1lbnQoJ2J1dHRvbicpOwogIGlucHV0RWxlbWVudC5wYXJlbnRFbGVtZW50LmFwcGVuZENoaWxkKGNhbmNlbCk7CiAgY2FuY2VsLnRleHRDb250ZW50ID0gJ0NhbmNlbCB1cGxvYWQnOwogIGNvbnN0IGNhbmNlbFByb21pc2UgPSBuZXcgUHJvbWlzZSgocmVzb2x2ZSkgPT4gewogICAgY2FuY2VsLm9uY2xpY2sgPSAoKSA9PiB7CiAgICAgIHJlc29sdmUobnVsbCk7CiAgICB9OwogIH0pOwoKICAvLyBXYWl0IGZvciB0aGUgdXNlciB0byBwaWNrIHRoZSBmaWxlcy4KICBjb25zdCBmaWxlcyA9IHlpZWxkIHsKICAgIHByb21pc2U6IFByb21pc2UucmFjZShbcGlja2VkUHJvbWlzZSwgY2FuY2VsUHJvbWlzZV0pLAogICAgcmVzcG9uc2U6IHsKICAgICAgYWN0aW9uOiAnc3RhcnRpbmcnLAogICAgfQogIH07CgogIGNhbmNlbC5yZW1vdmUoKTsKCiAgLy8gRGlzYWJsZSB0aGUgaW5wdXQgZWxlbWVudCBzaW5jZSBmdXJ0aGVyIHBpY2tzIGFyZSBub3QgYWxsb3dlZC4KICBpbnB1dEVsZW1lbnQuZGlzYWJsZWQgPSB0cnVlOwoKICBpZiAoIWZpbGVzKSB7CiAgICByZXR1cm4gewogICAgICByZXNwb25zZTogewogICAgICAgIGFjdGlvbjogJ2NvbXBsZXRlJywKICAgICAgfQogICAgfTsKICB9CgogIGZvciAoY29uc3QgZmlsZSBvZiBmaWxlcykgewogICAgY29uc3QgbGkgPSBkb2N1bWVudC5jcmVhdGVFbGVtZW50KCdsaScpOwogICAgbGkuYXBwZW5kKHNwYW4oZmlsZS5uYW1lLCB7Zm9udFdlaWdodDogJ2JvbGQnfSkpOwogICAgbGkuYXBwZW5kKHNwYW4oCiAgICAgICAgYCgke2ZpbGUudHlwZSB8fCAnbi9hJ30pIC0gJHtmaWxlLnNpemV9IGJ5dGVzLCBgICsKICAgICAgICBgbGFzdCBtb2RpZmllZDogJHsKICAgICAgICAgICAgZmlsZS5sYXN0TW9kaWZpZWREYXRlID8gZmlsZS5sYXN0TW9kaWZpZWREYXRlLnRvTG9jYWxlRGF0ZVN0cmluZygpIDoKICAgICAgICAgICAgICAgICAgICAgICAgICAgICAgICAgICAgJ24vYSd9IC0gYCkpOwogICAgY29uc3QgcGVyY2VudCA9IHNwYW4oJzAlIGRvbmUnKTsKICAgIGxpLmFwcGVuZENoaWxkKHBlcmNlbnQpOwoKICAgIG91dHB1dEVsZW1lbnQuYXBwZW5kQ2hpbGQobGkpOwoKICAgIGNvbnN0IGZpbGVEYXRhUHJvbWlzZSA9IG5ldyBQcm9taXNlKChyZXNvbHZlKSA9PiB7CiAgICAgIGNvbnN0IHJlYWRlciA9IG5ldyBGaWxlUmVhZGVyKCk7CiAgICAgIHJlYWRlci5vbmxvYWQgPSAoZSkgPT4gewogICAgICAgIHJlc29sdmUoZS50YXJnZXQucmVzdWx0KTsKICAgICAgfTsKICAgICAgcmVhZGVyLnJlYWRBc0FycmF5QnVmZmVyKGZpbGUpOwogICAgfSk7CiAgICAvLyBXYWl0IGZvciB0aGUgZGF0YSB0byBiZSByZWFkeS4KICAgIGxldCBmaWxlRGF0YSA9IHlpZWxkIHsKICAgICAgcHJvbWlzZTogZmlsZURhdGFQcm9taXNlLAogICAgICByZXNwb25zZTogewogICAgICAgIGFjdGlvbjogJ2NvbnRpbnVlJywKICAgICAgfQogICAgfTsKCiAgICAvLyBVc2UgYSBjaHVua2VkIHNlbmRpbmcgdG8gYXZvaWQgbWVzc2FnZSBzaXplIGxpbWl0cy4gU2VlIGIvNjIxMTU2NjAuCiAgICBsZXQgcG9zaXRpb24gPSAwOwogICAgd2hpbGUgKHBvc2l0aW9uIDwgZmlsZURhdGEuYnl0ZUxlbmd0aCkgewogICAgICBjb25zdCBsZW5ndGggPSBNYXRoLm1pbihmaWxlRGF0YS5ieXRlTGVuZ3RoIC0gcG9zaXRpb24sIE1BWF9QQVlMT0FEX1NJWkUpOwogICAgICBjb25zdCBjaHVuayA9IG5ldyBVaW50OEFycmF5KGZpbGVEYXRhLCBwb3NpdGlvbiwgbGVuZ3RoKTsKICAgICAgcG9zaXRpb24gKz0gbGVuZ3RoOwoKICAgICAgY29uc3QgYmFzZTY0ID0gYnRvYShTdHJpbmcuZnJvbUNoYXJDb2RlLmFwcGx5KG51bGwsIGNodW5rKSk7CiAgICAgIHlpZWxkIHsKICAgICAgICByZXNwb25zZTogewogICAgICAgICAgYWN0aW9uOiAnYXBwZW5kJywKICAgICAgICAgIGZpbGU6IGZpbGUubmFtZSwKICAgICAgICAgIGRhdGE6IGJhc2U2NCwKICAgICAgICB9LAogICAgICB9OwogICAgICBwZXJjZW50LnRleHRDb250ZW50ID0KICAgICAgICAgIGAke01hdGgucm91bmQoKHBvc2l0aW9uIC8gZmlsZURhdGEuYnl0ZUxlbmd0aCkgKiAxMDApfSUgZG9uZWA7CiAgICB9CiAgfQoKICAvLyBBbGwgZG9uZS4KICB5aWVsZCB7CiAgICByZXNwb25zZTogewogICAgICBhY3Rpb246ICdjb21wbGV0ZScsCiAgICB9CiAgfTsKfQoKc2NvcGUuZ29vZ2xlID0gc2NvcGUuZ29vZ2xlIHx8IHt9OwpzY29wZS5nb29nbGUuY29sYWIgPSBzY29wZS5nb29nbGUuY29sYWIgfHwge307CnNjb3BlLmdvb2dsZS5jb2xhYi5fZmlsZXMgPSB7CiAgX3VwbG9hZEZpbGVzLAogIF91cGxvYWRGaWxlc0NvbnRpbnVlLAp9Owp9KShzZWxmKTsK",
              "ok": true,
              "headers": [
                [
                  "content-type",
                  "application/javascript"
                ]
              ],
              "status": 200,
              "status_text": ""
            }
          },
          "base_uri": "https://localhost:8080/",
          "height": 73
        },
        "outputId": "53b0d2dc-47e2-4f37-87d0-52e11fdd34d6"
      },
      "source": [
        "uploaded_1 = files.upload()"
      ],
      "execution_count": null,
      "outputs": [
        {
          "output_type": "display_data",
          "data": {
            "text/html": [
              "\n",
              "     <input type=\"file\" id=\"files-627c0c2f-39e8-471f-a3b7-4229ee939d97\" name=\"files[]\" multiple disabled\n",
              "        style=\"border:none\" />\n",
              "     <output id=\"result-627c0c2f-39e8-471f-a3b7-4229ee939d97\">\n",
              "      Upload widget is only available when the cell has been executed in the\n",
              "      current browser session. Please rerun this cell to enable.\n",
              "      </output>\n",
              "      <script src=\"/nbextensions/google.colab/files.js\"></script> "
            ],
            "text/plain": [
              "<IPython.core.display.HTML object>"
            ]
          },
          "metadata": {
            "tags": []
          }
        },
        {
          "output_type": "stream",
          "text": [
            "Saving PerfTreatments.csv to PerfTreatments.csv\n"
          ],
          "name": "stdout"
        }
      ]
    },
    {
      "cell_type": "code",
      "metadata": {
        "colab_type": "code",
        "id": "XfqKPKJNCZbU",
        "colab": {
          "resources": {
            "http://localhost:8080/nbextensions/google.colab/files.js": {
              "data": "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",
              "ok": true,
              "headers": [
                [
                  "content-type",
                  "application/javascript"
                ]
              ],
              "status": 200,
              "status_text": ""
            }
          },
          "base_uri": "https://localhost:8080/",
          "height": 73
        },
        "outputId": "6961cfed-c93c-4d19-8e8e-e2611b7048f8"
      },
      "source": [
        "uploaded_2 = files.upload()"
      ],
      "execution_count": null,
      "outputs": [
        {
          "output_type": "display_data",
          "data": {
            "text/html": [
              "\n",
              "     <input type=\"file\" id=\"files-da03cb3f-16e0-4b82-af7c-d7c189023e06\" name=\"files[]\" multiple disabled\n",
              "        style=\"border:none\" />\n",
              "     <output id=\"result-da03cb3f-16e0-4b82-af7c-d7c189023e06\">\n",
              "      Upload widget is only available when the cell has been executed in the\n",
              "      current browser session. Please rerun this cell to enable.\n",
              "      </output>\n",
              "      <script src=\"/nbextensions/google.colab/files.js\"></script> "
            ],
            "text/plain": [
              "<IPython.core.display.HTML object>"
            ]
          },
          "metadata": {
            "tags": []
          }
        },
        {
          "output_type": "stream",
          "text": [
            "Saving WellProduction.csv to WellProduction.csv\n"
          ],
          "name": "stdout"
        }
      ]
    },
    {
      "cell_type": "code",
      "metadata": {
        "id": "rskYdaiTlhcb",
        "colab_type": "code",
        "colab": {}
      },
      "source": [
        "import io\n",
        "## list date columns to parse dates for wellheader dataset\n",
        "datecolumns = ['LicenceDate', 'ConfidentialReleaseDate','AbandonDate', 'SurfAbandonDate', 'SpudDate', 'FinalDrillDate', 'RigReleaseDate','StatusDate','CompletionDate']  \n",
        "\n",
        "# load datasets\n",
        "wellheader = pd.read_csv(io.StringIO(uploaded['WellHeader_Datathon.csv'].decode(\"utf-8\")),parse_dates=datecolumns, low_memory=False, na_values='Not Applicable')\n",
        "perftreatment = pd.read_csv(io.StringIO(uploaded_1['PerfTreatments.csv'].decode(\"utf-8\")),parse_dates=['ActivityDate'])\n",
        "wellproduction = pd.read_csv(io.StringIO(uploaded_2['WellProduction.csv'].decode(\"utf-8\")), parse_dates=['ProdPeriod'])\n"
      ],
      "execution_count": null,
      "outputs": []
    },
    {
      "cell_type": "code",
      "metadata": {
        "id": "ChAjubEn0diq",
        "colab_type": "code",
        "colab": {}
      },
      "source": [
        "wellheader = wellheader.iloc[:,0:85]\n",
        "wellproduction=wellproduction.iloc[:,0:4]\n",
        "perftreatment=perftreatment.iloc[:,0:8]"
      ],
      "execution_count": null,
      "outputs": []
    },
    {
      "cell_type": "markdown",
      "metadata": {
        "id": "XnTbRZT3ErpW",
        "colab_type": "text"
      },
      "source": [
        "## Convert datatypes"
      ]
    },
    {
      "cell_type": "code",
      "metadata": {
        "id": "Jnmp3SYwnVGa",
        "colab_type": "code",
        "colab": {}
      },
      "source": [
        "## Select objects to convert to category type for wellheader data\n",
        "obj_cast_category = ['Province', 'CurrentOperator', 'CurrentOperatorParentName',\n",
        "       'Licensee', 'LicenseeParentCompanyName', 'CurrentStatus',\n",
        "       'CurrentStatusStandardised', 'WellType', 'WellTypeStandardised',\n",
        "       'Formation', 'Field', 'Pool', 'SurveySystem',\n",
        "       'Surf_Meridian', \n",
        "       'Surf_QuarterUnit',  'Surf_Block', 'Surf_NTSMapSheet',\n",
        "       'Surf_Area',  'Surf_QuarterSection',\n",
        "       'BH_Location', 'BH_QuarterUnit', \n",
        "       'BH_Block', 'BH_NTSMapSheet', 'BH_Area', \n",
        "       'BH_QuarterSection', 'BH_Meridian', 'LaheeClass', 'Confidential',\n",
        "       'SurfaceOwner', 'OSArea', 'OSDeposit', 'DrillingContractor',\n",
        "       'WellProfile', 'Country', 'RegulatoryAgency', 'PSACAreaCode',\n",
        "       'PSACAreaName', 'StatusSource', 'UnitFlag','Municipality']       \n",
        "\n",
        "\n",
        "wellheader[obj_cast_category] = wellheader[obj_cast_category].astype('category')\n",
        "\n",
        "# change ProdType and ActivityType columns from object to category datatype\n",
        "wellproduction['ProdType'] = wellproduction['ProdType'].astype('category')\n",
        "perftreatment['ActivityType'] = perftreatment['ActivityType'].astype('category')"
      ],
      "execution_count": null,
      "outputs": []
    },
    {
      "cell_type": "markdown",
      "metadata": {
        "id": "gfFd7wkU1zdE",
        "colab_type": "text"
      },
      "source": [
        "## Drop unnecessary Columns"
      ]
    },
    {
      "cell_type": "code",
      "metadata": {
        "id": "E68Ad50p0uVw",
        "colab_type": "code",
        "colab": {
          "base_uri": "https://localhost:8080/"
        },
        "outputId": "bfd2ac21-78d0-4b81-b823-30c9759b49aa"
      },
      "source": [
        "##create list of columns to be dropped\n",
        "\n",
        "dropcols_wellheader= ['CompletionDate','UnitID', 'UnitFlag', 'UnitName', 'Confidential', 'RegulatoryAgency', 'ConfidentialReleaseDate', 'AbandonDate', 'SurfAbandonDate', 'OSArea', 'OSDeposit', 'Municipality']\n",
        "\n",
        "print('well columns to drop as follows:' + ' ')\n",
        "print(dropcols_wellheader)"
      ],
      "execution_count": null,
      "outputs": [
        {
          "output_type": "stream",
          "text": [
            "well columns to drop as follows: \n",
            "['CompletionDate', 'UnitID', 'UnitFlag', 'UnitName', 'Confidential', 'RegulatoryAgency', 'ConfidentialReleaseDate', 'AbandonDate', 'SurfAbandonDate', 'OSArea', 'OSDeposit', 'Municipality']\n"
          ],
          "name": "stdout"
        }
      ]
    },
    {
      "cell_type": "code",
      "metadata": {
        "id": "KKE-0fQA0y9n",
        "colab_type": "code",
        "colab": {
          "base_uri": "https://localhost:8080/"
        },
        "outputId": "289026f8-b58f-4c09-8814-3bb8699fde5b"
      },
      "source": [
        "## drop columns selected\n",
        "wellheader = wellheader.drop(columns=dropcols_wellheader, axis=1, inplace=False)\n",
        "\n",
        "## Check number of rows and columns\n",
        "wellheader.shape"
      ],
      "execution_count": null,
      "outputs": [
        {
          "output_type": "execute_result",
          "data": {
            "text/plain": [
              "(10437, 73)"
            ]
          },
          "metadata": {
            "tags": []
          },
          "execution_count": 10
        }
      ]
    },
    {
      "cell_type": "markdown",
      "metadata": {
        "id": "LfB4DJbPdzvp",
        "colab_type": "text"
      },
      "source": [
        "## Add a Completion Activity Column to PerfTreatment Data"
      ]
    },
    {
      "cell_type": "code",
      "metadata": {
        "id": "Fm72C6rmNxZw",
        "colab_type": "code",
        "colab": {
          "base_uri": "https://localhost:8080/",
          "height": 54
        },
        "outputId": "4ab7fd1b-fc9c-4552-f189-5c9f9ea11c5a"
      },
      "source": [
        "## create perf activity type dictionary to classify as Completion Activity (Yes or No) based on our assumptions and intrepretation for the different perftreatment['ActivityType'].\n",
        "perf_activity_dict = {'Perforation': 'Yes',\n",
        " 'Fracture': 'Yes',\n",
        " 'Hydraulic Fracture': 'Yes',\n",
        " 'Sand Fracture': 'Yes',\n",
        " 'Open Hole': 'No',\n",
        " 'Chemical Fracture': 'Yes',\n",
        " 'Other' : 'No',\n",
        " 'Acid Squeeze' : 'Yes',\n",
        " 'Bridge Plug Set' : 'No',\n",
        " 'Acid Wash' : 'Yes',\n",
        " 'Acidize' : 'Yes',\n",
        " 'Remedial' : 'Yes',\n",
        " 'Cement Squeeze' : 'Yes',\n",
        "'Hydra Jet Perforation': 'Yes',\n",
        " 'Slotted Liner' : 'Yes',\n",
        " 'Open Hole/Barefoot Completion' : 'No',\n",
        " 'Remedial Casing Cementing' : 'No',\n",
        " 'Cement Plug' : 'Yes',\n",
        " 'Multi-Stage Fracture - Port Closed': 'Yes',\n",
        " 'Bridge Plug - No Cement' : 'No',\n",
        " 'Packing Device Capped w/Cement' : 'Yes',\n",
        " 'Chemical Squeeze': 'Yes',\n",
        " 'Casing Patch' : 'No',\n",
        " 'Acid Treatment' : 'Yes',\n",
        " 'Multi-Stage Fracture': 'Yes'}\n",
        "\n",
        "print(perf_activity_dict)"
      ],
      "execution_count": null,
      "outputs": [
        {
          "output_type": "stream",
          "text": [
            "{'Perforation': 'Yes', 'Fracture': 'Yes', 'Hydraulic Fracture': 'Yes', 'Sand Fracture': 'Yes', 'Open Hole': 'No', 'Chemical Fracture': 'Yes', 'Other': 'No', 'Acid Squeeze': 'Yes', 'Bridge Plug Set': 'No', 'Acid Wash': 'Yes', 'Acidize': 'Yes', 'Remedial': 'Yes', 'Cement Squeeze': 'Yes', 'Hydra Jet Perforation': 'Yes', 'Slotted Liner': 'Yes', 'Open Hole/Barefoot Completion': 'No', 'Remedial Casing Cementing': 'No', 'Cement Plug': 'Yes', 'Multi-Stage Fracture - Port Closed': 'Yes', 'Bridge Plug - No Cement': 'No', 'Packing Device Capped w/Cement': 'Yes', 'Chemical Squeeze': 'Yes', 'Casing Patch': 'No', 'Acid Treatment': 'Yes', 'Multi-Stage Fracture': 'Yes'}\n"
          ],
          "name": "stdout"
        }
      ]
    },
    {
      "cell_type": "code",
      "metadata": {
        "id": "afDOpnP1Py6e",
        "colab_type": "code",
        "colab": {}
      },
      "source": [
        "# map dictionary to the existing perftreatment table\n",
        "perftreatment['CompletionActivity'] = perftreatment['ActivityType'].map(perf_activity_dict)"
      ],
      "execution_count": null,
      "outputs": []
    },
    {
      "cell_type": "code",
      "metadata": {
        "id": "alfHL3CKP2Jf",
        "colab_type": "code",
        "colab": {
          "base_uri": "https://localhost:8080/",
          "height": 52
        },
        "outputId": "ef70db8f-b167-439a-cb92-8e6d3f53d05f"
      },
      "source": [
        "perftreatment['CompletionActivity'] = perftreatment['CompletionActivity'].astype('category')\n",
        "\n",
        "perftreatment['CompletionActivity'].unique()"
      ],
      "execution_count": null,
      "outputs": [
        {
          "output_type": "execute_result",
          "data": {
            "text/plain": [
              "[Yes, No, NaN]\n",
              "Categories (2, object): [Yes, No]"
            ]
          },
          "metadata": {
            "tags": []
          },
          "execution_count": 13
        }
      ]
    },
    {
      "cell_type": "markdown",
      "metadata": {
        "id": "0FjC63T8F36G",
        "colab_type": "text"
      },
      "source": [
        "## Identify DUC Wells. \n",
        "\n",
        "1. Assume any Well that doesn't have status as ['Pumping', 'Flowing', 'Gas Lift'] could potentially be a DUC well. Create a subset of data of wells without this status as subset_wellheader. \n",
        "2. Filter out the wells from the subset_wellheader data that are not in the perftreatment or production datasets as DUCS.\n",
        "3. Filter out any wells in the perftreatment data, that have no recorded production data as DUC_perf.\n",
        "4. Identify if there are any potential DUCs based on perftreatment data only. \n",
        "5. If there are cross check with DUCS_perf (perftreatment wells with no production data). The assumption here is that some wells may have been completed but had no production volumes. \n",
        "6. Filter out wells that have identified to have no completion activities from DUCS_perf as DUCS_perf_final. \n",
        "\n"
      ]
    },
    {
      "cell_type": "markdown",
      "metadata": {
        "id": "PBBHprgoBXOH",
        "colab_type": "text"
      },
      "source": [
        "![Flowchart.png](data:image/png;base64,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)\n"
      ]
    },
    {
      "cell_type": "markdown",
      "metadata": {
        "id": "NUwoLT73FU23",
        "colab_type": "text"
      },
      "source": [
        "Step 1"
      ]
    },
    {
      "cell_type": "code",
      "metadata": {
        "id": "dQBaECLfGLNv",
        "colab_type": "code",
        "colab": {
          "base_uri": "https://localhost:8080/",
          "height": 52
        },
        "outputId": "627ad111-3f8e-4d11-85d1-8e7aa0b824f1"
      },
      "source": [
        "# filter out wells with Current Status that are not in ['Pumping', 'Flowing', 'Gas Lift']\n",
        "\n",
        "subset_wellheader = wellheader[~wellheader['CurrentStatus'].isin(['Pumping', 'Flowing', 'Gas Lift'])]\n",
        "\n",
        "# check only required variables for Current Status remain\n",
        "subset_wellheader['CurrentStatus'].unique()\n"
      ],
      "execution_count": null,
      "outputs": [
        {
          "output_type": "execute_result",
          "data": {
            "text/plain": [
              "[Suspended, Active]\n",
              "Categories (2, object): [Suspended, Active]"
            ]
          },
          "metadata": {
            "tags": []
          },
          "execution_count": 14
        }
      ]
    },
    {
      "cell_type": "code",
      "metadata": {
        "id": "aXerGUvLJwpd",
        "colab_type": "code",
        "colab": {
          "base_uri": "https://localhost:8080/",
          "height": 34
        },
        "outputId": "ceeb35ab-bf2f-4729-f193-fdec9143cbe0"
      },
      "source": [
        "# check number of wells remaining \n",
        "print('number of wells with Current Status not in [\"Pumping\", \"Flowing\", \"Gas Lift\"] ', subset_wellheader['EPAssetsId'].nunique())"
      ],
      "execution_count": null,
      "outputs": [
        {
          "output_type": "stream",
          "text": [
            "number of wells with Current Status not in [\"Pumping\", \"Flowing\", \"Gas Lift\"]  5891\n"
          ],
          "name": "stdout"
        }
      ]
    },
    {
      "cell_type": "markdown",
      "metadata": {
        "id": "-rImSquwFYmZ",
        "colab_type": "text"
      },
      "source": [
        "Step 2"
      ]
    },
    {
      "cell_type": "code",
      "metadata": {
        "id": "a5-IbZHCF2UG",
        "colab_type": "code",
        "colab": {
          "base_uri": "https://localhost:8080/",
          "height": 34
        },
        "outputId": "58c2c7e1-da93-4b94-af96-bf58ce28cdb4"
      },
      "source": [
        "# filtering wells not in perf_treatment nor in well_production from subset_wellheader\n",
        "DUCS = subset_wellheader[~subset_wellheader['EPAssetsId'].isin(perftreatment['EPAssetsId'])]\n",
        "DUCS = DUCS[~DUCS['EPAssetsId'].isin(wellproduction['EPAssetsId'])]\n",
        "print ('number of wells not in perf_treatment data nor in well_production data ', DUCS.shape[0])"
      ],
      "execution_count": null,
      "outputs": [
        {
          "output_type": "stream",
          "text": [
            "number of wells not in perf_treatment data nor in well_production data  17\n"
          ],
          "name": "stdout"
        }
      ]
    },
    {
      "cell_type": "markdown",
      "metadata": {
        "id": "tbnj0NhxFhQQ",
        "colab_type": "text"
      },
      "source": [
        "Step 3"
      ]
    },
    {
      "cell_type": "code",
      "metadata": {
        "id": "PYJpGFHzQXkZ",
        "colab_type": "code",
        "colab": {
          "base_uri": "https://localhost:8080/",
          "height": 34
        },
        "outputId": "cf100285-4f96-4a15-9250-95675d028870"
      },
      "source": [
        "# filtering wells in perftreatment that have no production data\n",
        "DUCS_perf = perftreatment[~perftreatment['EPAssetsId'].isin(wellproduction['EPAssetsId'])]\n",
        "print('number of wells from perftreatment datatable that have no production data ', DUCS_perf['EPAssetsId'].nunique())"
      ],
      "execution_count": null,
      "outputs": [
        {
          "output_type": "stream",
          "text": [
            "number of wells from perftreatment datatable that have no production data  21\n"
          ],
          "name": "stdout"
        }
      ]
    },
    {
      "cell_type": "markdown",
      "metadata": {
        "id": "cPg4nF5NFnWz",
        "colab_type": "text"
      },
      "source": [
        "Step 4"
      ]
    },
    {
      "cell_type": "code",
      "metadata": {
        "id": "Z0ZUb4gcP_M2",
        "colab_type": "code",
        "colab": {
          "base_uri": "https://localhost:8080/",
          "height": 87
        },
        "outputId": "1cec42bf-5039-43f5-acc9-9dfee5d9e732"
      },
      "source": [
        "## Create subsets of Perf Treatment to obtain wells which have Completion Activity as Yes, No or NaN\n",
        "perftreatment_subset_columns = perftreatment[['EPAssetsId', 'CompletionActivity', 'ActivityDate']]\n",
        "\n",
        "perftreatment_subset_null_values = perftreatment_subset_columns[pd.isnull(perftreatment_subset_columns['CompletionActivity'])]\n",
        "\n",
        "perftreatment_subset2 = perftreatment_subset_columns[perftreatment_subset_columns['CompletionActivity'] !='Yes']\n",
        "\n",
        "perftreatment_subset1 = perftreatment_subset_columns[perftreatment_subset_columns['CompletionActivity'] =='Yes']\n",
        "\n",
        "print('number of wells in perftreatment data ', perftreatment_subset_columns['EPAssetsId'].nunique())\n",
        "\n",
        "print('number of wells in perftreatment data with Completion Activity as \"Yes\" ', perftreatment_subset1['EPAssetsId'].nunique())\n",
        "\n",
        "print('number of wells in perftreatment data with Completion Activity as \"No\" ', perftreatment_subset2['EPAssetsId'].nunique())\n",
        "\n",
        "print('number of wells in perftreatment data with Completion Activity as \"NaN\" ', perftreatment_subset_null_values['EPAssetsId'].nunique())"
      ],
      "execution_count": null,
      "outputs": [
        {
          "output_type": "stream",
          "text": [
            "number of wells in perftreatment data  10108\n",
            "number of wells in perftreatment data with Completion Activity as \"Yes\"  9906\n",
            "number of wells in perftreatment data with Completion Activity as \"No\"  2129\n",
            "number of wells in perftreatment data with Completion Activity as \"NaN\"  46\n"
          ],
          "name": "stdout"
        }
      ]
    },
    {
      "cell_type": "code",
      "metadata": {
        "id": "dYZ4irdnzrcZ",
        "colab_type": "code",
        "colab": {
          "base_uri": "https://localhost:8080/",
          "height": 34
        },
        "outputId": "44b1bbe2-6b6d-4be6-c55a-f2c958d1674b"
      },
      "source": [
        "# calculate number of wells with Completion Activity with only No or NaN\n",
        "\n",
        "if perftreatment_subset_columns['EPAssetsId'].nunique() > perftreatment_subset1['EPAssetsId'].nunique():\n",
        "    Potential_DUC_wells = perftreatment_subset_columns['EPAssetsId'].nunique() - perftreatment_subset1['EPAssetsId'].nunique()\n",
        "    print('Potential number of DUC wells using only the CompletionActivity criteria from perftreatment table = ', Potential_DUC_wells)\n",
        "else: \n",
        "    print('No wells identified as potential DUC wells using only CompletionActivity criteria from perftreatment table')"
      ],
      "execution_count": null,
      "outputs": [
        {
          "output_type": "stream",
          "text": [
            "Potential number of DUC wells using only the CompletionActivity criteria from perftreatment table =  202\n"
          ],
          "name": "stdout"
        }
      ]
    },
    {
      "cell_type": "markdown",
      "metadata": {
        "id": "yjrglgcYF2Fw",
        "colab_type": "text"
      },
      "source": [
        "Step 5 and 6"
      ]
    },
    {
      "cell_type": "code",
      "metadata": {
        "id": "xv-RrvEwabAi",
        "colab_type": "code",
        "colab": {
          "base_uri": "https://localhost:8080/",
          "height": 77
        },
        "outputId": "7ba6ce2d-de05-4e85-f01b-363373f71442"
      },
      "source": [
        "# check to see if there are any wells with no production that have also not been completed\n",
        "DUCS_perf_final= DUCS_perf[~DUCS_perf['EPAssetsId'].isin(perftreatment_subset1['EPAssetsId'])]\n",
        "\n",
        "DUCS_perf_final"
      ],
      "execution_count": null,
      "outputs": [
        {
          "output_type": "execute_result",
          "data": {
            "text/html": [
              "<div>\n",
              "<style scoped>\n",
              "    .dataframe tbody tr th:only-of-type {\n",
              "        vertical-align: middle;\n",
              "    }\n",
              "\n",
              "    .dataframe tbody tr th {\n",
              "        vertical-align: top;\n",
              "    }\n",
              "\n",
              "    .dataframe thead th {\n",
              "        text-align: right;\n",
              "    }\n",
              "</style>\n",
              "<table border=\"1\" class=\"dataframe\">\n",
              "  <thead>\n",
              "    <tr style=\"text-align: right;\">\n",
              "      <th></th>\n",
              "      <th>EPAssetsId</th>\n",
              "      <th>EPAPTId</th>\n",
              "      <th>ObservationNumber</th>\n",
              "      <th>ActivityDate</th>\n",
              "      <th>ActivityType</th>\n",
              "      <th>IntervalTop</th>\n",
              "      <th>IntervalBase</th>\n",
              "      <th>PerfShots</th>\n",
              "      <th>CompletionActivity</th>\n",
              "    </tr>\n",
              "  </thead>\n",
              "  <tbody>\n",
              "    <tr>\n",
              "      <th>276538</th>\n",
              "      <td>40817</td>\n",
              "      <td>216191</td>\n",
              "      <td>NaN</td>\n",
              "      <td>2019-11-04</td>\n",
              "      <td>Open Hole</td>\n",
              "      <td>1677.0</td>\n",
              "      <td>4256.0</td>\n",
              "      <td>NaN</td>\n",
              "      <td>No</td>\n",
              "    </tr>\n",
              "  </tbody>\n",
              "</table>\n",
              "</div>"
            ],
            "text/plain": [
              "        EPAssetsId  EPAPTId  ...  PerfShots CompletionActivity\n",
              "276538       40817   216191  ...        NaN                 No\n",
              "\n",
              "[1 rows x 9 columns]"
            ]
          },
          "metadata": {
            "tags": []
          },
          "execution_count": 20
        }
      ]
    },
    {
      "cell_type": "markdown",
      "metadata": {
        "id": "C6ehfW97Whd-",
        "colab_type": "text"
      },
      "source": [
        "## Append DUC well lists to get complete final list"
      ]
    },
    {
      "cell_type": "code",
      "metadata": {
        "id": "eDcuFHDzWfdt",
        "colab_type": "code",
        "colab": {
          "base_uri": "https://localhost:8080/",
          "height": 34
        },
        "outputId": "be500e73-8cbe-4e23-d7a9-8a24c852f7a8"
      },
      "source": [
        "Final_DUC_List = DUCS['EPAssetsId'].append(DUCS_perf_final['EPAssetsId'].drop_duplicates(), ignore_index=True)\n",
        "\n",
        "Final_DUC_List.shape"
      ],
      "execution_count": null,
      "outputs": [
        {
          "output_type": "execute_result",
          "data": {
            "text/plain": [
              "(18,)"
            ]
          },
          "metadata": {
            "tags": []
          },
          "execution_count": 21
        }
      ]
    },
    {
      "cell_type": "markdown",
      "metadata": {
        "id": "NuyNfRSqLaih",
        "colab_type": "text"
      },
      "source": [
        "## Determine the Formation or PSACAreaName of the DUC wells identified. "
      ]
    },
    {
      "cell_type": "code",
      "metadata": {
        "colab_type": "code",
        "id": "ipiqQ6wsLcdl",
        "colab": {}
      },
      "source": [
        "# merge Final DUC list with wellheader data to get full wellheader information\n",
        "\n",
        "DUCS_dataframe = wellheader[wellheader['EPAssetsId'].isin(Final_DUC_List)]"
      ],
      "execution_count": null,
      "outputs": []
    },
    {
      "cell_type": "code",
      "metadata": {
        "id": "KON0e9GvLaA-",
        "colab_type": "code",
        "colab": {
          "base_uri": "https://localhost:8080/",
          "height": 194
        },
        "outputId": "ea5edd5c-a4fb-4929-d504-e261e5bb2046"
      },
      "source": [
        "# Where the DUCS identified located \n",
        "\n",
        "print ('The DUCS are located in the following Formation: ', DUCS_dataframe['Formation'].unique())\n",
        "print('\\n')\n",
        "print('The DUCS are located in the following PSACAreaName: ', DUCS_dataframe['PSACAreaName'].unique())\n",
        "print('\\n')\n",
        "print('The DUCS are located in the following Fields: ', DUCS_dataframe['Field'].unique())\n"
      ],
      "execution_count": null,
      "outputs": [
        {
          "output_type": "stream",
          "text": [
            "The DUCS are located in the following Formation:  [Montney]\n",
            "Categories (1, object): [Montney]\n",
            "\n",
            "\n",
            "The DUCS are located in the following PSACAreaName:  [Northern British Columbia]\n",
            "Categories (1, object): [Northern British Columbia]\n",
            "\n",
            "\n",
            "The DUCS are located in the following Fields:  [Inga, Northern Montney, Heritage]\n",
            "Categories (3, object): [Inga, Northern Montney, Heritage]\n"
          ],
          "name": "stdout"
        }
      ]
    },
    {
      "cell_type": "markdown",
      "metadata": {
        "id": "Gnx-726PMteu",
        "colab_type": "text"
      },
      "source": [
        "## What is the Regulatory Status of these DUC wells identified. "
      ]
    },
    {
      "cell_type": "code",
      "metadata": {
        "id": "jIBFsJGyNEgU",
        "colab_type": "code",
        "colab": {
          "base_uri": "https://localhost:8080/",
          "height": 52
        },
        "outputId": "4d936b0c-b476-495a-8a7c-2278862eb848"
      },
      "source": [
        "print ('The Current Regulatory Status of these DUC wells: ', DUCS_dataframe['CurrentStatus'].unique())\n"
      ],
      "execution_count": null,
      "outputs": [
        {
          "output_type": "stream",
          "text": [
            "The Current Regulatory Status of these DUC wells:  [Active]\n",
            "Categories (1, object): [Active]\n"
          ],
          "name": "stdout"
        }
      ]
    },
    {
      "cell_type": "markdown",
      "metadata": {
        "id": "MSk82v96YiCt",
        "colab_type": "text"
      },
      "source": [
        "## Determine how long the DUC wells have gone Uncompleted"
      ]
    },
    {
      "cell_type": "code",
      "metadata": {
        "id": "GOZfNCY0YUqu",
        "colab_type": "code",
        "colab": {
          "base_uri": "https://localhost:8080/",
          "height": 34
        },
        "outputId": "b3802d1c-0fce-43d9-bcdf-c91753a1b460"
      },
      "source": [
        "# get max production period from production dataframe\n",
        "\n",
        "Latest_production_period = wellproduction['ProdPeriod'].max()\n",
        "\n",
        "print ('The latest production period is ', Latest_production_period)"
      ],
      "execution_count": null,
      "outputs": [
        {
          "output_type": "stream",
          "text": [
            "The latest production period is  2020-01-31 00:00:00\n"
          ],
          "name": "stdout"
        }
      ]
    },
    {
      "cell_type": "code",
      "metadata": {
        "id": "ay24hkwwZ0xc",
        "colab_type": "code",
        "colab": {}
      },
      "source": [
        "# merge Final DUC list with wellheader data to get full wellheader information\n",
        "\n",
        "DUCS_dataframe = wellheader[wellheader['EPAssetsId'].isin(Final_DUC_List)]\n",
        "\n",
        "# create new column for how long well has been a DUC\n",
        "DUCS_final_dataframe = DUCS_dataframe.copy()\n",
        "DUCS_final_dataframe.loc[:,'Days of Uncompleted Status'] = Latest_production_period - DUCS_final_dataframe['RigReleaseDate']\n",
        "\n",
        "# transform days to numeric datatype\n",
        "DUCS_final_dataframe.loc[:,'Days of Uncompleted Status'] = DUCS_final_dataframe['Days of Uncompleted Status']/np.timedelta64(1, 'D')"
      ],
      "execution_count": null,
      "outputs": []
    },
    {
      "cell_type": "code",
      "metadata": {
        "id": "r5B4mjSGhiKb",
        "colab_type": "code",
        "colab": {
          "base_uri": "https://localhost:8080/",
          "height": 176
        },
        "outputId": "48564d37-de00-441f-e366-2d76d7bbd087"
      },
      "source": [
        "#check statistics of 'Days of Uncompleted Status'\n",
        "DUCS_final_dataframe ['Days of Uncompleted Status'].describe()"
      ],
      "execution_count": null,
      "outputs": [
        {
          "output_type": "execute_result",
          "data": {
            "text/plain": [
              "count     18.000000\n",
              "mean     199.611111\n",
              "std      107.379557\n",
              "min       71.000000\n",
              "25%      123.500000\n",
              "50%      192.000000\n",
              "75%      213.750000\n",
              "max      420.000000\n",
              "Name: Days of Uncompleted Status, dtype: float64"
            ]
          },
          "metadata": {
            "tags": []
          },
          "execution_count": 27
        }
      ]
    },
    {
      "cell_type": "code",
      "metadata": {
        "id": "sMWX3ri2hth4",
        "colab_type": "code",
        "colab": {
          "base_uri": "https://localhost:8080/",
          "height": 294
        },
        "outputId": "b5b70178-3bdf-4078-abfc-dd9baa9aee7d"
      },
      "source": [
        "#create histogram of 'Days of Uncompleted Status'\n",
        "DUCS_final_dataframe ['Days of Uncompleted Status'].hist()\n",
        "plt.xlabel('Days of Uncompleted Status')\n",
        "plt.title('Number of DUC wells')\n",
        "plt.show()\n"
      ],
      "execution_count": null,
      "outputs": [
        {
          "output_type": "display_data",
          "data": {
            "image/png": "[encoded data removed]",
            "text/plain": [
              "<Figure size 432x288 with 1 Axes>"
            ]
          },
          "metadata": {
            "tags": [],
            "needs_background": "light"
          }
        }
      ]
    },
    {
      "cell_type": "markdown",
      "metadata": {
        "id": "h__JH7TAGQnA",
        "colab_type": "text"
      },
      "source": [
        "## Create Bins for Days of Uncompleted Status"
      ]
    },
    {
      "cell_type": "code",
      "metadata": {
        "id": "mlcG_88YcplV",
        "colab_type": "code",
        "colab": {
          "base_uri": "https://localhost:8080/",
          "height": 484
        },
        "outputId": "4e3ac94b-f5b6-4c88-bc60-24bf9e19f243"
      },
      "source": [
        "# create bins for range of days of uncompleted status\n",
        "bins = [0, 60, 90, 365, 730, 1095]\n",
        "labels = ['<60days', '60-90days', '90-365days', '365-730days', '730-1095days']\n",
        "DUCS_final_dataframe['Binned'] = pd.cut(DUCS_final_dataframe['Days of Uncompleted Status'], bins=bins, labels=labels)\n",
        "DUCS_final_dataframe.head(5)"
      ],
      "execution_count": null,
      "outputs": [
        {
          "output_type": "execute_result",
          "data": {
            "text/html": [
              "<div>\n",
              "<style scoped>\n",
              "    .dataframe tbody tr th:only-of-type {\n",
              "        vertical-align: middle;\n",
              "    }\n",
              "\n",
              "    .dataframe tbody tr th {\n",
              "        vertical-align: top;\n",
              "    }\n",
              "\n",
              "    .dataframe thead th {\n",
              "        text-align: right;\n",
              "    }\n",
              "</style>\n",
              "<table border=\"1\" class=\"dataframe\">\n",
              "  <thead>\n",
              "    <tr style=\"text-align: right;\">\n",
              "      <th></th>\n",
              "      <th>EPAssetsId</th>\n",
              "      <th>Province</th>\n",
              "      <th>LicenceNumber</th>\n",
              "      <th>UWI</th>\n",
              "      <th>CurrentOperator</th>\n",
              "      <th>CurrentOperatorParent</th>\n",
              "      <th>CurrentOperatorParentName</th>\n",
              "      <th>Licensee</th>\n",
              "      <th>LicenseeParentCompany</th>\n",
              "      <th>LicenseeParentCompanyName</th>\n",
              "      <th>LicenceDate</th>\n",
              "      <th>CurrentStatus</th>\n",
              "      <th>CurrentStatusStandardised</th>\n",
              "      <th>WellType</th>\n",
              "      <th>WellTypeStandardised</th>\n",
              "      <th>WellName</th>\n",
              "      <th>Formation</th>\n",
              "      <th>Field</th>\n",
              "      <th>Pool</th>\n",
              "      <th>SurveySystem</th>\n",
              "      <th>Surf_Location</th>\n",
              "      <th>Surf_Township</th>\n",
              "      <th>Surf_Meridian</th>\n",
              "      <th>Surf_Range</th>\n",
              "      <th>Surf_Section</th>\n",
              "      <th>Surf_LSD</th>\n",
              "      <th>Surf_Longitude</th>\n",
              "      <th>Surf_Latitude</th>\n",
              "      <th>Surf_TownshipRange</th>\n",
              "      <th>Surf_QuarterUnit</th>\n",
              "      <th>Surf_Unit</th>\n",
              "      <th>Surf_Block</th>\n",
              "      <th>Surf_NTSMapSheet</th>\n",
              "      <th>Surf_Series</th>\n",
              "      <th>Surf_Area</th>\n",
              "      <th>Surf_Sheet</th>\n",
              "      <th>Surf_QuarterSection</th>\n",
              "      <th>BH_Location</th>\n",
              "      <th>BH_TownshipRange</th>\n",
              "      <th>BH_QuarterUnit</th>\n",
              "      <th>BH_Unit</th>\n",
              "      <th>BH_Block</th>\n",
              "      <th>BH_NTSMapSheet</th>\n",
              "      <th>BH_Series</th>\n",
              "      <th>BH_Area</th>\n",
              "      <th>BH_Sheet</th>\n",
              "      <th>BH_QuarterSection</th>\n",
              "      <th>BH_Longitude</th>\n",
              "      <th>BH_Latitude</th>\n",
              "      <th>BH_Township</th>\n",
              "      <th>BH_Meridian</th>\n",
              "      <th>BH_Range</th>\n",
              "      <th>BH_Section</th>\n",
              "      <th>BH_LSD</th>\n",
              "      <th>GroundElevation</th>\n",
              "      <th>KBElevation</th>\n",
              "      <th>TotalDepth</th>\n",
              "      <th>LaheeClass</th>\n",
              "      <th>SurfaceOwner</th>\n",
              "      <th>DrillingContractor</th>\n",
              "      <th>SpudDate</th>\n",
              "      <th>FinalDrillDate</th>\n",
              "      <th>RigReleaseDate</th>\n",
              "      <th>DaysDrilling</th>\n",
              "      <th>DrillMetresPerDay</th>\n",
              "      <th>TVD</th>\n",
              "      <th>WellProfile</th>\n",
              "      <th>Country</th>\n",
              "      <th>PSACAreaCode</th>\n",
              "      <th>PSACAreaName</th>\n",
              "      <th>ProjectedDepth</th>\n",
              "      <th>StatusDate</th>\n",
              "      <th>StatusSource</th>\n",
              "      <th>Days of Uncompleted Status</th>\n",
              "      <th>Binned</th>\n",
              "    </tr>\n",
              "  </thead>\n",
              "  <tbody>\n",
              "    <tr>\n",
              "      <th>7787</th>\n",
              "      <td>43463</td>\n",
              "      <td>British Columbia</td>\n",
              "      <td>37176</td>\n",
              "      <td>103131608823W600</td>\n",
              "      <td>Kelt Exploration (Lng) Ltd.</td>\n",
              "      <td>4007</td>\n",
              "      <td>Kelt Exploration Ltd.</td>\n",
              "      <td>Kelt Exploration (Lng) Ltd.</td>\n",
              "      <td>4007</td>\n",
              "      <td>Kelt Exploration Ltd.</td>\n",
              "      <td>2019-01-18</td>\n",
              "      <td>Active</td>\n",
              "      <td>Active</td>\n",
              "      <td>Gas Production</td>\n",
              "      <td>Gas</td>\n",
              "      <td>Kelt Lng  Hz Inga A04-09-088-23</td>\n",
              "      <td>Montney</td>\n",
              "      <td>Inga</td>\n",
              "      <td>Montney A</td>\n",
              "      <td>DLS</td>\n",
              "      <td>04-09-088-23-W6</td>\n",
              "      <td>88.0</td>\n",
              "      <td>W6</td>\n",
              "      <td>23.0</td>\n",
              "      <td>9.0</td>\n",
              "      <td>4.0</td>\n",
              "      <td>-121.612986</td>\n",
              "      <td>56.611944</td>\n",
              "      <td>088-23-W6</td>\n",
              "      <td>NaN</td>\n",
              "      <td>NaN</td>\n",
              "      <td>NaN</td>\n",
              "      <td>NaN</td>\n",
              "      <td>NaN</td>\n",
              "      <td>NaN</td>\n",
              "      <td>NaN</td>\n",
              "      <td>SW</td>\n",
              "      <td>13-16-088-23-W6</td>\n",
              "      <td>088-23-W6</td>\n",
              "      <td>NaN</td>\n",
              "      <td>NaN</td>\n",
              "      <td>NaN</td>\n",
              "      <td>NaN</td>\n",
              "      <td>NaN</td>\n",
              "      <td>NaN</td>\n",
              "      <td>NaN</td>\n",
              "      <td>NaN</td>\n",
              "      <td>NaN</td>\n",
              "      <td>NaN</td>\n",
              "      <td>88.0</td>\n",
              "      <td>W6</td>\n",
              "      <td>23.0</td>\n",
              "      <td>16.0</td>\n",
              "      <td>13.0</td>\n",
              "      <td>890.5</td>\n",
              "      <td>897.1</td>\n",
              "      <td>5048.0</td>\n",
              "      <td>Development</td>\n",
              "      <td>Unspecified</td>\n",
              "      <td>Horizon 55</td>\n",
              "      <td>2019-02-26</td>\n",
              "      <td>NaT</td>\n",
              "      <td>2019-11-20</td>\n",
              "      <td>267.0</td>\n",
              "      <td>18.906367</td>\n",
              "      <td>NaN</td>\n",
              "      <td>Horizontal</td>\n",
              "      <td>Canada</td>\n",
              "      <td>BC2</td>\n",
              "      <td>Northern British Columbia</td>\n",
              "      <td>4780.0</td>\n",
              "      <td>2020-01-30</td>\n",
              "      <td>BCOGC</td>\n",
              "      <td>72.0</td>\n",
              "      <td>60-90days</td>\n",
              "    </tr>\n",
              "    <tr>\n",
              "      <th>7798</th>\n",
              "      <td>43469</td>\n",
              "      <td>British Columbia</td>\n",
              "      <td>37184</td>\n",
              "      <td>105161708823W600</td>\n",
              "      <td>Kelt Exploration (Lng) Ltd.</td>\n",
              "      <td>4007</td>\n",
              "      <td>Kelt Exploration Ltd.</td>\n",
              "      <td>Kelt Exploration (Lng) Ltd.</td>\n",
              "      <td>4007</td>\n",
              "      <td>Kelt Exploration Ltd.</td>\n",
              "      <td>2019-01-18</td>\n",
              "      <td>Active</td>\n",
              "      <td>Active</td>\n",
              "      <td>Gas Production</td>\n",
              "      <td>Gas</td>\n",
              "      <td>Kelt Lng  Hz Inga E04-09-088-23</td>\n",
              "      <td>Montney</td>\n",
              "      <td>Northern Montney</td>\n",
              "      <td>Montney A</td>\n",
              "      <td>DLS</td>\n",
              "      <td>04-09-088-23-W6</td>\n",
              "      <td>88.0</td>\n",
              "      <td>W6</td>\n",
              "      <td>23.0</td>\n",
              "      <td>9.0</td>\n",
              "      <td>4.0</td>\n",
              "      <td>-121.613764</td>\n",
              "      <td>56.611914</td>\n",
              "      <td>088-23-W6</td>\n",
              "      <td>NaN</td>\n",
              "      <td>NaN</td>\n",
              "      <td>NaN</td>\n",
              "      <td>NaN</td>\n",
              "      <td>NaN</td>\n",
              "      <td>NaN</td>\n",
              "      <td>NaN</td>\n",
              "      <td>SW</td>\n",
              "      <td>16-17-088-23-W6</td>\n",
              "      <td>088-23-W6</td>\n",
              "      <td>NaN</td>\n",
              "      <td>NaN</td>\n",
              "      <td>NaN</td>\n",
              "      <td>NaN</td>\n",
              "      <td>NaN</td>\n",
              "      <td>NaN</td>\n",
              "      <td>NaN</td>\n",
              "      <td>NaN</td>\n",
              "      <td>NaN</td>\n",
              "      <td>NaN</td>\n",
              "      <td>88.0</td>\n",
              "      <td>W6</td>\n",
              "      <td>23.0</td>\n",
              "      <td>17.0</td>\n",
              "      <td>16.0</td>\n",
              "      <td>890.5</td>\n",
              "      <td>897.0</td>\n",
              "      <td>4955.0</td>\n",
              "      <td>Development</td>\n",
              "      <td>Unspecified</td>\n",
              "      <td>Horizon 55</td>\n",
              "      <td>2019-02-21</td>\n",
              "      <td>NaT</td>\n",
              "      <td>2019-10-16</td>\n",
              "      <td>237.0</td>\n",
              "      <td>20.907173</td>\n",
              "      <td>NaN</td>\n",
              "      <td>Horizontal</td>\n",
              "      <td>Canada</td>\n",
              "      <td>BC2</td>\n",
              "      <td>Northern British Columbia</td>\n",
              "      <td>4915.0</td>\n",
              "      <td>2020-01-30</td>\n",
              "      <td>BCOGC</td>\n",
              "      <td>107.0</td>\n",
              "      <td>90-365days</td>\n",
              "    </tr>\n",
              "    <tr>\n",
              "      <th>8179</th>\n",
              "      <td>42139</td>\n",
              "      <td>British Columbia</td>\n",
              "      <td>34828</td>\n",
              "      <td>103043308015W600</td>\n",
              "      <td>Tourmaline Oil Corp.</td>\n",
              "      <td>1312</td>\n",
              "      <td>Tourmaline Oil Corp.</td>\n",
              "      <td>Tourmaline Oil Corp.</td>\n",
              "      <td>1312</td>\n",
              "      <td>Tourmaline Oil Corp.</td>\n",
              "      <td>2017-10-05</td>\n",
              "      <td>Active</td>\n",
              "      <td>Active</td>\n",
              "      <td>Gas Production</td>\n",
              "      <td>Gas</td>\n",
              "      <td>Tourmaline  Hz Doe B03-34-080-15</td>\n",
              "      <td>Montney</td>\n",
              "      <td>Heritage</td>\n",
              "      <td>Montney A</td>\n",
              "      <td>DLS</td>\n",
              "      <td>03-34-080-15-W6</td>\n",
              "      <td>80.0</td>\n",
              "      <td>W6</td>\n",
              "      <td>15.0</td>\n",
              "      <td>34.0</td>\n",
              "      <td>3.0</td>\n",
              "      <td>-120.263333</td>\n",
              "      <td>55.974111</td>\n",
              "      <td>080-15-W6</td>\n",
              "      <td>NaN</td>\n",
              "      <td>NaN</td>\n",
              "      <td>NaN</td>\n",
              "      <td>NaN</td>\n",
              "      <td>NaN</td>\n",
              "      <td>NaN</td>\n",
              "      <td>NaN</td>\n",
              "      <td>SW</td>\n",
              "      <td>04-33-080-15-W6</td>\n",
              "      <td>080-15-W6</td>\n",
              "      <td>NaN</td>\n",
              "      <td>NaN</td>\n",
              "      <td>NaN</td>\n",
              "      <td>NaN</td>\n",
              "      <td>NaN</td>\n",
              "      <td>NaN</td>\n",
              "      <td>NaN</td>\n",
              "      <td>NaN</td>\n",
              "      <td>NaN</td>\n",
              "      <td>NaN</td>\n",
              "      <td>80.0</td>\n",
              "      <td>W6</td>\n",
              "      <td>15.0</td>\n",
              "      <td>33.0</td>\n",
              "      <td>4.0</td>\n",
              "      <td>661.0</td>\n",
              "      <td>667.0</td>\n",
              "      <td>3834.0</td>\n",
              "      <td>Development</td>\n",
              "      <td>Unspecified</td>\n",
              "      <td>Precision 538</td>\n",
              "      <td>2019-06-04</td>\n",
              "      <td>NaT</td>\n",
              "      <td>2019-07-22</td>\n",
              "      <td>48.0</td>\n",
              "      <td>79.875000</td>\n",
              "      <td>NaN</td>\n",
              "      <td>Horizontal</td>\n",
              "      <td>Canada</td>\n",
              "      <td>BC2</td>\n",
              "      <td>Northern British Columbia</td>\n",
              "      <td>4500.0</td>\n",
              "      <td>2020-01-31</td>\n",
              "      <td>BCOGC</td>\n",
              "      <td>193.0</td>\n",
              "      <td>90-365days</td>\n",
              "    </tr>\n",
              "    <tr>\n",
              "      <th>8180</th>\n",
              "      <td>42138</td>\n",
              "      <td>British Columbia</td>\n",
              "      <td>34827</td>\n",
              "      <td>102043308015W600</td>\n",
              "      <td>Tourmaline Oil Corp.</td>\n",
              "      <td>1312</td>\n",
              "      <td>Tourmaline Oil Corp.</td>\n",
              "      <td>Tourmaline Oil Corp.</td>\n",
              "      <td>1312</td>\n",
              "      <td>Tourmaline Oil Corp.</td>\n",
              "      <td>2017-10-05</td>\n",
              "      <td>Active</td>\n",
              "      <td>Active</td>\n",
              "      <td>Gas Production</td>\n",
              "      <td>Gas</td>\n",
              "      <td>Tourmaline  Hz Doe A03-34-080-15</td>\n",
              "      <td>Montney</td>\n",
              "      <td>Heritage</td>\n",
              "      <td>Montney A</td>\n",
              "      <td>DLS</td>\n",
              "      <td>03-34-080-15-W6</td>\n",
              "      <td>80.0</td>\n",
              "      <td>W6</td>\n",
              "      <td>15.0</td>\n",
              "      <td>34.0</td>\n",
              "      <td>3.0</td>\n",
              "      <td>-120.263331</td>\n",
              "      <td>55.974067</td>\n",
              "      <td>080-15-W6</td>\n",
              "      <td>NaN</td>\n",
              "      <td>NaN</td>\n",
              "      <td>NaN</td>\n",
              "      <td>NaN</td>\n",
              "      <td>NaN</td>\n",
              "      <td>NaN</td>\n",
              "      <td>NaN</td>\n",
              "      <td>SW</td>\n",
              "      <td>04-33-080-15-W6</td>\n",
              "      <td>080-15-W6</td>\n",
              "      <td>NaN</td>\n",
              "      <td>NaN</td>\n",
              "      <td>NaN</td>\n",
              "      <td>NaN</td>\n",
              "      <td>NaN</td>\n",
              "      <td>NaN</td>\n",
              "      <td>NaN</td>\n",
              "      <td>NaN</td>\n",
              "      <td>NaN</td>\n",
              "      <td>NaN</td>\n",
              "      <td>80.0</td>\n",
              "      <td>W6</td>\n",
              "      <td>15.0</td>\n",
              "      <td>33.0</td>\n",
              "      <td>4.0</td>\n",
              "      <td>661.0</td>\n",
              "      <td>667.0</td>\n",
              "      <td>3890.0</td>\n",
              "      <td>Development</td>\n",
              "      <td>Unspecified</td>\n",
              "      <td>Precision 538</td>\n",
              "      <td>2019-06-05</td>\n",
              "      <td>NaT</td>\n",
              "      <td>2019-07-17</td>\n",
              "      <td>42.0</td>\n",
              "      <td>92.619048</td>\n",
              "      <td>NaN</td>\n",
              "      <td>Horizontal</td>\n",
              "      <td>Canada</td>\n",
              "      <td>BC2</td>\n",
              "      <td>Northern British Columbia</td>\n",
              "      <td>4500.0</td>\n",
              "      <td>2020-01-31</td>\n",
              "      <td>BCOGC</td>\n",
              "      <td>198.0</td>\n",
              "      <td>90-365days</td>\n",
              "    </tr>\n",
              "    <tr>\n",
              "      <th>8695</th>\n",
              "      <td>42723</td>\n",
              "      <td>British Columbia</td>\n",
              "      <td>35737</td>\n",
              "      <td>102041208015W600</td>\n",
              "      <td>Arc Resources Ltd.</td>\n",
              "      <td>16</td>\n",
              "      <td>ARC Resources Ltd.</td>\n",
              "      <td>Arc Resources Ltd.</td>\n",
              "      <td>16</td>\n",
              "      <td>ARC Resources Ltd.</td>\n",
              "      <td>2018-03-23</td>\n",
              "      <td>Active</td>\n",
              "      <td>Active</td>\n",
              "      <td>Gas Production</td>\n",
              "      <td>Gas</td>\n",
              "      <td>Arcres  Hz Doe G12-31-079-14</td>\n",
              "      <td>Montney</td>\n",
              "      <td>Heritage</td>\n",
              "      <td>Montney A</td>\n",
              "      <td>DLS</td>\n",
              "      <td>12-31-079-14-W6</td>\n",
              "      <td>79.0</td>\n",
              "      <td>W6</td>\n",
              "      <td>14.0</td>\n",
              "      <td>31.0</td>\n",
              "      <td>12.0</td>\n",
              "      <td>-120.191047</td>\n",
              "      <td>55.892319</td>\n",
              "      <td>079-14-W6</td>\n",
              "      <td>NaN</td>\n",
              "      <td>NaN</td>\n",
              "      <td>NaN</td>\n",
              "      <td>NaN</td>\n",
              "      <td>NaN</td>\n",
              "      <td>NaN</td>\n",
              "      <td>NaN</td>\n",
              "      <td>NW</td>\n",
              "      <td>04-12-080-15-W6</td>\n",
              "      <td>080-15-W6</td>\n",
              "      <td>NaN</td>\n",
              "      <td>NaN</td>\n",
              "      <td>NaN</td>\n",
              "      <td>NaN</td>\n",
              "      <td>NaN</td>\n",
              "      <td>NaN</td>\n",
              "      <td>NaN</td>\n",
              "      <td>NaN</td>\n",
              "      <td>NaN</td>\n",
              "      <td>NaN</td>\n",
              "      <td>80.0</td>\n",
              "      <td>W6</td>\n",
              "      <td>15.0</td>\n",
              "      <td>12.0</td>\n",
              "      <td>4.0</td>\n",
              "      <td>686.0</td>\n",
              "      <td>692.0</td>\n",
              "      <td>5004.0</td>\n",
              "      <td>Development</td>\n",
              "      <td>Unspecified</td>\n",
              "      <td>Precision 542</td>\n",
              "      <td>2019-06-09</td>\n",
              "      <td>NaT</td>\n",
              "      <td>2019-07-16</td>\n",
              "      <td>37.0</td>\n",
              "      <td>135.243243</td>\n",
              "      <td>NaN</td>\n",
              "      <td>Horizontal</td>\n",
              "      <td>Canada</td>\n",
              "      <td>BC2</td>\n",
              "      <td>Northern British Columbia</td>\n",
              "      <td>4600.0</td>\n",
              "      <td>2020-01-07</td>\n",
              "      <td>BCOGC</td>\n",
              "      <td>199.0</td>\n",
              "      <td>90-365days</td>\n",
              "    </tr>\n",
              "  </tbody>\n",
              "</table>\n",
              "</div>"
            ],
            "text/plain": [
              "      EPAssetsId          Province  ... Days of Uncompleted Status      Binned\n",
              "7787       43463  British Columbia  ...                       72.0   60-90days\n",
              "7798       43469  British Columbia  ...                      107.0  90-365days\n",
              "8179       42139  British Columbia  ...                      193.0  90-365days\n",
              "8180       42138  British Columbia  ...                      198.0  90-365days\n",
              "8695       42723  British Columbia  ...                      199.0  90-365days\n",
              "\n",
              "[5 rows x 75 columns]"
            ]
          },
          "metadata": {
            "tags": []
          },
          "execution_count": 29
        }
      ]
    },
    {
      "cell_type": "code",
      "metadata": {
        "id": "FrgYJ-zic7od",
        "colab_type": "code",
        "colab": {
          "base_uri": "https://localhost:8080/",
          "height": 123
        },
        "outputId": "e5733dbe-c474-4dc9-f4da-6324a436843c"
      },
      "source": [
        "# groupby number of wells by bin label\n",
        "DUCS_dataframe_binned = DUCS_final_dataframe.groupby(by='Binned', as_index=False).agg({'EPAssetsId':'size'})\n",
        "print(DUCS_dataframe_binned)"
      ],
      "execution_count": null,
      "outputs": [
        {
          "output_type": "stream",
          "text": [
            "         Binned  EPAssetsId\n",
            "0       <60days           0\n",
            "1     60-90days           4\n",
            "2    90-365days          11\n",
            "3   365-730days           3\n",
            "4  730-1095days           0\n"
          ],
          "name": "stdout"
        }
      ]
    },
    {
      "cell_type": "code",
      "metadata": {
        "id": "X91J_P3idNLR",
        "colab_type": "code",
        "colab": {
          "base_uri": "https://localhost:8080/",
          "height": 278
        },
        "outputId": "bdd1daa6-9666-4e04-9d36-78b9f5141a07"
      },
      "source": [
        "# create bar graph\n",
        "\n",
        "DUCS_dataframe_binned.plot.barh(x='Binned', y='EPAssetsId')\n",
        "plt.xlabel('Number of DUC Wells')\n",
        "plt.ylabel('Days of Uncompleted Status - Range')\n",
        "plt.show()"
      ],
      "execution_count": null,
      "outputs": [
        {
          "output_type": "display_data",
          "data": {
            "image/png": "[encoded data removed]",
            "text/plain": [
              "<Figure size 432x288 with 1 Axes>"
            ]
          },
          "metadata": {
            "tags": [],
            "needs_background": "light"
          }
        }
      ]
    },
    {
      "cell_type": "markdown",
      "metadata": {
        "id": "4GxmP9O7KyMR",
        "colab_type": "text"
      },
      "source": [
        "## Derive some insights using the bins created "
      ]
    },
    {
      "cell_type": "code",
      "metadata": {
        "id": "yBYEX7oPK7eL",
        "colab_type": "code",
        "colab": {
          "base_uri": "https://localhost:8080/",
          "height": 123
        },
        "outputId": "25fa0d7c-aa06-4983-ab44-05247a7b6d5e"
      },
      "source": [
        "# groupby number of wells by PSACArea and bin labels\n",
        "DUCS_dataframe_binned_Field= DUCS_final_dataframe.groupby(by=['Binned', 'Field'], as_index=False, observed=True).agg({'EPAssetsId': 'size'})\n",
        "print(DUCS_dataframe_binned_Field)"
      ],
      "execution_count": null,
      "outputs": [
        {
          "output_type": "stream",
          "text": [
            "        Binned             Field  EPAssetsId\n",
            "0    60-90days              Inga           1\n",
            "1    60-90days          Heritage           3\n",
            "2   90-365days  Northern Montney           2\n",
            "3   90-365days          Heritage           9\n",
            "4  365-730days  Northern Montney           3\n"
          ],
          "name": "stdout"
        }
      ]
    },
    {
      "cell_type": "markdown",
      "metadata": {
        "id": "cqfH6XKqWJjg",
        "colab_type": "text"
      },
      "source": [
        "## DUC status duration for non-DUC wells"
      ]
    },
    {
      "cell_type": "code",
      "metadata": {
        "id": "p4Bwfiw6X5_L",
        "colab_type": "code",
        "colab": {
          "base_uri": "https://localhost:8080/"
        },
        "outputId": "93a72b74-556b-46b4-9f3a-5a6cefae8018"
      },
      "source": [
        "## non DUC wells dataframe\n",
        "\n",
        "non_DUCS_dataframe = wellheader[~wellheader['EPAssetsId'].isin(Final_DUC_List)]\n",
        "\n",
        "non_DUCS_dataframe.info()"
      ],
      "execution_count": null,
      "outputs": [
        {
          "output_type": "stream",
          "text": [
            "<class 'pandas.core.frame.DataFrame'>\n",
            "Int64Index: 10419 entries, 0 to 10436\n",
            "Data columns (total 73 columns):\n",
            " #   Column                     Non-Null Count  Dtype         \n",
            "---  ------                     --------------  -----         \n",
            " 0   EPAssetsId                 10419 non-null  int64         \n",
            " 1   Province                   10419 non-null  category      \n",
            " 2   LicenceNumber              10419 non-null  object        \n",
            " 3   UWI                        10419 non-null  object        \n",
            " 4   CurrentOperator            10419 non-null  category      \n",
            " 5   CurrentOperatorParent      10419 non-null  int64         \n",
            " 6   CurrentOperatorParentName  10419 non-null  category      \n",
            " 7   Licensee                   10419 non-null  category      \n",
            " 8   LicenseeParentCompany      10419 non-null  int64         \n",
            " 9   LicenseeParentCompanyName  10419 non-null  category      \n",
            " 10  LicenceDate                10419 non-null  datetime64[ns]\n",
            " 11  CurrentStatus              10419 non-null  category      \n",
            " 12  CurrentStatusStandardised  10419 non-null  category      \n",
            " 13  WellType                   10419 non-null  category      \n",
            " 14  WellTypeStandardised       10419 non-null  category      \n",
            " 15  WellName                   10419 non-null  object        \n",
            " 16  Formation                  10419 non-null  category      \n",
            " 17  Field                      10419 non-null  category      \n",
            " 18  Pool                       10419 non-null  category      \n",
            " 19  SurveySystem               10419 non-null  category      \n",
            " 20  Surf_Location              10419 non-null  object        \n",
            " 21  Surf_Township              9890 non-null   float64       \n",
            " 22  Surf_Meridian              9890 non-null   category      \n",
            " 23  Surf_Range                 9890 non-null   float64       \n",
            " 24  Surf_Section               9890 non-null   float64       \n",
            " 25  Surf_LSD                   9890 non-null   float64       \n",
            " 26  Surf_Longitude             10419 non-null  float64       \n",
            " 27  Surf_Latitude              10419 non-null  float64       \n",
            " 28  Surf_TownshipRange         9890 non-null   object        \n",
            " 29  Surf_QuarterUnit           529 non-null    category      \n",
            " 30  Surf_Unit                  529 non-null    float64       \n",
            " 31  Surf_Block                 529 non-null    category      \n",
            " 32  Surf_NTSMapSheet           529 non-null    category      \n",
            " 33  Surf_Series                529 non-null    float64       \n",
            " 34  Surf_Area                  529 non-null    category      \n",
            " 35  Surf_Sheet                 529 non-null    float64       \n",
            " 36  Surf_QuarterSection        9890 non-null   category      \n",
            " 37  BH_Location                10419 non-null  category      \n",
            " 38  BH_TownshipRange           9895 non-null   object        \n",
            " 39  BH_QuarterUnit             524 non-null    category      \n",
            " 40  BH_Unit                    524 non-null    float64       \n",
            " 41  BH_Block                   524 non-null    category      \n",
            " 42  BH_NTSMapSheet             524 non-null    category      \n",
            " 43  BH_Series                  524 non-null    float64       \n",
            " 44  BH_Area                    524 non-null    category      \n",
            " 45  BH_Sheet                   524 non-null    float64       \n",
            " 46  BH_QuarterSection          8697 non-null   category      \n",
            " 47  BH_Longitude               8697 non-null   float64       \n",
            " 48  BH_Latitude                8697 non-null   float64       \n",
            " 49  BH_Township                9895 non-null   float64       \n",
            " 50  BH_Meridian                9895 non-null   category      \n",
            " 51  BH_Range                   9895 non-null   float64       \n",
            " 52  BH_Section                 9895 non-null   float64       \n",
            " 53  BH_LSD                     9895 non-null   float64       \n",
            " 54  GroundElevation            10411 non-null  float64       \n",
            " 55  KBElevation                10419 non-null  float64       \n",
            " 56  TotalDepth                 10419 non-null  float64       \n",
            " 57  LaheeClass                 10419 non-null  category      \n",
            " 58  SurfaceOwner               10419 non-null  category      \n",
            " 59  DrillingContractor         10387 non-null  category      \n",
            " 60  SpudDate                   10419 non-null  datetime64[ns]\n",
            " 61  FinalDrillDate             8697 non-null   datetime64[ns]\n",
            " 62  RigReleaseDate             10419 non-null  datetime64[ns]\n",
            " 63  DaysDrilling               10414 non-null  float64       \n",
            " 64  DrillMetresPerDay          10419 non-null  float64       \n",
            " 65  TVD                        6731 non-null   float64       \n",
            " 66  WellProfile                10419 non-null  category      \n",
            " 67  Country                    10419 non-null  category      \n",
            " 68  PSACAreaCode               10419 non-null  category      \n",
            " 69  PSACAreaName               10419 non-null  category      \n",
            " 70  ProjectedDepth             10027 non-null  float64       \n",
            " 71  StatusDate                 10419 non-null  datetime64[ns]\n",
            " 72  StatusSource               10419 non-null  category      \n",
            "dtypes: category(34), datetime64[ns](5), float64(25), int64(3), object(6)\n",
            "memory usage: 4.0+ MB\n"
          ],
          "name": "stdout"
        }
      ]
    },
    {
      "cell_type": "code",
      "metadata": {
        "id": "2sdGFKsRWJFM",
        "colab_type": "code",
        "colab": {
          "base_uri": "https://localhost:8080/"
        },
        "outputId": "4c2b56dc-0623-4c21-af71-a942678c9a41"
      },
      "source": [
        "## groupby production data to remove duplicates, and calculate first production period per well\n",
        "\n",
        "First_production_by_well = wellproduction.groupby(by='EPAssetsId', as_index=False, observed=True).agg({'ProdPeriod': 'min'})\n",
        "\n",
        "First_production_by_well.head(5)"
      ],
      "execution_count": null,
      "outputs": [
        {
          "output_type": "execute_result",
          "data": {
            "text/html": [
              "<div>\n",
              "<style scoped>\n",
              "    .dataframe tbody tr th:only-of-type {\n",
              "        vertical-align: middle;\n",
              "    }\n",
              "\n",
              "    .dataframe tbody tr th {\n",
              "        vertical-align: top;\n",
              "    }\n",
              "\n",
              "    .dataframe thead th {\n",
              "        text-align: right;\n",
              "    }\n",
              "</style>\n",
              "<table border=\"1\" class=\"dataframe\">\n",
              "  <thead>\n",
              "    <tr style=\"text-align: right;\">\n",
              "      <th></th>\n",
              "      <th>EPAssetsId</th>\n",
              "      <th>ProdPeriod</th>\n",
              "    </tr>\n",
              "  </thead>\n",
              "  <tbody>\n",
              "    <tr>\n",
              "      <th>0</th>\n",
              "      <td>3373</td>\n",
              "      <td>2017-08-31</td>\n",
              "    </tr>\n",
              "    <tr>\n",
              "      <th>1</th>\n",
              "      <td>6976</td>\n",
              "      <td>2015-11-30</td>\n",
              "    </tr>\n",
              "    <tr>\n",
              "      <th>2</th>\n",
              "      <td>6977</td>\n",
              "      <td>2015-11-30</td>\n",
              "    </tr>\n",
              "    <tr>\n",
              "      <th>3</th>\n",
              "      <td>7129</td>\n",
              "      <td>2017-06-30</td>\n",
              "    </tr>\n",
              "    <tr>\n",
              "      <th>4</th>\n",
              "      <td>7130</td>\n",
              "      <td>2017-06-30</td>\n",
              "    </tr>\n",
              "  </tbody>\n",
              "</table>\n",
              "</div>"
            ],
            "text/plain": [
              "   EPAssetsId ProdPeriod\n",
              "0        3373 2017-08-31\n",
              "1        6976 2015-11-30\n",
              "2        6977 2015-11-30\n",
              "3        7129 2017-06-30\n",
              "4        7130 2017-06-30"
            ]
          },
          "metadata": {
            "tags": []
          },
          "execution_count": 35
        }
      ]
    },
    {
      "cell_type": "code",
      "metadata": {
        "id": "4xl-ZLfyXm0d",
        "colab_type": "code",
        "colab": {
          "base_uri": "https://localhost:8080/"
        },
        "outputId": "1a9ed5cb-e9ec-4ec9-fc9a-48e2e74182f1"
      },
      "source": [
        "# groupby perforation data by EPAssetsId and Last Activity Date\n",
        "\n",
        "Last_Activity_Date_by_well = perftreatment.groupby(by='EPAssetsId', as_index=False).agg({'ActivityDate': 'max'})\n",
        "\n",
        "Last_Activity_Date_by_well.head()"
      ],
      "execution_count": null,
      "outputs": [
        {
          "output_type": "execute_result",
          "data": {
            "text/html": [
              "<div>\n",
              "<style scoped>\n",
              "    .dataframe tbody tr th:only-of-type {\n",
              "        vertical-align: middle;\n",
              "    }\n",
              "\n",
              "    .dataframe tbody tr th {\n",
              "        vertical-align: top;\n",
              "    }\n",
              "\n",
              "    .dataframe thead th {\n",
              "        text-align: right;\n",
              "    }\n",
              "</style>\n",
              "<table border=\"1\" class=\"dataframe\">\n",
              "  <thead>\n",
              "    <tr style=\"text-align: right;\">\n",
              "      <th></th>\n",
              "      <th>EPAssetsId</th>\n",
              "      <th>ActivityDate</th>\n",
              "    </tr>\n",
              "  </thead>\n",
              "  <tbody>\n",
              "    <tr>\n",
              "      <th>0</th>\n",
              "      <td>3373</td>\n",
              "      <td>2017-07-29</td>\n",
              "    </tr>\n",
              "    <tr>\n",
              "      <th>1</th>\n",
              "      <td>6976</td>\n",
              "      <td>2015-10-30</td>\n",
              "    </tr>\n",
              "    <tr>\n",
              "      <th>2</th>\n",
              "      <td>6977</td>\n",
              "      <td>2015-10-31</td>\n",
              "    </tr>\n",
              "    <tr>\n",
              "      <th>3</th>\n",
              "      <td>7129</td>\n",
              "      <td>2017-11-25</td>\n",
              "    </tr>\n",
              "    <tr>\n",
              "      <th>4</th>\n",
              "      <td>7130</td>\n",
              "      <td>2017-11-26</td>\n",
              "    </tr>\n",
              "  </tbody>\n",
              "</table>\n",
              "</div>"
            ],
            "text/plain": [
              "   EPAssetsId ActivityDate\n",
              "0        3373   2017-07-29\n",
              "1        6976   2015-10-30\n",
              "2        6977   2015-10-31\n",
              "3        7129   2017-11-25\n",
              "4        7130   2017-11-26"
            ]
          },
          "metadata": {
            "tags": []
          },
          "execution_count": 36
        }
      ]
    },
    {
      "cell_type": "code",
      "metadata": {
        "colab_type": "code",
        "id": "yUBFVwfPYYct",
        "colab": {
          "base_uri": "https://localhost:8080/"
        },
        "outputId": "76e5be82-84b0-42db-8adf-a5cfc67524aa"
      },
      "source": [
        "## merge non DUC wells dataframe['EPAssetsId', 'RigReleaseDate'] with production data and perftreatment data\n",
        "non_DUCS_dataframe = non_DUCS_dataframe.merge(First_production_by_well, how='left', on='EPAssetsId')\n",
        "\n",
        "non_DUCS_dataframe = non_DUCS_dataframe.merge(Last_Activity_Date_by_well, how='left', on='EPAssetsId')\n",
        "\n",
        "non_DUCS_dataframe.info()"
      ],
      "execution_count": null,
      "outputs": [
        {
          "output_type": "stream",
          "text": [
            "<class 'pandas.core.frame.DataFrame'>\n",
            "Int64Index: 10419 entries, 0 to 10418\n",
            "Data columns (total 75 columns):\n",
            " #   Column                     Non-Null Count  Dtype         \n",
            "---  ------                     --------------  -----         \n",
            " 0   EPAssetsId                 10419 non-null  int64         \n",
            " 1   Province                   10419 non-null  category      \n",
            " 2   LicenceNumber              10419 non-null  object        \n",
            " 3   UWI                        10419 non-null  object        \n",
            " 4   CurrentOperator            10419 non-null  category      \n",
            " 5   CurrentOperatorParent      10419 non-null  int64         \n",
            " 6   CurrentOperatorParentName  10419 non-null  category      \n",
            " 7   Licensee                   10419 non-null  category      \n",
            " 8   LicenseeParentCompany      10419 non-null  int64         \n",
            " 9   LicenseeParentCompanyName  10419 non-null  category      \n",
            " 10  LicenceDate                10419 non-null  datetime64[ns]\n",
            " 11  CurrentStatus              10419 non-null  category      \n",
            " 12  CurrentStatusStandardised  10419 non-null  category      \n",
            " 13  WellType                   10419 non-null  category      \n",
            " 14  WellTypeStandardised       10419 non-null  category      \n",
            " 15  WellName                   10419 non-null  object        \n",
            " 16  Formation                  10419 non-null  category      \n",
            " 17  Field                      10419 non-null  category      \n",
            " 18  Pool                       10419 non-null  category      \n",
            " 19  SurveySystem               10419 non-null  category      \n",
            " 20  Surf_Location              10419 non-null  object        \n",
            " 21  Surf_Township              9890 non-null   float64       \n",
            " 22  Surf_Meridian              9890 non-null   category      \n",
            " 23  Surf_Range                 9890 non-null   float64       \n",
            " 24  Surf_Section               9890 non-null   float64       \n",
            " 25  Surf_LSD                   9890 non-null   float64       \n",
            " 26  Surf_Longitude             10419 non-null  float64       \n",
            " 27  Surf_Latitude              10419 non-null  float64       \n",
            " 28  Surf_TownshipRange         9890 non-null   object        \n",
            " 29  Surf_QuarterUnit           529 non-null    category      \n",
            " 30  Surf_Unit                  529 non-null    float64       \n",
            " 31  Surf_Block                 529 non-null    category      \n",
            " 32  Surf_NTSMapSheet           529 non-null    category      \n",
            " 33  Surf_Series                529 non-null    float64       \n",
            " 34  Surf_Area                  529 non-null    category      \n",
            " 35  Surf_Sheet                 529 non-null    float64       \n",
            " 36  Surf_QuarterSection        9890 non-null   category      \n",
            " 37  BH_Location                10419 non-null  category      \n",
            " 38  BH_TownshipRange           9895 non-null   object        \n",
            " 39  BH_QuarterUnit             524 non-null    category      \n",
            " 40  BH_Unit                    524 non-null    float64       \n",
            " 41  BH_Block                   524 non-null    category      \n",
            " 42  BH_NTSMapSheet             524 non-null    category      \n",
            " 43  BH_Series                  524 non-null    float64       \n",
            " 44  BH_Area                    524 non-null    category      \n",
            " 45  BH_Sheet                   524 non-null    float64       \n",
            " 46  BH_QuarterSection          8697 non-null   category      \n",
            " 47  BH_Longitude               8697 non-null   float64       \n",
            " 48  BH_Latitude                8697 non-null   float64       \n",
            " 49  BH_Township                9895 non-null   float64       \n",
            " 50  BH_Meridian                9895 non-null   category      \n",
            " 51  BH_Range                   9895 non-null   float64       \n",
            " 52  BH_Section                 9895 non-null   float64       \n",
            " 53  BH_LSD                     9895 non-null   float64       \n",
            " 54  GroundElevation            10411 non-null  float64       \n",
            " 55  KBElevation                10419 non-null  float64       \n",
            " 56  TotalDepth                 10419 non-null  float64       \n",
            " 57  LaheeClass                 10419 non-null  category      \n",
            " 58  SurfaceOwner               10419 non-null  category      \n",
            " 59  DrillingContractor         10387 non-null  category      \n",
            " 60  SpudDate                   10419 non-null  datetime64[ns]\n",
            " 61  FinalDrillDate             8697 non-null   datetime64[ns]\n",
            " 62  RigReleaseDate             10419 non-null  datetime64[ns]\n",
            " 63  DaysDrilling               10414 non-null  float64       \n",
            " 64  DrillMetresPerDay          10419 non-null  float64       \n",
            " 65  TVD                        6731 non-null   float64       \n",
            " 66  WellProfile                10419 non-null  category      \n",
            " 67  Country                    10419 non-null  category      \n",
            " 68  PSACAreaCode               10419 non-null  category      \n",
            " 69  PSACAreaName               10419 non-null  category      \n",
            " 70  ProjectedDepth             10027 non-null  float64       \n",
            " 71  StatusDate                 10419 non-null  datetime64[ns]\n",
            " 72  StatusSource               10419 non-null  category      \n",
            " 73  ProdPeriod                 10386 non-null  datetime64[ns]\n",
            " 74  ActivityDate               10107 non-null  datetime64[ns]\n",
            "dtypes: category(34), datetime64[ns](7), float64(25), int64(3), object(6)\n",
            "memory usage: 4.2+ MB\n"
          ],
          "name": "stdout"
        }
      ]
    },
    {
      "cell_type": "code",
      "metadata": {
        "id": "rWXlIe7Wh6GH",
        "colab_type": "code",
        "colab": {
          "base_uri": "https://localhost:8080/"
        },
        "outputId": "b8999219-6051-4b96-f402-9682ac9f2761"
      },
      "source": [
        "non_DUCS_dataframe.loc[:,'DUCStatusEndDate'] = non_DUCS_dataframe['ProdPeriod'].fillna(value=non_DUCS_dataframe['ActivityDate'])\n",
        "\n",
        "non_DUCS_dataframe['DUCStatusEndDate'].isnull().sum()"
      ],
      "execution_count": null,
      "outputs": [
        {
          "output_type": "execute_result",
          "data": {
            "text/plain": [
              "13"
            ]
          },
          "metadata": {
            "tags": []
          },
          "execution_count": 38
        }
      ]
    },
    {
      "cell_type": "markdown",
      "metadata": {
        "id": "zNQfoAFqnYRu",
        "colab_type": "text"
      },
      "source": [
        "#### Referencing the EDA for Identification of DUC wells, there are 30 wells not in the perftreatment data or production data, however when we use the well status value of Flowing, Pumping and Gas Lift, these 13 wells drop off, leaving us with 17 DUCS in our original first DUCS list. ![Venn diagram for wells in each dataset.PNG](data:image/png;base64,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)"
      ]
    },
    {
      "cell_type": "code",
      "metadata": {
        "colab_type": "code",
        "id": "AUnw9nCyZJM2",
        "colab": {
          "base_uri": "https://localhost:8080/"
        },
        "outputId": "e1e83353-4207-44d2-e819-a23ba2592417"
      },
      "source": [
        "## drop off rows that don't have Perftreatment or Production data\n",
        "non_DUCS_dataframe.dropna(subset=['DUCStatusEndDate'], inplace = True)\n",
        "non_DUCS_dataframe.shape\n"
      ],
      "execution_count": null,
      "outputs": [
        {
          "output_type": "execute_result",
          "data": {
            "text/plain": [
              "(10406, 76)"
            ]
          },
          "metadata": {
            "tags": []
          },
          "execution_count": 39
        }
      ]
    },
    {
      "cell_type": "code",
      "metadata": {
        "id": "P0ByghcUrAKy",
        "colab_type": "code",
        "colab": {
          "base_uri": "https://localhost:8080/"
        },
        "outputId": "f45917a6-5050-453c-8dd5-45c8c1071118"
      },
      "source": [
        "non_DUCS_dataframe.head(2)"
      ],
      "execution_count": null,
      "outputs": [
        {
          "output_type": "execute_result",
          "data": {
            "text/html": [
              "<div>\n",
              "<style scoped>\n",
              "    .dataframe tbody tr th:only-of-type {\n",
              "        vertical-align: middle;\n",
              "    }\n",
              "\n",
              "    .dataframe tbody tr th {\n",
              "        vertical-align: top;\n",
              "    }\n",
              "\n",
              "    .dataframe thead th {\n",
              "        text-align: right;\n",
              "    }\n",
              "</style>\n",
              "<table border=\"1\" class=\"dataframe\">\n",
              "  <thead>\n",
              "    <tr style=\"text-align: right;\">\n",
              "      <th></th>\n",
              "      <th>EPAssetsId</th>\n",
              "      <th>Province</th>\n",
              "      <th>LicenceNumber</th>\n",
              "      <th>UWI</th>\n",
              "      <th>CurrentOperator</th>\n",
              "      <th>CurrentOperatorParent</th>\n",
              "      <th>CurrentOperatorParentName</th>\n",
              "      <th>Licensee</th>\n",
              "      <th>LicenseeParentCompany</th>\n",
              "      <th>LicenseeParentCompanyName</th>\n",
              "      <th>LicenceDate</th>\n",
              "      <th>CurrentStatus</th>\n",
              "      <th>CurrentStatusStandardised</th>\n",
              "      <th>WellType</th>\n",
              "      <th>WellTypeStandardised</th>\n",
              "      <th>WellName</th>\n",
              "      <th>Formation</th>\n",
              "      <th>Field</th>\n",
              "      <th>Pool</th>\n",
              "      <th>SurveySystem</th>\n",
              "      <th>Surf_Location</th>\n",
              "      <th>Surf_Township</th>\n",
              "      <th>Surf_Meridian</th>\n",
              "      <th>Surf_Range</th>\n",
              "      <th>Surf_Section</th>\n",
              "      <th>Surf_LSD</th>\n",
              "      <th>Surf_Longitude</th>\n",
              "      <th>Surf_Latitude</th>\n",
              "      <th>Surf_TownshipRange</th>\n",
              "      <th>Surf_QuarterUnit</th>\n",
              "      <th>Surf_Unit</th>\n",
              "      <th>Surf_Block</th>\n",
              "      <th>Surf_NTSMapSheet</th>\n",
              "      <th>Surf_Series</th>\n",
              "      <th>Surf_Area</th>\n",
              "      <th>Surf_Sheet</th>\n",
              "      <th>Surf_QuarterSection</th>\n",
              "      <th>BH_Location</th>\n",
              "      <th>BH_TownshipRange</th>\n",
              "      <th>BH_QuarterUnit</th>\n",
              "      <th>BH_Unit</th>\n",
              "      <th>BH_Block</th>\n",
              "      <th>BH_NTSMapSheet</th>\n",
              "      <th>BH_Series</th>\n",
              "      <th>BH_Area</th>\n",
              "      <th>BH_Sheet</th>\n",
              "      <th>BH_QuarterSection</th>\n",
              "      <th>BH_Longitude</th>\n",
              "      <th>BH_Latitude</th>\n",
              "      <th>BH_Township</th>\n",
              "      <th>BH_Meridian</th>\n",
              "      <th>BH_Range</th>\n",
              "      <th>BH_Section</th>\n",
              "      <th>BH_LSD</th>\n",
              "      <th>GroundElevation</th>\n",
              "      <th>KBElevation</th>\n",
              "      <th>TotalDepth</th>\n",
              "      <th>LaheeClass</th>\n",
              "      <th>SurfaceOwner</th>\n",
              "      <th>DrillingContractor</th>\n",
              "      <th>SpudDate</th>\n",
              "      <th>FinalDrillDate</th>\n",
              "      <th>RigReleaseDate</th>\n",
              "      <th>DaysDrilling</th>\n",
              "      <th>DrillMetresPerDay</th>\n",
              "      <th>TVD</th>\n",
              "      <th>WellProfile</th>\n",
              "      <th>Country</th>\n",
              "      <th>PSACAreaCode</th>\n",
              "      <th>PSACAreaName</th>\n",
              "      <th>ProjectedDepth</th>\n",
              "      <th>StatusDate</th>\n",
              "      <th>StatusSource</th>\n",
              "      <th>ProdPeriod</th>\n",
              "      <th>ActivityDate</th>\n",
              "      <th>DUCStatusEndDate</th>\n",
              "    </tr>\n",
              "  </thead>\n",
              "  <tbody>\n",
              "    <tr>\n",
              "      <th>0</th>\n",
              "      <td>2587301</td>\n",
              "      <td>Alberta</td>\n",
              "      <td>475898</td>\n",
              "      <td>100122706624W500</td>\n",
              "      <td>Enerplus Corporation</td>\n",
              "      <td>267</td>\n",
              "      <td>Enerplus Corporation</td>\n",
              "      <td>Enerplus Corporation</td>\n",
              "      <td>267</td>\n",
              "      <td>Enerplus Corporation</td>\n",
              "      <td>2015-06-25</td>\n",
              "      <td>Gas Lift</td>\n",
              "      <td>Active</td>\n",
              "      <td>Crude Oil</td>\n",
              "      <td>Oil</td>\n",
              "      <td>ENERPLUS CORP HZ ANTEN 12-27-66-24</td>\n",
              "      <td>Montney</td>\n",
              "      <td>Ante Creek North</td>\n",
              "      <td>Commingled Pool 005</td>\n",
              "      <td>DLS</td>\n",
              "      <td>13-26-066-24-W5</td>\n",
              "      <td>66.0</td>\n",
              "      <td>W5</td>\n",
              "      <td>24.0</td>\n",
              "      <td>26.0</td>\n",
              "      <td>13.0</td>\n",
              "      <td>-117.529866</td>\n",
              "      <td>54.747632</td>\n",
              "      <td>066-24-W5</td>\n",
              "      <td>NaN</td>\n",
              "      <td>NaN</td>\n",
              "      <td>NaN</td>\n",
              "      <td>NaN</td>\n",
              "      <td>NaN</td>\n",
              "      <td>NaN</td>\n",
              "      <td>NaN</td>\n",
              "      <td>NW</td>\n",
              "      <td>12-27-066-24-W5</td>\n",
              "      <td>066-24-W5</td>\n",
              "      <td>NaN</td>\n",
              "      <td>NaN</td>\n",
              "      <td>NaN</td>\n",
              "      <td>NaN</td>\n",
              "      <td>NaN</td>\n",
              "      <td>NaN</td>\n",
              "      <td>NaN</td>\n",
              "      <td>NW</td>\n",
              "      <td>-117.553826</td>\n",
              "      <td>54.743675</td>\n",
              "      <td>66.0</td>\n",
              "      <td>W5</td>\n",
              "      <td>24.0</td>\n",
              "      <td>27.0</td>\n",
              "      <td>12.0</td>\n",
              "      <td>758.7</td>\n",
              "      <td>764.8</td>\n",
              "      <td>3677.0</td>\n",
              "      <td>Development</td>\n",
              "      <td>Crown</td>\n",
              "      <td>Excalibur Drilling Ltd</td>\n",
              "      <td>2015-12-05</td>\n",
              "      <td>2015-12-18</td>\n",
              "      <td>2015-12-21</td>\n",
              "      <td>13.0</td>\n",
              "      <td>282.85</td>\n",
              "      <td>NaN</td>\n",
              "      <td>Horizontal</td>\n",
              "      <td>Canada</td>\n",
              "      <td>AB2</td>\n",
              "      <td>Foothills Front</td>\n",
              "      <td>3800.0</td>\n",
              "      <td>2016-02-28</td>\n",
              "      <td>AER</td>\n",
              "      <td>2016-01-31</td>\n",
              "      <td>2015-12-28</td>\n",
              "      <td>2016-01-31</td>\n",
              "    </tr>\n",
              "    <tr>\n",
              "      <th>1</th>\n",
              "      <td>2593278</td>\n",
              "      <td>Alberta</td>\n",
              "      <td>479407</td>\n",
              "      <td>102052706624W500</td>\n",
              "      <td>Enerplus Corporation</td>\n",
              "      <td>267</td>\n",
              "      <td>Enerplus Corporation</td>\n",
              "      <td>Enerplus Corporation</td>\n",
              "      <td>267</td>\n",
              "      <td>Enerplus Corporation</td>\n",
              "      <td>2016-05-06</td>\n",
              "      <td>Gas Lift</td>\n",
              "      <td>Active</td>\n",
              "      <td>Crude Oil</td>\n",
              "      <td>Oil</td>\n",
              "      <td>ENERPLUS CORP 102HZ ANTEN 5-27-66-24</td>\n",
              "      <td>Montney</td>\n",
              "      <td>Ante Creek North</td>\n",
              "      <td>Commingled Pool 005</td>\n",
              "      <td>DLS</td>\n",
              "      <td>04-26-066-24-W5</td>\n",
              "      <td>66.0</td>\n",
              "      <td>W5</td>\n",
              "      <td>24.0</td>\n",
              "      <td>26.0</td>\n",
              "      <td>4.0</td>\n",
              "      <td>-117.527042</td>\n",
              "      <td>54.737446</td>\n",
              "      <td>066-24-W5</td>\n",
              "      <td>NaN</td>\n",
              "      <td>NaN</td>\n",
              "      <td>NaN</td>\n",
              "      <td>NaN</td>\n",
              "      <td>NaN</td>\n",
              "      <td>NaN</td>\n",
              "      <td>NaN</td>\n",
              "      <td>SW</td>\n",
              "      <td>05-27-066-24-W5</td>\n",
              "      <td>066-24-W5</td>\n",
              "      <td>NaN</td>\n",
              "      <td>NaN</td>\n",
              "      <td>NaN</td>\n",
              "      <td>NaN</td>\n",
              "      <td>NaN</td>\n",
              "      <td>NaN</td>\n",
              "      <td>NaN</td>\n",
              "      <td>SW</td>\n",
              "      <td>-117.553836</td>\n",
              "      <td>54.739474</td>\n",
              "      <td>66.0</td>\n",
              "      <td>W5</td>\n",
              "      <td>24.0</td>\n",
              "      <td>27.0</td>\n",
              "      <td>5.0</td>\n",
              "      <td>766.3</td>\n",
              "      <td>770.8</td>\n",
              "      <td>3607.0</td>\n",
              "      <td>Development</td>\n",
              "      <td>Crown</td>\n",
              "      <td>Excalibur Drilling Ltd</td>\n",
              "      <td>2016-05-26</td>\n",
              "      <td>2016-06-08</td>\n",
              "      <td>2016-06-10</td>\n",
              "      <td>13.0</td>\n",
              "      <td>277.46</td>\n",
              "      <td>1954.58</td>\n",
              "      <td>Horizontal</td>\n",
              "      <td>Canada</td>\n",
              "      <td>AB2</td>\n",
              "      <td>Foothills Front</td>\n",
              "      <td>3700.0</td>\n",
              "      <td>2016-09-23</td>\n",
              "      <td>AER</td>\n",
              "      <td>2016-07-31</td>\n",
              "      <td>2016-06-30</td>\n",
              "      <td>2016-07-31</td>\n",
              "    </tr>\n",
              "  </tbody>\n",
              "</table>\n",
              "</div>"
            ],
            "text/plain": [
              "   EPAssetsId Province LicenceNumber  ... ProdPeriod ActivityDate  DUCStatusEndDate\n",
              "0     2587301  Alberta        475898  ... 2016-01-31   2015-12-28        2016-01-31\n",
              "1     2593278  Alberta        479407  ... 2016-07-31   2016-06-30        2016-07-31\n",
              "\n",
              "[2 rows x 76 columns]"
            ]
          },
          "metadata": {
            "tags": []
          },
          "execution_count": 40
        }
      ]
    },
    {
      "cell_type": "code",
      "metadata": {
        "id": "6Xg-zYjmqSYE",
        "colab_type": "code",
        "colab": {
          "base_uri": "https://localhost:8080/"
        },
        "outputId": "1f2b14bc-9633-4d51-e3e6-59fee6118c7c"
      },
      "source": [
        "dataframe_check = non_DUCS_dataframe[non_DUCS_dataframe['DUCStatusEndDate'] <= non_DUCS_dataframe['RigReleaseDate']]\n",
        "\n",
        "print(dataframe_check)"
      ],
      "execution_count": null,
      "outputs": [
        {
          "output_type": "stream",
          "text": [
            "Empty DataFrame\n",
            "Columns: [EPAssetsId, Province, LicenceNumber, UWI, CurrentOperator, CurrentOperatorParent, CurrentOperatorParentName, Licensee, LicenseeParentCompany, LicenseeParentCompanyName, LicenceDate, CurrentStatus, CurrentStatusStandardised, WellType, WellTypeStandardised, WellName, Formation, Field, Pool, SurveySystem, Surf_Location, Surf_Township, Surf_Meridian, Surf_Range, Surf_Section, Surf_LSD, Surf_Longitude, Surf_Latitude, Surf_TownshipRange, Surf_QuarterUnit, Surf_Unit, Surf_Block, Surf_NTSMapSheet, Surf_Series, Surf_Area, Surf_Sheet, Surf_QuarterSection, BH_Location, BH_TownshipRange, BH_QuarterUnit, BH_Unit, BH_Block, BH_NTSMapSheet, BH_Series, BH_Area, BH_Sheet, BH_QuarterSection, BH_Longitude, BH_Latitude, BH_Township, BH_Meridian, BH_Range, BH_Section, BH_LSD, GroundElevation, KBElevation, TotalDepth, LaheeClass, SurfaceOwner, DrillingContractor, SpudDate, FinalDrillDate, RigReleaseDate, DaysDrilling, DrillMetresPerDay, TVD, WellProfile, Country, PSACAreaCode, PSACAreaName, ProjectedDepth, StatusDate, StatusSource, ProdPeriod, ActivityDate, DUCStatusEndDate]\n",
            "Index: []\n"
          ],
          "name": "stdout"
        }
      ]
    },
    {
      "cell_type": "code",
      "metadata": {
        "id": "CjV3HGTXp6RX",
        "colab_type": "code",
        "colab": {}
      },
      "source": [
        "# create new column for DUC status duration\n",
        "non_DUCS_final_dataframe = non_DUCS_dataframe.copy()\n",
        "non_DUCS_final_dataframe.loc[:,'Days of Uncompleted Status'] = non_DUCS_dataframe['DUCStatusEndDate'] - non_DUCS_final_dataframe['RigReleaseDate']\n",
        "\n",
        "# transform days to numeric datatype\n",
        "non_DUCS_final_dataframe.loc[:,'Days of Uncompleted Status'] = non_DUCS_final_dataframe['Days of Uncompleted Status']/np.timedelta64(1, 'D')"
      ],
      "execution_count": null,
      "outputs": []
    },
    {
      "cell_type": "code",
      "metadata": {
        "id": "mu2PuZtCY2tU",
        "colab_type": "code",
        "colab": {
          "base_uri": "https://localhost:8080/"
        },
        "outputId": "3e31da2f-075e-46ed-dbfd-6cd8970f66b3"
      },
      "source": [
        "# create histogram for DUC status duration for non_DUC_wells\n",
        "non_DUCS_final_dataframe ['Days of Uncompleted Status'].hist(bins=40, figsize= (12, 4))\n",
        "plt.xlabel('Days of Uncompleted Status')\n",
        "plt.title('Number of wells')\n",
        "plt.show()"
      ],
      "execution_count": null,
      "outputs": [
        {
          "output_type": "display_data",
          "data": {
            "image/png": "[encoded data removed]",
            "text/plain": [
              "<Figure size 864x288 with 1 Axes>"
            ]
          },
          "metadata": {
            "tags": [],
            "needs_background": "light"
          }
        }
      ]
    },
    {
      "cell_type": "markdown",
      "metadata": {
        "id": "koTU4BYuInEz",
        "colab_type": "text"
      },
      "source": [
        "## Create bins for Days of Uncompleted Status Duration "
      ]
    },
    {
      "cell_type": "code",
      "metadata": {
        "id": "gZapB0yvS7UY",
        "colab_type": "code",
        "colab": {
          "base_uri": "https://localhost:8080/",
          "height": 517
        },
        "outputId": "75c48e37-53ba-4c6d-811b-b20a589c8d40"
      },
      "source": [
        "# create bins for range of days of uncompleted status\n",
        "bins = [0, 60, 90, 365, 730, 1095]\n",
        "labels = ['<60days', '60-90days', '90-365days', '365-730days', '730-1095days']\n",
        "non_DUCS_final_dataframe['Binned'] = pd.cut(non_DUCS_final_dataframe['Days of Uncompleted Status'], bins=bins, labels=labels)\n",
        "non_DUCS_final_dataframe.head(5)\n"
      ],
      "execution_count": null,
      "outputs": [
        {
          "output_type": "execute_result",
          "data": {
            "text/html": [
              "<div>\n",
              "<style scoped>\n",
              "    .dataframe tbody tr th:only-of-type {\n",
              "        vertical-align: middle;\n",
              "    }\n",
              "\n",
              "    .dataframe tbody tr th {\n",
              "        vertical-align: top;\n",
              "    }\n",
              "\n",
              "    .dataframe thead th {\n",
              "        text-align: right;\n",
              "    }\n",
              "</style>\n",
              "<table border=\"1\" class=\"dataframe\">\n",
              "  <thead>\n",
              "    <tr style=\"text-align: right;\">\n",
              "      <th></th>\n",
              "      <th>EPAssetsId</th>\n",
              "      <th>Province</th>\n",
              "      <th>LicenceNumber</th>\n",
              "      <th>UWI</th>\n",
              "      <th>CurrentOperator</th>\n",
              "      <th>CurrentOperatorParent</th>\n",
              "      <th>CurrentOperatorParentName</th>\n",
              "      <th>Licensee</th>\n",
              "      <th>LicenseeParentCompany</th>\n",
              "      <th>LicenseeParentCompanyName</th>\n",
              "      <th>LicenceDate</th>\n",
              "      <th>CurrentStatus</th>\n",
              "      <th>CurrentStatusStandardised</th>\n",
              "      <th>WellType</th>\n",
              "      <th>WellTypeStandardised</th>\n",
              "      <th>WellName</th>\n",
              "      <th>Formation</th>\n",
              "      <th>Field</th>\n",
              "      <th>Pool</th>\n",
              "      <th>SurveySystem</th>\n",
              "      <th>Surf_Location</th>\n",
              "      <th>Surf_Township</th>\n",
              "      <th>Surf_Meridian</th>\n",
              "      <th>Surf_Range</th>\n",
              "      <th>Surf_Section</th>\n",
              "      <th>Surf_LSD</th>\n",
              "      <th>Surf_Longitude</th>\n",
              "      <th>Surf_Latitude</th>\n",
              "      <th>Surf_TownshipRange</th>\n",
              "      <th>Surf_QuarterUnit</th>\n",
              "      <th>Surf_Unit</th>\n",
              "      <th>Surf_Block</th>\n",
              "      <th>Surf_NTSMapSheet</th>\n",
              "      <th>Surf_Series</th>\n",
              "      <th>Surf_Area</th>\n",
              "      <th>Surf_Sheet</th>\n",
              "      <th>Surf_QuarterSection</th>\n",
              "      <th>BH_Location</th>\n",
              "      <th>BH_TownshipRange</th>\n",
              "      <th>BH_QuarterUnit</th>\n",
              "      <th>BH_Unit</th>\n",
              "      <th>BH_Block</th>\n",
              "      <th>BH_NTSMapSheet</th>\n",
              "      <th>BH_Series</th>\n",
              "      <th>BH_Area</th>\n",
              "      <th>BH_Sheet</th>\n",
              "      <th>BH_QuarterSection</th>\n",
              "      <th>BH_Longitude</th>\n",
              "      <th>BH_Latitude</th>\n",
              "      <th>BH_Township</th>\n",
              "      <th>BH_Meridian</th>\n",
              "      <th>BH_Range</th>\n",
              "      <th>BH_Section</th>\n",
              "      <th>BH_LSD</th>\n",
              "      <th>GroundElevation</th>\n",
              "      <th>KBElevation</th>\n",
              "      <th>TotalDepth</th>\n",
              "      <th>LaheeClass</th>\n",
              "      <th>SurfaceOwner</th>\n",
              "      <th>DrillingContractor</th>\n",
              "      <th>SpudDate</th>\n",
              "      <th>FinalDrillDate</th>\n",
              "      <th>RigReleaseDate</th>\n",
              "      <th>DaysDrilling</th>\n",
              "      <th>DrillMetresPerDay</th>\n",
              "      <th>TVD</th>\n",
              "      <th>WellProfile</th>\n",
              "      <th>Country</th>\n",
              "      <th>PSACAreaCode</th>\n",
              "      <th>PSACAreaName</th>\n",
              "      <th>ProjectedDepth</th>\n",
              "      <th>StatusDate</th>\n",
              "      <th>StatusSource</th>\n",
              "      <th>ProdPeriod</th>\n",
              "      <th>ActivityDate</th>\n",
              "      <th>DUCStatusEndDate</th>\n",
              "      <th>Days of Uncompleted Status</th>\n",
              "      <th>Binned</th>\n",
              "    </tr>\n",
              "  </thead>\n",
              "  <tbody>\n",
              "    <tr>\n",
              "      <th>0</th>\n",
              "      <td>2587301</td>\n",
              "      <td>Alberta</td>\n",
              "      <td>475898</td>\n",
              "      <td>100122706624W500</td>\n",
              "      <td>Enerplus Corporation</td>\n",
              "      <td>267</td>\n",
              "      <td>Enerplus Corporation</td>\n",
              "      <td>Enerplus Corporation</td>\n",
              "      <td>267</td>\n",
              "      <td>Enerplus Corporation</td>\n",
              "      <td>2015-06-25</td>\n",
              "      <td>Gas Lift</td>\n",
              "      <td>Active</td>\n",
              "      <td>Crude Oil</td>\n",
              "      <td>Oil</td>\n",
              "      <td>ENERPLUS CORP HZ ANTEN 12-27-66-24</td>\n",
              "      <td>Montney</td>\n",
              "      <td>Ante Creek North</td>\n",
              "      <td>Commingled Pool 005</td>\n",
              "      <td>DLS</td>\n",
              "      <td>13-26-066-24-W5</td>\n",
              "      <td>66.0</td>\n",
              "      <td>W5</td>\n",
              "      <td>24.0</td>\n",
              "      <td>26.0</td>\n",
              "      <td>13.0</td>\n",
              "      <td>-117.529866</td>\n",
              "      <td>54.747632</td>\n",
              "      <td>066-24-W5</td>\n",
              "      <td>NaN</td>\n",
              "      <td>NaN</td>\n",
              "      <td>NaN</td>\n",
              "      <td>NaN</td>\n",
              "      <td>NaN</td>\n",
              "      <td>NaN</td>\n",
              "      <td>NaN</td>\n",
              "      <td>NW</td>\n",
              "      <td>12-27-066-24-W5</td>\n",
              "      <td>066-24-W5</td>\n",
              "      <td>NaN</td>\n",
              "      <td>NaN</td>\n",
              "      <td>NaN</td>\n",
              "      <td>NaN</td>\n",
              "      <td>NaN</td>\n",
              "      <td>NaN</td>\n",
              "      <td>NaN</td>\n",
              "      <td>NW</td>\n",
              "      <td>-117.553826</td>\n",
              "      <td>54.743675</td>\n",
              "      <td>66.0</td>\n",
              "      <td>W5</td>\n",
              "      <td>24.0</td>\n",
              "      <td>27.0</td>\n",
              "      <td>12.0</td>\n",
              "      <td>758.7</td>\n",
              "      <td>764.8</td>\n",
              "      <td>3677.0</td>\n",
              "      <td>Development</td>\n",
              "      <td>Crown</td>\n",
              "      <td>Excalibur Drilling Ltd</td>\n",
              "      <td>2015-12-05</td>\n",
              "      <td>2015-12-18</td>\n",
              "      <td>2015-12-21</td>\n",
              "      <td>13.0</td>\n",
              "      <td>282.85</td>\n",
              "      <td>NaN</td>\n",
              "      <td>Horizontal</td>\n",
              "      <td>Canada</td>\n",
              "      <td>AB2</td>\n",
              "      <td>Foothills Front</td>\n",
              "      <td>3800.0</td>\n",
              "      <td>2016-02-28</td>\n",
              "      <td>AER</td>\n",
              "      <td>2016-01-31</td>\n",
              "      <td>2015-12-28</td>\n",
              "      <td>2016-01-31</td>\n",
              "      <td>41.0</td>\n",
              "      <td>&lt;60days</td>\n",
              "    </tr>\n",
              "    <tr>\n",
              "      <th>1</th>\n",
              "      <td>2593278</td>\n",
              "      <td>Alberta</td>\n",
              "      <td>479407</td>\n",
              "      <td>102052706624W500</td>\n",
              "      <td>Enerplus Corporation</td>\n",
              "      <td>267</td>\n",
              "      <td>Enerplus Corporation</td>\n",
              "      <td>Enerplus Corporation</td>\n",
              "      <td>267</td>\n",
              "      <td>Enerplus Corporation</td>\n",
              "      <td>2016-05-06</td>\n",
              "      <td>Gas Lift</td>\n",
              "      <td>Active</td>\n",
              "      <td>Crude Oil</td>\n",
              "      <td>Oil</td>\n",
              "      <td>ENERPLUS CORP 102HZ ANTEN 5-27-66-24</td>\n",
              "      <td>Montney</td>\n",
              "      <td>Ante Creek North</td>\n",
              "      <td>Commingled Pool 005</td>\n",
              "      <td>DLS</td>\n",
              "      <td>04-26-066-24-W5</td>\n",
              "      <td>66.0</td>\n",
              "      <td>W5</td>\n",
              "      <td>24.0</td>\n",
              "      <td>26.0</td>\n",
              "      <td>4.0</td>\n",
              "      <td>-117.527042</td>\n",
              "      <td>54.737446</td>\n",
              "      <td>066-24-W5</td>\n",
              "      <td>NaN</td>\n",
              "      <td>NaN</td>\n",
              "      <td>NaN</td>\n",
              "      <td>NaN</td>\n",
              "      <td>NaN</td>\n",
              "      <td>NaN</td>\n",
              "      <td>NaN</td>\n",
              "      <td>SW</td>\n",
              "      <td>05-27-066-24-W5</td>\n",
              "      <td>066-24-W5</td>\n",
              "      <td>NaN</td>\n",
              "      <td>NaN</td>\n",
              "      <td>NaN</td>\n",
              "      <td>NaN</td>\n",
              "      <td>NaN</td>\n",
              "      <td>NaN</td>\n",
              "      <td>NaN</td>\n",
              "      <td>SW</td>\n",
              "      <td>-117.553836</td>\n",
              "      <td>54.739474</td>\n",
              "      <td>66.0</td>\n",
              "      <td>W5</td>\n",
              "      <td>24.0</td>\n",
              "      <td>27.0</td>\n",
              "      <td>5.0</td>\n",
              "      <td>766.3</td>\n",
              "      <td>770.8</td>\n",
              "      <td>3607.0</td>\n",
              "      <td>Development</td>\n",
              "      <td>Crown</td>\n",
              "      <td>Excalibur Drilling Ltd</td>\n",
              "      <td>2016-05-26</td>\n",
              "      <td>2016-06-08</td>\n",
              "      <td>2016-06-10</td>\n",
              "      <td>13.0</td>\n",
              "      <td>277.46</td>\n",
              "      <td>1954.58</td>\n",
              "      <td>Horizontal</td>\n",
              "      <td>Canada</td>\n",
              "      <td>AB2</td>\n",
              "      <td>Foothills Front</td>\n",
              "      <td>3700.0</td>\n",
              "      <td>2016-09-23</td>\n",
              "      <td>AER</td>\n",
              "      <td>2016-07-31</td>\n",
              "      <td>2016-06-30</td>\n",
              "      <td>2016-07-31</td>\n",
              "      <td>51.0</td>\n",
              "      <td>&lt;60days</td>\n",
              "    </tr>\n",
              "    <tr>\n",
              "      <th>2</th>\n",
              "      <td>2579437</td>\n",
              "      <td>Alberta</td>\n",
              "      <td>469132</td>\n",
              "      <td>100162206624W500</td>\n",
              "      <td>Enerplus Corporation</td>\n",
              "      <td>267</td>\n",
              "      <td>Enerplus Corporation</td>\n",
              "      <td>Enerplus Corporation</td>\n",
              "      <td>267</td>\n",
              "      <td>Enerplus Corporation</td>\n",
              "      <td>2014-08-14</td>\n",
              "      <td>Gas Lift</td>\n",
              "      <td>Active</td>\n",
              "      <td>Crude Oil</td>\n",
              "      <td>Oil</td>\n",
              "      <td>ENERPLUS CORP HZ ANTEN 16-22-66-24</td>\n",
              "      <td>Montney</td>\n",
              "      <td>Ante Creek North</td>\n",
              "      <td>Commingled Pool 005</td>\n",
              "      <td>DLS</td>\n",
              "      <td>16-21-066-24-W5</td>\n",
              "      <td>66.0</td>\n",
              "      <td>W5</td>\n",
              "      <td>24.0</td>\n",
              "      <td>21.0</td>\n",
              "      <td>16.0</td>\n",
              "      <td>-117.559923</td>\n",
              "      <td>54.730864</td>\n",
              "      <td>066-24-W5</td>\n",
              "      <td>NaN</td>\n",
              "      <td>NaN</td>\n",
              "      <td>NaN</td>\n",
              "      <td>NaN</td>\n",
              "      <td>NaN</td>\n",
              "      <td>NaN</td>\n",
              "      <td>NaN</td>\n",
              "      <td>NE</td>\n",
              "      <td>16-22-066-24-W5</td>\n",
              "      <td>066-24-W5</td>\n",
              "      <td>NaN</td>\n",
              "      <td>NaN</td>\n",
              "      <td>NaN</td>\n",
              "      <td>NaN</td>\n",
              "      <td>NaN</td>\n",
              "      <td>NaN</td>\n",
              "      <td>NaN</td>\n",
              "      <td>NE</td>\n",
              "      <td>-117.534302</td>\n",
              "      <td>54.733247</td>\n",
              "      <td>66.0</td>\n",
              "      <td>W5</td>\n",
              "      <td>24.0</td>\n",
              "      <td>22.0</td>\n",
              "      <td>16.0</td>\n",
              "      <td>754.5</td>\n",
              "      <td>759.4</td>\n",
              "      <td>3502.0</td>\n",
              "      <td>Development</td>\n",
              "      <td>Crown</td>\n",
              "      <td>Excalibur Drilling Ltd</td>\n",
              "      <td>2015-01-06</td>\n",
              "      <td>2015-01-19</td>\n",
              "      <td>2015-01-22</td>\n",
              "      <td>13.0</td>\n",
              "      <td>269.38</td>\n",
              "      <td>1940.06</td>\n",
              "      <td>Horizontal</td>\n",
              "      <td>Canada</td>\n",
              "      <td>AB2</td>\n",
              "      <td>Foothills Front</td>\n",
              "      <td>3800.0</td>\n",
              "      <td>2015-11-24</td>\n",
              "      <td>AER</td>\n",
              "      <td>2015-02-28</td>\n",
              "      <td>2015-01-26</td>\n",
              "      <td>2015-02-28</td>\n",
              "      <td>37.0</td>\n",
              "      <td>&lt;60days</td>\n",
              "    </tr>\n",
              "    <tr>\n",
              "      <th>3</th>\n",
              "      <td>2591761</td>\n",
              "      <td>Alberta</td>\n",
              "      <td>478708</td>\n",
              "      <td>100092206624W500</td>\n",
              "      <td>Enerplus Corporation</td>\n",
              "      <td>267</td>\n",
              "      <td>Enerplus Corporation</td>\n",
              "      <td>Enerplus Corporation</td>\n",
              "      <td>267</td>\n",
              "      <td>Enerplus Corporation</td>\n",
              "      <td>2016-01-11</td>\n",
              "      <td>Gas Lift</td>\n",
              "      <td>Active</td>\n",
              "      <td>Crude Oil</td>\n",
              "      <td>Oil</td>\n",
              "      <td>ENERPLUS CORP HZ ANTEN 9-22-66-24</td>\n",
              "      <td>Montney</td>\n",
              "      <td>Ante Creek North</td>\n",
              "      <td>Commingled Pool 005</td>\n",
              "      <td>DLS</td>\n",
              "      <td>16-21-066-24-W5</td>\n",
              "      <td>66.0</td>\n",
              "      <td>W5</td>\n",
              "      <td>24.0</td>\n",
              "      <td>21.0</td>\n",
              "      <td>16.0</td>\n",
              "      <td>-117.560141</td>\n",
              "      <td>54.730703</td>\n",
              "      <td>066-24-W5</td>\n",
              "      <td>NaN</td>\n",
              "      <td>NaN</td>\n",
              "      <td>NaN</td>\n",
              "      <td>NaN</td>\n",
              "      <td>NaN</td>\n",
              "      <td>NaN</td>\n",
              "      <td>NaN</td>\n",
              "      <td>NE</td>\n",
              "      <td>09-22-066-24-W5</td>\n",
              "      <td>066-24-W5</td>\n",
              "      <td>NaN</td>\n",
              "      <td>NaN</td>\n",
              "      <td>NaN</td>\n",
              "      <td>NaN</td>\n",
              "      <td>NaN</td>\n",
              "      <td>NaN</td>\n",
              "      <td>NaN</td>\n",
              "      <td>NE</td>\n",
              "      <td>-117.534282</td>\n",
              "      <td>54.729643</td>\n",
              "      <td>66.0</td>\n",
              "      <td>W5</td>\n",
              "      <td>24.0</td>\n",
              "      <td>22.0</td>\n",
              "      <td>9.0</td>\n",
              "      <td>755.3</td>\n",
              "      <td>759.8</td>\n",
              "      <td>3491.0</td>\n",
              "      <td>Development</td>\n",
              "      <td>Crown</td>\n",
              "      <td>Excalibur Drilling Ltd</td>\n",
              "      <td>2016-01-12</td>\n",
              "      <td>2016-01-24</td>\n",
              "      <td>2016-01-26</td>\n",
              "      <td>12.0</td>\n",
              "      <td>290.92</td>\n",
              "      <td>1945.01</td>\n",
              "      <td>Horizontal</td>\n",
              "      <td>Canada</td>\n",
              "      <td>AB2</td>\n",
              "      <td>Foothills Front</td>\n",
              "      <td>3500.0</td>\n",
              "      <td>2016-02-17</td>\n",
              "      <td>AER</td>\n",
              "      <td>2016-02-29</td>\n",
              "      <td>2016-02-01</td>\n",
              "      <td>2016-02-29</td>\n",
              "      <td>34.0</td>\n",
              "      <td>&lt;60days</td>\n",
              "    </tr>\n",
              "    <tr>\n",
              "      <th>4</th>\n",
              "      <td>2587302</td>\n",
              "      <td>Alberta</td>\n",
              "      <td>475923</td>\n",
              "      <td>100082206624W500</td>\n",
              "      <td>Enerplus Corporation</td>\n",
              "      <td>267</td>\n",
              "      <td>Enerplus Corporation</td>\n",
              "      <td>Enerplus Corporation</td>\n",
              "      <td>267</td>\n",
              "      <td>Enerplus Corporation</td>\n",
              "      <td>2015-06-26</td>\n",
              "      <td>Gas Lift</td>\n",
              "      <td>Active</td>\n",
              "      <td>Crude Oil</td>\n",
              "      <td>Oil</td>\n",
              "      <td>ENERPLUS CORP HZ ANTEN 8-22-66-24</td>\n",
              "      <td>Montney</td>\n",
              "      <td>Ante Creek North</td>\n",
              "      <td>Commingled Pool 005</td>\n",
              "      <td>DLS</td>\n",
              "      <td>08-21-066-24-W5</td>\n",
              "      <td>66.0</td>\n",
              "      <td>W5</td>\n",
              "      <td>24.0</td>\n",
              "      <td>21.0</td>\n",
              "      <td>8.0</td>\n",
              "      <td>-117.561283</td>\n",
              "      <td>54.723339</td>\n",
              "      <td>066-24-W5</td>\n",
              "      <td>NaN</td>\n",
              "      <td>NaN</td>\n",
              "      <td>NaN</td>\n",
              "      <td>NaN</td>\n",
              "      <td>NaN</td>\n",
              "      <td>NaN</td>\n",
              "      <td>NaN</td>\n",
              "      <td>SE</td>\n",
              "      <td>08-22-066-24-W5</td>\n",
              "      <td>066-24-W5</td>\n",
              "      <td>NaN</td>\n",
              "      <td>NaN</td>\n",
              "      <td>NaN</td>\n",
              "      <td>NaN</td>\n",
              "      <td>NaN</td>\n",
              "      <td>NaN</td>\n",
              "      <td>NaN</td>\n",
              "      <td>SE</td>\n",
              "      <td>-117.534295</td>\n",
              "      <td>54.725986</td>\n",
              "      <td>66.0</td>\n",
              "      <td>W5</td>\n",
              "      <td>24.0</td>\n",
              "      <td>22.0</td>\n",
              "      <td>8.0</td>\n",
              "      <td>764.0</td>\n",
              "      <td>767.7</td>\n",
              "      <td>3578.0</td>\n",
              "      <td>Development</td>\n",
              "      <td>Crown</td>\n",
              "      <td>Excalibur Drilling Ltd</td>\n",
              "      <td>2015-12-28</td>\n",
              "      <td>2016-01-08</td>\n",
              "      <td>2016-01-11</td>\n",
              "      <td>11.0</td>\n",
              "      <td>325.27</td>\n",
              "      <td>1956.34</td>\n",
              "      <td>Horizontal</td>\n",
              "      <td>Canada</td>\n",
              "      <td>AB2</td>\n",
              "      <td>Foothills Front</td>\n",
              "      <td>3800.0</td>\n",
              "      <td>2016-02-21</td>\n",
              "      <td>AER</td>\n",
              "      <td>2016-02-29</td>\n",
              "      <td>2016-01-14</td>\n",
              "      <td>2016-02-29</td>\n",
              "      <td>49.0</td>\n",
              "      <td>&lt;60days</td>\n",
              "    </tr>\n",
              "  </tbody>\n",
              "</table>\n",
              "</div>"
            ],
            "text/plain": [
              "   EPAssetsId Province  ... Days of Uncompleted Status   Binned\n",
              "0     2587301  Alberta  ...                       41.0  <60days\n",
              "1     2593278  Alberta  ...                       51.0  <60days\n",
              "2     2579437  Alberta  ...                       37.0  <60days\n",
              "3     2591761  Alberta  ...                       34.0  <60days\n",
              "4     2587302  Alberta  ...                       49.0  <60days\n",
              "\n",
              "[5 rows x 78 columns]"
            ]
          },
          "metadata": {
            "tags": []
          },
          "execution_count": 44
        }
      ]
    },
    {
      "cell_type": "code",
      "metadata": {
        "id": "wvsT_k_uV5sd",
        "colab_type": "code",
        "colab": {
          "base_uri": "https://localhost:8080/",
          "height": 34
        },
        "outputId": "f9bacf2c-5bf4-4f0d-b6eb-db5d00d17742"
      },
      "source": [
        "non_DUCS_final_dataframe.shape"
      ],
      "execution_count": null,
      "outputs": [
        {
          "output_type": "execute_result",
          "data": {
            "text/plain": [
              "(10406, 78)"
            ]
          },
          "metadata": {
            "tags": []
          },
          "execution_count": 45
        }
      ]
    },
    {
      "cell_type": "code",
      "metadata": {
        "id": "mdyIMl_YWNES",
        "colab_type": "code",
        "colab": {
          "base_uri": "https://localhost:8080/",
          "height": 141
        },
        "outputId": "bde8580d-de8d-497f-b06d-45d6c1bc810a"
      },
      "source": [
        "# group by number of wells by bin label\n",
        "\n",
        "non_DUCS_dataframe_binned = non_DUCS_final_dataframe.groupby(pd.cut(non_DUCS_final_dataframe['Days of Uncompleted Status'], bins=bins)).size()\n",
        "print (non_DUCS_dataframe_binned)"
      ],
      "execution_count": null,
      "outputs": [
        {
          "output_type": "stream",
          "text": [
            "Days of Uncompleted Status\n",
            "(0, 60]        5191\n",
            "(60, 90]       1738\n",
            "(90, 365]      3327\n",
            "(365, 730]      128\n",
            "(730, 1095]      22\n",
            "dtype: int64\n"
          ],
          "name": "stdout"
        }
      ]
    },
    {
      "cell_type": "code",
      "metadata": {
        "id": "ucE8RrE0XRnu",
        "colab_type": "code",
        "colab": {
          "base_uri": "https://localhost:8080/",
          "height": 123
        },
        "outputId": "d179f94d-4c95-4951-9aca-5b563b636744"
      },
      "source": [
        " # groupby number of wells by bin label\n",
        " non_DUCS_dataframe_binned = non_DUCS_final_dataframe.groupby(by='Binned', as_index=False).agg({'EPAssetsId':'size'})\n",
        " print(non_DUCS_dataframe_binned)"
      ],
      "execution_count": null,
      "outputs": [
        {
          "output_type": "stream",
          "text": [
            "         Binned  EPAssetsId\n",
            "0       <60days        5191\n",
            "1     60-90days        1738\n",
            "2    90-365days        3327\n",
            "3   365-730days         128\n",
            "4  730-1095days          22\n"
          ],
          "name": "stdout"
        }
      ]
    },
    {
      "cell_type": "code",
      "metadata": {
        "id": "B1gn7x5bYEVx",
        "colab_type": "code",
        "colab": {
          "base_uri": "https://localhost:8080/",
          "height": 278
        },
        "outputId": "62d1439b-85f6-4ba7-f062-6a216ed14f02"
      },
      "source": [
        "# create bar graph\n",
        "\n",
        "non_DUCS_dataframe_binned.plot.barh(x='Binned', y='EPAssetsId')\n",
        "plt.xlabel('Number of Wells')\n",
        "plt.ylabel('Days of Uncompleted Status - Range')\n",
        "plt.show()"
      ],
      "execution_count": null,
      "outputs": [
        {
          "output_type": "display_data",
          "data": {
            "image/png": "[encoded data removed]",
            "text/plain": [
              "<Figure size 432x288 with 1 Axes>"
            ]
          },
          "metadata": {
            "tags": [],
            "needs_background": "light"
          }
        }
      ]
    },
    {
      "cell_type": "markdown",
      "metadata": {
        "id": "oJm0colYJDvm",
        "colab_type": "text"
      },
      "source": [
        "## Derive some insights using the bins created for DUC status duration "
      ]
    },
    {
      "cell_type": "code",
      "metadata": {
        "id": "RhW8xNOqaO38",
        "colab_type": "code",
        "colab": {
          "base_uri": "https://localhost:8080/"
        },
        "outputId": "7b2b1b70-9323-49a4-cebd-82c322cde6b5"
      },
      "source": [
        "# groupby number of wells by formation and bin labels\n",
        "non_DUCS_dataframe_binned_formation = non_DUCS_final_dataframe.groupby(['Binned', 'Formation'], as_index=False, observed=True).agg({'EPAssetsId': 'size'})\n",
        "print(non_DUCS_dataframe_binned_formation)"
      ],
      "execution_count": null,
      "outputs": [
        {
          "output_type": "stream",
          "text": [
            "          Binned Formation  EPAssetsId\n",
            "0        <60days   Montney         510\n",
            "1        <60days  Duvernay          47\n",
            "2        <60days   Cardium         716\n",
            "3        <60days    Viking        3918\n",
            "4      60-90days   Montney         607\n",
            "5      60-90days  Duvernay          90\n",
            "6      60-90days   Cardium         262\n",
            "7      60-90days    Viking         779\n",
            "8     90-365days   Montney        2131\n",
            "9     90-365days  Duvernay         530\n",
            "10    90-365days   Cardium         160\n",
            "11    90-365days    Viking         506\n",
            "12   365-730days   Montney         102\n",
            "13   365-730days  Duvernay          17\n",
            "14   365-730days   Cardium           5\n",
            "15   365-730days    Viking           4\n",
            "16  730-1095days   Montney          20\n",
            "17  730-1095days  Duvernay           1\n",
            "18  730-1095days   Cardium           1\n"
          ],
          "name": "stdout"
        }
      ]
    },
    {
      "cell_type": "code",
      "metadata": {
        "id": "z5CWNk_Y7yer",
        "colab_type": "code",
        "colab": {
          "base_uri": "https://localhost:8080/"
        },
        "outputId": "155e6d6e-c3fc-4e1a-f09a-4510e6ba5a16"
      },
      "source": [
        "# Number of wells binned by Days of Uncompleted Status duration by Formation \n",
        "g=sns.catplot(x='EPAssetsId', y='Binned', data=non_DUCS_dataframe_binned_formation, col='Formation', kind='bar', height=5, aspect = 1, sharey='row', )\n",
        "g.set(xlabel='Number of Wells', ylabel= 'Days of Uncompleted Status - Range')\n",
        "plt.show()"
      ],
      "execution_count": null,
      "outputs": [
        {
          "output_type": "display_data",
          "data": {
            "image/png": "[encoded data removed]",
            "text/plain": [
              "<Figure size 1440x360 with 4 Axes>"
            ]
          },
          "metadata": {
            "tags": [],
            "needs_background": "light"
          }
        }
      ]
    },
    {
      "cell_type": "code",
      "metadata": {
        "id": "h-yJDG_PJNS7",
        "colab_type": "code",
        "colab": {
          "base_uri": "https://localhost:8080/"
        },
        "outputId": "ed74e193-378c-4f6a-e1f2-eaaade099966"
      },
      "source": [
        "# groupby number of wells by CurrentStatus and bin labels\n",
        "non_DUCS_dataframe_binned_CurrentStatus = non_DUCS_final_dataframe.groupby(['Binned', 'CurrentStatus'], as_index=False, observed=True).agg({'EPAssetsId': 'size'})\n",
        "print(non_DUCS_dataframe_binned_CurrentStatus)"
      ],
      "execution_count": null,
      "outputs": [
        {
          "output_type": "stream",
          "text": [
            "          Binned CurrentStatus  EPAssetsId\n",
            "0        <60days      Gas Lift          41\n",
            "1        <60days       Flowing         479\n",
            "2        <60days     Suspended          36\n",
            "3        <60days       Pumping        1310\n",
            "4        <60days        Active        3325\n",
            "5      60-90days      Gas Lift          30\n",
            "6      60-90days       Flowing         293\n",
            "7      60-90days     Suspended          10\n",
            "8      60-90days       Pumping         584\n",
            "9      60-90days        Active         821\n",
            "10    90-365days      Gas Lift          83\n",
            "11    90-365days       Flowing         626\n",
            "12    90-365days     Suspended          24\n",
            "13    90-365days       Pumping        1021\n",
            "14    90-365days        Active        1573\n",
            "15   365-730days      Gas Lift           3\n",
            "16   365-730days       Flowing          34\n",
            "17   365-730days     Suspended           3\n",
            "18   365-730days       Pumping          23\n",
            "19   365-730days        Active          65\n",
            "20  730-1095days       Flowing           3\n",
            "21  730-1095days       Pumping           3\n",
            "22  730-1095days        Active          16\n"
          ],
          "name": "stdout"
        }
      ]
    },
    {
      "cell_type": "code",
      "metadata": {
        "id": "ML85awAXJZZJ",
        "colab_type": "code",
        "colab": {
          "base_uri": "https://localhost:8080/"
        },
        "outputId": "7ec35497-fb17-4607-ef8a-b0b4bd710eeb"
      },
      "source": [
        "# Number of wells binned by Days of Uncompleted Status duration by CurrentStatus\n",
        "g=sns.catplot(x='EPAssetsId', y='Binned', data=non_DUCS_dataframe_binned_CurrentStatus, col='CurrentStatus', kind='bar', height=5, aspect = 1, sharey='row', )\n",
        "g.set(xlabel='Number of Wells', ylabel= 'Days of Uncompleted Status - Range')\n",
        "plt.show()"
      ],
      "execution_count": null,
      "outputs": [
        {
          "output_type": "display_data",
          "data": {
            "image/png": "[encoded data removed]",
            "text/plain": [
              "<Figure size 1800x360 with 5 Axes>"
            ]
          },
          "metadata": {
            "tags": [],
            "needs_background": "light"
          }
        }
      ]
    },
    {
      "cell_type": "code",
      "metadata": {
        "id": "sd1D9iubJsRo",
        "colab_type": "code",
        "colab": {
          "base_uri": "https://localhost:8080/"
        },
        "outputId": "8e651bc3-811f-4ad4-e832-0992cffc696e"
      },
      "source": [
        "# groupby number of wells by PSACArea and bin labels\n",
        "non_DUCS_dataframe_binned_PSACArea = non_DUCS_final_dataframe.groupby(['Binned', 'PSACAreaName'], as_index=False, observed=True).agg({'EPAssetsId': 'size'})\n",
        "print(non_DUCS_dataframe_binned_PSACArea)"
      ],
      "execution_count": null,
      "outputs": [
        {
          "output_type": "stream",
          "text": [
            "          Binned               PSACAreaName  EPAssetsId\n",
            "0        <60days            Foothills Front         821\n",
            "1        <60days            Central Alberta         215\n",
            "2        <60days       Northwestern Alberta         131\n",
            "3        <60days       Southeastern Alberta         422\n",
            "4        <60days       East Central Alberta         265\n",
            "5        <60days  Southwestern Saskatchewan        3182\n",
            "6        <60days  Northern British Columbia         155\n",
            "7      60-90days            Foothills Front         468\n",
            "8      60-90days            Central Alberta         121\n",
            "9      60-90days       Northwestern Alberta         135\n",
            "10     60-90days       Southeastern Alberta         116\n",
            "11     60-90days                  Foothills           1\n",
            "12     60-90days       East Central Alberta          71\n",
            "13     60-90days  Southwestern Saskatchewan         540\n",
            "14     60-90days  Northern British Columbia         282\n",
            "15     60-90days     Other British Columbia           4\n",
            "16    90-365days            Foothills Front        1251\n",
            "17    90-365days            Central Alberta         202\n",
            "18    90-365days       Northwestern Alberta         206\n",
            "19    90-365days       Southeastern Alberta          38\n",
            "20    90-365days       East Central Alberta          44\n",
            "21    90-365days  Southwestern Saskatchewan         385\n",
            "22    90-365days  Northern British Columbia        1193\n",
            "23    90-365days     Other British Columbia           8\n",
            "24   365-730days            Foothills Front          34\n",
            "25   365-730days            Central Alberta           7\n",
            "26   365-730days       Northwestern Alberta          18\n",
            "27   365-730days       Southeastern Alberta           1\n",
            "28   365-730days  Southwestern Saskatchewan           4\n",
            "29   365-730days  Northern British Columbia          64\n",
            "30  730-1095days            Central Alberta           2\n",
            "31  730-1095days       Northwestern Alberta           4\n",
            "32  730-1095days  Northern British Columbia          16\n"
          ],
          "name": "stdout"
        }
      ]
    },
    {
      "cell_type": "code",
      "metadata": {
        "id": "MaEPCqW9JtrZ",
        "colab_type": "code",
        "colab": {
          "base_uri": "https://localhost:8080/"
        },
        "outputId": "ec8c8c76-fadb-4883-ccd8-94dd3a3e4da5"
      },
      "source": [
        "# Number of wells binned by Days of Uncompleted Status duration by PSACArea\n",
        "g=sns.catplot(x='EPAssetsId', y='Binned', data=non_DUCS_dataframe_binned_PSACArea, col='PSACAreaName', col_wrap=3, kind='bar', height=4, aspect =1, sharey='row', )\n",
        "g.set(xlabel='Number of Wells', ylabel= 'Days of Uncompleted Status - Range')\n",
        "plt.show()"
      ],
      "execution_count": null,
      "outputs": [
        {
          "output_type": "display_data",
          "data": {
            "image/png": "[encoded data removed]",
            "text/plain": [
              "<Figure size 864x864 with 9 Axes>"
            ]
          },
          "metadata": {
            "tags": [],
            "needs_background": "light"
          }
        }
      ]
    },
    {
      "cell_type": "markdown",
      "metadata": {
        "id": "v6NiCWbORC2A",
        "colab_type": "text"
      },
      "source": [
        "## Additional DUC wells Insights"
      ]
    },
    {
      "cell_type": "code",
      "metadata": {
        "id": "3oBHbecgj0Lf",
        "colab_type": "code",
        "colab": {
          "base_uri": "https://localhost:8080/"
        },
        "outputId": "cc0142ac-32e9-4771-81c9-a828b654b6dd"
      },
      "source": [
        "# Days of Uncompleted Status hist by Formation \n",
        "g=sns.FacetGrid(DUCS_final_dataframe, col='Formation', height=5, aspect = 1)\n",
        "g.map(plt.hist, 'Days of Uncompleted Status', alpha=0.7)\n",
        "plt.show()"
      ],
      "execution_count": null,
      "outputs": [
        {
          "output_type": "display_data",
          "data": {
            "image/png": "[encoded data removed]",
            "text/plain": [
              "<Figure size 1440x360 with 4 Axes>"
            ]
          },
          "metadata": {
            "tags": [],
            "needs_background": "light"
          }
        }
      ]
    },
    {
      "cell_type": "code",
      "metadata": {
        "id": "2xL3XcWD-QEG",
        "colab_type": "code",
        "colab": {
          "base_uri": "https://localhost:8080/"
        },
        "outputId": "12f0a627-b70b-4f82-9091-e3905b0e69d9"
      },
      "source": [
        "# Average Days of Uncompleted Status and Number of DUC wells by Field\n",
        "\n",
        "DUCS_by_field = DUCS_final_dataframe.groupby(by=['Field', 'Province'], as_index=False, observed=True).agg({'Days of Uncompleted Status' : 'mean', 'EPAssetsId': 'size'})\n",
        "\n",
        "DUCS_by_field.head()\n",
        "\n"
      ],
      "execution_count": null,
      "outputs": [
        {
          "output_type": "execute_result",
          "data": {
            "text/html": [
              "<div>\n",
              "<style scoped>\n",
              "    .dataframe tbody tr th:only-of-type {\n",
              "        vertical-align: middle;\n",
              "    }\n",
              "\n",
              "    .dataframe tbody tr th {\n",
              "        vertical-align: top;\n",
              "    }\n",
              "\n",
              "    .dataframe thead th {\n",
              "        text-align: right;\n",
              "    }\n",
              "</style>\n",
              "<table border=\"1\" class=\"dataframe\">\n",
              "  <thead>\n",
              "    <tr style=\"text-align: right;\">\n",
              "      <th></th>\n",
              "      <th>Field</th>\n",
              "      <th>Province</th>\n",
              "      <th>Days of Uncompleted Status</th>\n",
              "      <th>EPAssetsId</th>\n",
              "    </tr>\n",
              "  </thead>\n",
              "  <tbody>\n",
              "    <tr>\n",
              "      <th>0</th>\n",
              "      <td>Inga</td>\n",
              "      <td>British Columbia</td>\n",
              "      <td>72.00</td>\n",
              "      <td>1</td>\n",
              "    </tr>\n",
              "    <tr>\n",
              "      <th>1</th>\n",
              "      <td>Northern Montney</td>\n",
              "      <td>British Columbia</td>\n",
              "      <td>299.20</td>\n",
              "      <td>5</td>\n",
              "    </tr>\n",
              "    <tr>\n",
              "      <th>2</th>\n",
              "      <td>Heritage</td>\n",
              "      <td>British Columbia</td>\n",
              "      <td>168.75</td>\n",
              "      <td>12</td>\n",
              "    </tr>\n",
              "  </tbody>\n",
              "</table>\n",
              "</div>"
            ],
            "text/plain": [
              "              Field          Province  Days of Uncompleted Status  EPAssetsId\n",
              "0              Inga  British Columbia                       72.00           1\n",
              "1  Northern Montney  British Columbia                      299.20           5\n",
              "2          Heritage  British Columbia                      168.75          12"
            ]
          },
          "metadata": {
            "tags": []
          },
          "execution_count": 56
        }
      ]
    },
    {
      "cell_type": "code",
      "metadata": {
        "id": "rf8zC7zEHnlz",
        "colab_type": "code",
        "colab": {
          "base_uri": "https://localhost:8080/"
        },
        "outputId": "03651d09-60a3-4dc2-b46d-b6dad08cd095"
      },
      "source": [
        "# Average Days of Uncompleted Status by field\n",
        "DUCS_by_field.plot.barh(x='Field', y='Days of Uncompleted Status')\n",
        "plt.xlabel('Average Days of Uncompleted Status')\n",
        "plt.show()"
      ],
      "execution_count": null,
      "outputs": [
        {
          "output_type": "display_data",
          "data": {
            "image/png": "[encoded data removed]",
            "text/plain": [
              "<Figure size 432x288 with 1 Axes>"
            ]
          },
          "metadata": {
            "tags": [],
            "needs_background": "light"
          }
        }
      ]
    },
    {
      "cell_type": "code",
      "metadata": {
        "id": "H5xeqocEIOUE",
        "colab_type": "code",
        "colab": {
          "base_uri": "https://localhost:8080/"
        },
        "outputId": "06e2bfc4-5249-473e-fda1-1250e3ce0f43"
      },
      "source": [
        "# Number of DUC wells by Field\n",
        "DUCS_by_field.plot.barh(x='Field', y='EPAssetsId')\n",
        "plt.xlabel('Number of DUC wells')\n",
        "plt.show()"
      ],
      "execution_count": null,
      "outputs": [
        {
          "output_type": "display_data",
          "data": {
            "image/png": "[encoded data removed]",
            "text/plain": [
              "<Figure size 432x288 with 1 Axes>"
            ]
          },
          "metadata": {
            "tags": [],
            "needs_background": "light"
          }
        }
      ]
    },
    {
      "cell_type": "code",
      "metadata": {
        "id": "7p_8xnlXJWUg",
        "colab_type": "code",
        "colab": {
          "base_uri": "https://localhost:8080/"
        },
        "outputId": "6fff7f47-f52c-4349-b02e-54bf3627ecf5"
      },
      "source": [
        "# Average Days of Uncompleted Status and Number of DUC wells by CurrentOperator\n",
        "\n",
        "DUCS_by_operator = DUCS_final_dataframe.groupby(by='CurrentOperator', as_index=False, observed=True).agg({'Days of Uncompleted Status' : 'mean', 'EPAssetsId': 'size'})\n",
        "\n",
        "DUCS_by_operator.head(8)"
      ],
      "execution_count": null,
      "outputs": [
        {
          "output_type": "execute_result",
          "data": {
            "text/html": [
              "<div>\n",
              "<style scoped>\n",
              "    .dataframe tbody tr th:only-of-type {\n",
              "        vertical-align: middle;\n",
              "    }\n",
              "\n",
              "    .dataframe tbody tr th {\n",
              "        vertical-align: top;\n",
              "    }\n",
              "\n",
              "    .dataframe thead th {\n",
              "        text-align: right;\n",
              "    }\n",
              "</style>\n",
              "<table border=\"1\" class=\"dataframe\">\n",
              "  <thead>\n",
              "    <tr style=\"text-align: right;\">\n",
              "      <th></th>\n",
              "      <th>CurrentOperator</th>\n",
              "      <th>Days of Uncompleted Status</th>\n",
              "      <th>EPAssetsId</th>\n",
              "    </tr>\n",
              "  </thead>\n",
              "  <tbody>\n",
              "    <tr>\n",
              "      <th>0</th>\n",
              "      <td>Kelt Exploration (Lng) Ltd.</td>\n",
              "      <td>89.500000</td>\n",
              "      <td>2</td>\n",
              "    </tr>\n",
              "    <tr>\n",
              "      <th>1</th>\n",
              "      <td>Tourmaline Oil Corp.</td>\n",
              "      <td>195.500000</td>\n",
              "      <td>2</td>\n",
              "    </tr>\n",
              "    <tr>\n",
              "      <th>2</th>\n",
              "      <td>Arc Resources Ltd.</td>\n",
              "      <td>199.000000</td>\n",
              "      <td>7</td>\n",
              "    </tr>\n",
              "    <tr>\n",
              "      <th>3</th>\n",
              "      <td>Ovintiv Canada Ulc</td>\n",
              "      <td>80.333333</td>\n",
              "      <td>3</td>\n",
              "    </tr>\n",
              "    <tr>\n",
              "      <th>4</th>\n",
              "      <td>Storm Resources Ltd.</td>\n",
              "      <td>404.000000</td>\n",
              "      <td>3</td>\n",
              "    </tr>\n",
              "    <tr>\n",
              "      <th>5</th>\n",
              "      <td>Saguaro Resources Ltd.</td>\n",
              "      <td>177.000000</td>\n",
              "      <td>1</td>\n",
              "    </tr>\n",
              "  </tbody>\n",
              "</table>\n",
              "</div>"
            ],
            "text/plain": [
              "               CurrentOperator  Days of Uncompleted Status  EPAssetsId\n",
              "0  Kelt Exploration (Lng) Ltd.                   89.500000           2\n",
              "1         Tourmaline Oil Corp.                  195.500000           2\n",
              "2           Arc Resources Ltd.                  199.000000           7\n",
              "3           Ovintiv Canada Ulc                   80.333333           3\n",
              "4         Storm Resources Ltd.                  404.000000           3\n",
              "5       Saguaro Resources Ltd.                  177.000000           1"
            ]
          },
          "metadata": {
            "tags": []
          },
          "execution_count": 59
        }
      ]
    },
    {
      "cell_type": "code",
      "metadata": {
        "id": "HuHvgOaiPLdZ",
        "colab_type": "code",
        "colab": {
          "base_uri": "https://localhost:8080/"
        },
        "outputId": "421fae7a-d1cd-4938-c468-cdfb6d3d232b"
      },
      "source": [
        "# Average days of uncompleted status by Operator plot\n",
        "DUCS_by_operator.plot.barh(x='CurrentOperator', y='Days of Uncompleted Status')\n",
        "plt.xlabel('Average Days of Uncompleted Status')\n",
        "plt.show()\n"
      ],
      "execution_count": null,
      "outputs": [
        {
          "output_type": "display_data",
          "data": {
            "image/png": "[encoded data removed]",
            "text/plain": [
              "<Figure size 432x288 with 1 Axes>"
            ]
          },
          "metadata": {
            "tags": [],
            "needs_background": "light"
          }
        }
      ]
    },
    {
      "cell_type": "code",
      "metadata": {
        "id": "SNe041QdQVeN",
        "colab_type": "code",
        "colab": {
          "base_uri": "https://localhost:8080/"
        },
        "outputId": "f2ebeb7a-7a38-4f0b-f61e-a60622fc24d0"
      },
      "source": [
        "# Number of wells by Operator plot\n",
        "DUCS_by_operator.plot.barh(x='CurrentOperator', y='EPAssetsId')\n",
        "plt.xlabel('Number of Wells')\n",
        "plt.show()"
      ],
      "execution_count": null,
      "outputs": [
        {
          "output_type": "display_data",
          "data": {
            "image/png": "[encoded data removed]",
            "text/plain": [
              "<Figure size 432x288 with 1 Axes>"
            ]
          },
          "metadata": {
            "tags": [],
            "needs_background": "light"
          }
        }
      ]
    },
    {
      "cell_type": "code",
      "metadata": {
        "id": "hFLK-BSMSGNK",
        "colab_type": "code",
        "colab": {}
      },
      "source": [
        "# DUC wells by PSACAreaName\n",
        "DUCS_by_PSACAreaName = DUCS_final_dataframe.groupby(by='PSACAreaName', as_index=False, observed=True).agg({'Days of Uncompleted Status' : 'mean', 'EPAssetsId': 'size'})"
      ],
      "execution_count": null,
      "outputs": []
    },
    {
      "cell_type": "code",
      "metadata": {
        "colab_type": "code",
        "id": "AAWgVfiySHZ4",
        "colab": {
          "base_uri": "https://localhost:8080/"
        },
        "outputId": "61edda19-57a9-4b1d-db87-8544a6f730aa"
      },
      "source": [
        "DUCS_by_PSACAreaName.plot.barh(x='PSACAreaName', y='Days of Uncompleted Status')\n",
        "plt.xlabel('Average Days of Uncompleted Status')\n",
        "plt.show()"
      ],
      "execution_count": null,
      "outputs": [
        {
          "output_type": "display_data",
          "data": {
            "image/png": "[encoded data removed]",
            "text/plain": [
              "<Figure size 432x288 with 1 Axes>"
            ]
          },
          "metadata": {
            "tags": [],
            "needs_background": "light"
          }
        }
      ]
    }
  ]
}