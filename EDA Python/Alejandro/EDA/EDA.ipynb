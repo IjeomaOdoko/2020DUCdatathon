{
 "cells": [
  {
   "cell_type": "markdown",
   "metadata": {},
   "source": [
    "# Import Libraries"
   ]
  },
  {
   "cell_type": "code",
   "execution_count": 1,
   "metadata": {},
   "outputs": [],
   "source": [
    "import pandas as pd\n",
    "import sweetviz as sv"
   ]
  },
  {
   "cell_type": "markdown",
   "metadata": {},
   "source": [
    "## Get the data"
   ]
  },
  {
   "cell_type": "code",
   "execution_count": 2,
   "metadata": {},
   "outputs": [],
   "source": [
    "##added datecolumns to ensure datecolumns are datetime datatypes\n",
    "\n",
    "datecolumns = ['LicenceDate', 'ConfidentialReleaseDate','AbandonDate', 'SurfAbandonDate', 'SpudDate', 'FinalDrillDate', 'RigReleaseDate','StatusDate','CompletionDate']   \n",
    "well_header = pd.read_csv('WellHeader_subset.csv',parse_dates=datecolumns,)\n",
    "well_production = pd.read_csv('WellProduction_subset.csv', parse_dates=['ProdPeriod'])\n",
    "perf_treatment = pd.read_csv('PerfTreatment_subset.csv', parse_dates=['ActivityDate'])"
   ]
  },
  {
   "cell_type": "code",
   "execution_count": 3,
   "metadata": {},
   "outputs": [
    {
     "name": "stdout",
     "output_type": "stream",
     "text": [
      "<class 'pandas.core.frame.DataFrame'>\n",
      "RangeIndex: 1147 entries, 0 to 1146\n",
      "Data columns (total 86 columns):\n",
      " #   Column                     Non-Null Count  Dtype         \n",
      "---  ------                     --------------  -----         \n",
      " 0   EPAssetsId                 1147 non-null   int64         \n",
      " 1   Province                   1147 non-null   object        \n",
      " 2   LicenceNumber              1147 non-null   int64         \n",
      " 3   UWI                        1147 non-null   object        \n",
      " 4   CurrentOperator            1147 non-null   object        \n",
      " 5   CurrentOperatorParent      1147 non-null   int64         \n",
      " 6   CurrentOperatorParentName  1147 non-null   object        \n",
      " 7   Licensee                   1147 non-null   object        \n",
      " 8   LicenseeParentCompany      1147 non-null   int64         \n",
      " 9   LicenseeParentCompanyName  1147 non-null   object        \n",
      " 10  LicenceDate                1147 non-null   datetime64[ns]\n",
      " 11  CurrentStatus              1147 non-null   object        \n",
      " 12  CurrentStatusStandardised  1147 non-null   object        \n",
      " 13  WellType                   1147 non-null   object        \n",
      " 14  WellTypeStandardised       1147 non-null   object        \n",
      " 15  ConfidentialReleaseDate    114 non-null    datetime64[ns]\n",
      " 16  AbandonDate                0 non-null      datetime64[ns]\n",
      " 17  SurfAbandonDate            0 non-null      datetime64[ns]\n",
      " 18  WellName                   1147 non-null   object        \n",
      " 19  Formation                  1147 non-null   object        \n",
      " 20  Field                      1147 non-null   object        \n",
      " 21  Pool                       1147 non-null   object        \n",
      " 22  SurveySystem               1147 non-null   object        \n",
      " 23  Surf_Location              1147 non-null   object        \n",
      " 24  Surf_Township              1147 non-null   int64         \n",
      " 25  Surf_Meridian              1147 non-null   object        \n",
      " 26  Surf_Range                 1147 non-null   int64         \n",
      " 27  Surf_Section               1147 non-null   int64         \n",
      " 28  Surf_LSD                   1147 non-null   int64         \n",
      " 29  Surf_Longitude             1147 non-null   float64       \n",
      " 30  Surf_Latitude              1147 non-null   float64       \n",
      " 31  Surf_TownshipRange         1147 non-null   object        \n",
      " 32  Surf_QuarterUnit           1147 non-null   object        \n",
      " 33  Surf_Unit                  1147 non-null   object        \n",
      " 34  Surf_Block                 1147 non-null   object        \n",
      " 35  Surf_NTSMapSheet           1147 non-null   object        \n",
      " 36  Surf_Series                1147 non-null   object        \n",
      " 37  Surf_Area                  1147 non-null   object        \n",
      " 38  Surf_Sheet                 1147 non-null   object        \n",
      " 39  Surf_QuarterSection        1147 non-null   object        \n",
      " 40  BH_Location                1147 non-null   object        \n",
      " 41  BH_TownshipRange           1147 non-null   object        \n",
      " 42  BH_QuarterUnit             1147 non-null   object        \n",
      " 43  BH_Unit                    1147 non-null   object        \n",
      " 44  BH_Block                   1147 non-null   object        \n",
      " 45  BH_NTSMapSheet             1147 non-null   object        \n",
      " 46  BH_Series                  1147 non-null   object        \n",
      " 47  BH_Area                    1147 non-null   object        \n",
      " 48  BH_Sheet                   1147 non-null   object        \n",
      " 49  BH_QuarterSection          1147 non-null   object        \n",
      " 50  BH_Longitude               1147 non-null   float64       \n",
      " 51  BH_Latitude                1147 non-null   float64       \n",
      " 52  BH_Township                1147 non-null   int64         \n",
      " 53  BH_Meridian                1147 non-null   object        \n",
      " 54  BH_Range                   1147 non-null   int64         \n",
      " 55  BH_Section                 1147 non-null   int64         \n",
      " 56  BH_LSD                     1147 non-null   int64         \n",
      " 57  GroundElevation            1147 non-null   float64       \n",
      " 58  KBElevation                1147 non-null   float64       \n",
      " 59  TotalDepth                 1147 non-null   float64       \n",
      " 60  LaheeClass                 1147 non-null   object        \n",
      " 61  Confidential               1147 non-null   object        \n",
      " 62  SurfaceOwner               1147 non-null   object        \n",
      " 63  OSArea                     1147 non-null   object        \n",
      " 64  OSDeposit                  1147 non-null   object        \n",
      " 65  DrillingContractor         1147 non-null   object        \n",
      " 66  SpudDate                   1147 non-null   datetime64[ns]\n",
      " 67  FinalDrillDate             1147 non-null   datetime64[ns]\n",
      " 68  RigReleaseDate             1147 non-null   datetime64[ns]\n",
      " 69  DaysDrilling               1147 non-null   float64       \n",
      " 70  DrillMetresPerDay          1147 non-null   float64       \n",
      " 71  TVD                        1147 non-null   float64       \n",
      " 72  WellProfile                1147 non-null   object        \n",
      " 73  Country                    1147 non-null   object        \n",
      " 74  RegulatoryAgency           1147 non-null   object        \n",
      " 75  PSACAreaCode               1147 non-null   object        \n",
      " 76  PSACAreaName               1147 non-null   object        \n",
      " 77  ProjectedDepth             1065 non-null   float64       \n",
      " 78  StatusDate                 1147 non-null   datetime64[ns]\n",
      " 79  StatusSource               1147 non-null   object        \n",
      " 80  UnitID                     257 non-null    object        \n",
      " 81  UnitName                   257 non-null    object        \n",
      " 82  UnitFlag                   1147 non-null   object        \n",
      " 83  Municipality               0 non-null      float64       \n",
      " 84  CompletionDate             0 non-null      datetime64[ns]\n",
      " 85  Agent                      1147 non-null   object        \n",
      "dtypes: datetime64[ns](9), float64(12), int64(12), object(53)\n",
      "memory usage: 770.8+ KB\n"
     ]
    }
   ],
   "source": [
    "well_header=well_header.iloc[:,1:87]\n",
    "well_header.info()"
   ]
  },
  {
   "cell_type": "code",
   "execution_count": 4,
   "metadata": {},
   "outputs": [
    {
     "name": "stdout",
     "output_type": "stream",
     "text": [
      "<class 'pandas.core.frame.DataFrame'>\n",
      "RangeIndex: 99337 entries, 0 to 99336\n",
      "Data columns (total 6 columns):\n",
      " #   Column            Non-Null Count  Dtype         \n",
      "---  ------            --------------  -----         \n",
      " 0   Unnamed: 0        99337 non-null  int64         \n",
      " 1   EPAssetsId        99337 non-null  int64         \n",
      " 2   ProdPeriod        99337 non-null  datetime64[ns]\n",
      " 3   ProdType          99337 non-null  object        \n",
      " 4   Volume            99337 non-null  float64       \n",
      " 5   WellHeader.Match  99337 non-null  object        \n",
      "dtypes: datetime64[ns](1), float64(1), int64(2), object(2)\n",
      "memory usage: 4.5+ MB\n"
     ]
    },
    {
     "data": {
      "text/plain": [
       "None"
      ]
     },
     "metadata": {},
     "output_type": "display_data"
    },
    {
     "name": "stdout",
     "output_type": "stream",
     "text": [
      "\n",
      "\n",
      "<class 'pandas.core.frame.DataFrame'>\n",
      "RangeIndex: 44478 entries, 0 to 44477\n",
      "Data columns (total 10 columns):\n",
      " #   Column             Non-Null Count  Dtype         \n",
      "---  ------             --------------  -----         \n",
      " 0   Unnamed: 0         44478 non-null  int64         \n",
      " 1   EPAssetsId         44478 non-null  int64         \n",
      " 2   EPAPTId            44478 non-null  int64         \n",
      " 3   ObservationNumber  44478 non-null  float64       \n",
      " 4   ActivityDate       44478 non-null  datetime64[ns]\n",
      " 5   ActivityType       44478 non-null  object        \n",
      " 6   IntervalTop        44478 non-null  float64       \n",
      " 7   IntervalBase       44478 non-null  float64       \n",
      " 8   PerfShots          44478 non-null  float64       \n",
      " 9   WellHeader.Match   44478 non-null  object        \n",
      "dtypes: datetime64[ns](1), float64(4), int64(3), object(2)\n",
      "memory usage: 3.4+ MB\n"
     ]
    }
   ],
   "source": [
    "display(well_production.info())\n",
    "\n",
    "print('\\n')\n",
    "\n",
    "perf_treatment.info()"
   ]
  },
  {
   "cell_type": "code",
   "execution_count": 5,
   "metadata": {},
   "outputs": [
    {
     "data": {
      "text/html": [
       "<div>\n",
       "<style scoped>\n",
       "    .dataframe tbody tr th:only-of-type {\n",
       "        vertical-align: middle;\n",
       "    }\n",
       "\n",
       "    .dataframe tbody tr th {\n",
       "        vertical-align: top;\n",
       "    }\n",
       "\n",
       "    .dataframe thead th {\n",
       "        text-align: right;\n",
       "    }\n",
       "</style>\n",
       "<table border=\"1\" class=\"dataframe\">\n",
       "  <thead>\n",
       "    <tr style=\"text-align: right;\">\n",
       "      <th></th>\n",
       "      <th>EPAssetsId</th>\n",
       "      <th>Province</th>\n",
       "      <th>LicenceNumber</th>\n",
       "      <th>UWI</th>\n",
       "      <th>CurrentOperator</th>\n",
       "      <th>CurrentOperatorParent</th>\n",
       "      <th>CurrentOperatorParentName</th>\n",
       "      <th>Licensee</th>\n",
       "      <th>LicenseeParentCompany</th>\n",
       "      <th>LicenseeParentCompanyName</th>\n",
       "      <th>...</th>\n",
       "      <th>PSACAreaName</th>\n",
       "      <th>ProjectedDepth</th>\n",
       "      <th>StatusDate</th>\n",
       "      <th>StatusSource</th>\n",
       "      <th>UnitID</th>\n",
       "      <th>UnitName</th>\n",
       "      <th>UnitFlag</th>\n",
       "      <th>Municipality</th>\n",
       "      <th>CompletionDate</th>\n",
       "      <th>Agent</th>\n",
       "    </tr>\n",
       "  </thead>\n",
       "  <tbody>\n",
       "    <tr>\n",
       "      <th>0</th>\n",
       "      <td>2616530</td>\n",
       "      <td>Alberta</td>\n",
       "      <td>491487</td>\n",
       "      <td>103010905422W500</td>\n",
       "      <td>Peyto Exploration &amp; Development Corp.</td>\n",
       "      <td>519</td>\n",
       "      <td>Peyto Exploration &amp; Development Corp.</td>\n",
       "      <td>Peyto Exploration &amp; Development Corp.</td>\n",
       "      <td>519</td>\n",
       "      <td>Peyto Exploration &amp; Development Corp.</td>\n",
       "      <td>...</td>\n",
       "      <td>Foothills Front</td>\n",
       "      <td>3900.0</td>\n",
       "      <td>2020-01-02</td>\n",
       "      <td>AER</td>\n",
       "      <td>NaN</td>\n",
       "      <td>NaN</td>\n",
       "      <td>No</td>\n",
       "      <td>NaN</td>\n",
       "      <td>NaT</td>\n",
       "      <td>Unspecified</td>\n",
       "    </tr>\n",
       "    <tr>\n",
       "      <th>1</th>\n",
       "      <td>2619843</td>\n",
       "      <td>Alberta</td>\n",
       "      <td>493861</td>\n",
       "      <td>100080805422W500</td>\n",
       "      <td>Peyto Exploration &amp; Development Corp.</td>\n",
       "      <td>519</td>\n",
       "      <td>Peyto Exploration &amp; Development Corp.</td>\n",
       "      <td>Peyto Exploration &amp; Development Corp.</td>\n",
       "      <td>519</td>\n",
       "      <td>Peyto Exploration &amp; Development Corp.</td>\n",
       "      <td>...</td>\n",
       "      <td>Foothills Front</td>\n",
       "      <td>4125.0</td>\n",
       "      <td>2019-09-05</td>\n",
       "      <td>AER</td>\n",
       "      <td>NaN</td>\n",
       "      <td>NaN</td>\n",
       "      <td>No</td>\n",
       "      <td>NaN</td>\n",
       "      <td>NaT</td>\n",
       "      <td>Unspecified</td>\n",
       "    </tr>\n",
       "  </tbody>\n",
       "</table>\n",
       "<p>2 rows × 86 columns</p>\n",
       "</div>"
      ],
      "text/plain": [
       "   EPAssetsId Province  LicenceNumber               UWI  \\\n",
       "0     2616530  Alberta         491487  103010905422W500   \n",
       "1     2619843  Alberta         493861  100080805422W500   \n",
       "\n",
       "                         CurrentOperator  CurrentOperatorParent  \\\n",
       "0  Peyto Exploration & Development Corp.                    519   \n",
       "1  Peyto Exploration & Development Corp.                    519   \n",
       "\n",
       "               CurrentOperatorParentName  \\\n",
       "0  Peyto Exploration & Development Corp.   \n",
       "1  Peyto Exploration & Development Corp.   \n",
       "\n",
       "                                Licensee  LicenseeParentCompany  \\\n",
       "0  Peyto Exploration & Development Corp.                    519   \n",
       "1  Peyto Exploration & Development Corp.                    519   \n",
       "\n",
       "               LicenseeParentCompanyName  ...     PSACAreaName ProjectedDepth  \\\n",
       "0  Peyto Exploration & Development Corp.  ...  Foothills Front         3900.0   \n",
       "1  Peyto Exploration & Development Corp.  ...  Foothills Front         4125.0   \n",
       "\n",
       "  StatusDate StatusSource UnitID UnitName UnitFlag Municipality  \\\n",
       "0 2020-01-02          AER    NaN      NaN       No          NaN   \n",
       "1 2019-09-05          AER    NaN      NaN       No          NaN   \n",
       "\n",
       "  CompletionDate        Agent  \n",
       "0            NaT  Unspecified  \n",
       "1            NaT  Unspecified  \n",
       "\n",
       "[2 rows x 86 columns]"
      ]
     },
     "execution_count": 5,
     "metadata": {},
     "output_type": "execute_result"
    }
   ],
   "source": [
    "well_header.head(2)"
   ]
  },
  {
   "cell_type": "code",
   "execution_count": 6,
   "metadata": {},
   "outputs": [
    {
     "data": {
      "text/plain": [
       "Index(['Province', 'UWI', 'CurrentOperator', 'CurrentOperatorParentName',\n",
       "       'Licensee', 'LicenseeParentCompanyName', 'CurrentStatus',\n",
       "       'CurrentStatusStandardised', 'WellType', 'WellTypeStandardised',\n",
       "       'WellName', 'Formation', 'Field', 'Pool', 'SurveySystem',\n",
       "       'Surf_Location', 'Surf_Meridian', 'Surf_TownshipRange',\n",
       "       'Surf_QuarterUnit', 'Surf_Unit', 'Surf_Block', 'Surf_NTSMapSheet',\n",
       "       'Surf_Series', 'Surf_Area', 'Surf_Sheet', 'Surf_QuarterSection',\n",
       "       'BH_Location', 'BH_TownshipRange', 'BH_QuarterUnit', 'BH_Unit',\n",
       "       'BH_Block', 'BH_NTSMapSheet', 'BH_Series', 'BH_Area', 'BH_Sheet',\n",
       "       'BH_QuarterSection', 'BH_Meridian', 'LaheeClass', 'Confidential',\n",
       "       'SurfaceOwner', 'OSArea', 'OSDeposit', 'DrillingContractor',\n",
       "       'WellProfile', 'Country', 'RegulatoryAgency', 'PSACAreaCode',\n",
       "       'PSACAreaName', 'StatusSource', 'UnitID', 'UnitName', 'UnitFlag',\n",
       "       'Agent'],\n",
       "      dtype='object')"
      ]
     },
     "execution_count": 6,
     "metadata": {},
     "output_type": "execute_result"
    }
   ],
   "source": [
    "##check which columns are object datatypes \n",
    "\n",
    "well_header.columns[well_header.dtypes == 'object']\n",
    "\n"
   ]
  },
  {
   "cell_type": "code",
   "execution_count": 7,
   "metadata": {},
   "outputs": [
    {
     "name": "stdout",
     "output_type": "stream",
     "text": [
      "<class 'pandas.core.frame.DataFrame'>\n",
      "RangeIndex: 1147 entries, 0 to 1146\n",
      "Data columns (total 86 columns):\n",
      " #   Column                     Non-Null Count  Dtype         \n",
      "---  ------                     --------------  -----         \n",
      " 0   EPAssetsId                 1147 non-null   int64         \n",
      " 1   Province                   1147 non-null   category      \n",
      " 2   LicenceNumber              1147 non-null   int64         \n",
      " 3   UWI                        1147 non-null   object        \n",
      " 4   CurrentOperator            1147 non-null   category      \n",
      " 5   CurrentOperatorParent      1147 non-null   int64         \n",
      " 6   CurrentOperatorParentName  1147 non-null   category      \n",
      " 7   Licensee                   1147 non-null   category      \n",
      " 8   LicenseeParentCompany      1147 non-null   int64         \n",
      " 9   LicenseeParentCompanyName  1147 non-null   category      \n",
      " 10  LicenceDate                1147 non-null   datetime64[ns]\n",
      " 11  CurrentStatus              1147 non-null   category      \n",
      " 12  CurrentStatusStandardised  1147 non-null   category      \n",
      " 13  WellType                   1147 non-null   category      \n",
      " 14  WellTypeStandardised       1147 non-null   category      \n",
      " 15  ConfidentialReleaseDate    114 non-null    datetime64[ns]\n",
      " 16  AbandonDate                0 non-null      datetime64[ns]\n",
      " 17  SurfAbandonDate            0 non-null      datetime64[ns]\n",
      " 18  WellName                   1147 non-null   object        \n",
      " 19  Formation                  1147 non-null   category      \n",
      " 20  Field                      1147 non-null   category      \n",
      " 21  Pool                       1147 non-null   category      \n",
      " 22  SurveySystem               1147 non-null   category      \n",
      " 23  Surf_Location              1147 non-null   object        \n",
      " 24  Surf_Township              1147 non-null   int64         \n",
      " 25  Surf_Meridian              1147 non-null   category      \n",
      " 26  Surf_Range                 1147 non-null   int64         \n",
      " 27  Surf_Section               1147 non-null   int64         \n",
      " 28  Surf_LSD                   1147 non-null   int64         \n",
      " 29  Surf_Longitude             1147 non-null   float64       \n",
      " 30  Surf_Latitude              1147 non-null   float64       \n",
      " 31  Surf_TownshipRange         1147 non-null   category      \n",
      " 32  Surf_QuarterUnit           1147 non-null   category      \n",
      " 33  Surf_Unit                  1147 non-null   category      \n",
      " 34  Surf_Block                 1147 non-null   category      \n",
      " 35  Surf_NTSMapSheet           1147 non-null   category      \n",
      " 36  Surf_Series                1147 non-null   category      \n",
      " 37  Surf_Area                  1147 non-null   category      \n",
      " 38  Surf_Sheet                 1147 non-null   category      \n",
      " 39  Surf_QuarterSection        1147 non-null   category      \n",
      " 40  BH_Location                1147 non-null   category      \n",
      " 41  BH_TownshipRange           1147 non-null   category      \n",
      " 42  BH_QuarterUnit             1147 non-null   category      \n",
      " 43  BH_Unit                    1147 non-null   category      \n",
      " 44  BH_Block                   1147 non-null   category      \n",
      " 45  BH_NTSMapSheet             1147 non-null   category      \n",
      " 46  BH_Series                  1147 non-null   category      \n",
      " 47  BH_Area                    1147 non-null   category      \n",
      " 48  BH_Sheet                   1147 non-null   category      \n",
      " 49  BH_QuarterSection          1147 non-null   category      \n",
      " 50  BH_Longitude               1147 non-null   float64       \n",
      " 51  BH_Latitude                1147 non-null   float64       \n",
      " 52  BH_Township                1147 non-null   int64         \n",
      " 53  BH_Meridian                1147 non-null   category      \n",
      " 54  BH_Range                   1147 non-null   int64         \n",
      " 55  BH_Section                 1147 non-null   int64         \n",
      " 56  BH_LSD                     1147 non-null   int64         \n",
      " 57  GroundElevation            1147 non-null   float64       \n",
      " 58  KBElevation                1147 non-null   float64       \n",
      " 59  TotalDepth                 1147 non-null   float64       \n",
      " 60  LaheeClass                 1147 non-null   category      \n",
      " 61  Confidential               1147 non-null   category      \n",
      " 62  SurfaceOwner               1147 non-null   category      \n",
      " 63  OSArea                     1147 non-null   category      \n",
      " 64  OSDeposit                  1147 non-null   category      \n",
      " 65  DrillingContractor         1147 non-null   category      \n",
      " 66  SpudDate                   1147 non-null   datetime64[ns]\n",
      " 67  FinalDrillDate             1147 non-null   datetime64[ns]\n",
      " 68  RigReleaseDate             1147 non-null   datetime64[ns]\n",
      " 69  DaysDrilling               1147 non-null   float64       \n",
      " 70  DrillMetresPerDay          1147 non-null   float64       \n",
      " 71  TVD                        1147 non-null   float64       \n",
      " 72  WellProfile                1147 non-null   category      \n",
      " 73  Country                    1147 non-null   category      \n",
      " 74  RegulatoryAgency           1147 non-null   category      \n",
      " 75  PSACAreaCode               1147 non-null   category      \n",
      " 76  PSACAreaName               1147 non-null   category      \n",
      " 77  ProjectedDepth             1065 non-null   float64       \n",
      " 78  StatusDate                 1147 non-null   datetime64[ns]\n",
      " 79  StatusSource               1147 non-null   category      \n",
      " 80  UnitID                     257 non-null    category      \n",
      " 81  UnitName                   257 non-null    category      \n",
      " 82  UnitFlag                   1147 non-null   category      \n",
      " 83  Municipality               0 non-null      float64       \n",
      " 84  CompletionDate             0 non-null      datetime64[ns]\n",
      " 85  Agent                      1147 non-null   category      \n",
      "dtypes: category(50), datetime64[ns](9), float64(12), int64(12), object(3)\n",
      "memory usage: 462.7+ KB\n"
     ]
    }
   ],
   "source": [
    "## Select objects to convert to category type \n",
    "obj_cast_category = ['Province', 'CurrentOperator', 'CurrentOperatorParentName',\n",
    "       'Licensee', 'LicenseeParentCompanyName', 'CurrentStatus',\n",
    "       'CurrentStatusStandardised', 'WellType', 'WellTypeStandardised',\n",
    "       'Formation', 'Field', 'Pool', 'SurveySystem',\n",
    "       'Surf_Meridian', 'Surf_TownshipRange',\n",
    "       'Surf_QuarterUnit', 'Surf_Unit', 'Surf_Block', 'Surf_NTSMapSheet',\n",
    "       'Surf_Series', 'Surf_Area', 'Surf_Sheet', 'Surf_QuarterSection',\n",
    "       'BH_Location', 'BH_TownshipRange', 'BH_QuarterUnit', 'BH_Unit',\n",
    "       'BH_Block', 'BH_NTSMapSheet', 'BH_Series', 'BH_Area', 'BH_Sheet',\n",
    "       'BH_QuarterSection', 'BH_Meridian', 'LaheeClass', 'Confidential',\n",
    "       'SurfaceOwner', 'OSArea', 'OSDeposit', 'DrillingContractor',\n",
    "       'WellProfile', 'Country', 'RegulatoryAgency', 'PSACAreaCode',\n",
    "       'PSACAreaName', 'StatusSource', 'UnitID', 'UnitName', 'UnitFlag',\n",
    "       'Agent']\n",
    "\n",
    "\n",
    "well_header[obj_cast_category] = well_header[obj_cast_category].astype('category')\n",
    "\n",
    "well_header.info()"
   ]
  },
  {
   "cell_type": "code",
   "execution_count": 8,
   "metadata": {},
   "outputs": [],
   "source": [
    "# change ProdType and ActivityType columns from object to category datatype\n",
    "well_production['ProdType'] = well_production['ProdType'].astype('category')\n",
    "perf_treatment['ActivityType'] = perf_treatment['ActivityType'].astype('category')"
   ]
  },
  {
   "cell_type": "markdown",
   "metadata": {},
   "source": [
    "## Seewtviz Magic"
   ]
  },
  {
   "cell_type": "code",
   "execution_count": 9,
   "metadata": {},
   "outputs": [
    {
     "name": "stderr",
     "output_type": "stream",
     "text": [
      ":FEATURES DONE:                    |█████████████████████| [100%]   00:10  -> (00:00 left)\n",
      ":PAIRWISE DONE:                    |█████████████████████| [100%]   00:03  -> (00:00 left)\n"
     ]
    },
    {
     "name": "stdout",
     "output_type": "stream",
     "text": [
      "Creating Associations graph... DONE!\n"
     ]
    }
   ],
   "source": [
    " wh= sv.analyze(well_header)"
   ]
  },
  {
   "cell_type": "code",
   "execution_count": 10,
   "metadata": {},
   "outputs": [
    {
     "name": "stdout",
     "output_type": "stream",
     "text": [
      "Report wells.html was generated! NOTEBOOK/COLAB USERS: no browser will pop up, the report is saved in your notebook/colab files.\n"
     ]
    }
   ],
   "source": [
    "wh.show_html('wells.html')"
   ]
  },
  {
   "cell_type": "code",
   "execution_count": 11,
   "metadata": {},
   "outputs": [],
   "source": [
    "well_production=well_production.iloc[:,1:5]"
   ]
  },
  {
   "cell_type": "code",
   "execution_count": 12,
   "metadata": {},
   "outputs": [
    {
     "name": "stdout",
     "output_type": "stream",
     "text": [
      "<class 'pandas.core.frame.DataFrame'>\n",
      "RangeIndex: 99337 entries, 0 to 99336\n",
      "Data columns (total 4 columns):\n",
      " #   Column      Non-Null Count  Dtype         \n",
      "---  ------      --------------  -----         \n",
      " 0   EPAssetsId  99337 non-null  int64         \n",
      " 1   ProdPeriod  99337 non-null  datetime64[ns]\n",
      " 2   ProdType    99337 non-null  category      \n",
      " 3   Volume      99337 non-null  float64       \n",
      "dtypes: category(1), datetime64[ns](1), float64(1), int64(1)\n",
      "memory usage: 2.4 MB\n"
     ]
    }
   ],
   "source": [
    "well_production.info()"
   ]
  },
  {
   "cell_type": "code",
   "execution_count": 13,
   "metadata": {},
   "outputs": [
    {
     "name": "stderr",
     "output_type": "stream",
     "text": [
      ":FEATURES DONE:                    |█████████████████████| [100%]   00:00  -> (00:00 left)\n",
      ":PAIRWISE DONE:                    |█████████████████████| [100%]   00:02  -> (00:00 left)\n"
     ]
    },
    {
     "name": "stdout",
     "output_type": "stream",
     "text": [
      "Creating Associations graph... DONE!\n"
     ]
    }
   ],
   "source": [
    " wp= sv.analyze(well_production)"
   ]
  },
  {
   "cell_type": "code",
   "execution_count": 14,
   "metadata": {},
   "outputs": [
    {
     "name": "stdout",
     "output_type": "stream",
     "text": [
      "Report wells_production.html was generated! NOTEBOOK/COLAB USERS: no browser will pop up, the report is saved in your notebook/colab files.\n"
     ]
    }
   ],
   "source": [
    "wp.show_html('wells_production.html')"
   ]
  },
  {
   "cell_type": "code",
   "execution_count": 15,
   "metadata": {},
   "outputs": [],
   "source": [
    "perf_treatment=perf_treatment.iloc[:,1:9]"
   ]
  },
  {
   "cell_type": "code",
   "execution_count": 16,
   "metadata": {},
   "outputs": [
    {
     "name": "stdout",
     "output_type": "stream",
     "text": [
      "<class 'pandas.core.frame.DataFrame'>\n",
      "RangeIndex: 44478 entries, 0 to 44477\n",
      "Data columns (total 8 columns):\n",
      " #   Column             Non-Null Count  Dtype         \n",
      "---  ------             --------------  -----         \n",
      " 0   EPAssetsId         44478 non-null  int64         \n",
      " 1   EPAPTId            44478 non-null  int64         \n",
      " 2   ObservationNumber  44478 non-null  float64       \n",
      " 3   ActivityDate       44478 non-null  datetime64[ns]\n",
      " 4   ActivityType       44478 non-null  category      \n",
      " 5   IntervalTop        44478 non-null  float64       \n",
      " 6   IntervalBase       44478 non-null  float64       \n",
      " 7   PerfShots          44478 non-null  float64       \n",
      "dtypes: category(1), datetime64[ns](1), float64(4), int64(2)\n",
      "memory usage: 2.4 MB\n"
     ]
    }
   ],
   "source": [
    "perf_treatment.info()"
   ]
  },
  {
   "cell_type": "code",
   "execution_count": 17,
   "metadata": {},
   "outputs": [
    {
     "name": "stderr",
     "output_type": "stream",
     "text": [
      ":FEATURES DONE:                    |█████████████████████| [100%]   00:01  -> (00:00 left)\n",
      ":PAIRWISE DONE:                    |█████████████████████| [100%]   00:00  -> (00:00 left)\n"
     ]
    },
    {
     "name": "stdout",
     "output_type": "stream",
     "text": [
      "Creating Associations graph... DONE!\n"
     ]
    }
   ],
   "source": [
    "pt=sv.analyze(perf_treatment)"
   ]
  },
  {
   "cell_type": "code",
   "execution_count": 18,
   "metadata": {},
   "outputs": [
    {
     "name": "stdout",
     "output_type": "stream",
     "text": [
      "Report perf_treatment.html was generated! NOTEBOOK/COLAB USERS: no browser will pop up, the report is saved in your notebook/colab files.\n"
     ]
    }
   ],
   "source": [
    "pt.show_html('perf_treatment.html')"
   ]
  },
  {
   "cell_type": "code",
   "execution_count": 19,
   "metadata": {},
   "outputs": [
    {
     "name": "stdout",
     "output_type": "stream",
     "text": [
      "well columns to drop as follows: \n",
      "['CompletionDate', 'UnitID', 'UnitFlag', 'UnitName', 'Confidential', 'RegulatoryAgency', 'ConfidentialReleaseDate', 'AbandonDate', 'SurfAbandonDate', 'SurveySystem', 'OSArea', 'OSDeposit', 'Municipality', 'Agent']\n"
     ]
    }
   ],
   "source": [
    "##create list of columns to be dropped\n",
    "\n",
    "dropcols_wellheader= ['CompletionDate','UnitID', 'UnitFlag', 'UnitName', 'Confidential', 'RegulatoryAgency', 'ConfidentialReleaseDate', 'AbandonDate', 'SurfAbandonDate', 'SurveySystem', 'OSArea', 'OSDeposit', 'Municipality', 'Agent']\n",
    "\n",
    "print('well columns to drop as follows:' + ' ')\n",
    "print(dropcols_wellheader)"
   ]
  },
  {
   "cell_type": "code",
   "execution_count": 20,
   "metadata": {},
   "outputs": [
    {
     "data": {
      "text/plain": [
       "(1147, 72)"
      ]
     },
     "execution_count": 20,
     "metadata": {},
     "output_type": "execute_result"
    }
   ],
   "source": [
    "## drop columns selected\n",
    "well_header_df = well_header.drop(columns=dropcols_wellheader, axis=1, inplace=False)\n",
    "\n",
    "## Check number of rows and columns\n",
    "well_header_df.shape"
   ]
  },
  {
   "cell_type": "markdown",
   "metadata": {},
   "source": [
    "## Merging wellheader, production and perf_treatment dataframes"
   ]
  },
  {
   "cell_type": "code",
   "execution_count": 21,
   "metadata": {},
   "outputs": [],
   "source": [
    "df=pd.merge(well_header_df, well_production, on='EPAssetsId', how='left')"
   ]
  },
  {
   "cell_type": "code",
   "execution_count": 22,
   "metadata": {},
   "outputs": [],
   "source": [
    "df2 = pd.merge(df,perf_treatment, on ='EPAssetsId',how ='left')"
   ]
  },
  {
   "cell_type": "code",
   "execution_count": 23,
   "metadata": {},
   "outputs": [
    {
     "name": "stdout",
     "output_type": "stream",
     "text": [
      "<class 'pandas.core.frame.DataFrame'>\n",
      "Int64Index: 3418491 entries, 0 to 3418490\n",
      "Data columns (total 82 columns):\n",
      " #   Column                     Dtype         \n",
      "---  ------                     -----         \n",
      " 0   EPAssetsId                 int64         \n",
      " 1   Province                   category      \n",
      " 2   LicenceNumber              int64         \n",
      " 3   UWI                        object        \n",
      " 4   CurrentOperator            category      \n",
      " 5   CurrentOperatorParent      int64         \n",
      " 6   CurrentOperatorParentName  category      \n",
      " 7   Licensee                   category      \n",
      " 8   LicenseeParentCompany      int64         \n",
      " 9   LicenseeParentCompanyName  category      \n",
      " 10  LicenceDate                datetime64[ns]\n",
      " 11  CurrentStatus              category      \n",
      " 12  CurrentStatusStandardised  category      \n",
      " 13  WellType                   category      \n",
      " 14  WellTypeStandardised       category      \n",
      " 15  WellName                   object        \n",
      " 16  Formation                  category      \n",
      " 17  Field                      category      \n",
      " 18  Pool                       category      \n",
      " 19  Surf_Location              object        \n",
      " 20  Surf_Township              int64         \n",
      " 21  Surf_Meridian              category      \n",
      " 22  Surf_Range                 int64         \n",
      " 23  Surf_Section               int64         \n",
      " 24  Surf_LSD                   int64         \n",
      " 25  Surf_Longitude             float64       \n",
      " 26  Surf_Latitude              float64       \n",
      " 27  Surf_TownshipRange         category      \n",
      " 28  Surf_QuarterUnit           category      \n",
      " 29  Surf_Unit                  category      \n",
      " 30  Surf_Block                 category      \n",
      " 31  Surf_NTSMapSheet           category      \n",
      " 32  Surf_Series                category      \n",
      " 33  Surf_Area                  category      \n",
      " 34  Surf_Sheet                 category      \n",
      " 35  Surf_QuarterSection        category      \n",
      " 36  BH_Location                category      \n",
      " 37  BH_TownshipRange           category      \n",
      " 38  BH_QuarterUnit             category      \n",
      " 39  BH_Unit                    category      \n",
      " 40  BH_Block                   category      \n",
      " 41  BH_NTSMapSheet             category      \n",
      " 42  BH_Series                  category      \n",
      " 43  BH_Area                    category      \n",
      " 44  BH_Sheet                   category      \n",
      " 45  BH_QuarterSection          category      \n",
      " 46  BH_Longitude               float64       \n",
      " 47  BH_Latitude                float64       \n",
      " 48  BH_Township                int64         \n",
      " 49  BH_Meridian                category      \n",
      " 50  BH_Range                   int64         \n",
      " 51  BH_Section                 int64         \n",
      " 52  BH_LSD                     int64         \n",
      " 53  GroundElevation            float64       \n",
      " 54  KBElevation                float64       \n",
      " 55  TotalDepth                 float64       \n",
      " 56  LaheeClass                 category      \n",
      " 57  SurfaceOwner               category      \n",
      " 58  DrillingContractor         category      \n",
      " 59  SpudDate                   datetime64[ns]\n",
      " 60  FinalDrillDate             datetime64[ns]\n",
      " 61  RigReleaseDate             datetime64[ns]\n",
      " 62  DaysDrilling               float64       \n",
      " 63  DrillMetresPerDay          float64       \n",
      " 64  TVD                        float64       \n",
      " 65  WellProfile                category      \n",
      " 66  Country                    category      \n",
      " 67  PSACAreaCode               category      \n",
      " 68  PSACAreaName               category      \n",
      " 69  ProjectedDepth             float64       \n",
      " 70  StatusDate                 datetime64[ns]\n",
      " 71  StatusSource               category      \n",
      " 72  ProdPeriod                 datetime64[ns]\n",
      " 73  ProdType                   category      \n",
      " 74  Volume                     float64       \n",
      " 75  EPAPTId                    float64       \n",
      " 76  ObservationNumber          float64       \n",
      " 77  ActivityDate               datetime64[ns]\n",
      " 78  ActivityType               category      \n",
      " 79  IntervalTop                float64       \n",
      " 80  IntervalBase               float64       \n",
      " 81  PerfShots                  float64       \n",
      "dtypes: category(43), datetime64[ns](7), float64(17), int64(12), object(3)\n",
      "memory usage: 1.2+ GB\n"
     ]
    }
   ],
   "source": [
    "df2.info()"
   ]
  },
  {
   "cell_type": "markdown",
   "metadata": {},
   "source": [
    "## Create pivot table for production data"
   ]
  },
  {
   "cell_type": "code",
   "execution_count": 24,
   "metadata": {},
   "outputs": [
    {
     "data": {
      "text/html": [
       "<div>\n",
       "<style scoped>\n",
       "    .dataframe tbody tr th:only-of-type {\n",
       "        vertical-align: middle;\n",
       "    }\n",
       "\n",
       "    .dataframe tbody tr th {\n",
       "        vertical-align: top;\n",
       "    }\n",
       "\n",
       "    .dataframe thead th {\n",
       "        text-align: right;\n",
       "    }\n",
       "</style>\n",
       "<table border=\"1\" class=\"dataframe\">\n",
       "  <thead>\n",
       "    <tr style=\"text-align: right;\">\n",
       "      <th></th>\n",
       "      <th>ProdType</th>\n",
       "      <th>Condensate Production (Bbls)</th>\n",
       "      <th>Gas Production (MMcf)</th>\n",
       "      <th>Oil Production (Bbls)</th>\n",
       "      <th>Production Hours</th>\n",
       "      <th>Water Production (Bbls)</th>\n",
       "    </tr>\n",
       "    <tr>\n",
       "      <th>EPAssetsId</th>\n",
       "      <th>ProdPeriod</th>\n",
       "      <th></th>\n",
       "      <th></th>\n",
       "      <th></th>\n",
       "      <th></th>\n",
       "      <th></th>\n",
       "    </tr>\n",
       "  </thead>\n",
       "  <tbody>\n",
       "    <tr>\n",
       "      <th rowspan=\"5\" valign=\"top\">2225574</th>\n",
       "      <th>2015-03-31</th>\n",
       "      <td>0.0</td>\n",
       "      <td>6.222468</td>\n",
       "      <td>5027.43714</td>\n",
       "      <td>150</td>\n",
       "      <td>0.00000</td>\n",
       "    </tr>\n",
       "    <tr>\n",
       "      <th>2015-04-30</th>\n",
       "      <td>0.0</td>\n",
       "      <td>5.615053</td>\n",
       "      <td>3049.92402</td>\n",
       "      <td>467</td>\n",
       "      <td>0.00000</td>\n",
       "    </tr>\n",
       "    <tr>\n",
       "      <th>2015-05-31</th>\n",
       "      <td>0.0</td>\n",
       "      <td>7.892858</td>\n",
       "      <td>5304.18834</td>\n",
       "      <td>740</td>\n",
       "      <td>7938.98556</td>\n",
       "    </tr>\n",
       "    <tr>\n",
       "      <th>2015-06-30</th>\n",
       "      <td>0.0</td>\n",
       "      <td>5.717466</td>\n",
       "      <td>4863.90234</td>\n",
       "      <td>408</td>\n",
       "      <td>10258.66380</td>\n",
       "    </tr>\n",
       "    <tr>\n",
       "      <th>2015-07-31</th>\n",
       "      <td>0.0</td>\n",
       "      <td>3.107702</td>\n",
       "      <td>3936.15684</td>\n",
       "      <td>314</td>\n",
       "      <td>11344.28328</td>\n",
       "    </tr>\n",
       "  </tbody>\n",
       "</table>\n",
       "</div>"
      ],
      "text/plain": [
       "ProdType               Condensate Production (Bbls)  \\\n",
       "EPAssetsId ProdPeriod                                 \n",
       "2225574    2015-03-31                           0.0   \n",
       "           2015-04-30                           0.0   \n",
       "           2015-05-31                           0.0   \n",
       "           2015-06-30                           0.0   \n",
       "           2015-07-31                           0.0   \n",
       "\n",
       "ProdType               Gas Production (MMcf)         \\\n",
       "EPAssetsId ProdPeriod                                 \n",
       "2225574    2015-03-31                      6.222468   \n",
       "           2015-04-30                      5.615053   \n",
       "           2015-05-31                      7.892858   \n",
       "           2015-06-30                      5.717466   \n",
       "           2015-07-31                      3.107702   \n",
       "\n",
       "ProdType               Oil Production (Bbls)         \\\n",
       "EPAssetsId ProdPeriod                                 \n",
       "2225574    2015-03-31                    5027.43714   \n",
       "           2015-04-30                    3049.92402   \n",
       "           2015-05-31                    5304.18834   \n",
       "           2015-06-30                    4863.90234   \n",
       "           2015-07-31                    3936.15684   \n",
       "\n",
       "ProdType               Production Hours              \\\n",
       "EPAssetsId ProdPeriod                                 \n",
       "2225574    2015-03-31                           150   \n",
       "           2015-04-30                           467   \n",
       "           2015-05-31                           740   \n",
       "           2015-06-30                           408   \n",
       "           2015-07-31                           314   \n",
       "\n",
       "ProdType               Water Production (Bbls)       \n",
       "EPAssetsId ProdPeriod                                \n",
       "2225574    2015-03-31                       0.00000  \n",
       "           2015-04-30                       0.00000  \n",
       "           2015-05-31                    7938.98556  \n",
       "           2015-06-30                   10258.66380  \n",
       "           2015-07-31                   11344.28328  "
      ]
     },
     "execution_count": 24,
     "metadata": {},
     "output_type": "execute_result"
    }
   ],
   "source": [
    "wellproduction_pivot = well_production.pivot_table(index=['EPAssetsId', 'ProdPeriod'], columns='ProdType', values='Volume', fill_value=0, observed=True)\n",
    "\n",
    "wellproduction_pivot.head()"
   ]
  },
  {
   "cell_type": "code",
   "execution_count": 25,
   "metadata": {},
   "outputs": [
    {
     "name": "stderr",
     "output_type": "stream",
     "text": [
      ":FEATURES DONE:                    |█████████████████████| [100%]   00:01  -> (00:00 left)\n",
      ":PAIRWISE DONE:                    |█████████████████████| [100%]   00:00  -> (00:00 left)\n"
     ]
    },
    {
     "name": "stdout",
     "output_type": "stream",
     "text": [
      "Creating Associations graph... DONE!\n"
     ]
    }
   ],
   "source": [
    "wp_pivot=sv.analyze(wellproduction_pivot)"
   ]
  },
  {
   "cell_type": "code",
   "execution_count": 26,
   "metadata": {},
   "outputs": [
    {
     "name": "stdout",
     "output_type": "stream",
     "text": [
      "Report wellproduction_pivot.html was generated! NOTEBOOK/COLAB USERS: no browser will pop up, the report is saved in your notebook/colab files.\n"
     ]
    }
   ],
   "source": [
    "wp_pivot.show_html('wellproduction_pivot.html')"
   ]
  },
  {
   "cell_type": "markdown",
   "metadata": {},
   "source": [
    "## Groupby "
   ]
  },
  {
   "cell_type": "code",
   "execution_count": 27,
   "metadata": {},
   "outputs": [
    {
     "data": {
      "text/html": [
       "<div>\n",
       "<style scoped>\n",
       "    .dataframe tbody tr th:only-of-type {\n",
       "        vertical-align: middle;\n",
       "    }\n",
       "\n",
       "    .dataframe tbody tr th {\n",
       "        vertical-align: top;\n",
       "    }\n",
       "\n",
       "    .dataframe thead th {\n",
       "        text-align: right;\n",
       "    }\n",
       "</style>\n",
       "<table border=\"1\" class=\"dataframe\">\n",
       "  <thead>\n",
       "    <tr style=\"text-align: right;\">\n",
       "      <th></th>\n",
       "      <th>EPAssetsId</th>\n",
       "      <th>ProdPeriod</th>\n",
       "      <th>ProdType</th>\n",
       "      <th>Volume</th>\n",
       "    </tr>\n",
       "  </thead>\n",
       "  <tbody>\n",
       "    <tr>\n",
       "      <th>0</th>\n",
       "      <td>2588946</td>\n",
       "      <td>2019-12-31</td>\n",
       "      <td>Production Hours</td>\n",
       "      <td>744.0</td>\n",
       "    </tr>\n",
       "    <tr>\n",
       "      <th>1</th>\n",
       "      <td>2608797</td>\n",
       "      <td>2019-12-31</td>\n",
       "      <td>Production Hours</td>\n",
       "      <td>744.0</td>\n",
       "    </tr>\n",
       "    <tr>\n",
       "      <th>2</th>\n",
       "      <td>2617557</td>\n",
       "      <td>2019-12-31</td>\n",
       "      <td>Production Hours</td>\n",
       "      <td>744.0</td>\n",
       "    </tr>\n",
       "    <tr>\n",
       "      <th>3</th>\n",
       "      <td>2588149</td>\n",
       "      <td>2019-12-31</td>\n",
       "      <td>Production Hours</td>\n",
       "      <td>744.0</td>\n",
       "    </tr>\n",
       "    <tr>\n",
       "      <th>4</th>\n",
       "      <td>2583451</td>\n",
       "      <td>2019-12-31</td>\n",
       "      <td>Production Hours</td>\n",
       "      <td>744.0</td>\n",
       "    </tr>\n",
       "  </tbody>\n",
       "</table>\n",
       "</div>"
      ],
      "text/plain": [
       "   EPAssetsId ProdPeriod          ProdType  Volume\n",
       "0     2588946 2019-12-31  Production Hours   744.0\n",
       "1     2608797 2019-12-31  Production Hours   744.0\n",
       "2     2617557 2019-12-31  Production Hours   744.0\n",
       "3     2588149 2019-12-31  Production Hours   744.0\n",
       "4     2583451 2019-12-31  Production Hours   744.0"
      ]
     },
     "execution_count": 27,
     "metadata": {},
     "output_type": "execute_result"
    }
   ],
   "source": [
    "well_production.head()"
   ]
  },
  {
   "cell_type": "code",
   "execution_count": 28,
   "metadata": {},
   "outputs": [],
   "source": [
    "wp1=well_production.groupby(['EPAssetsId','ProdType']).sum()"
   ]
  },
  {
   "cell_type": "code",
   "execution_count": 29,
   "metadata": {},
   "outputs": [],
   "source": [
    "wp2=wp1.reset_index()"
   ]
  },
  {
   "cell_type": "code",
   "execution_count": 30,
   "metadata": {},
   "outputs": [],
   "source": [
    "well_prod_final=wp2.pivot(index='EPAssetsId', columns='ProdType', values='Volume')"
   ]
  },
  {
   "cell_type": "code",
   "execution_count": 31,
   "metadata": {},
   "outputs": [
    {
     "name": "stderr",
     "output_type": "stream",
     "text": [
      ":FEATURES DONE:                    |█████████████████████| [100%]   00:01  -> (00:00 left)\n",
      ":PAIRWISE DONE:                    |█████████████████████| [100%]   00:00  -> (00:00 left)\n"
     ]
    },
    {
     "name": "stdout",
     "output_type": "stream",
     "text": [
      "Creating Associations graph... DONE!\n"
     ]
    }
   ],
   "source": [
    "wpf=sv.analyze(well_prod_final)"
   ]
  },
  {
   "cell_type": "code",
   "execution_count": 32,
   "metadata": {},
   "outputs": [
    {
     "name": "stdout",
     "output_type": "stream",
     "text": [
      "Report production.html was generated! NOTEBOOK/COLAB USERS: no browser will pop up, the report is saved in your notebook/colab files.\n"
     ]
    }
   ],
   "source": [
    "wpf.show_html('production.html')"
   ]
  },
  {
   "cell_type": "code",
   "execution_count": null,
   "metadata": {},
   "outputs": [],
   "source": []
  }
 ],
 "metadata": {
  "kernelspec": {
   "display_name": "Python 3",
   "language": "python",
   "name": "python3"
  },
  "language_info": {
   "codemirror_mode": {
    "name": "ipython",
    "version": 3
   },
   "file_extension": ".py",
   "mimetype": "text/x-python",
   "name": "python",
   "nbconvert_exporter": "python",
   "pygments_lexer": "ipython3",
   "version": "3.7.4"
  }
 },
 "nbformat": 4,
 "nbformat_minor": 4
}
