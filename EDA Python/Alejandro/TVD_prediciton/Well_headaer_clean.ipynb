{
 "cells": [
  {
   "cell_type": "code",
   "execution_count": 2,
   "metadata": {},
   "outputs": [],
   "source": [
    "import pandas as pd\n",
    "import sweetviz as sv\n"
   ]
  },
  {
   "cell_type": "code",
   "execution_count": 3,
   "metadata": {},
   "outputs": [
    {
     "name": "stderr",
     "output_type": "stream",
     "text": [
      "/Users/alejocoy/opt/anaconda3/lib/python3.7/site-packages/IPython/core/interactiveshell.py:3063: DtypeWarning: Columns (24,26,27,28,52,54,55,56,80,81) have mixed types.Specify dtype option on import or set low_memory=False.\n",
      "  interactivity=interactivity, compiler=compiler, result=result)\n"
     ]
    }
   ],
   "source": [
    "data = pd.read_csv(\"../../../data/WellHeader_Datathon.csv\")"
   ]
  },
  {
   "cell_type": "code",
   "execution_count": 4,
   "metadata": {},
   "outputs": [],
   "source": [
    "## create two separate lists of columns to be dropped\n",
    "dropcodes_1= [\"UWI\",\"SurfaceOwner\", \"OSArea\", \"OSDeposit\", \"Confidential\", \"Country\", \"RegulatoryAgency\", \"Municipality\",  \"Agent\", \"BH_TownshipRange\", \"BH_QuarterUnit\", \"BH_Unit\", \"BH_Block\", \"BH_NTSMapSheet\", \"BH_Series\", \"BH_Sheet\", \"BH_Township\", \"BH_Meridian\", \"BH_Section\", \"BH_Area\"]\n",
    "\n",
    "dropcodes_2 = [\"CurrentOperatorParent\", \"CurrentOperatorParentName\", \"LicenseeParentCompany\", \"LicenseeParentCompanyName\", \"WellTypeStandardised\", \"SurveySystem\"]\n",
    "\n",
    "dropcodes_3 = ['CompletionDate','_Completed`Flag', '_Perf`Flag', 'Match', 'UnitID', 'UnitFlag', 'UnitName','StatusSource']\n",
    "\n",
    "dropcodes_4=['LicenceDate', 'ConfidentialReleaseDate','AbandonDate', 'SurfAbandonDate', 'SpudDate', 'FinalDrillDate', 'RigReleaseDate','StatusDate','CompletionDate']\n",
    "\n",
    "dropcodes_5=['Province','LicenceNumber','CurrentOperator','Licensee','CurrentStatusStandardised','WellName']\n",
    "##remove the columns based on lists above, and create new dataframe\n",
    "well_header = data.drop(columns=(dropcodes_1 + dropcodes_2 + dropcodes_3 + dropcodes_4 + dropcodes_5), axis=1, inplace=False)\n"
   ]
  },
  {
   "cell_type": "code",
   "execution_count": 5,
   "metadata": {},
   "outputs": [
    {
     "name": "stdout",
     "output_type": "stream",
     "text": [
      "<class 'pandas.core.frame.DataFrame'>\n",
      "RangeIndex: 10437 entries, 0 to 10436\n",
      "Data columns (total 41 columns):\n",
      " #   Column               Non-Null Count  Dtype  \n",
      "---  ------               --------------  -----  \n",
      " 0   EPAssetsId           10437 non-null  int64  \n",
      " 1   CurrentStatus        10437 non-null  object \n",
      " 2   WellType             10437 non-null  object \n",
      " 3   Formation            10437 non-null  object \n",
      " 4   Field                10437 non-null  object \n",
      " 5   Pool                 10437 non-null  object \n",
      " 6   Surf_Location        10437 non-null  object \n",
      " 7   Surf_Township        10437 non-null  object \n",
      " 8   Surf_Meridian        10437 non-null  object \n",
      " 9   Surf_Range           10437 non-null  object \n",
      " 10  Surf_Section         10437 non-null  object \n",
      " 11  Surf_LSD             10437 non-null  object \n",
      " 12  Surf_Longitude       10437 non-null  float64\n",
      " 13  Surf_Latitude        10437 non-null  float64\n",
      " 14  Surf_TownshipRange   10437 non-null  object \n",
      " 15  Surf_QuarterUnit     10437 non-null  object \n",
      " 16  Surf_Unit            10437 non-null  object \n",
      " 17  Surf_Block           10437 non-null  object \n",
      " 18  Surf_NTSMapSheet     10437 non-null  object \n",
      " 19  Surf_Series          10437 non-null  object \n",
      " 20  Surf_Area            10437 non-null  object \n",
      " 21  Surf_Sheet           10437 non-null  object \n",
      " 22  Surf_QuarterSection  10437 non-null  object \n",
      " 23  BH_Location          10437 non-null  object \n",
      " 24  BH_QuarterSection    8697 non-null   object \n",
      " 25  BH_Longitude         8697 non-null   float64\n",
      " 26  BH_Latitude          8697 non-null   float64\n",
      " 27  BH_Range             10437 non-null  object \n",
      " 28  BH_LSD               10437 non-null  object \n",
      " 29  GroundElevation      10429 non-null  float64\n",
      " 30  KBElevation          10437 non-null  float64\n",
      " 31  TotalDepth           10437 non-null  float64\n",
      " 32  LaheeClass           10437 non-null  object \n",
      " 33  DrillingContractor   10405 non-null  object \n",
      " 34  DaysDrilling         10431 non-null  float64\n",
      " 35  DrillMetresPerDay    10437 non-null  float64\n",
      " 36  TVD                  6731 non-null   float64\n",
      " 37  WellProfile          10437 non-null  object \n",
      " 38  PSACAreaCode         10437 non-null  object \n",
      " 39  PSACAreaName         10437 non-null  object \n",
      " 40  ProjectedDepth       10045 non-null  float64\n",
      "dtypes: float64(11), int64(1), object(29)\n",
      "memory usage: 3.3+ MB\n"
     ]
    }
   ],
   "source": [
    "#FInal Columns\n",
    "well_header.info()"
   ]
  },
  {
   "cell_type": "code",
   "execution_count": 6,
   "metadata": {},
   "outputs": [],
   "source": [
    "#Convert to datatype \n",
    "well_header['Surf_Range'] = well_header['Surf_Range'].astype(str)\n",
    "well_header['Surf_Township'] = well_header['Surf_Township'].astype(str)\n",
    "well_header['Surf_Section'] = well_header['Surf_Section'].astype(str)\n",
    "well_header['Surf_LSD'] = pd.to_numeric(well_header['Surf_LSD'], errors='coerce')\n",
    "well_header['BH_Range'] = pd.to_numeric(well_header['BH_Range'], errors='coerce')\n",
    "well_header['BH_LSD'] = pd.to_numeric(well_header['BH_LSD'], errors='coerce')"
   ]
  },
  {
   "cell_type": "code",
   "execution_count": 9,
   "metadata": {},
   "outputs": [
    {
     "name": "stderr",
     "output_type": "stream",
     "text": [
      ":FEATURES DONE:                    |█████████████████████| [100%]   00:08  -> (00:00 left)\n",
      ":PAIRWISE DONE:                    |█████████████████████| [100%]   00:04  -> (00:00 left)\n"
     ]
    },
    {
     "name": "stdout",
     "output_type": "stream",
     "text": [
      "Creating Associations graph... DONE!\n"
     ]
    }
   ],
   "source": [
    "df=sv.analyze(well_header)"
   ]
  },
  {
   "cell_type": "code",
   "execution_count": 34,
   "metadata": {},
   "outputs": [
    {
     "name": "stdout",
     "output_type": "stream",
     "text": [
      "Report well_header.html was generated! NOTEBOOK/COLAB USERS: no browser will pop up, the report is saved in your notebook/colab files.\n"
     ]
    }
   ],
   "source": [
    "df.show_html('well_header.html')"
   ]
  },
  {
   "cell_type": "code",
   "execution_count": 7,
   "metadata": {},
   "outputs": [],
   "source": [
    "wh =well_header[~well_header.TVD.isna()]"
   ]
  },
  {
   "cell_type": "code",
   "execution_count": 8,
   "metadata": {},
   "outputs": [],
   "source": [
    "wh.to_csv('well_header0.csv',index=False)"
   ]
  },
  {
   "cell_type": "code",
   "execution_count": 9,
   "metadata": {},
   "outputs": [],
   "source": [
    "test = well_header[well_header.TVD.isna()]"
   ]
  },
  {
   "cell_type": "code",
   "execution_count": 10,
   "metadata": {},
   "outputs": [],
   "source": [
    "test.to_csv('test0.csv',index=False)"
   ]
  },
  {
   "cell_type": "code",
   "execution_count": null,
   "metadata": {},
   "outputs": [],
   "source": []
  }
 ],
 "metadata": {
  "kernelspec": {
   "display_name": "Python 3",
   "language": "python",
   "name": "python3"
  },
  "language_info": {
   "codemirror_mode": {
    "name": "ipython",
    "version": 3
   },
   "file_extension": ".py",
   "mimetype": "text/x-python",
   "name": "python",
   "nbconvert_exporter": "python",
   "pygments_lexer": "ipython3",
   "version": "3.7.4"
  }
 },
 "nbformat": 4,
 "nbformat_minor": 4
}
