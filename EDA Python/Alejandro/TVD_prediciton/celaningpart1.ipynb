{
 "cells": [
  {
   "cell_type": "code",
   "execution_count": 1,
   "metadata": {},
   "outputs": [],
   "source": [
    "import pandas as pd\n",
    "import sweetviz as sv\n"
   ]
  },
  {
   "cell_type": "code",
   "execution_count": 2,
   "metadata": {},
   "outputs": [
    {
     "name": "stderr",
     "output_type": "stream",
     "text": [
      "/Users/alejocoy/opt/anaconda3/lib/python3.7/site-packages/IPython/core/interactiveshell.py:3063: DtypeWarning: Columns (24,26,27,28,52,54,55,56,80,81) have mixed types.Specify dtype option on import or set low_memory=False.\n",
      "  interactivity=interactivity, compiler=compiler, result=result)\n"
     ]
    }
   ],
   "source": [
    "data = pd.read_csv(\"../../../data/WellHeader_Datathon.csv\")"
   ]
  },
  {
   "cell_type": "code",
   "execution_count": 3,
   "metadata": {},
   "outputs": [],
   "source": [
    "## create two separate lists of columns to be dropped\n",
    "dropcodes_1= [\"UWI\",\"SurfaceOwner\", \"OSArea\", \"OSDeposit\", \"Confidential\", \"Country\", \"RegulatoryAgency\", \"Municipality\",  \"Agent\", \"BH_TownshipRange\", \"BH_QuarterUnit\", \"BH_Unit\", \"BH_Block\", \"BH_NTSMapSheet\", \"BH_Series\", \"BH_Sheet\", \"BH_Township\", \"BH_Meridian\", \"BH_Section\", \"BH_Area\"]\n",
    "\n",
    "dropcodes_2 = [\"CurrentOperatorParent\", \"CurrentOperatorParentName\", \"LicenseeParentCompany\", \"LicenseeParentCompanyName\", \"WellTypeStandardised\", \"SurveySystem\"]\n",
    "\n",
    "dropcodes_3 = ['CompletionDate','_Completed`Flag', '_Perf`Flag', 'Match', 'UnitID', 'UnitFlag', 'UnitName','StatusSource']\n",
    "\n",
    "dropcodes_4=['LicenceDate', 'ConfidentialReleaseDate','AbandonDate', 'SurfAbandonDate', 'SpudDate', 'FinalDrillDate', 'RigReleaseDate','StatusDate','CompletionDate']\n",
    "\n",
    "dropcodes_5=['Province','LicenceNumber','CurrentOperator','Licensee','CurrentStatusStandardised','WellName']\n",
    "c_transform= ['Surf_Location','Surf_TownshipRange','BH_Location','Surf_LSD','BH_QuarterSection','BH_Longitude','BH_Latitude','BH_LSD']\n",
    "##remove the columns based on lists above, and create new dataframe\n",
    "well_header = data.drop(columns=(dropcodes_1 + dropcodes_2 + dropcodes_3 + dropcodes_4 + dropcodes_5+c_transform), axis=1, inplace=False)\n"
   ]
  },
  {
   "cell_type": "code",
   "execution_count": 4,
   "metadata": {},
   "outputs": [
    {
     "name": "stdout",
     "output_type": "stream",
     "text": [
      "<class 'pandas.core.frame.DataFrame'>\n",
      "RangeIndex: 10437 entries, 0 to 10436\n",
      "Data columns (total 33 columns):\n",
      " #   Column               Non-Null Count  Dtype  \n",
      "---  ------               --------------  -----  \n",
      " 0   EPAssetsId           10437 non-null  int64  \n",
      " 1   CurrentStatus        10437 non-null  object \n",
      " 2   WellType             10437 non-null  object \n",
      " 3   Formation            10437 non-null  object \n",
      " 4   Field                10437 non-null  object \n",
      " 5   Pool                 10437 non-null  object \n",
      " 6   Surf_Township        10437 non-null  object \n",
      " 7   Surf_Meridian        10437 non-null  object \n",
      " 8   Surf_Range           10437 non-null  object \n",
      " 9   Surf_Section         10437 non-null  object \n",
      " 10  Surf_Longitude       10437 non-null  float64\n",
      " 11  Surf_Latitude        10437 non-null  float64\n",
      " 12  Surf_QuarterUnit     10437 non-null  object \n",
      " 13  Surf_Unit            10437 non-null  object \n",
      " 14  Surf_Block           10437 non-null  object \n",
      " 15  Surf_NTSMapSheet     10437 non-null  object \n",
      " 16  Surf_Series          10437 non-null  object \n",
      " 17  Surf_Area            10437 non-null  object \n",
      " 18  Surf_Sheet           10437 non-null  object \n",
      " 19  Surf_QuarterSection  10437 non-null  object \n",
      " 20  BH_Range             10437 non-null  object \n",
      " 21  GroundElevation      10429 non-null  float64\n",
      " 22  KBElevation          10437 non-null  float64\n",
      " 23  TotalDepth           10437 non-null  float64\n",
      " 24  LaheeClass           10437 non-null  object \n",
      " 25  DrillingContractor   10405 non-null  object \n",
      " 26  DaysDrilling         10431 non-null  float64\n",
      " 27  DrillMetresPerDay    10437 non-null  float64\n",
      " 28  TVD                  6731 non-null   float64\n",
      " 29  WellProfile          10437 non-null  object \n",
      " 30  PSACAreaCode         10437 non-null  object \n",
      " 31  PSACAreaName         10437 non-null  object \n",
      " 32  ProjectedDepth       10045 non-null  float64\n",
      "dtypes: float64(9), int64(1), object(23)\n",
      "memory usage: 2.6+ MB\n"
     ]
    }
   ],
   "source": [
    "#FInal Columns\n",
    "well_header.info()"
   ]
  },
  {
   "cell_type": "code",
   "execution_count": 7,
   "metadata": {},
   "outputs": [
    {
     "data": {
      "text/plain": [
       "['EPAssetsId',\n",
       " 'CurrentStatus',\n",
       " 'WellType',\n",
       " 'Formation',\n",
       " 'Field',\n",
       " 'Pool',\n",
       " 'Surf_Township',\n",
       " 'Surf_Meridian',\n",
       " 'Surf_Range',\n",
       " 'Surf_Section',\n",
       " 'Surf_Longitude',\n",
       " 'Surf_Latitude',\n",
       " 'Surf_QuarterUnit',\n",
       " 'Surf_Unit',\n",
       " 'Surf_Block',\n",
       " 'Surf_NTSMapSheet',\n",
       " 'Surf_Series',\n",
       " 'Surf_Area',\n",
       " 'Surf_Sheet',\n",
       " 'Surf_QuarterSection',\n",
       " 'BH_Range',\n",
       " 'GroundElevation',\n",
       " 'KBElevation',\n",
       " 'TotalDepth',\n",
       " 'LaheeClass',\n",
       " 'DrillingContractor',\n",
       " 'DaysDrilling',\n",
       " 'DrillMetresPerDay',\n",
       " 'TVD',\n",
       " 'WellProfile',\n",
       " 'PSACAreaCode',\n",
       " 'PSACAreaName',\n",
       " 'ProjectedDepth']"
      ]
     },
     "execution_count": 7,
     "metadata": {},
     "output_type": "execute_result"
    }
   ],
   "source": [
    "list(well_header.columns)"
   ]
  },
  {
   "cell_type": "code",
   "execution_count": 19,
   "metadata": {},
   "outputs": [],
   "source": [
    "#Convert to datatype \n",
    "well_header['Surf_Range'] = well_header['Surf_Range'].astype(str)\n",
    "well_header['Surf_Township'] = well_header['Surf_Township'].astype(str)\n",
    "well_header['Surf_Section'] = well_header['Surf_Section'].astype(str)\n",
    "well_header['BH_Range'] = pd.to_numeric(well_header['BH_Range'], errors='coerce')"
   ]
  },
  {
   "cell_type": "code",
   "execution_count": 20,
   "metadata": {},
   "outputs": [],
   "source": [
    "#df=sv.analyze(well_header)"
   ]
  },
  {
   "cell_type": "code",
   "execution_count": 21,
   "metadata": {},
   "outputs": [],
   "source": [
    "#df.show_html('well_header.html')"
   ]
  },
  {
   "cell_type": "code",
   "execution_count": 22,
   "metadata": {},
   "outputs": [],
   "source": [
    "wh =well_header[~well_header.TVD.isna()]"
   ]
  },
  {
   "cell_type": "code",
   "execution_count": 23,
   "metadata": {},
   "outputs": [],
   "source": [
    "wh.to_csv('well_header0.csv',index=False)"
   ]
  },
  {
   "cell_type": "code",
   "execution_count": 24,
   "metadata": {},
   "outputs": [],
   "source": [
    "test_data = pd.read_csv(\"../../../data/Submission_Sample.csv\")"
   ]
  },
  {
   "cell_type": "code",
   "execution_count": 25,
   "metadata": {},
   "outputs": [],
   "source": [
    "test = well_header[well_header['EPAssetsId'].isin(test_data['EPAssetsId'])].drop(columns='TVD')"
   ]
  },
  {
   "cell_type": "code",
   "execution_count": 26,
   "metadata": {},
   "outputs": [],
   "source": [
    "test = pd.merge(test,test_data, on='EPAssetsId')"
   ]
  },
  {
   "cell_type": "code",
   "execution_count": 29,
   "metadata": {},
   "outputs": [],
   "source": [
    "test.to_csv('test0.csv',index=False)"
   ]
  },
  {
   "cell_type": "code",
   "execution_count": null,
   "metadata": {},
   "outputs": [],
   "source": []
  },
  {
   "cell_type": "code",
   "execution_count": null,
   "metadata": {},
   "outputs": [],
   "source": []
  },
  {
   "cell_type": "code",
   "execution_count": null,
   "metadata": {},
   "outputs": [],
   "source": []
  },
  {
   "cell_type": "code",
   "execution_count": null,
   "metadata": {},
   "outputs": [],
   "source": []
  }
 ],
 "metadata": {
  "kernelspec": {
   "display_name": "Python 3",
   "language": "python",
   "name": "python3"
  },
  "language_info": {
   "codemirror_mode": {
    "name": "ipython",
    "version": 3
   },
   "file_extension": ".py",
   "mimetype": "text/x-python",
   "name": "python",
   "nbconvert_exporter": "python",
   "pygments_lexer": "ipython3",
   "version": "3.7.4"
  }
 },
 "nbformat": 4,
 "nbformat_minor": 4
}
