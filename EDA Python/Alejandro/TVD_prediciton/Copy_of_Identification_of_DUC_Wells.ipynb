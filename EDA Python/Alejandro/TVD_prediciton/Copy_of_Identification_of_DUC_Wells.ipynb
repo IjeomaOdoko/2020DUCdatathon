{
 "cells": [
  {
   "cell_type": "markdown",
   "metadata": {
    "colab_type": "text",
    "id": "Bc1OQrNZCsJF"
   },
   "source": [
    "Three (3) datasets (Wellheader, Production and PerfTreatment) were provided for wells in Alberta, British Columbia and saskatchewan. The purpose of this Untapped Energy Datathon exercise is to identify the DUC wells and provide insights.\n",
    "\n",
    "Key Assumptions made to identify DUC wells are as follows: \n",
    "\n",
    "> A well with a Current Status of 'Flowing', 'Gas Lift', 'Pumping' is not a DUC well.\n",
    "\n",
    "> A well with production volumes recorded  is not a DUC well.\n",
    "\n",
    "> A well with Completion Activities such as Perforations, Well Stimulations is not a DUC well.\n",
    "\n",
    "As part of the insights, we are also assuming that all wells where DUC wells at some point. We will also determine how long the non-DUC wells had DUC status by assuming that as the difference between the First Production Date or Last Activity Date whichever is greater. \n",
    "\n",
    "For exploratory Data Analysis please review separate Jupyter notebook 'EDA for Identification of DUC Wells' and corresponding html files. \n"
   ]
  },
  {
   "cell_type": "markdown",
   "metadata": {
    "colab_type": "text",
    "id": "IoMSnIioifBv"
   },
   "source": [
    "## Import Libraries"
   ]
  },
  {
   "cell_type": "code",
   "execution_count": 3,
   "metadata": {
    "colab": {
     "base_uri": "https://localhost:8080/",
     "height": 52
    },
    "colab_type": "code",
    "id": "s0hhNzsEitI9",
    "outputId": "c39a2cf4-3cb9-4cce-e4fd-287bdb680e00"
   },
   "outputs": [],
   "source": [
    "import matplotlib.pyplot as plt\n",
    "import pandas as pd\n",
    "import seaborn as sns\n",
    "import numpy as np\n"
   ]
  },
  {
   "cell_type": "markdown",
   "metadata": {
    "colab_type": "text",
    "id": "XF9u1NRE1k6M"
   },
   "source": [
    "## Load datasets"
   ]
  },
  {
   "cell_type": "code",
   "execution_count": 4,
   "metadata": {
    "colab": {},
    "colab_type": "code",
    "id": "rskYdaiTlhcb"
   },
   "outputs": [],
   "source": [
    "\n",
    "## list date columns to parse dates for wellheader dataset\n",
    "datecolumns = ['LicenceDate', 'ConfidentialReleaseDate','AbandonDate', 'SurfAbandonDate', 'SpudDate', 'FinalDrillDate', 'RigReleaseDate','StatusDate','CompletionDate']  \n",
    "\n",
    "# load datasets\n",
    "wellheader = pd.read_csv('../../../data/WellHeader_Datathon.csv',parse_dates=datecolumns, low_memory=False, na_values='Not Applicable')\n",
    "perftreatment = pd.read_csv('../../../data/PerfTreatments.csv',parse_dates=['ActivityDate'])\n",
    "wellproduction = pd.read_csv('../../../data/WellProduction.csv', parse_dates=['ProdPeriod'])\n"
   ]
  },
  {
   "cell_type": "code",
   "execution_count": 5,
   "metadata": {
    "colab": {},
    "colab_type": "code",
    "id": "ChAjubEn0diq"
   },
   "outputs": [],
   "source": [
    "wellheader = wellheader.iloc[:,0:85]\n",
    "wellproduction=wellproduction.iloc[:,0:4]\n",
    "perftreatment=perftreatment.iloc[:,0:8]"
   ]
  },
  {
   "cell_type": "markdown",
   "metadata": {
    "colab_type": "text",
    "id": "XnTbRZT3ErpW"
   },
   "source": [
    "## Convert datatypes"
   ]
  },
  {
   "cell_type": "code",
   "execution_count": 12,
   "metadata": {
    "colab": {},
    "colab_type": "code",
    "id": "Jnmp3SYwnVGa"
   },
   "outputs": [],
   "source": [
    "## Select objects to convert to category type for wellheader data\n",
    "def clean_pipeline2(df):\n",
    "    ## Select objects to convert to category type \n",
    "    cat =list(df.dtypes[df.dtypes == 'object'].index)\n",
    "    df[cat] = df[cat].astype('category')\n",
    "    surface_columns=['Surf_LSD','Surf_Section','Surf_Township','Surf_Range','BH_LSD','BH_Section','BH_Township','BH_Range']\n",
    "    df[surface_columns]=df[surface_columns].astype(str)\n",
    "    #df_s = df[column_selection]\n",
    "    #df_s['TVD']= df['TVD']\n",
    "    return df\n",
    "wellheader = clean_pipeline2(wellheader)\n",
    "\n",
    "# change ProdType and ActivityType columns from object to category datatype\n",
    "wellproduction['ProdType'] = wellproduction['ProdType'].astype('category')\n",
    "perftreatment['ActivityType'] = perftreatment['ActivityType'].astype('category')"
   ]
  },
  {
   "cell_type": "markdown",
   "metadata": {
    "colab_type": "text",
    "id": "gfFd7wkU1zdE"
   },
   "source": [
    "## Drop unnecessary Columns"
   ]
  },
  {
   "cell_type": "code",
   "execution_count": 9,
   "metadata": {
    "colab": {
     "base_uri": "https://localhost:8080/",
     "height": 52
    },
    "colab_type": "code",
    "id": "E68Ad50p0uVw",
    "outputId": "91976887-2914-4711-b315-21af6635cbeb"
   },
   "outputs": [
    {
     "name": "stdout",
     "output_type": "stream",
     "text": [
      "well columns to drop as follows: \n",
      "['CompletionDate', 'UnitID', 'UnitFlag', 'UnitName', 'Confidential', 'RegulatoryAgency', 'ConfidentialReleaseDate', 'AbandonDate', 'SurfAbandonDate', 'OSArea', 'OSDeposit', 'Municipality']\n"
     ]
    }
   ],
   "source": [
    "##create list of columns to be dropped\n",
    "dropcols_wellheader= ['CompletionDate','UnitID', 'UnitFlag', 'UnitName', 'Confidential', 'RegulatoryAgency', 'ConfidentialReleaseDate', 'AbandonDate', 'SurfAbandonDate', 'OSArea', 'OSDeposit', 'Municipality']\n",
    "print('well columns to drop as follows:' + ' ')\n",
    "print(dropcols_wellheader)"
   ]
  },
  {
   "cell_type": "code",
   "execution_count": null,
   "metadata": {},
   "outputs": [],
   "source": []
  },
  {
   "cell_type": "code",
   "execution_count": 10,
   "metadata": {
    "colab": {
     "base_uri": "https://localhost:8080/",
     "height": 34
    },
    "colab_type": "code",
    "id": "KKE-0fQA0y9n",
    "outputId": "b9dbcb71-98c1-40a9-fdb5-8216c5b12752"
   },
   "outputs": [
    {
     "data": {
      "text/plain": [
       "(10437, 73)"
      ]
     },
     "execution_count": 10,
     "metadata": {},
     "output_type": "execute_result"
    }
   ],
   "source": [
    "## drop columns selected\n",
    "wellheader = wellheader.drop(columns=dropcols_wellheader, axis=1, inplace=False)\n",
    "## Check number of rows and columns\n",
    "wellheader.shape"
   ]
  },
  {
   "cell_type": "code",
   "execution_count": 30,
   "metadata": {},
   "outputs": [
    {
     "data": {
      "text/plain": [
       "Index(['EPAssetsId', 'Province', 'LicenceNumber', 'UWI', 'CurrentOperator',\n",
       "       'CurrentOperatorParent', 'CurrentOperatorParentName', 'Licensee',\n",
       "       'LicenseeParentCompany', 'LicenseeParentCompanyName', 'LicenceDate',\n",
       "       'CurrentStatus', 'CurrentStatusStandardised', 'WellType',\n",
       "       'WellTypeStandardised', 'WellName', 'Formation', 'Field', 'Pool',\n",
       "       'SurveySystem', 'Surf_Location', 'Surf_Township', 'Surf_Meridian',\n",
       "       'Surf_Range', 'Surf_Section', 'Surf_LSD', 'Surf_Longitude',\n",
       "       'Surf_Latitude', 'Surf_TownshipRange', 'Surf_QuarterUnit', 'Surf_Unit',\n",
       "       'Surf_Block', 'Surf_NTSMapSheet', 'Surf_Series', 'Surf_Area',\n",
       "       'Surf_Sheet', 'Surf_QuarterSection', 'BH_Location', 'BH_TownshipRange',\n",
       "       'BH_QuarterUnit', 'BH_Unit', 'BH_Block', 'BH_NTSMapSheet', 'BH_Series',\n",
       "       'BH_Area', 'BH_Sheet', 'BH_QuarterSection', 'BH_Longitude',\n",
       "       'BH_Latitude', 'BH_Township', 'BH_Meridian', 'BH_Range', 'BH_Section',\n",
       "       'BH_LSD', 'GroundElevation', 'KBElevation', 'TotalDepth', 'LaheeClass',\n",
       "       'SurfaceOwner', 'DrillingContractor', 'SpudDate', 'FinalDrillDate',\n",
       "       'RigReleaseDate', 'DaysDrilling', 'DrillMetresPerDay', 'TVD',\n",
       "       'WellProfile', 'Country', 'PSACAreaCode', 'PSACAreaName',\n",
       "       'ProjectedDepth', 'StatusDate', 'StatusSource'],\n",
       "      dtype='object')"
      ]
     },
     "execution_count": 30,
     "metadata": {},
     "output_type": "execute_result"
    }
   ],
   "source": [
    "wellheader.columns"
   ]
  },
  {
   "cell_type": "code",
   "execution_count": null,
   "metadata": {},
   "outputs": [],
   "source": []
  },
  {
   "cell_type": "markdown",
   "metadata": {
    "colab_type": "text",
    "id": "LfB4DJbPdzvp"
   },
   "source": [
    "## Add a Completion Activity Column to PerfTreatment Data"
   ]
  },
  {
   "cell_type": "code",
   "execution_count": 13,
   "metadata": {
    "colab": {
     "base_uri": "https://localhost:8080/",
     "height": 54
    },
    "colab_type": "code",
    "id": "Fm72C6rmNxZw",
    "outputId": "ad0bec68-af74-44f6-c913-b8a6c18898ef"
   },
   "outputs": [
    {
     "name": "stdout",
     "output_type": "stream",
     "text": [
      "{'Perforation': 'Yes', 'Fracture': 'Yes', 'Hydraulic Fracture': 'Yes', 'Sand Fracture': 'Yes', 'Open Hole': 'No', 'Chemical Fracture': 'Yes', 'Other': 'No', 'Acid Squeeze': 'Yes', 'Bridge Plug Set': 'No', 'Acid Wash': 'Yes', 'Acidize': 'Yes', 'Remedial': 'Yes', 'Cement Squeeze': 'Yes', 'Hydra Jet Perforation': 'Yes', 'Slotted Liner': 'Yes', 'Open Hole/Barefoot Completion': 'No', 'Remedial Casing Cementing': 'No', 'Cement Plug': 'Yes', 'Multi-Stage Fracture - Port Closed': 'Yes', 'Bridge Plug - No Cement': 'No', 'Packing Device Capped w/Cement': 'Yes', 'Chemical Squeeze': 'Yes', 'Casing Patch': 'No', 'Acid Treatment': 'Yes', 'Multi-Stage Fracture': 'Yes'}\n"
     ]
    }
   ],
   "source": [
    "## create perf activity type dictionary to classify as Completion Activity (Yes or No) based on our assumptions and intrepretation for the different perftreatment['ActivityType'].\n",
    "perf_activity_dict = {'Perforation': 'Yes',\n",
    " 'Fracture': 'Yes',\n",
    " 'Hydraulic Fracture': 'Yes',\n",
    " 'Sand Fracture': 'Yes',\n",
    " 'Open Hole': 'No',\n",
    " 'Chemical Fracture': 'Yes',\n",
    " 'Other' : 'No',\n",
    " 'Acid Squeeze' : 'Yes',\n",
    " 'Bridge Plug Set' : 'No',\n",
    " 'Acid Wash' : 'Yes',\n",
    " 'Acidize' : 'Yes',\n",
    " 'Remedial' : 'Yes',\n",
    " 'Cement Squeeze' : 'Yes',\n",
    "'Hydra Jet Perforation': 'Yes',\n",
    " 'Slotted Liner' : 'Yes',\n",
    " 'Open Hole/Barefoot Completion' : 'No',\n",
    " 'Remedial Casing Cementing' : 'No',\n",
    " 'Cement Plug' : 'Yes',\n",
    " 'Multi-Stage Fracture - Port Closed': 'Yes',\n",
    " 'Bridge Plug - No Cement' : 'No',\n",
    " 'Packing Device Capped w/Cement' : 'Yes',\n",
    " 'Chemical Squeeze': 'Yes',\n",
    " 'Casing Patch' : 'No',\n",
    " 'Acid Treatment' : 'Yes',\n",
    " 'Multi-Stage Fracture': 'Yes'}\n",
    "\n",
    "print(perf_activity_dict)"
   ]
  },
  {
   "cell_type": "code",
   "execution_count": 14,
   "metadata": {
    "colab": {},
    "colab_type": "code",
    "id": "afDOpnP1Py6e"
   },
   "outputs": [],
   "source": [
    "# map dictionary to the existing perftreatment table\n",
    "perftreatment['CompletionActivity'] = perftreatment['ActivityType'].map(perf_activity_dict)"
   ]
  },
  {
   "cell_type": "code",
   "execution_count": 15,
   "metadata": {
    "colab": {
     "base_uri": "https://localhost:8080/",
     "height": 52
    },
    "colab_type": "code",
    "id": "alfHL3CKP2Jf",
    "outputId": "141c54f5-e783-4a96-f2da-721128a8a9d4"
   },
   "outputs": [
    {
     "data": {
      "text/plain": [
       "[Yes, No, NaN]\n",
       "Categories (2, object): [Yes, No]"
      ]
     },
     "execution_count": 15,
     "metadata": {},
     "output_type": "execute_result"
    }
   ],
   "source": [
    "perftreatment['CompletionActivity'] = perftreatment['CompletionActivity'].astype('category')\n",
    "\n",
    "perftreatment['CompletionActivity'].unique()"
   ]
  },
  {
   "cell_type": "markdown",
   "metadata": {
    "colab_type": "text",
    "id": "0FjC63T8F36G"
   },
   "source": [
    "## Identify DUC Wells. \n",
    "\n",
    "1. Assume any Well that doesn't have status as ['Pumping', 'Flowing', 'Gas Lift'] could potentially be a DUC well. Create a subset of data of wells without this status as subset_wellheader. \n",
    "2. Filter out the wells from the subset_wellheader data that are not in the perftreatment or production datasets as DUCS.\n",
    "3. Filter out any wells in the perftreatment data, that have no recorded production data as DUC_perf.\n",
    "4. Identify if there are any potential DUCs based on perftreatment data only. \n",
    "5. If there are cross check with DUCS_perf (perftreatment wells with no production data). The assumption here is that some wells may have been completed but had no production volumes. \n",
    "6. Filter out wells that have identified to have no completion activities from DUCS_perf as DUCS_perf_final. \n",
    "\n"
   ]
  },
  {
   "cell_type": "code",
   "execution_count": 16,
   "metadata": {
    "colab": {
     "base_uri": "https://localhost:8080/",
     "height": 52
    },
    "colab_type": "code",
    "id": "dQBaECLfGLNv",
    "outputId": "3125f1d9-444b-446c-cfcb-58ca144f1a87"
   },
   "outputs": [
    {
     "data": {
      "text/plain": [
       "[Suspended, Active]\n",
       "Categories (2, object): [Suspended, Active]"
      ]
     },
     "execution_count": 16,
     "metadata": {},
     "output_type": "execute_result"
    }
   ],
   "source": [
    "# filter out wells with Current Status that are not in ['Pumping', 'Flowing', 'Gas Lift']\n",
    "subset_wellheader = wellheader[~wellheader['CurrentStatus'].isin(['Pumping', 'Flowing', 'Gas Lift'])]\n",
    "\n",
    "# check only required variables for Current Status remain\n",
    "subset_wellheader['CurrentStatus'].unique()\n"
   ]
  },
  {
   "cell_type": "code",
   "execution_count": 17,
   "metadata": {
    "colab": {
     "base_uri": "https://localhost:8080/",
     "height": 34
    },
    "colab_type": "code",
    "id": "aXerGUvLJwpd",
    "outputId": "6c5c7a90-1910-437c-94c0-638b803ff216"
   },
   "outputs": [
    {
     "name": "stdout",
     "output_type": "stream",
     "text": [
      "number of wells with Current Status not in [\"Pumping\", \"Flowing\", \"Gas Lift\"]  5891\n"
     ]
    }
   ],
   "source": [
    "# check number of wells remaining \n",
    "print('number of wells with Current Status not in [\"Pumping\", \"Flowing\", \"Gas Lift\"] ', subset_wellheader['EPAssetsId'].nunique())"
   ]
  },
  {
   "cell_type": "code",
   "execution_count": 18,
   "metadata": {
    "colab": {
     "base_uri": "https://localhost:8080/",
     "height": 34
    },
    "colab_type": "code",
    "id": "a5-IbZHCF2UG",
    "outputId": "ed94d662-163b-4e35-83c0-51c0c4373ad3"
   },
   "outputs": [
    {
     "name": "stdout",
     "output_type": "stream",
     "text": [
      "number of wells not in perf_treatment data nor in well_production data  17\n"
     ]
    }
   ],
   "source": [
    "# filtering wells not in perf_treatment nor in well_production from subset_wellheader\n",
    "DUCS = subset_wellheader[~subset_wellheader['EPAssetsId'].isin(perftreatment['EPAssetsId'])]\n",
    "DUCS = DUCS[~DUCS['EPAssetsId'].isin(wellproduction['EPAssetsId'])]\n",
    "print ('number of wells not in perf_treatment data nor in well_production data ', DUCS.shape[0])"
   ]
  },
  {
   "cell_type": "code",
   "execution_count": 19,
   "metadata": {
    "colab": {
     "base_uri": "https://localhost:8080/",
     "height": 34
    },
    "colab_type": "code",
    "id": "PYJpGFHzQXkZ",
    "outputId": "1004d690-0fee-4601-a4ea-96dd732f344c"
   },
   "outputs": [
    {
     "name": "stdout",
     "output_type": "stream",
     "text": [
      "number of wells from perftreatment datatable that have no production data  21\n"
     ]
    }
   ],
   "source": [
    "# filtering wells in perftreatment that have no production data\n",
    "DUCS_perf = perftreatment[~perftreatment['EPAssetsId'].isin(wellproduction['EPAssetsId'])]\n",
    "print('number of wells from perftreatment datatable that have no production data ', DUCS_perf['EPAssetsId'].nunique())"
   ]
  },
  {
   "cell_type": "code",
   "execution_count": 20,
   "metadata": {
    "colab": {
     "base_uri": "https://localhost:8080/",
     "height": 87
    },
    "colab_type": "code",
    "id": "Z0ZUb4gcP_M2",
    "outputId": "34b31d15-569e-4596-e16e-f1a9b0d24a2d"
   },
   "outputs": [
    {
     "name": "stdout",
     "output_type": "stream",
     "text": [
      "number of wells in perftreatment data  10108\n",
      "number of wells in perftreatment data with Completion Activity as \"Yes\"  9906\n",
      "number of wells in perftreatment data with Completion Activity as \"No\"  2129\n",
      "number of wells in perftreatment data with Completion Activity as \"NaN\"  46\n"
     ]
    }
   ],
   "source": [
    "## Create subsets of Perf Treatment to obtain wells which have Completion Activity as Yes, No or NaN\n",
    "perftreatment_subset_columns = perftreatment[['EPAssetsId', 'CompletionActivity', 'ActivityDate']]\n",
    "\n",
    "perftreatment_subset_null_values = perftreatment_subset_columns[pd.isnull(perftreatment_subset_columns['CompletionActivity'])]\n",
    "\n",
    "perftreatment_subset2 = perftreatment_subset_columns[perftreatment_subset_columns['CompletionActivity'] !='Yes']\n",
    "\n",
    "perftreatment_subset1 = perftreatment_subset_columns[perftreatment_subset_columns['CompletionActivity'] =='Yes']\n",
    "\n",
    "print('number of wells in perftreatment data ', perftreatment_subset_columns['EPAssetsId'].nunique())\n",
    "\n",
    "print('number of wells in perftreatment data with Completion Activity as \"Yes\" ', perftreatment_subset1['EPAssetsId'].nunique())\n",
    "\n",
    "print('number of wells in perftreatment data with Completion Activity as \"No\" ', perftreatment_subset2['EPAssetsId'].nunique())\n",
    "\n",
    "print('number of wells in perftreatment data with Completion Activity as \"NaN\" ', perftreatment_subset_null_values['EPAssetsId'].nunique())"
   ]
  },
  {
   "cell_type": "code",
   "execution_count": 21,
   "metadata": {
    "colab": {
     "base_uri": "https://localhost:8080/",
     "height": 34
    },
    "colab_type": "code",
    "id": "dYZ4irdnzrcZ",
    "outputId": "3406828d-7770-44ee-92c4-3ebc9a440828"
   },
   "outputs": [
    {
     "name": "stdout",
     "output_type": "stream",
     "text": [
      "Potential number of DUC wells using only the CompletionActivity criteria from perftreatment table =  202\n"
     ]
    }
   ],
   "source": [
    "# calculate number of wells with Completion Activity with only No or NaN\n",
    "\n",
    "if perftreatment_subset_columns['EPAssetsId'].nunique() > perftreatment_subset1['EPAssetsId'].nunique():\n",
    "    Potential_DUC_wells = perftreatment_subset_columns['EPAssetsId'].nunique() - perftreatment_subset1['EPAssetsId'].nunique()\n",
    "    print('Potential number of DUC wells using only the CompletionActivity criteria from perftreatment table = ', Potential_DUC_wells)\n",
    "else: \n",
    "    print('No wells identified as potential DUC wells using only CompletionActivity criteria from perftreatment table')"
   ]
  },
  {
   "cell_type": "code",
   "execution_count": 22,
   "metadata": {
    "colab": {
     "base_uri": "https://localhost:8080/",
     "height": 77
    },
    "colab_type": "code",
    "id": "xv-RrvEwabAi",
    "outputId": "7960b619-ddab-420d-f826-2211adc53ae2"
   },
   "outputs": [
    {
     "data": {
      "text/html": [
       "<div>\n",
       "<style scoped>\n",
       "    .dataframe tbody tr th:only-of-type {\n",
       "        vertical-align: middle;\n",
       "    }\n",
       "\n",
       "    .dataframe tbody tr th {\n",
       "        vertical-align: top;\n",
       "    }\n",
       "\n",
       "    .dataframe thead th {\n",
       "        text-align: right;\n",
       "    }\n",
       "</style>\n",
       "<table border=\"1\" class=\"dataframe\">\n",
       "  <thead>\n",
       "    <tr style=\"text-align: right;\">\n",
       "      <th></th>\n",
       "      <th>EPAssetsId</th>\n",
       "      <th>EPAPTId</th>\n",
       "      <th>ObservationNumber</th>\n",
       "      <th>ActivityDate</th>\n",
       "      <th>ActivityType</th>\n",
       "      <th>IntervalTop</th>\n",
       "      <th>IntervalBase</th>\n",
       "      <th>PerfShots</th>\n",
       "      <th>CompletionActivity</th>\n",
       "    </tr>\n",
       "  </thead>\n",
       "  <tbody>\n",
       "    <tr>\n",
       "      <th>276538</th>\n",
       "      <td>40817</td>\n",
       "      <td>216191</td>\n",
       "      <td>NaN</td>\n",
       "      <td>2019-11-04</td>\n",
       "      <td>Open Hole</td>\n",
       "      <td>1677.0</td>\n",
       "      <td>4256.0</td>\n",
       "      <td>NaN</td>\n",
       "      <td>No</td>\n",
       "    </tr>\n",
       "  </tbody>\n",
       "</table>\n",
       "</div>"
      ],
      "text/plain": [
       "        EPAssetsId  EPAPTId  ObservationNumber ActivityDate ActivityType  \\\n",
       "276538       40817   216191                NaN   2019-11-04    Open Hole   \n",
       "\n",
       "        IntervalTop  IntervalBase  PerfShots CompletionActivity  \n",
       "276538       1677.0        4256.0        NaN                 No  "
      ]
     },
     "execution_count": 22,
     "metadata": {},
     "output_type": "execute_result"
    }
   ],
   "source": [
    "# check to see if there are any wells with no production that have also not been completed\n",
    "DUCS_perf_final= DUCS_perf[~DUCS_perf['EPAssetsId'].isin(perftreatment_subset1['EPAssetsId'])]\n"
   ]
  },
  {
   "cell_type": "markdown",
   "metadata": {
    "colab_type": "text",
    "id": "C6ehfW97Whd-"
   },
   "source": [
    "## Append DUC well lists to get complete final list"
   ]
  },
  {
   "cell_type": "code",
   "execution_count": 23,
   "metadata": {
    "colab": {
     "base_uri": "https://localhost:8080/",
     "height": 34
    },
    "colab_type": "code",
    "id": "eDcuFHDzWfdt",
    "outputId": "0c00248c-65a3-4894-9315-e2b33322b00f"
   },
   "outputs": [
    {
     "data": {
      "text/plain": [
       "(18,)"
      ]
     },
     "execution_count": 23,
     "metadata": {},
     "output_type": "execute_result"
    }
   ],
   "source": [
    "Final_DUC_List = DUCS['EPAssetsId'].append(DUCS_perf_final['EPAssetsId'].drop_duplicates(), ignore_index=True)\n",
    "\n",
    "Final_DUC_List.shape"
   ]
  },
  {
   "cell_type": "code",
   "execution_count": 29,
   "metadata": {},
   "outputs": [
    {
     "data": {
      "text/plain": [
       "0     43463\n",
       "1     43469\n",
       "2     42139\n",
       "3     42138\n",
       "4     42723\n",
       "5     42722\n",
       "6     42721\n",
       "7     42720\n",
       "8     43795\n",
       "9     43794\n",
       "10    43793\n",
       "11    43891\n",
       "12    43896\n",
       "13    43851\n",
       "14    42608\n",
       "15    42607\n",
       "16    42606\n",
       "17    40817\n",
       "Name: EPAssetsId, dtype: int64"
      ]
     },
     "execution_count": 29,
     "metadata": {},
     "output_type": "execute_result"
    }
   ],
   "source": [
    "Final_DUC_List"
   ]
  },
  {
   "cell_type": "code",
   "execution_count": 28,
   "metadata": {},
   "outputs": [
    {
     "data": {
      "text/html": [
       "<div>\n",
       "<style scoped>\n",
       "    .dataframe tbody tr th:only-of-type {\n",
       "        vertical-align: middle;\n",
       "    }\n",
       "\n",
       "    .dataframe tbody tr th {\n",
       "        vertical-align: top;\n",
       "    }\n",
       "\n",
       "    .dataframe thead th {\n",
       "        text-align: right;\n",
       "    }\n",
       "</style>\n",
       "<table border=\"1\" class=\"dataframe\">\n",
       "  <thead>\n",
       "    <tr style=\"text-align: right;\">\n",
       "      <th></th>\n",
       "      <th>EPAssetsId</th>\n",
       "      <th>Province</th>\n",
       "      <th>LicenceNumber</th>\n",
       "      <th>UWI</th>\n",
       "      <th>CurrentOperator</th>\n",
       "      <th>CurrentOperatorParent</th>\n",
       "      <th>CurrentOperatorParentName</th>\n",
       "      <th>Licensee</th>\n",
       "      <th>LicenseeParentCompany</th>\n",
       "      <th>LicenseeParentCompanyName</th>\n",
       "      <th>...</th>\n",
       "      <th>DaysDrilling</th>\n",
       "      <th>DrillMetresPerDay</th>\n",
       "      <th>TVD</th>\n",
       "      <th>WellProfile</th>\n",
       "      <th>Country</th>\n",
       "      <th>PSACAreaCode</th>\n",
       "      <th>PSACAreaName</th>\n",
       "      <th>ProjectedDepth</th>\n",
       "      <th>StatusDate</th>\n",
       "      <th>StatusSource</th>\n",
       "    </tr>\n",
       "  </thead>\n",
       "  <tbody>\n",
       "    <tr>\n",
       "      <th>7787</th>\n",
       "      <td>43463</td>\n",
       "      <td>British Columbia</td>\n",
       "      <td>37176</td>\n",
       "      <td>103131608823W600</td>\n",
       "      <td>Kelt Exploration (Lng) Ltd.</td>\n",
       "      <td>4007</td>\n",
       "      <td>Kelt Exploration Ltd.</td>\n",
       "      <td>Kelt Exploration (Lng) Ltd.</td>\n",
       "      <td>4007</td>\n",
       "      <td>Kelt Exploration Ltd.</td>\n",
       "      <td>...</td>\n",
       "      <td>267.0</td>\n",
       "      <td>18.906367</td>\n",
       "      <td>NaN</td>\n",
       "      <td>Horizontal</td>\n",
       "      <td>Canada</td>\n",
       "      <td>BC2</td>\n",
       "      <td>Northern British Columbia</td>\n",
       "      <td>4780.0</td>\n",
       "      <td>2020-08-14</td>\n",
       "      <td>BCOGC</td>\n",
       "    </tr>\n",
       "    <tr>\n",
       "      <th>7798</th>\n",
       "      <td>43469</td>\n",
       "      <td>British Columbia</td>\n",
       "      <td>37184</td>\n",
       "      <td>105161708823W600</td>\n",
       "      <td>Kelt Exploration (Lng) Ltd.</td>\n",
       "      <td>4007</td>\n",
       "      <td>Kelt Exploration Ltd.</td>\n",
       "      <td>Kelt Exploration (Lng) Ltd.</td>\n",
       "      <td>4007</td>\n",
       "      <td>Kelt Exploration Ltd.</td>\n",
       "      <td>...</td>\n",
       "      <td>237.0</td>\n",
       "      <td>20.907173</td>\n",
       "      <td>NaN</td>\n",
       "      <td>Horizontal</td>\n",
       "      <td>Canada</td>\n",
       "      <td>BC2</td>\n",
       "      <td>Northern British Columbia</td>\n",
       "      <td>4915.0</td>\n",
       "      <td>2020-08-14</td>\n",
       "      <td>BCOGC</td>\n",
       "    </tr>\n",
       "    <tr>\n",
       "      <th>8179</th>\n",
       "      <td>42139</td>\n",
       "      <td>British Columbia</td>\n",
       "      <td>34828</td>\n",
       "      <td>103043308015W600</td>\n",
       "      <td>Tourmaline Oil Corp.</td>\n",
       "      <td>1312</td>\n",
       "      <td>Tourmaline Oil Corp.</td>\n",
       "      <td>Tourmaline Oil Corp.</td>\n",
       "      <td>1312</td>\n",
       "      <td>Tourmaline Oil Corp.</td>\n",
       "      <td>...</td>\n",
       "      <td>48.0</td>\n",
       "      <td>79.875000</td>\n",
       "      <td>NaN</td>\n",
       "      <td>Horizontal</td>\n",
       "      <td>Canada</td>\n",
       "      <td>BC2</td>\n",
       "      <td>Northern British Columbia</td>\n",
       "      <td>4500.0</td>\n",
       "      <td>2020-08-14</td>\n",
       "      <td>BCOGC</td>\n",
       "    </tr>\n",
       "    <tr>\n",
       "      <th>8180</th>\n",
       "      <td>42138</td>\n",
       "      <td>British Columbia</td>\n",
       "      <td>34827</td>\n",
       "      <td>102043308015W600</td>\n",
       "      <td>Tourmaline Oil Corp.</td>\n",
       "      <td>1312</td>\n",
       "      <td>Tourmaline Oil Corp.</td>\n",
       "      <td>Tourmaline Oil Corp.</td>\n",
       "      <td>1312</td>\n",
       "      <td>Tourmaline Oil Corp.</td>\n",
       "      <td>...</td>\n",
       "      <td>42.0</td>\n",
       "      <td>92.619048</td>\n",
       "      <td>NaN</td>\n",
       "      <td>Horizontal</td>\n",
       "      <td>Canada</td>\n",
       "      <td>BC2</td>\n",
       "      <td>Northern British Columbia</td>\n",
       "      <td>4500.0</td>\n",
       "      <td>2020-08-14</td>\n",
       "      <td>BCOGC</td>\n",
       "    </tr>\n",
       "    <tr>\n",
       "      <th>8695</th>\n",
       "      <td>42723</td>\n",
       "      <td>British Columbia</td>\n",
       "      <td>35737</td>\n",
       "      <td>102041208015W600</td>\n",
       "      <td>Arc Resources Ltd.</td>\n",
       "      <td>16</td>\n",
       "      <td>ARC Resources Ltd.</td>\n",
       "      <td>Arc Resources Ltd.</td>\n",
       "      <td>16</td>\n",
       "      <td>ARC Resources Ltd.</td>\n",
       "      <td>...</td>\n",
       "      <td>37.0</td>\n",
       "      <td>135.243243</td>\n",
       "      <td>NaN</td>\n",
       "      <td>Horizontal</td>\n",
       "      <td>Canada</td>\n",
       "      <td>BC2</td>\n",
       "      <td>Northern British Columbia</td>\n",
       "      <td>4600.0</td>\n",
       "      <td>2020-08-14</td>\n",
       "      <td>BCOGC</td>\n",
       "    </tr>\n",
       "  </tbody>\n",
       "</table>\n",
       "<p>5 rows × 73 columns</p>\n",
       "</div>"
      ],
      "text/plain": [
       "      EPAssetsId          Province LicenceNumber               UWI  \\\n",
       "7787       43463  British Columbia         37176  103131608823W600   \n",
       "7798       43469  British Columbia         37184  105161708823W600   \n",
       "8179       42139  British Columbia         34828  103043308015W600   \n",
       "8180       42138  British Columbia         34827  102043308015W600   \n",
       "8695       42723  British Columbia         35737  102041208015W600   \n",
       "\n",
       "                  CurrentOperator  CurrentOperatorParent  \\\n",
       "7787  Kelt Exploration (Lng) Ltd.                   4007   \n",
       "7798  Kelt Exploration (Lng) Ltd.                   4007   \n",
       "8179         Tourmaline Oil Corp.                   1312   \n",
       "8180         Tourmaline Oil Corp.                   1312   \n",
       "8695           Arc Resources Ltd.                     16   \n",
       "\n",
       "     CurrentOperatorParentName                     Licensee  \\\n",
       "7787     Kelt Exploration Ltd.  Kelt Exploration (Lng) Ltd.   \n",
       "7798     Kelt Exploration Ltd.  Kelt Exploration (Lng) Ltd.   \n",
       "8179      Tourmaline Oil Corp.         Tourmaline Oil Corp.   \n",
       "8180      Tourmaline Oil Corp.         Tourmaline Oil Corp.   \n",
       "8695        ARC Resources Ltd.           Arc Resources Ltd.   \n",
       "\n",
       "      LicenseeParentCompany LicenseeParentCompanyName  ... DaysDrilling  \\\n",
       "7787                   4007     Kelt Exploration Ltd.  ...        267.0   \n",
       "7798                   4007     Kelt Exploration Ltd.  ...        237.0   \n",
       "8179                   1312      Tourmaline Oil Corp.  ...         48.0   \n",
       "8180                   1312      Tourmaline Oil Corp.  ...         42.0   \n",
       "8695                     16        ARC Resources Ltd.  ...         37.0   \n",
       "\n",
       "     DrillMetresPerDay TVD WellProfile Country PSACAreaCode  \\\n",
       "7787         18.906367 NaN  Horizontal  Canada          BC2   \n",
       "7798         20.907173 NaN  Horizontal  Canada          BC2   \n",
       "8179         79.875000 NaN  Horizontal  Canada          BC2   \n",
       "8180         92.619048 NaN  Horizontal  Canada          BC2   \n",
       "8695        135.243243 NaN  Horizontal  Canada          BC2   \n",
       "\n",
       "                   PSACAreaName ProjectedDepth StatusDate StatusSource  \n",
       "7787  Northern British Columbia         4780.0 2020-08-14        BCOGC  \n",
       "7798  Northern British Columbia         4915.0 2020-08-14        BCOGC  \n",
       "8179  Northern British Columbia         4500.0 2020-08-14        BCOGC  \n",
       "8180  Northern British Columbia         4500.0 2020-08-14        BCOGC  \n",
       "8695  Northern British Columbia         4600.0 2020-08-14        BCOGC  \n",
       "\n",
       "[5 rows x 73 columns]"
      ]
     },
     "execution_count": 28,
     "metadata": {},
     "output_type": "execute_result"
    }
   ],
   "source": [
    "df= wellheader[wellheader['EPAssetsId'].isin(Final_DUC_List)]\n",
    "df.head()"
   ]
  },
  {
   "cell_type": "markdown",
   "metadata": {
    "colab_type": "text",
    "id": "MSk82v96YiCt"
   },
   "source": [
    "# Determine how long the DUC wells have gone Uncompleted"
   ]
  },
  {
   "cell_type": "code",
   "execution_count": 25,
   "metadata": {
    "colab": {
     "base_uri": "https://localhost:8080/",
     "height": 34
    },
    "colab_type": "code",
    "id": "GOZfNCY0YUqu",
    "outputId": "72d8c5a8-55a2-47e3-f287-c410a14d054d"
   },
   "outputs": [
    {
     "name": "stdout",
     "output_type": "stream",
     "text": [
      "The latest production period is  2020-01-31 00:00:00\n"
     ]
    }
   ],
   "source": [
    "# get max production period from production dataframe\n",
    "\n",
    "Latest_production_period = wellproduction['ProdPeriod'].max()\n",
    "\n",
    "print ('The latest production period is ', Latest_production_period)"
   ]
  },
  {
   "cell_type": "code",
   "execution_count": null,
   "metadata": {
    "colab": {},
    "colab_type": "code",
    "id": "ay24hkwwZ0xc"
   },
   "outputs": [],
   "source": [
    "# merge Final DUC list with wellheader data to get full wellheader information\n",
    "\n",
    "DUCS_dataframe = wellheader[wellheader['EPAssetsId'].isin(Final_DUC_List)]\n",
    "\n",
    "# create new column for how long well has been a DUC\n",
    "DUCS_final_dataframe = DUCS_dataframe.copy()\n",
    "DUCS_final_dataframe.loc[:,'Days of Uncompleted Status'] = Latest_production_period - DUCS_final_dataframe['RigReleaseDate']\n",
    "\n",
    "# transform days to numeric datatype\n",
    "DUCS_final_dataframe.loc[:,'Days of Uncompleted Status'] = DUCS_final_dataframe['Days of Uncompleted Status']/np.timedelta64(1, 'D')"
   ]
  },
  {
   "cell_type": "code",
   "execution_count": null,
   "metadata": {
    "colab": {
     "base_uri": "https://localhost:8080/",
     "height": 176
    },
    "colab_type": "code",
    "id": "r5B4mjSGhiKb",
    "outputId": "3f5a4e27-7714-4a9d-ccde-0ca51394f389"
   },
   "outputs": [
    {
     "data": {
      "text/plain": [
       "count     18.000000\n",
       "mean     199.611111\n",
       "std      107.379557\n",
       "min       71.000000\n",
       "25%      123.500000\n",
       "50%      192.000000\n",
       "75%      213.750000\n",
       "max      420.000000\n",
       "Name: Days of Uncompleted Status, dtype: float64"
      ]
     },
     "execution_count": 23,
     "metadata": {
      "tags": []
     },
     "output_type": "execute_result"
    }
   ],
   "source": [
    "#check statistics of 'Days of Uncompleted Status'\n",
    "DUCS_final_dataframe ['Days of Uncompleted Status'].describe()"
   ]
  },
  {
   "cell_type": "code",
   "execution_count": null,
   "metadata": {
    "colab": {
     "base_uri": "https://localhost:8080/",
     "height": 294
    },
    "colab_type": "code",
    "id": "sMWX3ri2hth4",
    "outputId": "81e630ed-0758-46b1-dde6-ce3435d86743"
   },
   "outputs": [
    {
     "data": {
      "image/png": "[encoded data removed]",
      "text/plain": [
       "<Figure size 432x288 with 1 Axes>"
      ]
     },
     "metadata": {
      "needs_background": "light",
      "tags": []
     },
     "output_type": "display_data"
    }
   ],
   "source": [
    "#create histogram of 'Days of Uncompleted Status'\n",
    "DUCS_final_dataframe ['Days of Uncompleted Status'].hist()\n",
    "plt.xlabel('Days of Uncompleted Status')\n",
    "plt.title('Number of DUC wells')\n",
    "plt.show()"
   ]
  },
  {
   "cell_type": "markdown",
   "metadata": {
    "colab_type": "text",
    "id": "cqfH6XKqWJjg"
   },
   "source": [
    "## DUC status duration for non-DUC wells"
   ]
  },
  {
   "cell_type": "code",
   "execution_count": null,
   "metadata": {
    "colab": {
     "base_uri": "https://localhost:8080/",
     "height": 1000
    },
    "colab_type": "code",
    "id": "p4Bwfiw6X5_L",
    "outputId": "34f68d3c-ad3e-4169-fd49-31ac86cfe18e"
   },
   "outputs": [
    {
     "name": "stdout",
     "output_type": "stream",
     "text": [
      "<class 'pandas.core.frame.DataFrame'>\n",
      "Int64Index: 10419 entries, 0 to 10436\n",
      "Data columns (total 73 columns):\n",
      " #   Column                     Non-Null Count  Dtype         \n",
      "---  ------                     --------------  -----         \n",
      " 0   EPAssetsId                 10419 non-null  int64         \n",
      " 1   Province                   10419 non-null  category      \n",
      " 2   LicenceNumber              10419 non-null  object        \n",
      " 3   UWI                        10419 non-null  object        \n",
      " 4   CurrentOperator            10419 non-null  category      \n",
      " 5   CurrentOperatorParent      10419 non-null  int64         \n",
      " 6   CurrentOperatorParentName  10419 non-null  category      \n",
      " 7   Licensee                   10419 non-null  category      \n",
      " 8   LicenseeParentCompany      10419 non-null  int64         \n",
      " 9   LicenseeParentCompanyName  10419 non-null  category      \n",
      " 10  LicenceDate                10419 non-null  datetime64[ns]\n",
      " 11  CurrentStatus              10419 non-null  category      \n",
      " 12  CurrentStatusStandardised  10419 non-null  category      \n",
      " 13  WellType                   10419 non-null  category      \n",
      " 14  WellTypeStandardised       10419 non-null  category      \n",
      " 15  WellName                   10419 non-null  object        \n",
      " 16  Formation                  10419 non-null  category      \n",
      " 17  Field                      10419 non-null  category      \n",
      " 18  Pool                       10419 non-null  category      \n",
      " 19  SurveySystem               10419 non-null  category      \n",
      " 20  Surf_Location              10419 non-null  object        \n",
      " 21  Surf_Township              9890 non-null   float64       \n",
      " 22  Surf_Meridian              9890 non-null   category      \n",
      " 23  Surf_Range                 9890 non-null   float64       \n",
      " 24  Surf_Section               9890 non-null   float64       \n",
      " 25  Surf_LSD                   9890 non-null   float64       \n",
      " 26  Surf_Longitude             10419 non-null  float64       \n",
      " 27  Surf_Latitude              10419 non-null  float64       \n",
      " 28  Surf_TownshipRange         9890 non-null   object        \n",
      " 29  Surf_QuarterUnit           529 non-null    category      \n",
      " 30  Surf_Unit                  529 non-null    float64       \n",
      " 31  Surf_Block                 529 non-null    category      \n",
      " 32  Surf_NTSMapSheet           529 non-null    category      \n",
      " 33  Surf_Series                529 non-null    float64       \n",
      " 34  Surf_Area                  529 non-null    category      \n",
      " 35  Surf_Sheet                 529 non-null    float64       \n",
      " 36  Surf_QuarterSection        9890 non-null   category      \n",
      " 37  BH_Location                10419 non-null  category      \n",
      " 38  BH_TownshipRange           9895 non-null   object        \n",
      " 39  BH_QuarterUnit             524 non-null    category      \n",
      " 40  BH_Unit                    524 non-null    float64       \n",
      " 41  BH_Block                   524 non-null    category      \n",
      " 42  BH_NTSMapSheet             524 non-null    category      \n",
      " 43  BH_Series                  524 non-null    float64       \n",
      " 44  BH_Area                    524 non-null    category      \n",
      " 45  BH_Sheet                   524 non-null    float64       \n",
      " 46  BH_QuarterSection          8697 non-null   category      \n",
      " 47  BH_Longitude               8697 non-null   float64       \n",
      " 48  BH_Latitude                8697 non-null   float64       \n",
      " 49  BH_Township                9895 non-null   float64       \n",
      " 50  BH_Meridian                9895 non-null   category      \n",
      " 51  BH_Range                   9895 non-null   float64       \n",
      " 52  BH_Section                 9895 non-null   float64       \n",
      " 53  BH_LSD                     9895 non-null   float64       \n",
      " 54  GroundElevation            10411 non-null  float64       \n",
      " 55  KBElevation                10419 non-null  float64       \n",
      " 56  TotalDepth                 10419 non-null  float64       \n",
      " 57  LaheeClass                 10419 non-null  category      \n",
      " 58  SurfaceOwner               10419 non-null  category      \n",
      " 59  DrillingContractor         10387 non-null  category      \n",
      " 60  SpudDate                   10419 non-null  datetime64[ns]\n",
      " 61  FinalDrillDate             8697 non-null   datetime64[ns]\n",
      " 62  RigReleaseDate             10419 non-null  datetime64[ns]\n",
      " 63  DaysDrilling               10414 non-null  float64       \n",
      " 64  DrillMetresPerDay          10419 non-null  float64       \n",
      " 65  TVD                        6731 non-null   float64       \n",
      " 66  WellProfile                10419 non-null  category      \n",
      " 67  Country                    10419 non-null  category      \n",
      " 68  PSACAreaCode               10419 non-null  category      \n",
      " 69  PSACAreaName               10419 non-null  category      \n",
      " 70  ProjectedDepth             10027 non-null  float64       \n",
      " 71  StatusDate                 10419 non-null  datetime64[ns]\n",
      " 72  StatusSource               10419 non-null  category      \n",
      "dtypes: category(34), datetime64[ns](5), float64(25), int64(3), object(6)\n",
      "memory usage: 4.0+ MB\n"
     ]
    }
   ],
   "source": [
    "## non DUC wells dataframe\n",
    "\n",
    "non_DUCS_dataframe = wellheader[~wellheader['EPAssetsId'].isin(Final_DUC_List)]\n",
    "\n",
    "non_DUCS_dataframe.info()"
   ]
  },
  {
   "cell_type": "code",
   "execution_count": null,
   "metadata": {
    "colab": {
     "base_uri": "https://localhost:8080/",
     "height": 197
    },
    "colab_type": "code",
    "id": "2sdGFKsRWJFM",
    "outputId": "e5752fdb-ab66-4940-a7a0-0644890ae4ad"
   },
   "outputs": [
    {
     "data": {
      "text/html": [
       "<div>\n",
       "<style scoped>\n",
       "    .dataframe tbody tr th:only-of-type {\n",
       "        vertical-align: middle;\n",
       "    }\n",
       "\n",
       "    .dataframe tbody tr th {\n",
       "        vertical-align: top;\n",
       "    }\n",
       "\n",
       "    .dataframe thead th {\n",
       "        text-align: right;\n",
       "    }\n",
       "</style>\n",
       "<table border=\"1\" class=\"dataframe\">\n",
       "  <thead>\n",
       "    <tr style=\"text-align: right;\">\n",
       "      <th></th>\n",
       "      <th>EPAssetsId</th>\n",
       "      <th>ProdPeriod</th>\n",
       "    </tr>\n",
       "  </thead>\n",
       "  <tbody>\n",
       "    <tr>\n",
       "      <th>0</th>\n",
       "      <td>3373</td>\n",
       "      <td>2017-08-31</td>\n",
       "    </tr>\n",
       "    <tr>\n",
       "      <th>1</th>\n",
       "      <td>6976</td>\n",
       "      <td>2015-11-30</td>\n",
       "    </tr>\n",
       "    <tr>\n",
       "      <th>2</th>\n",
       "      <td>6977</td>\n",
       "      <td>2015-11-30</td>\n",
       "    </tr>\n",
       "    <tr>\n",
       "      <th>3</th>\n",
       "      <td>7129</td>\n",
       "      <td>2017-06-30</td>\n",
       "    </tr>\n",
       "    <tr>\n",
       "      <th>4</th>\n",
       "      <td>7130</td>\n",
       "      <td>2017-06-30</td>\n",
       "    </tr>\n",
       "  </tbody>\n",
       "</table>\n",
       "</div>"
      ],
      "text/plain": [
       "   EPAssetsId ProdPeriod\n",
       "0        3373 2017-08-31\n",
       "1        6976 2015-11-30\n",
       "2        6977 2015-11-30\n",
       "3        7129 2017-06-30\n",
       "4        7130 2017-06-30"
      ]
     },
     "execution_count": 61,
     "metadata": {
      "tags": []
     },
     "output_type": "execute_result"
    }
   ],
   "source": [
    "## groupby production data to remove duplicates, and calculate first production period per well\n",
    "\n",
    "First_production_by_well = wellproduction.groupby(by='EPAssetsId', as_index=False, observed=True).agg({'ProdPeriod': 'min'})\n",
    "\n",
    "First_production_by_well.head(5)"
   ]
  },
  {
   "cell_type": "code",
   "execution_count": null,
   "metadata": {
    "colab": {
     "base_uri": "https://localhost:8080/",
     "height": 197
    },
    "colab_type": "code",
    "id": "4xl-ZLfyXm0d",
    "outputId": "5ee7ff9b-6859-46a1-cd93-bba92c3319c0"
   },
   "outputs": [
    {
     "data": {
      "text/html": [
       "<div>\n",
       "<style scoped>\n",
       "    .dataframe tbody tr th:only-of-type {\n",
       "        vertical-align: middle;\n",
       "    }\n",
       "\n",
       "    .dataframe tbody tr th {\n",
       "        vertical-align: top;\n",
       "    }\n",
       "\n",
       "    .dataframe thead th {\n",
       "        text-align: right;\n",
       "    }\n",
       "</style>\n",
       "<table border=\"1\" class=\"dataframe\">\n",
       "  <thead>\n",
       "    <tr style=\"text-align: right;\">\n",
       "      <th></th>\n",
       "      <th>EPAssetsId</th>\n",
       "      <th>ActivityDate</th>\n",
       "    </tr>\n",
       "  </thead>\n",
       "  <tbody>\n",
       "    <tr>\n",
       "      <th>0</th>\n",
       "      <td>3373</td>\n",
       "      <td>2017-07-29</td>\n",
       "    </tr>\n",
       "    <tr>\n",
       "      <th>1</th>\n",
       "      <td>6976</td>\n",
       "      <td>2015-10-30</td>\n",
       "    </tr>\n",
       "    <tr>\n",
       "      <th>2</th>\n",
       "      <td>6977</td>\n",
       "      <td>2015-10-31</td>\n",
       "    </tr>\n",
       "    <tr>\n",
       "      <th>3</th>\n",
       "      <td>7129</td>\n",
       "      <td>2017-11-25</td>\n",
       "    </tr>\n",
       "    <tr>\n",
       "      <th>4</th>\n",
       "      <td>7130</td>\n",
       "      <td>2017-11-26</td>\n",
       "    </tr>\n",
       "  </tbody>\n",
       "</table>\n",
       "</div>"
      ],
      "text/plain": [
       "   EPAssetsId ActivityDate\n",
       "0        3373   2017-07-29\n",
       "1        6976   2015-10-30\n",
       "2        6977   2015-10-31\n",
       "3        7129   2017-11-25\n",
       "4        7130   2017-11-26"
      ]
     },
     "execution_count": 62,
     "metadata": {
      "tags": []
     },
     "output_type": "execute_result"
    }
   ],
   "source": [
    "# groupby perforation data by EPAssetsId and Last Activity Date\n",
    "\n",
    "Last_Activity_Date_by_well = perftreatment.groupby(by='EPAssetsId', as_index=False).agg({'ActivityDate': 'max'})\n",
    "\n",
    "Last_Activity_Date_by_well.head()"
   ]
  },
  {
   "cell_type": "code",
   "execution_count": null,
   "metadata": {
    "colab": {
     "base_uri": "https://localhost:8080/",
     "height": 1000
    },
    "colab_type": "code",
    "id": "yUBFVwfPYYct",
    "outputId": "164c8386-e2d9-4dbf-9334-d4633aed75a2"
   },
   "outputs": [
    {
     "name": "stdout",
     "output_type": "stream",
     "text": [
      "<class 'pandas.core.frame.DataFrame'>\n",
      "Int64Index: 10419 entries, 0 to 10418\n",
      "Data columns (total 75 columns):\n",
      " #   Column                     Non-Null Count  Dtype         \n",
      "---  ------                     --------------  -----         \n",
      " 0   EPAssetsId                 10419 non-null  int64         \n",
      " 1   Province                   10419 non-null  category      \n",
      " 2   LicenceNumber              10419 non-null  object        \n",
      " 3   UWI                        10419 non-null  object        \n",
      " 4   CurrentOperator            10419 non-null  category      \n",
      " 5   CurrentOperatorParent      10419 non-null  int64         \n",
      " 6   CurrentOperatorParentName  10419 non-null  category      \n",
      " 7   Licensee                   10419 non-null  category      \n",
      " 8   LicenseeParentCompany      10419 non-null  int64         \n",
      " 9   LicenseeParentCompanyName  10419 non-null  category      \n",
      " 10  LicenceDate                10419 non-null  datetime64[ns]\n",
      " 11  CurrentStatus              10419 non-null  category      \n",
      " 12  CurrentStatusStandardised  10419 non-null  category      \n",
      " 13  WellType                   10419 non-null  category      \n",
      " 14  WellTypeStandardised       10419 non-null  category      \n",
      " 15  WellName                   10419 non-null  object        \n",
      " 16  Formation                  10419 non-null  category      \n",
      " 17  Field                      10419 non-null  category      \n",
      " 18  Pool                       10419 non-null  category      \n",
      " 19  SurveySystem               10419 non-null  category      \n",
      " 20  Surf_Location              10419 non-null  object        \n",
      " 21  Surf_Township              9890 non-null   float64       \n",
      " 22  Surf_Meridian              9890 non-null   category      \n",
      " 23  Surf_Range                 9890 non-null   float64       \n",
      " 24  Surf_Section               9890 non-null   float64       \n",
      " 25  Surf_LSD                   9890 non-null   float64       \n",
      " 26  Surf_Longitude             10419 non-null  float64       \n",
      " 27  Surf_Latitude              10419 non-null  float64       \n",
      " 28  Surf_TownshipRange         9890 non-null   object        \n",
      " 29  Surf_QuarterUnit           529 non-null    category      \n",
      " 30  Surf_Unit                  529 non-null    float64       \n",
      " 31  Surf_Block                 529 non-null    category      \n",
      " 32  Surf_NTSMapSheet           529 non-null    category      \n",
      " 33  Surf_Series                529 non-null    float64       \n",
      " 34  Surf_Area                  529 non-null    category      \n",
      " 35  Surf_Sheet                 529 non-null    float64       \n",
      " 36  Surf_QuarterSection        9890 non-null   category      \n",
      " 37  BH_Location                10419 non-null  category      \n",
      " 38  BH_TownshipRange           9895 non-null   object        \n",
      " 39  BH_QuarterUnit             524 non-null    category      \n",
      " 40  BH_Unit                    524 non-null    float64       \n",
      " 41  BH_Block                   524 non-null    category      \n",
      " 42  BH_NTSMapSheet             524 non-null    category      \n",
      " 43  BH_Series                  524 non-null    float64       \n",
      " 44  BH_Area                    524 non-null    category      \n",
      " 45  BH_Sheet                   524 non-null    float64       \n",
      " 46  BH_QuarterSection          8697 non-null   category      \n",
      " 47  BH_Longitude               8697 non-null   float64       \n",
      " 48  BH_Latitude                8697 non-null   float64       \n",
      " 49  BH_Township                9895 non-null   float64       \n",
      " 50  BH_Meridian                9895 non-null   category      \n",
      " 51  BH_Range                   9895 non-null   float64       \n",
      " 52  BH_Section                 9895 non-null   float64       \n",
      " 53  BH_LSD                     9895 non-null   float64       \n",
      " 54  GroundElevation            10411 non-null  float64       \n",
      " 55  KBElevation                10419 non-null  float64       \n",
      " 56  TotalDepth                 10419 non-null  float64       \n",
      " 57  LaheeClass                 10419 non-null  category      \n",
      " 58  SurfaceOwner               10419 non-null  category      \n",
      " 59  DrillingContractor         10387 non-null  category      \n",
      " 60  SpudDate                   10419 non-null  datetime64[ns]\n",
      " 61  FinalDrillDate             8697 non-null   datetime64[ns]\n",
      " 62  RigReleaseDate             10419 non-null  datetime64[ns]\n",
      " 63  DaysDrilling               10414 non-null  float64       \n",
      " 64  DrillMetresPerDay          10419 non-null  float64       \n",
      " 65  TVD                        6731 non-null   float64       \n",
      " 66  WellProfile                10419 non-null  category      \n",
      " 67  Country                    10419 non-null  category      \n",
      " 68  PSACAreaCode               10419 non-null  category      \n",
      " 69  PSACAreaName               10419 non-null  category      \n",
      " 70  ProjectedDepth             10027 non-null  float64       \n",
      " 71  StatusDate                 10419 non-null  datetime64[ns]\n",
      " 72  StatusSource               10419 non-null  category      \n",
      " 73  ProdPeriod                 10386 non-null  datetime64[ns]\n",
      " 74  ActivityDate               10107 non-null  datetime64[ns]\n",
      "dtypes: category(34), datetime64[ns](7), float64(25), int64(3), object(6)\n",
      "memory usage: 4.2+ MB\n"
     ]
    }
   ],
   "source": [
    "## merge non DUC wells dataframe['EPAssetsId', 'RigReleaseDate'] with production data and perftreatment data\n",
    "non_DUCS_dataframe = non_DUCS_dataframe.merge(First_production_by_well, how='left', on='EPAssetsId')\n",
    "\n",
    "non_DUCS_dataframe = non_DUCS_dataframe.merge(Last_Activity_Date_by_well, how='left', on='EPAssetsId')\n",
    "\n",
    "non_DUCS_dataframe.info()"
   ]
  },
  {
   "cell_type": "code",
   "execution_count": null,
   "metadata": {
    "colab": {
     "base_uri": "https://localhost:8080/",
     "height": 34
    },
    "colab_type": "code",
    "id": "rWXlIe7Wh6GH",
    "outputId": "4e89f5de-e5ba-4cfb-a632-4e45682d87fb"
   },
   "outputs": [
    {
     "data": {
      "text/plain": [
       "13"
      ]
     },
     "execution_count": 64,
     "metadata": {
      "tags": []
     },
     "output_type": "execute_result"
    }
   ],
   "source": [
    "non_DUCS_dataframe.loc[:,'DUCStatusEndDate'] = non_DUCS_dataframe['ProdPeriod'].fillna(value=non_DUCS_dataframe['ActivityDate'])\n",
    "\n",
    "non_DUCS_dataframe['DUCStatusEndDate'].isnull().sum()"
   ]
  },
  {
   "cell_type": "markdown",
   "metadata": {
    "colab_type": "text",
    "id": "zNQfoAFqnYRu"
   },
   "source": [
    "#### Referencing the EDA for Identification of DUC wells, there are 30 wells not in the perftreatment data or production data, however when we use the well status value of Flowing, Pumping and Gas Lift, these 13 wells drop off, leaving us with 17 DUCS in our original first DUCS list. ![Venn diagram for wells in each dataset.PNG](data:image/png;base64,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)"
   ]
  },
  {
   "cell_type": "code",
   "execution_count": null,
   "metadata": {
    "colab": {
     "base_uri": "https://localhost:8080/",
     "height": 34
    },
    "colab_type": "code",
    "id": "AUnw9nCyZJM2",
    "outputId": "3cc2e2b1-27ec-4e11-c627-bcba0658c001"
   },
   "outputs": [
    {
     "data": {
      "text/plain": [
       "(10406, 76)"
      ]
     },
     "execution_count": 65,
     "metadata": {
      "tags": []
     },
     "output_type": "execute_result"
    }
   ],
   "source": [
    "## drop off rows that don't have Perftreatment or Production data\n",
    "non_DUCS_dataframe.dropna(subset=['DUCStatusEndDate'], inplace = True)\n",
    "non_DUCS_dataframe.shape\n"
   ]
  },
  {
   "cell_type": "code",
   "execution_count": null,
   "metadata": {
    "colab": {
     "base_uri": "https://localhost:8080/",
     "height": 244
    },
    "colab_type": "code",
    "id": "P0ByghcUrAKy",
    "outputId": "bcb3fd8b-70d5-47a6-dd02-a987f77b1319"
   },
   "outputs": [
    {
     "data": {
      "text/html": [
       "<div>\n",
       "<style scoped>\n",
       "    .dataframe tbody tr th:only-of-type {\n",
       "        vertical-align: middle;\n",
       "    }\n",
       "\n",
       "    .dataframe tbody tr th {\n",
       "        vertical-align: top;\n",
       "    }\n",
       "\n",
       "    .dataframe thead th {\n",
       "        text-align: right;\n",
       "    }\n",
       "</style>\n",
       "<table border=\"1\" class=\"dataframe\">\n",
       "  <thead>\n",
       "    <tr style=\"text-align: right;\">\n",
       "      <th></th>\n",
       "      <th>EPAssetsId</th>\n",
       "      <th>Province</th>\n",
       "      <th>LicenceNumber</th>\n",
       "      <th>UWI</th>\n",
       "      <th>CurrentOperator</th>\n",
       "      <th>CurrentOperatorParent</th>\n",
       "      <th>CurrentOperatorParentName</th>\n",
       "      <th>Licensee</th>\n",
       "      <th>LicenseeParentCompany</th>\n",
       "      <th>LicenseeParentCompanyName</th>\n",
       "      <th>LicenceDate</th>\n",
       "      <th>CurrentStatus</th>\n",
       "      <th>CurrentStatusStandardised</th>\n",
       "      <th>WellType</th>\n",
       "      <th>WellTypeStandardised</th>\n",
       "      <th>WellName</th>\n",
       "      <th>Formation</th>\n",
       "      <th>Field</th>\n",
       "      <th>Pool</th>\n",
       "      <th>SurveySystem</th>\n",
       "      <th>Surf_Location</th>\n",
       "      <th>Surf_Township</th>\n",
       "      <th>Surf_Meridian</th>\n",
       "      <th>Surf_Range</th>\n",
       "      <th>Surf_Section</th>\n",
       "      <th>Surf_LSD</th>\n",
       "      <th>Surf_Longitude</th>\n",
       "      <th>Surf_Latitude</th>\n",
       "      <th>Surf_TownshipRange</th>\n",
       "      <th>Surf_QuarterUnit</th>\n",
       "      <th>Surf_Unit</th>\n",
       "      <th>Surf_Block</th>\n",
       "      <th>Surf_NTSMapSheet</th>\n",
       "      <th>Surf_Series</th>\n",
       "      <th>Surf_Area</th>\n",
       "      <th>Surf_Sheet</th>\n",
       "      <th>Surf_QuarterSection</th>\n",
       "      <th>BH_Location</th>\n",
       "      <th>BH_TownshipRange</th>\n",
       "      <th>BH_QuarterUnit</th>\n",
       "      <th>BH_Unit</th>\n",
       "      <th>BH_Block</th>\n",
       "      <th>BH_NTSMapSheet</th>\n",
       "      <th>BH_Series</th>\n",
       "      <th>BH_Area</th>\n",
       "      <th>BH_Sheet</th>\n",
       "      <th>BH_QuarterSection</th>\n",
       "      <th>BH_Longitude</th>\n",
       "      <th>BH_Latitude</th>\n",
       "      <th>BH_Township</th>\n",
       "      <th>BH_Meridian</th>\n",
       "      <th>BH_Range</th>\n",
       "      <th>BH_Section</th>\n",
       "      <th>BH_LSD</th>\n",
       "      <th>GroundElevation</th>\n",
       "      <th>KBElevation</th>\n",
       "      <th>TotalDepth</th>\n",
       "      <th>LaheeClass</th>\n",
       "      <th>SurfaceOwner</th>\n",
       "      <th>DrillingContractor</th>\n",
       "      <th>SpudDate</th>\n",
       "      <th>FinalDrillDate</th>\n",
       "      <th>RigReleaseDate</th>\n",
       "      <th>DaysDrilling</th>\n",
       "      <th>DrillMetresPerDay</th>\n",
       "      <th>TVD</th>\n",
       "      <th>WellProfile</th>\n",
       "      <th>Country</th>\n",
       "      <th>PSACAreaCode</th>\n",
       "      <th>PSACAreaName</th>\n",
       "      <th>ProjectedDepth</th>\n",
       "      <th>StatusDate</th>\n",
       "      <th>StatusSource</th>\n",
       "      <th>ProdPeriod</th>\n",
       "      <th>ActivityDate</th>\n",
       "      <th>DUCStatusEndDate</th>\n",
       "    </tr>\n",
       "  </thead>\n",
       "  <tbody>\n",
       "    <tr>\n",
       "      <th>0</th>\n",
       "      <td>2587301</td>\n",
       "      <td>Alberta</td>\n",
       "      <td>475898</td>\n",
       "      <td>100122706624W500</td>\n",
       "      <td>Enerplus Corporation</td>\n",
       "      <td>267</td>\n",
       "      <td>Enerplus Corporation</td>\n",
       "      <td>Enerplus Corporation</td>\n",
       "      <td>267</td>\n",
       "      <td>Enerplus Corporation</td>\n",
       "      <td>2015-06-25</td>\n",
       "      <td>Gas Lift</td>\n",
       "      <td>Active</td>\n",
       "      <td>Crude Oil</td>\n",
       "      <td>Oil</td>\n",
       "      <td>ENERPLUS CORP HZ ANTEN 12-27-66-24</td>\n",
       "      <td>Montney</td>\n",
       "      <td>Ante Creek North</td>\n",
       "      <td>Commingled Pool 005</td>\n",
       "      <td>DLS</td>\n",
       "      <td>13-26-066-24-W5</td>\n",
       "      <td>66.0</td>\n",
       "      <td>W5</td>\n",
       "      <td>24.0</td>\n",
       "      <td>26.0</td>\n",
       "      <td>13.0</td>\n",
       "      <td>-117.529866</td>\n",
       "      <td>54.747632</td>\n",
       "      <td>066-24-W5</td>\n",
       "      <td>NaN</td>\n",
       "      <td>NaN</td>\n",
       "      <td>NaN</td>\n",
       "      <td>NaN</td>\n",
       "      <td>NaN</td>\n",
       "      <td>NaN</td>\n",
       "      <td>NaN</td>\n",
       "      <td>NW</td>\n",
       "      <td>12-27-066-24-W5</td>\n",
       "      <td>066-24-W5</td>\n",
       "      <td>NaN</td>\n",
       "      <td>NaN</td>\n",
       "      <td>NaN</td>\n",
       "      <td>NaN</td>\n",
       "      <td>NaN</td>\n",
       "      <td>NaN</td>\n",
       "      <td>NaN</td>\n",
       "      <td>NW</td>\n",
       "      <td>-117.553826</td>\n",
       "      <td>54.743675</td>\n",
       "      <td>66.0</td>\n",
       "      <td>W5</td>\n",
       "      <td>24.0</td>\n",
       "      <td>27.0</td>\n",
       "      <td>12.0</td>\n",
       "      <td>758.7</td>\n",
       "      <td>764.8</td>\n",
       "      <td>3677.0</td>\n",
       "      <td>Development</td>\n",
       "      <td>Crown</td>\n",
       "      <td>Excalibur Drilling Ltd</td>\n",
       "      <td>2015-12-05</td>\n",
       "      <td>2015-12-18</td>\n",
       "      <td>2015-12-21</td>\n",
       "      <td>13.0</td>\n",
       "      <td>282.85</td>\n",
       "      <td>NaN</td>\n",
       "      <td>Horizontal</td>\n",
       "      <td>Canada</td>\n",
       "      <td>AB2</td>\n",
       "      <td>Foothills Front</td>\n",
       "      <td>3800.0</td>\n",
       "      <td>2016-02-28</td>\n",
       "      <td>AER</td>\n",
       "      <td>2016-01-31</td>\n",
       "      <td>2015-12-28</td>\n",
       "      <td>2016-01-31</td>\n",
       "    </tr>\n",
       "    <tr>\n",
       "      <th>1</th>\n",
       "      <td>2593278</td>\n",
       "      <td>Alberta</td>\n",
       "      <td>479407</td>\n",
       "      <td>102052706624W500</td>\n",
       "      <td>Enerplus Corporation</td>\n",
       "      <td>267</td>\n",
       "      <td>Enerplus Corporation</td>\n",
       "      <td>Enerplus Corporation</td>\n",
       "      <td>267</td>\n",
       "      <td>Enerplus Corporation</td>\n",
       "      <td>2016-05-06</td>\n",
       "      <td>Gas Lift</td>\n",
       "      <td>Active</td>\n",
       "      <td>Crude Oil</td>\n",
       "      <td>Oil</td>\n",
       "      <td>ENERPLUS CORP 102HZ ANTEN 5-27-66-24</td>\n",
       "      <td>Montney</td>\n",
       "      <td>Ante Creek North</td>\n",
       "      <td>Commingled Pool 005</td>\n",
       "      <td>DLS</td>\n",
       "      <td>04-26-066-24-W5</td>\n",
       "      <td>66.0</td>\n",
       "      <td>W5</td>\n",
       "      <td>24.0</td>\n",
       "      <td>26.0</td>\n",
       "      <td>4.0</td>\n",
       "      <td>-117.527042</td>\n",
       "      <td>54.737446</td>\n",
       "      <td>066-24-W5</td>\n",
       "      <td>NaN</td>\n",
       "      <td>NaN</td>\n",
       "      <td>NaN</td>\n",
       "      <td>NaN</td>\n",
       "      <td>NaN</td>\n",
       "      <td>NaN</td>\n",
       "      <td>NaN</td>\n",
       "      <td>SW</td>\n",
       "      <td>05-27-066-24-W5</td>\n",
       "      <td>066-24-W5</td>\n",
       "      <td>NaN</td>\n",
       "      <td>NaN</td>\n",
       "      <td>NaN</td>\n",
       "      <td>NaN</td>\n",
       "      <td>NaN</td>\n",
       "      <td>NaN</td>\n",
       "      <td>NaN</td>\n",
       "      <td>SW</td>\n",
       "      <td>-117.553836</td>\n",
       "      <td>54.739474</td>\n",
       "      <td>66.0</td>\n",
       "      <td>W5</td>\n",
       "      <td>24.0</td>\n",
       "      <td>27.0</td>\n",
       "      <td>5.0</td>\n",
       "      <td>766.3</td>\n",
       "      <td>770.8</td>\n",
       "      <td>3607.0</td>\n",
       "      <td>Development</td>\n",
       "      <td>Crown</td>\n",
       "      <td>Excalibur Drilling Ltd</td>\n",
       "      <td>2016-05-26</td>\n",
       "      <td>2016-06-08</td>\n",
       "      <td>2016-06-10</td>\n",
       "      <td>13.0</td>\n",
       "      <td>277.46</td>\n",
       "      <td>1954.58</td>\n",
       "      <td>Horizontal</td>\n",
       "      <td>Canada</td>\n",
       "      <td>AB2</td>\n",
       "      <td>Foothills Front</td>\n",
       "      <td>3700.0</td>\n",
       "      <td>2016-09-23</td>\n",
       "      <td>AER</td>\n",
       "      <td>2016-07-31</td>\n",
       "      <td>2016-06-30</td>\n",
       "      <td>2016-07-31</td>\n",
       "    </tr>\n",
       "  </tbody>\n",
       "</table>\n",
       "</div>"
      ],
      "text/plain": [
       "   EPAssetsId Province LicenceNumber  ... ProdPeriod ActivityDate  DUCStatusEndDate\n",
       "0     2587301  Alberta        475898  ... 2016-01-31   2015-12-28        2016-01-31\n",
       "1     2593278  Alberta        479407  ... 2016-07-31   2016-06-30        2016-07-31\n",
       "\n",
       "[2 rows x 76 columns]"
      ]
     },
     "execution_count": 66,
     "metadata": {
      "tags": []
     },
     "output_type": "execute_result"
    }
   ],
   "source": [
    "non_DUCS_dataframe.head(2)"
   ]
  },
  {
   "cell_type": "code",
   "execution_count": null,
   "metadata": {
    "colab": {
     "base_uri": "https://localhost:8080/",
     "height": 90
    },
    "colab_type": "code",
    "id": "6Xg-zYjmqSYE",
    "outputId": "3430e7ad-b028-4994-cda1-5dd6225dc700"
   },
   "outputs": [
    {
     "name": "stdout",
     "output_type": "stream",
     "text": [
      "Empty DataFrame\n",
      "Columns: [EPAssetsId, Province, LicenceNumber, UWI, CurrentOperator, CurrentOperatorParent, CurrentOperatorParentName, Licensee, LicenseeParentCompany, LicenseeParentCompanyName, LicenceDate, CurrentStatus, CurrentStatusStandardised, WellType, WellTypeStandardised, WellName, Formation, Field, Pool, SurveySystem, Surf_Location, Surf_Township, Surf_Meridian, Surf_Range, Surf_Section, Surf_LSD, Surf_Longitude, Surf_Latitude, Surf_TownshipRange, Surf_QuarterUnit, Surf_Unit, Surf_Block, Surf_NTSMapSheet, Surf_Series, Surf_Area, Surf_Sheet, Surf_QuarterSection, BH_Location, BH_TownshipRange, BH_QuarterUnit, BH_Unit, BH_Block, BH_NTSMapSheet, BH_Series, BH_Area, BH_Sheet, BH_QuarterSection, BH_Longitude, BH_Latitude, BH_Township, BH_Meridian, BH_Range, BH_Section, BH_LSD, GroundElevation, KBElevation, TotalDepth, LaheeClass, SurfaceOwner, DrillingContractor, SpudDate, FinalDrillDate, RigReleaseDate, DaysDrilling, DrillMetresPerDay, TVD, WellProfile, Country, PSACAreaCode, PSACAreaName, ProjectedDepth, StatusDate, StatusSource, ProdPeriod, ActivityDate, DUCStatusEndDate]\n",
      "Index: []\n"
     ]
    }
   ],
   "source": [
    "dataframe_check = non_DUCS_dataframe[non_DUCS_dataframe['DUCStatusEndDate'] <= non_DUCS_dataframe['RigReleaseDate']]\n",
    "\n",
    "print(dataframe_check)"
   ]
  },
  {
   "cell_type": "code",
   "execution_count": null,
   "metadata": {
    "colab": {},
    "colab_type": "code",
    "id": "CjV3HGTXp6RX"
   },
   "outputs": [],
   "source": [
    "# create new column for DUC status duration\n",
    "non_DUCS_final_dataframe = non_DUCS_dataframe.copy()\n",
    "non_DUCS_final_dataframe.loc[:,'Days of Uncompleted Status'] = non_DUCS_dataframe['DUCStatusEndDate'] - non_DUCS_final_dataframe['RigReleaseDate']\n",
    "\n",
    "# transform days to numeric datatype\n",
    "non_DUCS_final_dataframe.loc[:,'Days of Uncompleted Status'] = non_DUCS_final_dataframe['Days of Uncompleted Status']/np.timedelta64(1, 'D')"
   ]
  },
  {
   "cell_type": "code",
   "execution_count": null,
   "metadata": {
    "colab": {
     "base_uri": "https://localhost:8080/",
     "height": 294
    },
    "colab_type": "code",
    "id": "mu2PuZtCY2tU",
    "outputId": "e2cfc62b-5504-4cc6-f837-484ccae523a7"
   },
   "outputs": [
    {
     "data": {
      "image/png": "[encoded data removed]",
      "text/plain": [
       "<Figure size 864x288 with 1 Axes>"
      ]
     },
     "metadata": {
      "needs_background": "light",
      "tags": []
     },
     "output_type": "display_data"
    }
   ],
   "source": [
    "# create histogram for DUC status duration for non_DUC_wells\n",
    "non_DUCS_final_dataframe ['Days of Uncompleted Status'].hist(bins=40, figsize= (12, 4))\n",
    "plt.xlabel('Days of Uncompleted Status')\n",
    "plt.title('Number of wells')\n",
    "plt.show()"
   ]
  },
  {
   "cell_type": "code",
   "execution_count": null,
   "metadata": {
    "colab": {
     "base_uri": "https://localhost:8080/",
     "height": 368
    },
    "colab_type": "code",
    "id": "cxJ5vYswejiu",
    "outputId": "e5eed6a8-29df-47a4-9319-48ad217e2445"
   },
   "outputs": [
    {
     "data": {
      "image/png": "[encoded data removed]",
      "text/plain": [
       "<Figure size 1440x360 with 4 Axes>"
      ]
     },
     "metadata": {
      "needs_background": "light",
      "tags": []
     },
     "output_type": "display_data"
    }
   ],
   "source": [
    "# Days of Uncompleted Status hist by Formation \n",
    "g=sns.FacetGrid(non_DUCS_final_dataframe, col='Formation', height=5, aspect = 1)\n",
    "g.map(plt.hist, 'Days of Uncompleted Status', alpha=0.7, bins=40)\n",
    "plt.show()"
   ]
  },
  {
   "cell_type": "code",
   "execution_count": null,
   "metadata": {
    "colab": {
     "base_uri": "https://localhost:8080/",
     "height": 873
    },
    "colab_type": "code",
    "id": "ajuGT7Udu8E9",
    "outputId": "0bcef043-a301-43d2-ee80-3f27aa5130e3"
   },
   "outputs": [
    {
     "data": {
      "image/png": "[encoded data removed]",
      "text/plain": [
       "<Figure size 864x864 with 9 Axes>"
      ]
     },
     "metadata": {
      "needs_background": "light",
      "tags": []
     },
     "output_type": "display_data"
    }
   ],
   "source": [
    "# Days of Uncompleted Status hist by PSACAreaName \n",
    "g=sns.FacetGrid(non_DUCS_final_dataframe, col='PSACAreaName', col_wrap=3, height= 4, aspect=1)\n",
    "g.map(plt.hist, 'Days of Uncompleted Status', alpha=0.7, bins=40)\n",
    "plt.show()\n"
   ]
  },
  {
   "cell_type": "markdown",
   "metadata": {
    "colab_type": "text",
    "id": "v6NiCWbORC2A"
   },
   "source": [
    "## Additional DUC wells Insights"
   ]
  },
  {
   "cell_type": "code",
   "execution_count": null,
   "metadata": {
    "colab": {
     "base_uri": "https://localhost:8080/",
     "height": 368
    },
    "colab_type": "code",
    "id": "3oBHbecgj0Lf",
    "outputId": "a8d4c381-0ed4-4778-e160-b2938008b0c7"
   },
   "outputs": [
    {
     "data": {
      "image/png": "[encoded data removed]",
      "text/plain": [
       "<Figure size 1440x360 with 4 Axes>"
      ]
     },
     "metadata": {
      "needs_background": "light",
      "tags": []
     },
     "output_type": "display_data"
    }
   ],
   "source": [
    "# Days of Uncompleted Status hist by Formation \n",
    "g=sns.FacetGrid(DUCS_final_dataframe, col='Formation', height=5, aspect = 1)\n",
    "g.map(plt.hist, 'Days of Uncompleted Status', alpha=0.7)\n",
    "plt.show()"
   ]
  },
  {
   "cell_type": "code",
   "execution_count": null,
   "metadata": {
    "colab": {
     "base_uri": "https://localhost:8080/",
     "height": 137
    },
    "colab_type": "code",
    "id": "2xL3XcWD-QEG",
    "outputId": "c2b3dde4-5433-4221-b9b6-50e378296b15"
   },
   "outputs": [
    {
     "data": {
      "text/html": [
       "<div>\n",
       "<style scoped>\n",
       "    .dataframe tbody tr th:only-of-type {\n",
       "        vertical-align: middle;\n",
       "    }\n",
       "\n",
       "    .dataframe tbody tr th {\n",
       "        vertical-align: top;\n",
       "    }\n",
       "\n",
       "    .dataframe thead th {\n",
       "        text-align: right;\n",
       "    }\n",
       "</style>\n",
       "<table border=\"1\" class=\"dataframe\">\n",
       "  <thead>\n",
       "    <tr style=\"text-align: right;\">\n",
       "      <th></th>\n",
       "      <th>Field</th>\n",
       "      <th>Province</th>\n",
       "      <th>Days of Uncompleted Status</th>\n",
       "      <th>EPAssetsId</th>\n",
       "    </tr>\n",
       "  </thead>\n",
       "  <tbody>\n",
       "    <tr>\n",
       "      <th>0</th>\n",
       "      <td>Inga</td>\n",
       "      <td>British Columbia</td>\n",
       "      <td>72.00</td>\n",
       "      <td>1</td>\n",
       "    </tr>\n",
       "    <tr>\n",
       "      <th>1</th>\n",
       "      <td>Northern Montney</td>\n",
       "      <td>British Columbia</td>\n",
       "      <td>299.20</td>\n",
       "      <td>5</td>\n",
       "    </tr>\n",
       "    <tr>\n",
       "      <th>2</th>\n",
       "      <td>Heritage</td>\n",
       "      <td>British Columbia</td>\n",
       "      <td>168.75</td>\n",
       "      <td>12</td>\n",
       "    </tr>\n",
       "  </tbody>\n",
       "</table>\n",
       "</div>"
      ],
      "text/plain": [
       "              Field          Province  Days of Uncompleted Status  EPAssetsId\n",
       "0              Inga  British Columbia                       72.00           1\n",
       "1  Northern Montney  British Columbia                      299.20           5\n",
       "2          Heritage  British Columbia                      168.75          12"
      ]
     },
     "execution_count": 72,
     "metadata": {
      "tags": []
     },
     "output_type": "execute_result"
    }
   ],
   "source": [
    "# Average Days of Uncompleted Status and Number of DUC wells by Field\n",
    "\n",
    "DUCS_by_field = DUCS_final_dataframe.groupby(by=['Field', 'Province'], as_index=False, observed=True).agg({'Days of Uncompleted Status' : 'mean', 'EPAssetsId': 'size'})\n",
    "\n",
    "DUCS_by_field.head()\n",
    "\n"
   ]
  },
  {
   "cell_type": "code",
   "execution_count": null,
   "metadata": {
    "colab": {
     "base_uri": "https://localhost:8080/",
     "height": 278
    },
    "colab_type": "code",
    "id": "rf8zC7zEHnlz",
    "outputId": "1c836973-1bc0-46b3-8369-737b57b2078d"
   },
   "outputs": [
    {
     "data": {
      "image/png": "[encoded data removed]",
      "text/plain": [
       "<Figure size 432x288 with 1 Axes>"
      ]
     },
     "metadata": {
      "needs_background": "light",
      "tags": []
     },
     "output_type": "display_data"
    }
   ],
   "source": [
    "# Average Days of Uncompleted Status by field\n",
    "DUCS_by_field.plot.barh(x='Field', y='Days of Uncompleted Status')\n",
    "plt.xlabel('Average Days of Uncompleted Status')\n",
    "plt.show()"
   ]
  },
  {
   "cell_type": "code",
   "execution_count": null,
   "metadata": {
    "colab": {
     "base_uri": "https://localhost:8080/",
     "height": 278
    },
    "colab_type": "code",
    "id": "H5xeqocEIOUE",
    "outputId": "174f2c11-cf5e-4467-c0b7-32a30c2362df"
   },
   "outputs": [
    {
     "data": {
      "image/png": "[encoded data removed]",
      "text/plain": [
       "<Figure size 432x288 with 1 Axes>"
      ]
     },
     "metadata": {
      "needs_background": "light",
      "tags": []
     },
     "output_type": "display_data"
    }
   ],
   "source": [
    "# Number of DUC wells by Field\n",
    "DUCS_by_field.plot.barh(x='Field', y='EPAssetsId')\n",
    "plt.xlabel('Number of DUC wells')\n",
    "plt.show()"
   ]
  },
  {
   "cell_type": "code",
   "execution_count": null,
   "metadata": {
    "colab": {
     "base_uri": "https://localhost:8080/",
     "height": 227
    },
    "colab_type": "code",
    "id": "7p_8xnlXJWUg",
    "outputId": "90c066c4-b6e7-4103-f672-db442bf56b3e"
   },
   "outputs": [
    {
     "data": {
      "text/html": [
       "<div>\n",
       "<style scoped>\n",
       "    .dataframe tbody tr th:only-of-type {\n",
       "        vertical-align: middle;\n",
       "    }\n",
       "\n",
       "    .dataframe tbody tr th {\n",
       "        vertical-align: top;\n",
       "    }\n",
       "\n",
       "    .dataframe thead th {\n",
       "        text-align: right;\n",
       "    }\n",
       "</style>\n",
       "<table border=\"1\" class=\"dataframe\">\n",
       "  <thead>\n",
       "    <tr style=\"text-align: right;\">\n",
       "      <th></th>\n",
       "      <th>CurrentOperator</th>\n",
       "      <th>Days of Uncompleted Status</th>\n",
       "      <th>EPAssetsId</th>\n",
       "    </tr>\n",
       "  </thead>\n",
       "  <tbody>\n",
       "    <tr>\n",
       "      <th>0</th>\n",
       "      <td>Kelt Exploration (Lng) Ltd.</td>\n",
       "      <td>89.500000</td>\n",
       "      <td>2</td>\n",
       "    </tr>\n",
       "    <tr>\n",
       "      <th>1</th>\n",
       "      <td>Tourmaline Oil Corp.</td>\n",
       "      <td>195.500000</td>\n",
       "      <td>2</td>\n",
       "    </tr>\n",
       "    <tr>\n",
       "      <th>2</th>\n",
       "      <td>Arc Resources Ltd.</td>\n",
       "      <td>199.000000</td>\n",
       "      <td>7</td>\n",
       "    </tr>\n",
       "    <tr>\n",
       "      <th>3</th>\n",
       "      <td>Ovintiv Canada Ulc</td>\n",
       "      <td>80.333333</td>\n",
       "      <td>3</td>\n",
       "    </tr>\n",
       "    <tr>\n",
       "      <th>4</th>\n",
       "      <td>Storm Resources Ltd.</td>\n",
       "      <td>404.000000</td>\n",
       "      <td>3</td>\n",
       "    </tr>\n",
       "    <tr>\n",
       "      <th>5</th>\n",
       "      <td>Saguaro Resources Ltd.</td>\n",
       "      <td>177.000000</td>\n",
       "      <td>1</td>\n",
       "    </tr>\n",
       "  </tbody>\n",
       "</table>\n",
       "</div>"
      ],
      "text/plain": [
       "               CurrentOperator  Days of Uncompleted Status  EPAssetsId\n",
       "0  Kelt Exploration (Lng) Ltd.                   89.500000           2\n",
       "1         Tourmaline Oil Corp.                  195.500000           2\n",
       "2           Arc Resources Ltd.                  199.000000           7\n",
       "3           Ovintiv Canada Ulc                   80.333333           3\n",
       "4         Storm Resources Ltd.                  404.000000           3\n",
       "5       Saguaro Resources Ltd.                  177.000000           1"
      ]
     },
     "execution_count": 75,
     "metadata": {
      "tags": []
     },
     "output_type": "execute_result"
    }
   ],
   "source": [
    "# Average Days of Uncompleted Status and Number of DUC wells by CurrentOperator\n",
    "\n",
    "DUCS_by_operator = DUCS_final_dataframe.groupby(by='CurrentOperator', as_index=False, observed=True).agg({'Days of Uncompleted Status' : 'mean', 'EPAssetsId': 'size'})\n",
    "\n",
    "DUCS_by_operator.head(8)"
   ]
  },
  {
   "cell_type": "code",
   "execution_count": null,
   "metadata": {
    "colab": {
     "base_uri": "https://localhost:8080/",
     "height": 278
    },
    "colab_type": "code",
    "id": "HuHvgOaiPLdZ",
    "outputId": "0dab62da-6c53-40cd-cb7f-f2134c8deffb"
   },
   "outputs": [
    {
     "data": {
      "image/png": "[encoded data removed]",
      "text/plain": [
       "<Figure size 432x288 with 1 Axes>"
      ]
     },
     "metadata": {
      "needs_background": "light",
      "tags": []
     },
     "output_type": "display_data"
    }
   ],
   "source": [
    "# Average days of uncompleted status by Operator plot\n",
    "DUCS_by_operator.plot.barh(x='CurrentOperator', y='Days of Uncompleted Status')\n",
    "plt.xlabel('Average Days of Uncompleted Status')\n",
    "plt.show()\n"
   ]
  },
  {
   "cell_type": "code",
   "execution_count": null,
   "metadata": {
    "colab": {
     "base_uri": "https://localhost:8080/",
     "height": 278
    },
    "colab_type": "code",
    "id": "SNe041QdQVeN",
    "outputId": "ca67a095-6431-4cfe-cc77-270ca57a509c"
   },
   "outputs": [
    {
     "data": {
      "image/png": "[encoded data removed]",
      "text/plain": [
       "<Figure size 432x288 with 1 Axes>"
      ]
     },
     "metadata": {
      "needs_background": "light",
      "tags": []
     },
     "output_type": "display_data"
    }
   ],
   "source": [
    "# Number of wells by Operator plot\n",
    "DUCS_by_operator.plot.barh(x='CurrentOperator', y='EPAssetsId')\n",
    "plt.xlabel('Number of Wells')\n",
    "plt.show()"
   ]
  },
  {
   "cell_type": "code",
   "execution_count": null,
   "metadata": {
    "colab": {},
    "colab_type": "code",
    "id": "hFLK-BSMSGNK"
   },
   "outputs": [],
   "source": [
    "# DUC wells by PSACAreaName\n",
    "DUCS_by_PSACAreaName = DUCS_final_dataframe.groupby(by='PSACAreaName', as_index=False, observed=True).agg({'Days of Uncompleted Status' : 'mean', 'EPAssetsId': 'size'})"
   ]
  },
  {
   "cell_type": "code",
   "execution_count": null,
   "metadata": {
    "colab": {
     "base_uri": "https://localhost:8080/",
     "height": 278
    },
    "colab_type": "code",
    "id": "AAWgVfiySHZ4",
    "outputId": "934780c7-5d30-4639-f063-ccc81fb8f177"
   },
   "outputs": [
    {
     "data": {
      "image/png": "[encoded data removed]",
      "text/plain": [
       "<Figure size 432x288 with 1 Axes>"
      ]
     },
     "metadata": {
      "needs_background": "light",
      "tags": []
     },
     "output_type": "display_data"
    }
   ],
   "source": [
    "DUCS_by_PSACAreaName.plot.barh(x='PSACAreaName', y='Days of Uncompleted Status')\n",
    "plt.xlabel('Average Days of Uncompleted Status')\n",
    "plt.show()"
   ]
  }
 ],
 "metadata": {
  "accelerator": "TPU",
  "colab": {
   "collapsed_sections": [],
   "name": "Copy of Identification of DUC Wells",
   "provenance": []
  },
  "kernelspec": {
   "display_name": "Python 3",
   "language": "python",
   "name": "python3"
  },
  "language_info": {
   "codemirror_mode": {
    "name": "ipython",
    "version": 3
   },
   "file_extension": ".py",
   "mimetype": "text/x-python",
   "name": "python",
   "nbconvert_exporter": "python",
   "pygments_lexer": "ipython3",
   "version": "3.7.4"
  }
 },
 "nbformat": 4,
 "nbformat_minor": 4
}
