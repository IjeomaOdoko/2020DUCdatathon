{
 "cells": [
  {
   "cell_type": "markdown",
   "metadata": {},
   "source": [
    "#### Assumptions made/issues/observations found, please review and advise: \n",
    "\n",
    "####   Well header dataset\n",
    "      -- Example code to put in master on Line 18.\n",
    " \n",
    "     "
   ]
  },
  {
   "cell_type": "markdown",
   "metadata": {},
   "source": [
    "# Import Libraries"
   ]
  },
  {
   "cell_type": "code",
   "execution_count": 1,
   "metadata": {},
   "outputs": [
    {
     "name": "stderr",
     "output_type": "stream",
     "text": [
      "C:\\Users\\ijeke\\Anaconda3\\envs\\geo_env\\lib\\site-packages\\numpy\\_distributor_init.py:30: UserWarning: loaded more than 1 DLL from .libs:\n",
      "C:\\Users\\ijeke\\Anaconda3\\envs\\geo_env\\lib\\site-packages\\numpy\\.libs\\libopenblas.NOIJJG62EMASZI6NYURL6JBKM4EVBGM7.gfortran-win_amd64.dll\n",
      "C:\\Users\\ijeke\\Anaconda3\\envs\\geo_env\\lib\\site-packages\\numpy\\.libs\\libopenblas.PYQHXLVVQ7VESDPUVUADXEVJOBGHJPAY.gfortran-win_amd64.dll\n",
      "  warnings.warn(\"loaded more than 1 DLL from .libs:\\n%s\" %\n"
     ]
    }
   ],
   "source": [
    "import pandas as pd\n",
    "import numpy as np\n",
    "import sweetviz as sv"
   ]
  },
  {
   "cell_type": "markdown",
   "metadata": {},
   "source": [
    "## Get the data"
   ]
  },
  {
   "cell_type": "code",
   "execution_count": 2,
   "metadata": {},
   "outputs": [],
   "source": [
    "## add list of datecolumns to parse_date to ensure datetime datatypes\n",
    "## assumed 'Not Applicable' values are NA values\n",
    "\n",
    "datecolumns = ['LicenceDate', 'ConfidentialReleaseDate','AbandonDate', 'SurfAbandonDate', 'SpudDate', 'FinalDrillDate', 'RigReleaseDate','StatusDate','CompletionDate']   \n",
    "well_header = pd.read_csv(r\"C:\\Users\\ijeke\\Documents\\Datathon\\Complete set\\WellHeader_Datathon.csv\",parse_dates=datecolumns, low_memory=False, na_values='Not Applicable')\n",
    "well_production = pd.read_csv(r\"C:\\Users\\ijeke\\Documents\\Datathon\\Complete set\\WellProduction.csv\", parse_dates=['ProdPeriod'])\n",
    "perf_treatment = pd.read_csv(r\"C:\\Users\\ijeke\\Documents\\Datathon\\Complete set\\PerfTreatments.csv\", parse_dates=['ActivityDate'])"
   ]
  },
  {
   "cell_type": "code",
   "execution_count": 3,
   "metadata": {},
   "outputs": [
    {
     "name": "stdout",
     "output_type": "stream",
     "text": [
      "<class 'pandas.core.frame.DataFrame'>\n",
      "RangeIndex: 10437 entries, 0 to 10436\n",
      "Data columns (total 85 columns):\n",
      " #   Column                     Non-Null Count  Dtype         \n",
      "---  ------                     --------------  -----         \n",
      " 0   EPAssetsId                 10437 non-null  int64         \n",
      " 1   Province                   10437 non-null  object        \n",
      " 2   LicenceNumber              10437 non-null  object        \n",
      " 3   UWI                        10437 non-null  object        \n",
      " 4   CurrentOperator            10437 non-null  object        \n",
      " 5   CurrentOperatorParent      10437 non-null  int64         \n",
      " 6   CurrentOperatorParentName  10437 non-null  object        \n",
      " 7   Licensee                   10437 non-null  object        \n",
      " 8   LicenseeParentCompany      10437 non-null  int64         \n",
      " 9   LicenseeParentCompanyName  10437 non-null  object        \n",
      " 10  LicenceDate                10437 non-null  datetime64[ns]\n",
      " 11  CurrentStatus              10437 non-null  object        \n",
      " 12  CurrentStatusStandardised  10437 non-null  object        \n",
      " 13  WellType                   10437 non-null  object        \n",
      " 14  WellTypeStandardised       10437 non-null  object        \n",
      " 15  ConfidentialReleaseDate    7477 non-null   datetime64[ns]\n",
      " 16  AbandonDate                0 non-null      datetime64[ns]\n",
      " 17  SurfAbandonDate            0 non-null      datetime64[ns]\n",
      " 18  WellName                   10437 non-null  object        \n",
      " 19  Formation                  10437 non-null  object        \n",
      " 20  Field                      10437 non-null  object        \n",
      " 21  Pool                       10437 non-null  object        \n",
      " 22  SurveySystem               10437 non-null  object        \n",
      " 23  Surf_Location              10437 non-null  object        \n",
      " 24  Surf_Township              9904 non-null   float64       \n",
      " 25  Surf_Meridian              9904 non-null   object        \n",
      " 26  Surf_Range                 9904 non-null   float64       \n",
      " 27  Surf_Section               9904 non-null   float64       \n",
      " 28  Surf_LSD                   9904 non-null   float64       \n",
      " 29  Surf_Longitude             10437 non-null  float64       \n",
      " 30  Surf_Latitude              10437 non-null  float64       \n",
      " 31  Surf_TownshipRange         9904 non-null   object        \n",
      " 32  Surf_QuarterUnit           533 non-null    object        \n",
      " 33  Surf_Unit                  533 non-null    float64       \n",
      " 34  Surf_Block                 533 non-null    object        \n",
      " 35  Surf_NTSMapSheet           533 non-null    object        \n",
      " 36  Surf_Series                533 non-null    float64       \n",
      " 37  Surf_Area                  533 non-null    object        \n",
      " 38  Surf_Sheet                 533 non-null    float64       \n",
      " 39  Surf_QuarterSection        9904 non-null   object        \n",
      " 40  BH_Location                10437 non-null  object        \n",
      " 41  BH_TownshipRange           9909 non-null   object        \n",
      " 42  BH_QuarterUnit             528 non-null    object        \n",
      " 43  BH_Unit                    528 non-null    float64       \n",
      " 44  BH_Block                   528 non-null    object        \n",
      " 45  BH_NTSMapSheet             528 non-null    object        \n",
      " 46  BH_Series                  528 non-null    float64       \n",
      " 47  BH_Area                    528 non-null    object        \n",
      " 48  BH_Sheet                   528 non-null    float64       \n",
      " 49  BH_QuarterSection          8697 non-null   object        \n",
      " 50  BH_Longitude               8697 non-null   float64       \n",
      " 51  BH_Latitude                8697 non-null   float64       \n",
      " 52  BH_Township                9909 non-null   float64       \n",
      " 53  BH_Meridian                9909 non-null   object        \n",
      " 54  BH_Range                   9909 non-null   float64       \n",
      " 55  BH_Section                 9909 non-null   float64       \n",
      " 56  BH_LSD                     9909 non-null   float64       \n",
      " 57  GroundElevation            10429 non-null  float64       \n",
      " 58  KBElevation                10437 non-null  float64       \n",
      " 59  TotalDepth                 10437 non-null  float64       \n",
      " 60  LaheeClass                 10437 non-null  object        \n",
      " 61  Confidential               10437 non-null  object        \n",
      " 62  SurfaceOwner               10437 non-null  object        \n",
      " 63  OSArea                     61 non-null     object        \n",
      " 64  OSDeposit                  0 non-null      float64       \n",
      " 65  DrillingContractor         10405 non-null  object        \n",
      " 66  SpudDate                   10437 non-null  datetime64[ns]\n",
      " 67  FinalDrillDate             8697 non-null   datetime64[ns]\n",
      " 68  RigReleaseDate             10437 non-null  datetime64[ns]\n",
      " 69  DaysDrilling               10431 non-null  float64       \n",
      " 70  DrillMetresPerDay          10437 non-null  float64       \n",
      " 71  TVD                        6731 non-null   float64       \n",
      " 72  WellProfile                10437 non-null  object        \n",
      " 73  Country                    10437 non-null  object        \n",
      " 74  RegulatoryAgency           10437 non-null  object        \n",
      " 75  PSACAreaCode               10437 non-null  object        \n",
      " 76  PSACAreaName               10437 non-null  object        \n",
      " 77  ProjectedDepth             10045 non-null  float64       \n",
      " 78  StatusDate                 10437 non-null  datetime64[ns]\n",
      " 79  StatusSource               10437 non-null  object        \n",
      " 80  UnitID                     965 non-null    object        \n",
      " 81  UnitName                   965 non-null    object        \n",
      " 82  UnitFlag                   8697 non-null   object        \n",
      " 83  Municipality               4111 non-null   object        \n",
      " 84  CompletionDate             5851 non-null   datetime64[ns]\n",
      "dtypes: datetime64[ns](9), float64(26), int64(3), object(47)\n",
      "memory usage: 6.8+ MB\n"
     ]
    }
   ],
   "source": [
    "well_header=well_header.iloc[:,0:85]\n",
    "well_header.info()"
   ]
  },
  {
   "cell_type": "code",
   "execution_count": 4,
   "metadata": {},
   "outputs": [
    {
     "name": "stdout",
     "output_type": "stream",
     "text": [
      "<class 'pandas.core.frame.DataFrame'>\n",
      "RangeIndex: 961054 entries, 0 to 961053\n",
      "Data columns (total 5 columns):\n",
      " #   Column            Non-Null Count   Dtype         \n",
      "---  ------            --------------   -----         \n",
      " 0   EPAssetsId        961054 non-null  int64         \n",
      " 1   ProdPeriod        961054 non-null  datetime64[ns]\n",
      " 2   ProdType          961054 non-null  object        \n",
      " 3   Volume            961054 non-null  float64       \n",
      " 4   WellHeader.Match  961054 non-null  object        \n",
      "dtypes: datetime64[ns](1), float64(1), int64(1), object(2)\n",
      "memory usage: 36.7+ MB\n"
     ]
    },
    {
     "data": {
      "text/plain": [
       "None"
      ]
     },
     "metadata": {},
     "output_type": "display_data"
    },
    {
     "name": "stdout",
     "output_type": "stream",
     "text": [
      "\n",
      "\n",
      "<class 'pandas.core.frame.DataFrame'>\n",
      "RangeIndex: 445271 entries, 0 to 445270\n",
      "Data columns (total 9 columns):\n",
      " #   Column             Non-Null Count   Dtype         \n",
      "---  ------             --------------   -----         \n",
      " 0   EPAssetsId         445271 non-null  int64         \n",
      " 1   EPAPTId            445271 non-null  int64         \n",
      " 2   ObservationNumber  370719 non-null  float64       \n",
      " 3   ActivityDate       445271 non-null  datetime64[ns]\n",
      " 4   ActivityType       445225 non-null  object        \n",
      " 5   IntervalTop        445271 non-null  float64       \n",
      " 6   IntervalBase       445271 non-null  float64       \n",
      " 7   PerfShots          370719 non-null  float64       \n",
      " 8   WellHeader.Match   445271 non-null  object        \n",
      "dtypes: datetime64[ns](1), float64(4), int64(2), object(2)\n",
      "memory usage: 30.6+ MB\n"
     ]
    }
   ],
   "source": [
    "display(well_production.info())\n",
    "\n",
    "print('\\n')\n",
    "\n",
    "perf_treatment.info()"
   ]
  },
  {
   "cell_type": "code",
   "execution_count": 5,
   "metadata": {},
   "outputs": [
    {
     "data": {
      "text/html": [
       "<div>\n",
       "<style scoped>\n",
       "    .dataframe tbody tr th:only-of-type {\n",
       "        vertical-align: middle;\n",
       "    }\n",
       "\n",
       "    .dataframe tbody tr th {\n",
       "        vertical-align: top;\n",
       "    }\n",
       "\n",
       "    .dataframe thead th {\n",
       "        text-align: right;\n",
       "    }\n",
       "</style>\n",
       "<table border=\"1\" class=\"dataframe\">\n",
       "  <thead>\n",
       "    <tr style=\"text-align: right;\">\n",
       "      <th></th>\n",
       "      <th>EPAssetsId</th>\n",
       "      <th>Province</th>\n",
       "      <th>LicenceNumber</th>\n",
       "      <th>UWI</th>\n",
       "      <th>CurrentOperator</th>\n",
       "      <th>CurrentOperatorParent</th>\n",
       "      <th>CurrentOperatorParentName</th>\n",
       "      <th>Licensee</th>\n",
       "      <th>LicenseeParentCompany</th>\n",
       "      <th>LicenseeParentCompanyName</th>\n",
       "      <th>...</th>\n",
       "      <th>PSACAreaCode</th>\n",
       "      <th>PSACAreaName</th>\n",
       "      <th>ProjectedDepth</th>\n",
       "      <th>StatusDate</th>\n",
       "      <th>StatusSource</th>\n",
       "      <th>UnitID</th>\n",
       "      <th>UnitName</th>\n",
       "      <th>UnitFlag</th>\n",
       "      <th>Municipality</th>\n",
       "      <th>CompletionDate</th>\n",
       "    </tr>\n",
       "  </thead>\n",
       "  <tbody>\n",
       "    <tr>\n",
       "      <th>0</th>\n",
       "      <td>2587301</td>\n",
       "      <td>Alberta</td>\n",
       "      <td>475898</td>\n",
       "      <td>100122706624W500</td>\n",
       "      <td>Enerplus Corporation</td>\n",
       "      <td>267</td>\n",
       "      <td>Enerplus Corporation</td>\n",
       "      <td>Enerplus Corporation</td>\n",
       "      <td>267</td>\n",
       "      <td>Enerplus Corporation</td>\n",
       "      <td>...</td>\n",
       "      <td>AB2</td>\n",
       "      <td>Foothills Front</td>\n",
       "      <td>3800.0</td>\n",
       "      <td>2016-02-28</td>\n",
       "      <td>AER</td>\n",
       "      <td>NaN</td>\n",
       "      <td>NaN</td>\n",
       "      <td>No</td>\n",
       "      <td>NaN</td>\n",
       "      <td>NaT</td>\n",
       "    </tr>\n",
       "    <tr>\n",
       "      <th>1</th>\n",
       "      <td>2593278</td>\n",
       "      <td>Alberta</td>\n",
       "      <td>479407</td>\n",
       "      <td>102052706624W500</td>\n",
       "      <td>Enerplus Corporation</td>\n",
       "      <td>267</td>\n",
       "      <td>Enerplus Corporation</td>\n",
       "      <td>Enerplus Corporation</td>\n",
       "      <td>267</td>\n",
       "      <td>Enerplus Corporation</td>\n",
       "      <td>...</td>\n",
       "      <td>AB2</td>\n",
       "      <td>Foothills Front</td>\n",
       "      <td>3700.0</td>\n",
       "      <td>2016-09-23</td>\n",
       "      <td>AER</td>\n",
       "      <td>NaN</td>\n",
       "      <td>NaN</td>\n",
       "      <td>No</td>\n",
       "      <td>NaN</td>\n",
       "      <td>NaT</td>\n",
       "    </tr>\n",
       "  </tbody>\n",
       "</table>\n",
       "<p>2 rows × 85 columns</p>\n",
       "</div>"
      ],
      "text/plain": [
       "   EPAssetsId Province LicenceNumber               UWI       CurrentOperator  \\\n",
       "0     2587301  Alberta        475898  100122706624W500  Enerplus Corporation   \n",
       "1     2593278  Alberta        479407  102052706624W500  Enerplus Corporation   \n",
       "\n",
       "   CurrentOperatorParent CurrentOperatorParentName              Licensee  \\\n",
       "0                    267      Enerplus Corporation  Enerplus Corporation   \n",
       "1                    267      Enerplus Corporation  Enerplus Corporation   \n",
       "\n",
       "   LicenseeParentCompany LicenseeParentCompanyName  ... PSACAreaCode  \\\n",
       "0                    267      Enerplus Corporation  ...          AB2   \n",
       "1                    267      Enerplus Corporation  ...          AB2   \n",
       "\n",
       "      PSACAreaName ProjectedDepth StatusDate StatusSource UnitID UnitName  \\\n",
       "0  Foothills Front         3800.0 2016-02-28          AER    NaN      NaN   \n",
       "1  Foothills Front         3700.0 2016-09-23          AER    NaN      NaN   \n",
       "\n",
       "  UnitFlag Municipality CompletionDate  \n",
       "0       No          NaN            NaT  \n",
       "1       No          NaN            NaT  \n",
       "\n",
       "[2 rows x 85 columns]"
      ]
     },
     "execution_count": 5,
     "metadata": {},
     "output_type": "execute_result"
    }
   ],
   "source": [
    "well_header.head(2)"
   ]
  },
  {
   "cell_type": "code",
   "execution_count": 6,
   "metadata": {},
   "outputs": [
    {
     "data": {
      "text/plain": [
       "Index(['Province', 'LicenceNumber', 'UWI', 'CurrentOperator',\n",
       "       'CurrentOperatorParentName', 'Licensee', 'LicenseeParentCompanyName',\n",
       "       'CurrentStatus', 'CurrentStatusStandardised', 'WellType',\n",
       "       'WellTypeStandardised', 'WellName', 'Formation', 'Field', 'Pool',\n",
       "       'SurveySystem', 'Surf_Location', 'Surf_Meridian', 'Surf_TownshipRange',\n",
       "       'Surf_QuarterUnit', 'Surf_Block', 'Surf_NTSMapSheet', 'Surf_Area',\n",
       "       'Surf_QuarterSection', 'BH_Location', 'BH_TownshipRange',\n",
       "       'BH_QuarterUnit', 'BH_Block', 'BH_NTSMapSheet', 'BH_Area',\n",
       "       'BH_QuarterSection', 'BH_Meridian', 'LaheeClass', 'Confidential',\n",
       "       'SurfaceOwner', 'OSArea', 'DrillingContractor', 'WellProfile',\n",
       "       'Country', 'RegulatoryAgency', 'PSACAreaCode', 'PSACAreaName',\n",
       "       'StatusSource', 'UnitID', 'UnitName', 'UnitFlag', 'Municipality'],\n",
       "      dtype='object')"
      ]
     },
     "execution_count": 6,
     "metadata": {},
     "output_type": "execute_result"
    }
   ],
   "source": [
    "##check which columns are object datatypes \n",
    "\n",
    "well_header.columns[well_header.dtypes == 'object']\n",
    "\n"
   ]
  },
  {
   "cell_type": "code",
   "execution_count": 7,
   "metadata": {},
   "outputs": [
    {
     "name": "stdout",
     "output_type": "stream",
     "text": [
      "<class 'pandas.core.frame.DataFrame'>\n",
      "RangeIndex: 10437 entries, 0 to 10436\n",
      "Data columns (total 85 columns):\n",
      " #   Column                     Non-Null Count  Dtype         \n",
      "---  ------                     --------------  -----         \n",
      " 0   EPAssetsId                 10437 non-null  int64         \n",
      " 1   Province                   10437 non-null  category      \n",
      " 2   LicenceNumber              10437 non-null  object        \n",
      " 3   UWI                        10437 non-null  object        \n",
      " 4   CurrentOperator            10437 non-null  category      \n",
      " 5   CurrentOperatorParent      10437 non-null  int64         \n",
      " 6   CurrentOperatorParentName  10437 non-null  category      \n",
      " 7   Licensee                   10437 non-null  category      \n",
      " 8   LicenseeParentCompany      10437 non-null  int64         \n",
      " 9   LicenseeParentCompanyName  10437 non-null  category      \n",
      " 10  LicenceDate                10437 non-null  datetime64[ns]\n",
      " 11  CurrentStatus              10437 non-null  category      \n",
      " 12  CurrentStatusStandardised  10437 non-null  category      \n",
      " 13  WellType                   10437 non-null  category      \n",
      " 14  WellTypeStandardised       10437 non-null  category      \n",
      " 15  ConfidentialReleaseDate    7477 non-null   datetime64[ns]\n",
      " 16  AbandonDate                0 non-null      datetime64[ns]\n",
      " 17  SurfAbandonDate            0 non-null      datetime64[ns]\n",
      " 18  WellName                   10437 non-null  object        \n",
      " 19  Formation                  10437 non-null  category      \n",
      " 20  Field                      10437 non-null  category      \n",
      " 21  Pool                       10437 non-null  category      \n",
      " 22  SurveySystem               10437 non-null  category      \n",
      " 23  Surf_Location              10437 non-null  object        \n",
      " 24  Surf_Township              9904 non-null   float64       \n",
      " 25  Surf_Meridian              9904 non-null   category      \n",
      " 26  Surf_Range                 9904 non-null   float64       \n",
      " 27  Surf_Section               9904 non-null   float64       \n",
      " 28  Surf_LSD                   9904 non-null   float64       \n",
      " 29  Surf_Longitude             10437 non-null  float64       \n",
      " 30  Surf_Latitude              10437 non-null  float64       \n",
      " 31  Surf_TownshipRange         9904 non-null   object        \n",
      " 32  Surf_QuarterUnit           533 non-null    category      \n",
      " 33  Surf_Unit                  533 non-null    float64       \n",
      " 34  Surf_Block                 533 non-null    category      \n",
      " 35  Surf_NTSMapSheet           533 non-null    category      \n",
      " 36  Surf_Series                533 non-null    float64       \n",
      " 37  Surf_Area                  533 non-null    category      \n",
      " 38  Surf_Sheet                 533 non-null    float64       \n",
      " 39  Surf_QuarterSection        9904 non-null   category      \n",
      " 40  BH_Location                10437 non-null  category      \n",
      " 41  BH_TownshipRange           9909 non-null   object        \n",
      " 42  BH_QuarterUnit             528 non-null    category      \n",
      " 43  BH_Unit                    528 non-null    float64       \n",
      " 44  BH_Block                   528 non-null    category      \n",
      " 45  BH_NTSMapSheet             528 non-null    category      \n",
      " 46  BH_Series                  528 non-null    float64       \n",
      " 47  BH_Area                    528 non-null    category      \n",
      " 48  BH_Sheet                   528 non-null    float64       \n",
      " 49  BH_QuarterSection          8697 non-null   category      \n",
      " 50  BH_Longitude               8697 non-null   float64       \n",
      " 51  BH_Latitude                8697 non-null   float64       \n",
      " 52  BH_Township                9909 non-null   float64       \n",
      " 53  BH_Meridian                9909 non-null   category      \n",
      " 54  BH_Range                   9909 non-null   float64       \n",
      " 55  BH_Section                 9909 non-null   float64       \n",
      " 56  BH_LSD                     9909 non-null   float64       \n",
      " 57  GroundElevation            10429 non-null  float64       \n",
      " 58  KBElevation                10437 non-null  float64       \n",
      " 59  TotalDepth                 10437 non-null  float64       \n",
      " 60  LaheeClass                 10437 non-null  category      \n",
      " 61  Confidential               10437 non-null  category      \n",
      " 62  SurfaceOwner               10437 non-null  category      \n",
      " 63  OSArea                     61 non-null     category      \n",
      " 64  OSDeposit                  0 non-null      category      \n",
      " 65  DrillingContractor         10405 non-null  category      \n",
      " 66  SpudDate                   10437 non-null  datetime64[ns]\n",
      " 67  FinalDrillDate             8697 non-null   datetime64[ns]\n",
      " 68  RigReleaseDate             10437 non-null  datetime64[ns]\n",
      " 69  DaysDrilling               10431 non-null  float64       \n",
      " 70  DrillMetresPerDay          10437 non-null  float64       \n",
      " 71  TVD                        6731 non-null   float64       \n",
      " 72  WellProfile                10437 non-null  category      \n",
      " 73  Country                    10437 non-null  category      \n",
      " 74  RegulatoryAgency           10437 non-null  category      \n",
      " 75  PSACAreaCode               10437 non-null  category      \n",
      " 76  PSACAreaName               10437 non-null  category      \n",
      " 77  ProjectedDepth             10045 non-null  float64       \n",
      " 78  StatusDate                 10437 non-null  datetime64[ns]\n",
      " 79  StatusSource               10437 non-null  category      \n",
      " 80  UnitID                     965 non-null    object        \n",
      " 81  UnitName                   965 non-null    object        \n",
      " 82  UnitFlag                   8697 non-null   category      \n",
      " 83  Municipality               4111 non-null   category      \n",
      " 84  CompletionDate             5851 non-null   datetime64[ns]\n",
      "dtypes: category(40), datetime64[ns](9), float64(25), int64(3), object(8)\n",
      "memory usage: 4.5+ MB\n"
     ]
    }
   ],
   "source": [
    "## Select objects to convert to category type \n",
    "obj_cast_category = ['Province', 'CurrentOperator', 'CurrentOperatorParentName',\n",
    "       'Licensee', 'LicenseeParentCompanyName', 'CurrentStatus',\n",
    "       'CurrentStatusStandardised', 'WellType', 'WellTypeStandardised',\n",
    "       'Formation', 'Field', 'Pool', 'SurveySystem',\n",
    "       'Surf_Meridian', \n",
    "       'Surf_QuarterUnit',  'Surf_Block', 'Surf_NTSMapSheet',\n",
    "       'Surf_Area',  'Surf_QuarterSection',\n",
    "       'BH_Location', 'BH_QuarterUnit', \n",
    "       'BH_Block', 'BH_NTSMapSheet', 'BH_Area', \n",
    "       'BH_QuarterSection', 'BH_Meridian', 'LaheeClass', 'Confidential',\n",
    "       'SurfaceOwner', 'OSArea', 'OSDeposit', 'DrillingContractor',\n",
    "       'WellProfile', 'Country', 'RegulatoryAgency', 'PSACAreaCode',\n",
    "       'PSACAreaName', 'StatusSource', 'UnitFlag','Municipality']       \n",
    "\n",
    "\n",
    "well_header[obj_cast_category] = well_header[obj_cast_category].astype('category')\n",
    "\n",
    "well_header.info()"
   ]
  },
  {
   "cell_type": "markdown",
   "metadata": {},
   "source": [
    "## Seewtviz Magic"
   ]
  },
  {
   "cell_type": "code",
   "execution_count": 8,
   "metadata": {},
   "outputs": [
    {
     "name": "stderr",
     "output_type": "stream",
     "text": [
      ":FEATURES DONE:                    |█████████████████████| [100%]   00:20  -> (00:00 left)\n",
      ":PAIRWISE DONE:                    |█████████████████████| [100%]   00:26  -> (00:00 left)\n"
     ]
    },
    {
     "name": "stdout",
     "output_type": "stream",
     "text": [
      "Creating Associations graph... DONE!\n"
     ]
    }
   ],
   "source": [
    " wh= sv.analyze(well_header)"
   ]
  },
  {
   "cell_type": "code",
   "execution_count": 9,
   "metadata": {},
   "outputs": [
    {
     "name": "stdout",
     "output_type": "stream",
     "text": [
      "Report wells.html was generated! NOTEBOOK/COLAB USERS: no browser will pop up, the report is saved in your notebook/colab files.\n"
     ]
    }
   ],
   "source": [
    "wh.show_html('wells.html')\n"
   ]
  },
  {
   "cell_type": "markdown",
   "metadata": {},
   "source": [
    "## Clean data "
   ]
  },
  {
   "cell_type": "code",
   "execution_count": 10,
   "metadata": {},
   "outputs": [
    {
     "name": "stdout",
     "output_type": "stream",
     "text": [
      "well columns to drop as follows: \n",
      "['CompletionDate', 'UnitID', 'UnitFlag', 'UnitName', 'Confidential', 'RegulatoryAgency', 'ConfidentialReleaseDate', 'AbandonDate', 'SurfAbandonDate', 'OSArea', 'OSDeposit', 'Municipality', 'CurrentStatus']\n"
     ]
    }
   ],
   "source": [
    "##create list of columns to be dropped\n",
    "\n",
    "dropcols_wellheader= ['CompletionDate','UnitID', 'UnitFlag', 'UnitName', 'Confidential', 'RegulatoryAgency', 'ConfidentialReleaseDate', 'AbandonDate', 'SurfAbandonDate', 'OSArea', 'OSDeposit', 'Municipality', 'CurrentStatus']\n",
    "\n",
    "print('well columns to drop as follows:' + ' ')\n",
    "print(dropcols_wellheader)"
   ]
  },
  {
   "cell_type": "code",
   "execution_count": 11,
   "metadata": {},
   "outputs": [
    {
     "data": {
      "text/plain": [
       "(10437, 72)"
      ]
     },
     "execution_count": 11,
     "metadata": {},
     "output_type": "execute_result"
    }
   ],
   "source": [
    "## drop columns selected\n",
    "well_header_df = well_header.drop(columns=dropcols_wellheader, axis=1, inplace=False)\n",
    "\n",
    "## Check number of rows and columns\n",
    "well_header_df.shape"
   ]
  },
  {
   "cell_type": "code",
   "execution_count": 12,
   "metadata": {},
   "outputs": [],
   "source": [
    "well_header_df.to_csv(r\"C:\\Users\\ijeke\\Documents\\Datathon\\Complete setWellheader_df\")"
   ]
  },
  {
   "cell_type": "markdown",
   "metadata": {},
   "source": [
    "## TVD feature engineering start"
   ]
  },
  {
   "cell_type": "code",
   "execution_count": 13,
   "metadata": {},
   "outputs": [],
   "source": [
    "#Selecting working variables for TVD estimation \n",
    "Dataframe = well_header_df[['EPAssetsId', 'GroundElevation', 'KBElevation', 'TotalDepth', 'DaysDrilling', 'WellProfile', 'Formation', 'Field', 'Pool', 'LaheeClass', 'PSACAreaCode', 'Surf_Location', 'BH_Location', 'TVD', 'DrillMetresPerDay' ]].copy() #no lat and long data\n",
    "\n",
    "DataframeAB_SK = well_header_df[['EPAssetsId', 'Surf_Longitude', 'Surf_Latitude', 'BH_Longitude', 'BH_Latitude', 'GroundElevation', 'KBElevation', 'TotalDepth', 'DaysDrilling', 'WellProfile', 'Formation', 'Field', 'Pool', 'LaheeClass', 'PSACAreaCode', 'Surf_Location', 'BH_Location', 'TVD', 'DrillMetresPerDay' , \"Province\"]]"
   ]
  },
  {
   "cell_type": "code",
   "execution_count": 14,
   "metadata": {},
   "outputs": [
    {
     "name": "stdout",
     "output_type": "stream",
     "text": [
      "(8697, 20)\n"
     ]
    }
   ],
   "source": [
    "## create two dataframes one for without BC data and the other full.\n",
    "DataframeAB_SK = DataframeAB_SK[DataframeAB_SK['Province']!= 'British Columbia']\n",
    "\n",
    "print(DataframeAB_SK.shape)\n",
    "\n",
    "Dataframe = Dataframe[~Dataframe.TVD.isna()]\n",
    "\n",
    "DataframeAB_SK= DataframeAB_SK[~DataframeAB_SK.TVD.isna()]\n"
   ]
  },
  {
   "cell_type": "code",
   "execution_count": 15,
   "metadata": {},
   "outputs": [
    {
     "data": {
      "text/plain": [
       "(6731, 15)"
      ]
     },
     "execution_count": 15,
     "metadata": {},
     "output_type": "execute_result"
    }
   ],
   "source": [
    "Dataframe.shape"
   ]
  },
  {
   "cell_type": "code",
   "execution_count": 16,
   "metadata": {},
   "outputs": [
    {
     "data": {
      "text/plain": [
       "(6731, 20)"
      ]
     },
     "execution_count": 16,
     "metadata": {},
     "output_type": "execute_result"
    }
   ],
   "source": [
    "DataframeAB_SK.shape"
   ]
  },
  {
   "cell_type": "code",
   "execution_count": 17,
   "metadata": {},
   "outputs": [
    {
     "name": "stdout",
     "output_type": "stream",
     "text": [
      "<class 'pandas.core.frame.DataFrame'>\n",
      "Int64Index: 6731 entries, 1 to 10436\n",
      "Data columns (total 20 columns):\n",
      " #   Column             Non-Null Count  Dtype   \n",
      "---  ------             --------------  -----   \n",
      " 0   EPAssetsId         6731 non-null   int64   \n",
      " 1   Surf_Longitude     6731 non-null   float64 \n",
      " 2   Surf_Latitude      6731 non-null   float64 \n",
      " 3   BH_Longitude       6731 non-null   float64 \n",
      " 4   BH_Latitude        6731 non-null   float64 \n",
      " 5   GroundElevation    6731 non-null   float64 \n",
      " 6   KBElevation        6731 non-null   float64 \n",
      " 7   TotalDepth         6731 non-null   float64 \n",
      " 8   DaysDrilling       6731 non-null   float64 \n",
      " 9   WellProfile        6731 non-null   category\n",
      " 10  Formation          6731 non-null   category\n",
      " 11  Field              6731 non-null   category\n",
      " 12  Pool               6731 non-null   category\n",
      " 13  LaheeClass         6731 non-null   category\n",
      " 14  PSACAreaCode       6731 non-null   category\n",
      " 15  Surf_Location      6731 non-null   object  \n",
      " 16  BH_Location        6731 non-null   category\n",
      " 17  TVD                6731 non-null   float64 \n",
      " 18  DrillMetresPerDay  6731 non-null   float64 \n",
      " 19  Province           6731 non-null   category\n",
      "dtypes: category(8), float64(10), int64(1), object(1)\n",
      "memory usage: 1.1+ MB\n"
     ]
    }
   ],
   "source": [
    "DataframeAB_SK.info()"
   ]
  },
  {
   "cell_type": "code",
   "execution_count": 18,
   "metadata": {},
   "outputs": [],
   "source": [
    "import geopandas as gpd\n",
    "\n",
    "surface = gpd.GeoDataFrame(\n",
    "   DataframeAB_SK, geometry=gpd.points_from_xy(DataframeAB_SK.Surf_Longitude, DataframeAB_SK.Surf_Latitude), crs=\"EPSG:4326\")\n",
    "\n",
    "surface = surface.to_crs(epsg=2956)\n",
    "\n",
    "bottomhole = gpd.GeoDataFrame(\n",
    "    DataframeAB_SK, geometry=gpd.points_from_xy(DataframeAB_SK.BH_Longitude, DataframeAB_SK.BH_Latitude), crs=\"EPSG:4326\")\n",
    "\n",
    "bottomhole = bottomhole.to_crs(epsg=2956)\n",
    "\n",
    "DataframeAB_SK['lateral_dist_m'] = surface.geometry.distance(bottomhole.geometry)"
   ]
  },
  {
   "cell_type": "code",
   "execution_count": 19,
   "metadata": {},
   "outputs": [
    {
     "name": "stdout",
     "output_type": "stream",
     "text": [
      "<class 'pandas.core.frame.DataFrame'>\n",
      "Int64Index: 6731 entries, 1 to 10436\n",
      "Data columns (total 22 columns):\n",
      " #   Column             Non-Null Count  Dtype   \n",
      "---  ------             --------------  -----   \n",
      " 0   EPAssetsId         6731 non-null   int64   \n",
      " 1   Surf_Longitude     6731 non-null   float64 \n",
      " 2   Surf_Latitude      6731 non-null   float64 \n",
      " 3   BH_Longitude       6731 non-null   float64 \n",
      " 4   BH_Latitude        6731 non-null   float64 \n",
      " 5   GroundElevation    6731 non-null   float64 \n",
      " 6   KBElevation        6731 non-null   float64 \n",
      " 7   TotalDepth         6731 non-null   float64 \n",
      " 8   DaysDrilling       6731 non-null   float64 \n",
      " 9   WellProfile        6731 non-null   category\n",
      " 10  Formation          6731 non-null   category\n",
      " 11  Field              6731 non-null   category\n",
      " 12  Pool               6731 non-null   category\n",
      " 13  LaheeClass         6731 non-null   category\n",
      " 14  PSACAreaCode       6731 non-null   category\n",
      " 15  Surf_Location      6731 non-null   object  \n",
      " 16  BH_Location        6731 non-null   category\n",
      " 17  TVD                6731 non-null   float64 \n",
      " 18  DrillMetresPerDay  6731 non-null   float64 \n",
      " 19  Province           6731 non-null   category\n",
      " 20  geometry           6731 non-null   geometry\n",
      " 21  lateral_dist_m     6731 non-null   float64 \n",
      "dtypes: category(8), float64(11), geometry(1), int64(1), object(1)\n",
      "memory usage: 1.2+ MB\n"
     ]
    }
   ],
   "source": [
    "DataframeAB_SK.info()"
   ]
  },
  {
   "cell_type": "code",
   "execution_count": 20,
   "metadata": {},
   "outputs": [
    {
     "name": "stdout",
     "output_type": "stream",
     "text": [
      "<class 'pandas.core.frame.DataFrame'>\n",
      "Int64Index: 6731 entries, 1 to 10436\n",
      "Data columns (total 20 columns):\n",
      " #   Column             Non-Null Count  Dtype   \n",
      "---  ------             --------------  -----   \n",
      " 0   EPAssetsId         6731 non-null   int64   \n",
      " 1   Surf_Longitude     6731 non-null   float64 \n",
      " 2   Surf_Latitude      6731 non-null   float64 \n",
      " 3   BH_Longitude       6731 non-null   float64 \n",
      " 4   BH_Latitude        6731 non-null   float64 \n",
      " 5   GroundElevation    6731 non-null   float64 \n",
      " 6   KBElevation        6731 non-null   float64 \n",
      " 7   TotalDepth         6731 non-null   float64 \n",
      " 8   DaysDrilling       6731 non-null   float64 \n",
      " 9   WellProfile        6731 non-null   category\n",
      " 10  Formation          6731 non-null   category\n",
      " 11  Field              6731 non-null   category\n",
      " 12  Pool               6731 non-null   category\n",
      " 13  LaheeClass         6731 non-null   category\n",
      " 14  PSACAreaCode       6731 non-null   category\n",
      " 15  Surf_Location      6731 non-null   object  \n",
      " 16  BH_Location        6731 non-null   category\n",
      " 17  TVD                6731 non-null   float64 \n",
      " 18  DrillMetresPerDay  6731 non-null   float64 \n",
      " 19  lateral_dist_m     6731 non-null   float64 \n",
      "dtypes: category(7), float64(11), int64(1), object(1)\n",
      "memory usage: 1.2+ MB\n"
     ]
    }
   ],
   "source": [
    "DataframeAB_SK.drop(columns=['geometry', 'Province'], inplace=True)\n",
    "\n",
    "DataframeAB_SK.info()"
   ]
  },
  {
   "cell_type": "code",
   "execution_count": 21,
   "metadata": {},
   "outputs": [
    {
     "name": "stderr",
     "output_type": "stream",
     "text": [
      ":FEATURES DONE:                    |█████████████████████| [100%]   00:05  -> (00:00 left)\n",
      ":PAIRWISE DONE:                    |█████████████████████| [100%]   00:01  -> (00:00 left)\n"
     ]
    },
    {
     "name": "stdout",
     "output_type": "stream",
     "text": [
      "Creating Associations graph... "
     ]
    },
    {
     "name": "stderr",
     "output_type": "stream",
     "text": [
      ":EPAssetsId:                       |█                    | [  5%]   00:00  -> (00:00 left)"
     ]
    },
    {
     "name": "stdout",
     "output_type": "stream",
     "text": [
      "DONE!\n"
     ]
    },
    {
     "name": "stderr",
     "output_type": "stream",
     "text": [
      ":FEATURES DONE:                    |█████████████████████| [100%]   00:06  -> (00:00 left)\n",
      ":PAIRWISE DONE:                    |█████████████████████| [100%]   00:01  -> (00:00 left)\n"
     ]
    },
    {
     "name": "stdout",
     "output_type": "stream",
     "text": [
      "Creating Associations graph... DONE!\n"
     ]
    }
   ],
   "source": [
    "first = sv.analyze(Dataframe)\n",
    "\n",
    "AB_SK_only = sv.analyze(DataframeAB_SK)"
   ]
  },
  {
   "cell_type": "code",
   "execution_count": 22,
   "metadata": {},
   "outputs": [
    {
     "name": "stdout",
     "output_type": "stream",
     "text": [
      "Report firstTVD.html was generated! NOTEBOOK/COLAB USERS: no browser will pop up, the report is saved in your notebook/colab files.\n",
      "Report AB_SKTVD.html was generated! NOTEBOOK/COLAB USERS: no browser will pop up, the report is saved in your notebook/colab files.\n"
     ]
    }
   ],
   "source": [
    "first.show_html('firstTVD.html')\n",
    "AB_SK_only.show_html('AB_SKTVD.html')"
   ]
  },
  {
   "cell_type": "code",
   "execution_count": null,
   "metadata": {},
   "outputs": [],
   "source": []
  },
  {
   "cell_type": "code",
   "execution_count": null,
   "metadata": {},
   "outputs": [],
   "source": []
  }
 ],
 "metadata": {
  "kernelspec": {
   "display_name": "Python 3",
   "language": "python",
   "name": "python3"
  },
  "language_info": {
   "codemirror_mode": {
    "name": "ipython",
    "version": 3
   },
   "file_extension": ".py",
   "mimetype": "text/x-python",
   "name": "python",
   "nbconvert_exporter": "python",
   "pygments_lexer": "ipython3",
   "version": "3.8.3"
  }
 },
 "nbformat": 4,
 "nbformat_minor": 4
}
